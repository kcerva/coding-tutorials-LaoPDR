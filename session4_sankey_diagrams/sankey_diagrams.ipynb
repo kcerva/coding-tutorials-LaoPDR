{
 "cells": [
  {
   "cell_type": "markdown",
   "metadata": {
    "toc": true
   },
   "source": [
    "<h1>Table of Contents<span class=\"tocSkip\"></span></h1>\n",
    "<div class=\"toc\"><ul class=\"toc-item\"><li><span><a href=\"#Sankey-diagrams\" data-toc-modified-id=\"Sankey-diagrams-1\"><span class=\"toc-item-num\">1&nbsp;&nbsp;</span>Sankey diagrams</a></span><ul class=\"toc-item\"><li><span><a href=\"#Using-floweaver\" data-toc-modified-id=\"Using-floweaver-1.1\"><span class=\"toc-item-num\">1.1&nbsp;&nbsp;</span>Using <code>floweaver</code></a></span><ul class=\"toc-item\"><li><span><a href=\"#Mapping-waste-flows-in-England\" data-toc-modified-id=\"Mapping-waste-flows-in-England-1.1.1\"><span class=\"toc-item-num\">1.1.1&nbsp;&nbsp;</span>Mapping waste flows in England</a></span></li></ul></li><li><span><a href=\"#Sankey-diagram-from-simple-unformated-input-data\" data-toc-modified-id=\"Sankey-diagram-from-simple-unformated-input-data-1.2\"><span class=\"toc-item-num\">1.2&nbsp;&nbsp;</span>Sankey diagram from simple unformated input data</a></span></li><li><span><a href=\"#Using-ipysankeywidget\" data-toc-modified-id=\"Using-ipysankeywidget-1.3\"><span class=\"toc-item-num\">1.3&nbsp;&nbsp;</span>Using <code>ipysankeywidget</code></a></span></li><li><span><a href=\"#Example:-aluminium-production\" data-toc-modified-id=\"Example:-aluminium-production-1.4\"><span class=\"toc-item-num\">1.4&nbsp;&nbsp;</span>Example: aluminium production</a></span></li></ul></li></ul></div>"
   ]
  },
  {
   "cell_type": "markdown",
   "metadata": {},
   "source": [
    "# Sankey diagrams\n",
    "\n",
    "This notebook explains how to draw sankey diagrams using Python. <br>\n",
    "v01, May 2021\n",
    "\n",
    "\n",
    "## Using `floweaver`\n",
    "\n",
    "`floweaver` is the \"default\" module to draw sankey diagrams in python. This tool is well documented [here](https://floweaver.readthedocs.io/en/latest/index.html), follow [the quick start guide](https://floweaver.readthedocs.io/en/latest/tutorials/quickstart.html) to understand how it works. \n",
    "\n",
    "There are other good tutorials in the `floweaver` documentation:\n",
    "  1. [Dimension tables: efficiently adding details of processes and flows](https://floweaver.readthedocs.io/en/latest/tutorials/dimension-tables.html)\n",
    "  3. [System boundaries: only plot a subset of your data](https://floweaver.readthedocs.io/en/latest/tutorials/system-boundary.html)\n",
    "  4. [Categorical and quantified colours](https://floweaver.readthedocs.io/en/latest/tutorials/colour-scales.html)\n",
    "\n",
    "You can download these tutorials as jupyter notebooks from the [`floweaver` repository](https://github.com/ricklupton/floweaver/tree/master/docs/tutorials).\n",
    "\n",
    "The tutorials above should be enough to make you proficient with `floweaver`, here's another example that follows on from [our tutorial](../data_processing/data_processing_with_pandas.ipynb) on the use of `pandas`. \n",
    "\n",
    "### Mapping waste flows in England\n",
    "\n",
    "Let's start by importing the data. See the [data processing notebook](../data_processing/data_processing_with_pandas.ipynb) to understand how the `flows` DataFrame was produced."
   ]
  },
  {
   "cell_type": "code",
   "execution_count": 1,
   "metadata": {},
   "outputs": [
    {
     "data": {
      "text/html": [
       "<div>\n",
       "<style scoped>\n",
       "    .dataframe tbody tr th:only-of-type {\n",
       "        vertical-align: middle;\n",
       "    }\n",
       "\n",
       "    .dataframe tbody tr th {\n",
       "        vertical-align: top;\n",
       "    }\n",
       "\n",
       "    .dataframe thead th {\n",
       "        text-align: right;\n",
       "    }\n",
       "</style>\n",
       "<table border=\"1\" class=\"dataframe\">\n",
       "  <thead>\n",
       "    <tr style=\"text-align: right;\">\n",
       "      <th></th>\n",
       "      <th>source</th>\n",
       "      <th>target</th>\n",
       "      <th>WasteStreamType</th>\n",
       "      <th>FacilityType</th>\n",
       "      <th>FacilityName</th>\n",
       "      <th>OutputProcessType</th>\n",
       "      <th>Material</th>\n",
       "      <th>value</th>\n",
       "    </tr>\n",
       "  </thead>\n",
       "  <tbody>\n",
       "    <tr>\n",
       "      <th>0</th>\n",
       "      <td>Adur District Council</td>\n",
       "      <td>Glass</td>\n",
       "      <td>Comingled recyclate</td>\n",
       "      <td>Reprocessor - recycling (qu19)</td>\n",
       "      <td>Chambers Waste Management Plc</td>\n",
       "      <td>Dry recyclate</td>\n",
       "      <td>Mixed glass</td>\n",
       "      <td>432.72</td>\n",
       "    </tr>\n",
       "    <tr>\n",
       "      <th>1</th>\n",
       "      <td>Adur District Council</td>\n",
       "      <td>Glass</td>\n",
       "      <td>Comingled recyclate</td>\n",
       "      <td>Reprocessor - recycling (qu19)</td>\n",
       "      <td>Crossways Recycling Limited</td>\n",
       "      <td>Dry recyclate</td>\n",
       "      <td>Mixed glass</td>\n",
       "      <td>0.05</td>\n",
       "    </tr>\n",
       "    <tr>\n",
       "      <th>2</th>\n",
       "      <td>Adur District Council</td>\n",
       "      <td>Glass</td>\n",
       "      <td>Comingled recyclate</td>\n",
       "      <td>Reprocessor - recycling (qu19)</td>\n",
       "      <td>Glass Recycling ( U K) Ltd</td>\n",
       "      <td>Dry recyclate</td>\n",
       "      <td>Mixed glass</td>\n",
       "      <td>6.32</td>\n",
       "    </tr>\n",
       "    <tr>\n",
       "      <th>3</th>\n",
       "      <td>Adur District Council</td>\n",
       "      <td>Glass</td>\n",
       "      <td>Comingled recyclate</td>\n",
       "      <td>Reprocessor - recycling (qu19)</td>\n",
       "      <td>Other/Exempt</td>\n",
       "      <td>Dry recyclate</td>\n",
       "      <td>Mixed glass</td>\n",
       "      <td>1067.68</td>\n",
       "    </tr>\n",
       "    <tr>\n",
       "      <th>4</th>\n",
       "      <td>Adur District Council</td>\n",
       "      <td>Glass</td>\n",
       "      <td>Comingled recyclate</td>\n",
       "      <td>Reprocessor - recycling (qu19)</td>\n",
       "      <td>R Collard Limited</td>\n",
       "      <td>Dry recyclate</td>\n",
       "      <td>Mixed glass</td>\n",
       "      <td>191.21</td>\n",
       "    </tr>\n",
       "    <tr>\n",
       "      <th>...</th>\n",
       "      <td>...</td>\n",
       "      <td>...</td>\n",
       "      <td>...</td>\n",
       "      <td>...</td>\n",
       "      <td>...</td>\n",
       "      <td>...</td>\n",
       "      <td>...</td>\n",
       "      <td>...</td>\n",
       "    </tr>\n",
       "    <tr>\n",
       "      <th>11934</th>\n",
       "      <td>York City Council</td>\n",
       "      <td>Plastic</td>\n",
       "      <td>Residual waste</td>\n",
       "      <td>Reprocessor - recycling (qu19)</td>\n",
       "      <td>Biffa Waste Services Limited</td>\n",
       "      <td>Dry recyclate</td>\n",
       "      <td>Mixed Plastics</td>\n",
       "      <td>3.17</td>\n",
       "    </tr>\n",
       "    <tr>\n",
       "      <th>11935</th>\n",
       "      <td>York City Council</td>\n",
       "      <td>Plastic</td>\n",
       "      <td>Residual waste</td>\n",
       "      <td>Reprocessor - recycling (qu19)</td>\n",
       "      <td>Clean Tech Europe Limited</td>\n",
       "      <td>Dry recyclate</td>\n",
       "      <td>Mixed Plastics</td>\n",
       "      <td>119.56</td>\n",
       "    </tr>\n",
       "    <tr>\n",
       "      <th>11936</th>\n",
       "      <td>York City Council</td>\n",
       "      <td>Plastic</td>\n",
       "      <td>Residual waste</td>\n",
       "      <td>Reprocessor - recycling (qu19)</td>\n",
       "      <td>Other/Exempt</td>\n",
       "      <td>Dry recyclate</td>\n",
       "      <td>Mixed Plastic Bottles</td>\n",
       "      <td>57.55</td>\n",
       "    </tr>\n",
       "    <tr>\n",
       "      <th>11937</th>\n",
       "      <td>York City Council</td>\n",
       "      <td>Plastic</td>\n",
       "      <td>Residual waste</td>\n",
       "      <td>Reprocessor - recycling (qu19)</td>\n",
       "      <td>Other/Exempt</td>\n",
       "      <td>Dry recyclate</td>\n",
       "      <td>Mixed Plastics</td>\n",
       "      <td>315.44</td>\n",
       "    </tr>\n",
       "    <tr>\n",
       "      <th>11938</th>\n",
       "      <td>York City Council</td>\n",
       "      <td>Plastic</td>\n",
       "      <td>Residual waste</td>\n",
       "      <td>Reprocessor - recycling (qu19)</td>\n",
       "      <td>Viridor Waste Management Ltd</td>\n",
       "      <td>Dry recyclate</td>\n",
       "      <td>Mixed Plastic Bottles</td>\n",
       "      <td>2.08</td>\n",
       "    </tr>\n",
       "  </tbody>\n",
       "</table>\n",
       "<p>11939 rows × 8 columns</p>\n",
       "</div>"
      ],
      "text/plain": [
       "                      source   target      WasteStreamType  \\\n",
       "0      Adur District Council    Glass  Comingled recyclate   \n",
       "1      Adur District Council    Glass  Comingled recyclate   \n",
       "2      Adur District Council    Glass  Comingled recyclate   \n",
       "3      Adur District Council    Glass  Comingled recyclate   \n",
       "4      Adur District Council    Glass  Comingled recyclate   \n",
       "...                      ...      ...                  ...   \n",
       "11934      York City Council  Plastic       Residual waste   \n",
       "11935      York City Council  Plastic       Residual waste   \n",
       "11936      York City Council  Plastic       Residual waste   \n",
       "11937      York City Council  Plastic       Residual waste   \n",
       "11938      York City Council  Plastic       Residual waste   \n",
       "\n",
       "                         FacilityType                   FacilityName  \\\n",
       "0      Reprocessor - recycling (qu19)  Chambers Waste Management Plc   \n",
       "1      Reprocessor - recycling (qu19)    Crossways Recycling Limited   \n",
       "2      Reprocessor - recycling (qu19)     Glass Recycling ( U K) Ltd   \n",
       "3      Reprocessor - recycling (qu19)                   Other/Exempt   \n",
       "4      Reprocessor - recycling (qu19)              R Collard Limited   \n",
       "...                               ...                            ...   \n",
       "11934  Reprocessor - recycling (qu19)   Biffa Waste Services Limited   \n",
       "11935  Reprocessor - recycling (qu19)      Clean Tech Europe Limited   \n",
       "11936  Reprocessor - recycling (qu19)                   Other/Exempt   \n",
       "11937  Reprocessor - recycling (qu19)                   Other/Exempt   \n",
       "11938  Reprocessor - recycling (qu19)  Viridor Waste Management Ltd    \n",
       "\n",
       "      OutputProcessType               Material    value  \n",
       "0         Dry recyclate            Mixed glass   432.72  \n",
       "1         Dry recyclate            Mixed glass     0.05  \n",
       "2         Dry recyclate            Mixed glass     6.32  \n",
       "3         Dry recyclate            Mixed glass  1067.68  \n",
       "4         Dry recyclate            Mixed glass   191.21  \n",
       "...                 ...                    ...      ...  \n",
       "11934     Dry recyclate         Mixed Plastics     3.17  \n",
       "11935     Dry recyclate         Mixed Plastics   119.56  \n",
       "11936     Dry recyclate  Mixed Plastic Bottles    57.55  \n",
       "11937     Dry recyclate         Mixed Plastics   315.44  \n",
       "11938     Dry recyclate  Mixed Plastic Bottles     2.08  \n",
       "\n",
       "[11939 rows x 8 columns]"
      ]
     },
     "execution_count": 1,
     "metadata": {},
     "output_type": "execute_result"
    }
   ],
   "source": [
    "import pandas as pd\n",
    "flows = pd.read_csv('../data_processing/data/flows.csv', index_col = 0)\n",
    "flows"
   ]
  },
  {
   "cell_type": "markdown",
   "metadata": {},
   "source": [
    "Since there are many sources and targets, let's focus on flows that might contain metals. We do this with the `loc()` method to exclude all the rows that do not have `WEEE`, `Metal` or `Bulky` in `target`,"
   ]
  },
  {
   "cell_type": "code",
   "execution_count": 2,
   "metadata": {},
   "outputs": [
    {
     "data": {
      "text/html": [
       "<div>\n",
       "<style scoped>\n",
       "    .dataframe tbody tr th:only-of-type {\n",
       "        vertical-align: middle;\n",
       "    }\n",
       "\n",
       "    .dataframe tbody tr th {\n",
       "        vertical-align: top;\n",
       "    }\n",
       "\n",
       "    .dataframe thead th {\n",
       "        text-align: right;\n",
       "    }\n",
       "</style>\n",
       "<table border=\"1\" class=\"dataframe\">\n",
       "  <thead>\n",
       "    <tr style=\"text-align: right;\">\n",
       "      <th></th>\n",
       "      <th>source</th>\n",
       "      <th>target</th>\n",
       "      <th>WasteStreamType</th>\n",
       "      <th>FacilityType</th>\n",
       "      <th>FacilityName</th>\n",
       "      <th>OutputProcessType</th>\n",
       "      <th>Material</th>\n",
       "      <th>value</th>\n",
       "    </tr>\n",
       "  </thead>\n",
       "  <tbody>\n",
       "    <tr>\n",
       "      <th>6</th>\n",
       "      <td>Adur District Council</td>\n",
       "      <td>Metal</td>\n",
       "      <td>Comingled recyclate</td>\n",
       "      <td>Exporter - recycling (qu19)</td>\n",
       "      <td>Other/Exempt</td>\n",
       "      <td>Dry recyclate</td>\n",
       "      <td>Aluminium cans</td>\n",
       "      <td>1037.42</td>\n",
       "    </tr>\n",
       "    <tr>\n",
       "      <th>7</th>\n",
       "      <td>Adur District Council</td>\n",
       "      <td>Metal</td>\n",
       "      <td>Comingled recyclate</td>\n",
       "      <td>Exporter - recycling (qu19)</td>\n",
       "      <td>Other/Exempt</td>\n",
       "      <td>Dry recyclate</td>\n",
       "      <td>Steel cans</td>\n",
       "      <td>1.95</td>\n",
       "    </tr>\n",
       "    <tr>\n",
       "      <th>8</th>\n",
       "      <td>Adur District Council</td>\n",
       "      <td>Metal</td>\n",
       "      <td>Comingled recyclate</td>\n",
       "      <td>Reprocessor - recycling (qu19)</td>\n",
       "      <td>A S M Metal Recycling Ltd</td>\n",
       "      <td>Dry recyclate</td>\n",
       "      <td>Steel cans</td>\n",
       "      <td>9.01</td>\n",
       "    </tr>\n",
       "    <tr>\n",
       "      <th>9</th>\n",
       "      <td>Adur District Council</td>\n",
       "      <td>Metal</td>\n",
       "      <td>Comingled recyclate</td>\n",
       "      <td>Reprocessor - recycling (qu19)</td>\n",
       "      <td>AMG Resources Ltd</td>\n",
       "      <td>Dry recyclate</td>\n",
       "      <td>Steel cans</td>\n",
       "      <td>14.79</td>\n",
       "    </tr>\n",
       "    <tr>\n",
       "      <th>10</th>\n",
       "      <td>Adur District Council</td>\n",
       "      <td>Metal</td>\n",
       "      <td>Comingled recyclate</td>\n",
       "      <td>Reprocessor - recycling (qu19)</td>\n",
       "      <td>Aleris Recycling (Swansea) Ltd</td>\n",
       "      <td>Dry recyclate</td>\n",
       "      <td>Aluminium cans</td>\n",
       "      <td>32.48</td>\n",
       "    </tr>\n",
       "    <tr>\n",
       "      <th>...</th>\n",
       "      <td>...</td>\n",
       "      <td>...</td>\n",
       "      <td>...</td>\n",
       "      <td>...</td>\n",
       "      <td>...</td>\n",
       "      <td>...</td>\n",
       "      <td>...</td>\n",
       "      <td>...</td>\n",
       "    </tr>\n",
       "    <tr>\n",
       "      <th>11886</th>\n",
       "      <td>York City Council</td>\n",
       "      <td>Metal</td>\n",
       "      <td>Comingled recyclate</td>\n",
       "      <td>Reprocessor - recycling (qu19)</td>\n",
       "      <td>Ward Brothers ( Steel ) Ltd</td>\n",
       "      <td>Dry recyclate</td>\n",
       "      <td>Steel cans</td>\n",
       "      <td>227.60</td>\n",
       "    </tr>\n",
       "    <tr>\n",
       "      <th>11887</th>\n",
       "      <td>York City Council</td>\n",
       "      <td>Metal</td>\n",
       "      <td>Residual waste</td>\n",
       "      <td>Reprocessor - recycling (qu19)</td>\n",
       "      <td>Cross Green Investments Ltd</td>\n",
       "      <td>Incinerator bottom ash</td>\n",
       "      <td>Metals from Incinerator Bottom Ash</td>\n",
       "      <td>40.04</td>\n",
       "    </tr>\n",
       "    <tr>\n",
       "      <th>11888</th>\n",
       "      <td>York City Council</td>\n",
       "      <td>Metal</td>\n",
       "      <td>Residual waste</td>\n",
       "      <td>Reprocessor - recycling (qu19)</td>\n",
       "      <td>Morris &amp; Co Handlers Ltd</td>\n",
       "      <td>Contamination (gate rejects)</td>\n",
       "      <td>Metals from Incinerator Bottom Ash</td>\n",
       "      <td>35.07</td>\n",
       "    </tr>\n",
       "    <tr>\n",
       "      <th>11889</th>\n",
       "      <td>York City Council</td>\n",
       "      <td>Metal</td>\n",
       "      <td>Residual waste</td>\n",
       "      <td>Reprocessor - recycling (qu19)</td>\n",
       "      <td>Morris and Co (Handlers) Ltd</td>\n",
       "      <td>Incinerator bottom ash</td>\n",
       "      <td>Metals from Incinerator Bottom Ash</td>\n",
       "      <td>271.88</td>\n",
       "    </tr>\n",
       "    <tr>\n",
       "      <th>11890</th>\n",
       "      <td>York City Council</td>\n",
       "      <td>Metal</td>\n",
       "      <td>Residual waste</td>\n",
       "      <td>Reprocessor - recycling (qu19)</td>\n",
       "      <td>Other/Exempt</td>\n",
       "      <td>Incinerator bottom ash</td>\n",
       "      <td>Metals from Incinerator Bottom Ash</td>\n",
       "      <td>248.58</td>\n",
       "    </tr>\n",
       "  </tbody>\n",
       "</table>\n",
       "<p>3487 rows × 8 columns</p>\n",
       "</div>"
      ],
      "text/plain": [
       "                      source target      WasteStreamType  \\\n",
       "6      Adur District Council  Metal  Comingled recyclate   \n",
       "7      Adur District Council  Metal  Comingled recyclate   \n",
       "8      Adur District Council  Metal  Comingled recyclate   \n",
       "9      Adur District Council  Metal  Comingled recyclate   \n",
       "10     Adur District Council  Metal  Comingled recyclate   \n",
       "...                      ...    ...                  ...   \n",
       "11886      York City Council  Metal  Comingled recyclate   \n",
       "11887      York City Council  Metal       Residual waste   \n",
       "11888      York City Council  Metal       Residual waste   \n",
       "11889      York City Council  Metal       Residual waste   \n",
       "11890      York City Council  Metal       Residual waste   \n",
       "\n",
       "                         FacilityType                    FacilityName  \\\n",
       "6         Exporter - recycling (qu19)                    Other/Exempt   \n",
       "7         Exporter - recycling (qu19)                    Other/Exempt   \n",
       "8      Reprocessor - recycling (qu19)       A S M Metal Recycling Ltd   \n",
       "9      Reprocessor - recycling (qu19)               AMG Resources Ltd   \n",
       "10     Reprocessor - recycling (qu19)  Aleris Recycling (Swansea) Ltd   \n",
       "...                               ...                             ...   \n",
       "11886  Reprocessor - recycling (qu19)     Ward Brothers ( Steel ) Ltd   \n",
       "11887  Reprocessor - recycling (qu19)    Cross Green Investments Ltd    \n",
       "11888  Reprocessor - recycling (qu19)        Morris & Co Handlers Ltd   \n",
       "11889  Reprocessor - recycling (qu19)    Morris and Co (Handlers) Ltd   \n",
       "11890  Reprocessor - recycling (qu19)                    Other/Exempt   \n",
       "\n",
       "                  OutputProcessType                            Material  \\\n",
       "6                     Dry recyclate                      Aluminium cans   \n",
       "7                     Dry recyclate                          Steel cans   \n",
       "8                     Dry recyclate                          Steel cans   \n",
       "9                     Dry recyclate                          Steel cans   \n",
       "10                    Dry recyclate                      Aluminium cans   \n",
       "...                             ...                                 ...   \n",
       "11886                 Dry recyclate                          Steel cans   \n",
       "11887        Incinerator bottom ash  Metals from Incinerator Bottom Ash   \n",
       "11888  Contamination (gate rejects)  Metals from Incinerator Bottom Ash   \n",
       "11889        Incinerator bottom ash  Metals from Incinerator Bottom Ash   \n",
       "11890        Incinerator bottom ash  Metals from Incinerator Bottom Ash   \n",
       "\n",
       "         value  \n",
       "6      1037.42  \n",
       "7         1.95  \n",
       "8         9.01  \n",
       "9        14.79  \n",
       "10       32.48  \n",
       "...        ...  \n",
       "11886   227.60  \n",
       "11887    40.04  \n",
       "11888    35.07  \n",
       "11889   271.88  \n",
       "11890   248.58  \n",
       "\n",
       "[3487 rows x 8 columns]"
      ]
     },
     "execution_count": 2,
     "metadata": {},
     "output_type": "execute_result"
    }
   ],
   "source": [
    "flows = flows.loc[flows.target.isin(['Metal', 'WEEE', 'Bulky'])]\n",
    "flows"
   ]
  },
  {
   "cell_type": "markdown",
   "metadata": {},
   "source": [
    "Now let's draw the sankey,"
   ]
  },
  {
   "cell_type": "code",
   "execution_count": 3,
   "metadata": {
    "scrolled": false
   },
   "outputs": [
    {
     "data": {
      "application/vnd.jupyter.widget-view+json": {
       "model_id": "75f0dc03251d46378eef0a87439a315a",
       "version_major": 2,
       "version_minor": 0
      },
      "text/plain": [
       "SankeyWidget(groups=[{'id': 'waste_type', 'type': 'process', 'title': 'Type of waste', 'nodes': ['waste_type^C…"
      ]
     },
     "metadata": {},
     "output_type": "display_data"
    }
   ],
   "source": [
    "from floweaver import *\n",
    "\n",
    "# There are many facilities so let's select just a few\n",
    "interesting_facilities = [\n",
    "    'Other/Exempt', \n",
    "    'Multiple destinations', \n",
    "    'Outside UK-EU', \n",
    "    'Outside UK-nonEU',\n",
    "    'Site details not known',\n",
    "    'Ballast Phoenix Ltd',\n",
    "    'Celsa Manufacturing UK Ltd',\n",
    "    'Tata Steel UK Limited',\n",
    "    'Novelis UK Ltd',\n",
    "    'SSSI Limited',\n",
    "]\n",
    "\n",
    "nodes = {\n",
    "    'waste_type': ProcessGroup(\n",
    "        selection = list(flows['source'].drop_duplicates()), \n",
    "        partition = Partition.Simple('WasteStreamType', list(flows['WasteStreamType'].drop_duplicates())),\n",
    "        title = 'Type of waste',\n",
    "    ),\n",
    "    'destination': ProcessGroup(\n",
    "        selection = list(flows['target'].drop_duplicates()), \n",
    "        partition = Partition.Simple('FacilityName', \n",
    "            interesting_facilities +\n",
    "            [('Other', list(\n",
    "                flows['FacilityName']\n",
    "                .loc[~flows['FacilityName'].isin(interesting_facilities)] # Ignore the interesting ones to avoid duplication\n",
    "                .drop_duplicates()))],\n",
    "        ),\n",
    "        title = 'Destination facility',\n",
    "    ),\n",
    "    \n",
    "    # Waypoints to add more detail on what happens to the waste\n",
    "    'facility_type': Waypoint(\n",
    "        Partition.Simple('FacilityType', list(flows['FacilityType'].drop_duplicates())),\n",
    "        title = 'Type of waste processing facility'\n",
    "    ),\n",
    "    'object_type': Waypoint(\n",
    "        Partition.Simple('Material', list(flows['Material'].drop_duplicates())),\n",
    "        title = 'Object type',\n",
    "    ),\n",
    "}\n",
    "\n",
    "ordering = [  \n",
    "    ['waste_type'],    \n",
    "    ['facility_type'],\n",
    "    ['object_type'],\n",
    "    ['destination'],   \n",
    "]\n",
    "                               \n",
    "bundles = [\n",
    "    Bundle('waste_type', 'destination', waypoints = ['facility_type', 'object_type',]),\n",
    "]\n",
    "                               \n",
    "sdd = SankeyDefinition(\n",
    "    nodes, bundles, ordering, \n",
    "    # Colour the flows by material (also known as object type)\n",
    "    flow_partition = Partition.Simple('Material', list(flows['Material'].drop_duplicates()))\n",
    ")\n",
    "\n",
    "from palettable.colorbrewer import qualitative as qp\n",
    "\n",
    "size = dict(width=1200, height=700, margins = {'left': 200, 'right': 200})\n",
    "weave(sdd, flows, palette = qp.Paired_12.hex_colors).to_widget(**size)   "
   ]
  },
  {
   "cell_type": "markdown",
   "metadata": {},
   "source": [
    "Most of the code in the cell above is based on the examples provided in the [`floweaver` documentation](https://floweaver.readthedocs.io). We changed the colour because the standard pastel palette specified in `floweaver` is weak. This was done via the `palette` parameter in the `weave()` function. The actual colour palette is provided via the `palattable` package, described [here](https://jiffyclub.github.io/palettable/)."
   ]
  },
  {
   "cell_type": "code",
   "execution_count": null,
   "metadata": {},
   "outputs": [],
   "source": []
  },
  {
   "cell_type": "markdown",
   "metadata": {},
   "source": [
    "## Sankey diagram from simple unformated input data"
   ]
  },
  {
   "cell_type": "code",
   "execution_count": 4,
   "metadata": {},
   "outputs": [
    {
     "data": {
      "text/html": [
       "<div>\n",
       "<style scoped>\n",
       "    .dataframe tbody tr th:only-of-type {\n",
       "        vertical-align: middle;\n",
       "    }\n",
       "\n",
       "    .dataframe tbody tr th {\n",
       "        vertical-align: top;\n",
       "    }\n",
       "\n",
       "    .dataframe thead th {\n",
       "        text-align: right;\n",
       "    }\n",
       "</style>\n",
       "<table border=\"1\" class=\"dataframe\">\n",
       "  <thead>\n",
       "    <tr style=\"text-align: right;\">\n",
       "      <th></th>\n",
       "      <th>source</th>\n",
       "      <th>target</th>\n",
       "      <th>type</th>\n",
       "      <th>value</th>\n",
       "    </tr>\n",
       "  </thead>\n",
       "  <tbody>\n",
       "    <tr>\n",
       "      <th>0</th>\n",
       "      <td>a</td>\n",
       "      <td>b</td>\n",
       "      <td>main</td>\n",
       "      <td>2</td>\n",
       "    </tr>\n",
       "    <tr>\n",
       "      <th>1</th>\n",
       "      <td>a</td>\n",
       "      <td>c</td>\n",
       "      <td>main</td>\n",
       "      <td>1</td>\n",
       "    </tr>\n",
       "    <tr>\n",
       "      <th>2</th>\n",
       "      <td>c</td>\n",
       "      <td>d</td>\n",
       "      <td>main</td>\n",
       "      <td>3</td>\n",
       "    </tr>\n",
       "    <tr>\n",
       "      <th>3</th>\n",
       "      <td>b</td>\n",
       "      <td>c</td>\n",
       "      <td>back</td>\n",
       "      <td>2</td>\n",
       "    </tr>\n",
       "  </tbody>\n",
       "</table>\n",
       "</div>"
      ],
      "text/plain": [
       "  source target  type  value\n",
       "0      a      b  main      2\n",
       "1      a      c  main      1\n",
       "2      c      d  main      3\n",
       "3      b      c  back      2"
      ]
     },
     "execution_count": 4,
     "metadata": {},
     "output_type": "execute_result"
    }
   ],
   "source": [
    "import pandas as pd\n",
    "from io import StringIO\n",
    "\n",
    "flows = pd.read_csv(StringIO(\"\"\"\n",
    "source,target,type,value\n",
    "a,b,main,2\n",
    "a,c,main,1\n",
    "c,d,main,3\n",
    "b,c,back,2\n",
    "\"\"\"))\n",
    "\n",
    "flows"
   ]
  },
  {
   "cell_type": "code",
   "execution_count": 5,
   "metadata": {},
   "outputs": [
    {
     "name": "stdout",
     "output_type": "stream",
     "text": [
      "CSV File was successfully created\n"
     ]
    }
   ],
   "source": [
    "flows.to_csv('output/datatable.csv')\n",
    "print('CSV File was successfully created')"
   ]
  },
  {
   "cell_type": "code",
   "execution_count": 6,
   "metadata": {},
   "outputs": [
    {
     "data": {
      "application/vnd.jupyter.widget-view+json": {
       "model_id": "0b4e6363cddb4525b40353788e72ccb0",
       "version_major": 2,
       "version_minor": 0
      },
      "text/plain": [
       "SankeyWidget(layout=Layout(height='300', width='570'), links=[{'source': 'a^*', 'target': 'b^*', 'type': '*', …"
      ]
     },
     "metadata": {},
     "output_type": "display_data"
    }
   ],
   "source": [
    "from floweaver import *\n",
    "\n",
    "# Set the default size to fit the documentation better.\n",
    "size = dict(width=570, height=300)\n",
    "\n",
    "nodes = {\n",
    "    'a': ProcessGroup(['a']),\n",
    "    'b': ProcessGroup(['b']),\n",
    "    'c': ProcessGroup(['c']),\n",
    "    'd': ProcessGroup(['d']),\n",
    "    'back': Waypoint(direction='L'),\n",
    "}\n",
    "\n",
    "bundles = [\n",
    "    Bundle('a', 'b'),\n",
    "    Bundle('a', 'c'),\n",
    "    Bundle('b', 'c', waypoints=['back']),\n",
    "    Bundle('c', 'd'),\n",
    "    Bundle('c', 'b'),\n",
    "]\n",
    "\n",
    "ordering = [\n",
    "    [['a'], []],\n",
    "    [['b', 'c'], ['back']],\n",
    "    [['d'], []],\n",
    "]\n",
    "\n",
    "sdd = SankeyDefinition(nodes, bundles, ordering)\n",
    "\n",
    "weave(sdd, flows).to_widget(**size)"
   ]
  },
  {
   "cell_type": "code",
   "execution_count": 7,
   "metadata": {},
   "outputs": [
    {
     "data": {
      "application/vnd.jupyter.widget-view+json": {
       "model_id": "4ae14069a23144e6922fd56dc7db221e",
       "version_major": 2,
       "version_minor": 0
      },
      "text/plain": [
       "SankeyWidget(links=[{'source': 'a', 'target': 'b', 'type': 'main', 'value': 2}, {'source': 'a', 'target': 'c',…"
      ]
     },
     "metadata": {},
     "output_type": "display_data"
    }
   ],
   "source": [
    "from ipysankeywidget import SankeyWidget\n",
    "\n",
    "#SankeyWidget(links=flows.to_dict('records'))\n",
    "graphic=SankeyWidget(links=flows.to_dict('records'))\n",
    "graphic"
   ]
  },
  {
   "cell_type": "code",
   "execution_count": 8,
   "metadata": {},
   "outputs": [
    {
     "name": "stdout",
     "output_type": "stream",
     "text": [
      "Saving successful.\n"
     ]
    },
    {
     "name": "stderr",
     "output_type": "stream",
     "text": [
      "/Users/gast/anaconda3/lib/python3.6/site-packages/ipysankeywidget/sankey_widget.py:167: UserWarning: No svg image available! Try auto_save_svg() instead?\n",
      "  warnings.warn('No svg image available! Try auto_save_svg() instead?')\n"
     ]
    }
   ],
   "source": [
    "#save as image\n",
    "graphic.save_svg(\"output/\"+'simple_diagram.svg')\n",
    "print(\"Saving successful.\")"
   ]
  },
  {
   "cell_type": "code",
   "execution_count": null,
   "metadata": {},
   "outputs": [],
   "source": []
  },
  {
   "cell_type": "markdown",
   "metadata": {},
   "source": [
    "## Using `ipysankeywidget`\n",
    "\n",
    "`ipysankeywidget` is the precursor to `floweaver` and is also capable of producing sankey diagrams but does not have features such as dimension tables or flow partitions (explained in the [`floWeaver` documentation](https://floweaver.readthedocs.io/en/latest/index.html)).\n",
    "\n",
    "Here are some examples on how to draw sankey diagrams using `ipysankeywidget`. In principle, it should be easier to produce the desired sankey diagrams with `floweaver` rather than `ipysankeywidget` so you'll only need to interact with `ipysankeywidget` when `floweaver` does not provide the functionality you need.\n",
    "\n",
    "Import relevant packages,"
   ]
  },
  {
   "cell_type": "code",
   "execution_count": 9,
   "metadata": {},
   "outputs": [],
   "source": [
    "import pandas as pd\n",
    "from ipysankeywidget import SankeyWidget\n",
    "from ipysankeywidget import SankeyWidget\n",
    "from ipywidgets import Layout\n",
    "\n",
    "from IPython.display import (\n",
    "    Image,\n",
    "    SVG\n",
    ")"
   ]
  },
  {
   "cell_type": "markdown",
   "metadata": {},
   "source": [
    "Define the \"layout\" of the diagram,"
   ]
  },
  {
   "cell_type": "code",
   "execution_count": 10,
   "metadata": {},
   "outputs": [],
   "source": [
    "layout = Layout(width=\"300\", height=\"200\")\n",
    "def sankey(margin_top=10, **value):\n",
    "    \"\"\"Show SankeyWidget with default values for size and margins\"\"\"\n",
    "    return SankeyWidget(layout=layout,\n",
    "                        margins=dict(top=margin_top, bottom=0, left=30, right=60),\n",
    "                        **value)"
   ]
  },
  {
   "cell_type": "markdown",
   "metadata": {},
   "source": [
    "Create a simple Sankey with sources and links,"
   ]
  },
  {
   "cell_type": "code",
   "execution_count": 11,
   "metadata": {},
   "outputs": [
    {
     "data": {
      "application/vnd.jupyter.widget-view+json": {
       "model_id": "436dbfc8b43e4807b16829a121fcc6ef",
       "version_major": 2,
       "version_minor": 0
      },
      "text/plain": [
       "SankeyWidget(layout=Layout(height='200', width='300'), links=[{'source': 'A', 'target': 'B', 'value': 1}, {'so…"
      ]
     },
     "metadata": {},
     "output_type": "display_data"
    }
   ],
   "source": [
    "links = [\n",
    "    {'source': 'A', 'target': 'B', 'value': 1},\n",
    "    {'source': 'B', 'target': 'C', 'value': 1},\n",
    "    {'source': 'C', 'target': 'D', 'value': 1},\n",
    "    {'source': 'A', 'target': 'E', 'value': 0.5},\n",
    "]\n",
    "\n",
    "nodes = [\n",
    "    {'id': 'C', 'direction': 'l'},\n",
    "    {'id': 'D', 'direction': 'l'},\n",
    "]\n",
    "\n",
    "sankey(links=links, nodes=nodes)"
   ]
  },
  {
   "cell_type": "markdown",
   "metadata": {},
   "source": [
    "Change nodes direction of the flows across the nodes,"
   ]
  },
  {
   "cell_type": "code",
   "execution_count": 12,
   "metadata": {},
   "outputs": [
    {
     "data": {
      "application/vnd.jupyter.widget-view+json": {
       "model_id": "9205a9d090d746d29f2ac11771b8c802",
       "version_major": 2,
       "version_minor": 0
      },
      "text/plain": [
       "SankeyWidget(layout=Layout(height='200', width='300'), links=[{'source': 'A', 'target': 'B', 'value': 1}, {'so…"
      ]
     },
     "metadata": {},
     "output_type": "display_data"
    }
   ],
   "source": [
    "nodes = [\n",
    "    {'id': 'C', 'direction': 'r'},\n",
    "    {'id': 'D', 'direction': 'l'},\n",
    "]\n",
    "sankey(links=links, nodes=nodes)"
   ]
  },
  {
   "cell_type": "markdown",
   "metadata": {},
   "source": [
    "Define a new sankey and add different colours to the flows,"
   ]
  },
  {
   "cell_type": "code",
   "execution_count": 13,
   "metadata": {},
   "outputs": [
    {
     "data": {
      "application/vnd.jupyter.widget-view+json": {
       "model_id": "5a3a5e5b2c1e4b85b5432eddebf103f3",
       "version_major": 2,
       "version_minor": 0
      },
      "text/plain": [
       "SankeyWidget(layout=Layout(height='200', width='300'), links=[{'source': 'A', 'target': 'B', 'value': 3, 'type…"
      ]
     },
     "metadata": {},
     "output_type": "display_data"
    }
   ],
   "source": [
    "links = [\n",
    "    {'source': 'A', 'target': 'B', 'value': 3, 'type': 'a'},\n",
    "    {'source': 'B', 'target': 'C', 'value': 2, 'type': 'b'},\n",
    "    {'source': 'B', 'target': 'D', 'value': 1, 'type': 'c'},\n",
    "]\n",
    "sankey(links=links)"
   ]
  },
  {
   "cell_type": "markdown",
   "metadata": {},
   "source": [
    "Here's a different way of defining colours,"
   ]
  },
  {
   "cell_type": "code",
   "execution_count": 14,
   "metadata": {},
   "outputs": [
    {
     "data": {
      "application/vnd.jupyter.widget-view+json": {
       "model_id": "9da234ff19d749efb8c24d6744013010",
       "version_major": 2,
       "version_minor": 0
      },
      "text/plain": [
       "SankeyWidget(layout=Layout(height='200', width='300'), links=[{'source': 'A', 'target': 'B', 'value': 3, 'colo…"
      ]
     },
     "metadata": {},
     "output_type": "display_data"
    }
   ],
   "source": [
    "links = [\n",
    "    {'source': 'A', 'target': 'B', 'value': 3, 'color': 'steelblue'},\n",
    "    {'source': 'B', 'target': 'C', 'value': 2, 'color': '#aaa'},\n",
    "    {'source': 'B', 'target': 'D', 'value': 1, 'color': 'goldenrod'},\n",
    "]\n",
    "sankey(links=links)"
   ]
  },
  {
   "cell_type": "markdown",
   "metadata": {},
   "source": [
    "Format the line that represents the node,"
   ]
  },
  {
   "cell_type": "code",
   "execution_count": 15,
   "metadata": {},
   "outputs": [
    {
     "data": {
      "application/vnd.jupyter.widget-view+json": {
       "model_id": "16a66a8ab34b4a77b916dfb17d8c82d0",
       "version_major": 2,
       "version_minor": 0
      },
      "text/plain": [
       "SankeyWidget(layout=Layout(height='200', width='300'), links=[{'source': 'A', 'target': 'B', 'value': 3, 'colo…"
      ]
     },
     "metadata": {},
     "output_type": "display_data"
    }
   ],
   "source": [
    "nodes = [\n",
    "    {'id': 'B', 'title': 'B with thick Line / Gate', 'style': 'process' },\n",
    "]\n",
    "sankey(links=links, nodes=nodes)"
   ]
  },
  {
   "cell_type": "markdown",
   "metadata": {},
   "source": [
    "Define flows with multiple types,"
   ]
  },
  {
   "cell_type": "code",
   "execution_count": 16,
   "metadata": {},
   "outputs": [
    {
     "data": {
      "application/vnd.jupyter.widget-view+json": {
       "model_id": "c3cd92012ea44d4b946d6700c8e5abda",
       "version_major": 2,
       "version_minor": 0
      },
      "text/plain": [
       "SankeyWidget(layout=Layout(height='200', width='300'), links=[{'source': 'A1', 'target': 'B', 'value': 1.5, 't…"
      ]
     },
     "metadata": {},
     "output_type": "display_data"
    }
   ],
   "source": [
    "links = [\n",
    "    {'source': 'A1', 'target': 'B', 'value': 1.5, 'type': 'x'},\n",
    "    {'source': 'A1', 'target': 'B', 'value': 0.5, 'type': 'y'},\n",
    "    {'source': 'A2', 'target': 'B', 'value': 0.5, 'type': 'x'},\n",
    "    {'source': 'A2', 'target': 'B', 'value': 1.5, 'type': 'y'},\n",
    "    {'source': 'B',  'target': 'C', 'value': 2.0, 'type': 'x'},\n",
    "    {'source': 'B',  'target': 'C', 'value': 2.0, 'type': 'y'},\n",
    "]\n",
    "sankey(links=links, nodes=[])"
   ]
  },
  {
   "cell_type": "markdown",
   "metadata": {},
   "source": [
    "Align flows by type"
   ]
  },
  {
   "cell_type": "code",
   "execution_count": 17,
   "metadata": {},
   "outputs": [
    {
     "data": {
      "application/vnd.jupyter.widget-view+json": {
       "model_id": "42e29303487b4b8dba3ac1c3708c490b",
       "version_major": 2,
       "version_minor": 0
      },
      "text/plain": [
       "SankeyWidget(align_link_types=True, layout=Layout(height='200', width='300'), links=[{'source': 'A1', 'target'…"
      ]
     },
     "metadata": {},
     "output_type": "display_data"
    }
   ],
   "source": [
    "sankey(links=links, align_link_types=True)"
   ]
  },
  {
   "cell_type": "markdown",
   "metadata": {},
   "source": [
    "Define the order of flows explicitly and swap the order of `A1` and `A2`,"
   ]
  },
  {
   "cell_type": "code",
   "execution_count": 18,
   "metadata": {},
   "outputs": [
    {
     "data": {
      "application/vnd.jupyter.widget-view+json": {
       "model_id": "05d932773f5b46c0aff4e0678613b449",
       "version_major": 2,
       "version_minor": 0
      },
      "text/plain": [
       "SankeyWidget(align_link_types=True, layout=Layout(height='200', width='300'), links=[{'source': 'A1', 'target'…"
      ]
     },
     "metadata": {},
     "output_type": "display_data"
    }
   ],
   "source": [
    "order = [\n",
    "    ['A2', 'A1'],\n",
    "    ['B'],\n",
    "    ['C'],\n",
    "]\n",
    "sankey(links=links, align_link_types=True, order=order)"
   ]
  },
  {
   "cell_type": "markdown",
   "metadata": {},
   "source": [
    "Add a button to swap the order of `A1` and `A2` interactively,"
   ]
  },
  {
   "cell_type": "code",
   "execution_count": 19,
   "metadata": {},
   "outputs": [
    {
     "data": {
      "application/vnd.jupyter.widget-view+json": {
       "model_id": "3fa1d819484249889df69b07dd46052c",
       "version_major": 2,
       "version_minor": 0
      },
      "text/plain": [
       "VBox(children=(Button(description='Swap', style=ButtonStyle()), SankeyWidget(align_link_types=True, layout=Lay…"
      ]
     },
     "metadata": {},
     "output_type": "display_data"
    }
   ],
   "source": [
    "#Add a swap button\n",
    "from ipywidgets import Button, VBox\n",
    "\n",
    "s = sankey(links=links, order=order, align_link_types=True)\n",
    "\n",
    "def swap(x):\n",
    "    global order\n",
    "    order = [list(reversed(o)) for o in order]\n",
    "    s.order = order\n",
    "b = Button(description='Swap')\n",
    "b.on_click(swap)\n",
    "\n",
    "VBox([b, s])"
   ]
  },
  {
   "cell_type": "code",
   "execution_count": 20,
   "metadata": {},
   "outputs": [
    {
     "data": {
      "application/vnd.jupyter.widget-view+json": {
       "model_id": "1cc81b6034c04046a06917eb454f8bb9",
       "version_major": 2,
       "version_minor": 0
      },
      "text/plain": [
       "SankeyWidget(layout=Layout(height='200', width='300'), links=[{'source': 'A', 'target': 'B', 'value': 1}, {'so…"
      ]
     },
     "metadata": {},
     "output_type": "display_data"
    }
   ],
   "source": [
    "# Create set\n",
    "links = [\n",
    "    {'source': 'A', 'target': 'B', 'value': 1},\n",
    "    {'source': 'B', 'target': 'C', 'value': 1},\n",
    "    {'source': 'A', 'target': 'D', 'value': 1},\n",
    "]\n",
    "order = [\n",
    "    ['A'],\n",
    "    ['D', 'B'],\n",
    "    ['C'],\n",
    "]\n",
    "\n",
    "rank_sets = [\n",
    "    { 'type': 'same', 'nodes': ['C', 'D'] }\n",
    "]\n",
    "sankey(links=links, rank_sets=rank_sets)"
   ]
  },
  {
   "cell_type": "code",
   "execution_count": 21,
   "metadata": {},
   "outputs": [
    {
     "data": {
      "application/vnd.jupyter.widget-view+json": {
       "model_id": "3fa5fd7a39ff4e25aae41eeab169a676",
       "version_major": 2,
       "version_minor": 0
      },
      "text/plain": [
       "SankeyWidget(groups=[{'id': 'G', 'title': 'Group Box', 'nodes': ['C', 'D']}], layout=Layout(height='200', widt…"
      ]
     },
     "metadata": {},
     "output_type": "display_data"
    }
   ],
   "source": [
    "# Add a group box\n",
    "links = [\n",
    "    {'source': 'A', 'target': 'B', 'value': 3, 'type': 'x'},\n",
    "    {'source': 'B', 'target': 'C', 'value': 2, 'type': 'y'},\n",
    "    {'source': 'B', 'target': 'D', 'value': 1, 'type': 'z'},\n",
    "    {'source': 'F', 'target': 'B', 'value': 1.3, 'type': 'a'},\n",
    "    {'source': 'B', 'target': 'E', 'value': 1.3, 'type': 'a'},\n",
    "]\n",
    "groups = [\n",
    "    {'id': 'G', 'title': 'Group Box', 'nodes': ['C', 'D']}\n",
    "]\n",
    "sankey(links=links, nodes=[], groups=groups, margin_top=30)"
   ]
  },
  {
   "cell_type": "code",
   "execution_count": 22,
   "metadata": {
    "scrolled": true
   },
   "outputs": [
    {
     "data": {
      "application/vnd.jupyter.widget-view+json": {
       "model_id": "3070a7438b64416b8a37812b3f06c37e",
       "version_major": 2,
       "version_minor": 0
      },
      "text/plain": [
       "SankeyWidget(layout=Layout(height='200', width='300'), links=[{'source': 'A', 'target': 'B', 'value': 3, 'type…"
      ]
     },
     "metadata": {},
     "output_type": "display_data"
    }
   ],
   "source": [
    "# Change order of flows\n",
    "order = [\n",
    "    ['A'],\n",
    "    ['D', 'B'],\n",
    "    ['C'],\n",
    "]\n",
    "sankey(links=links, order=order)"
   ]
  },
  {
   "cell_type": "code",
   "execution_count": 23,
   "metadata": {
    "scrolled": true
   },
   "outputs": [
    {
     "data": {
      "application/vnd.jupyter.widget-view+json": {
       "model_id": "baf5b13e110a40d78bc77c25f950d088",
       "version_major": 2,
       "version_minor": 0
      },
      "text/plain": [
       "SankeyWidget(layout=Layout(height='200', width='300'), links=[{'source': 'A', 'target': 'B', 'value': 3, 'type…"
      ]
     },
     "metadata": {},
     "output_type": "display_data"
    }
   ],
   "source": [
    "# Change order with empty boxes\n",
    "order = [\n",
    "    [ [   ], ['A'], [],   ],\n",
    "    [ ['B'], [   ], ['D'] ],\n",
    "    [ [   ], ['C'], []    ],\n",
    "]\n",
    "sankey(links=links, order=order)"
   ]
  },
  {
   "cell_type": "markdown",
   "metadata": {},
   "source": [
    "## Example: aluminium production"
   ]
  },
  {
   "cell_type": "markdown",
   "metadata": {},
   "source": [
    "Here is another example of a simple Sankey diagram for aluminium production with a manual definition of flow values and colours. Recommendation: use it only for a simple visualisation; floWeaver is better for all others. As me (LG) if you have any questions. :-)"
   ]
  },
  {
   "cell_type": "code",
   "execution_count": 24,
   "metadata": {},
   "outputs": [],
   "source": [
    "from ipysankeywidget import SankeyWidget\n",
    "from ipywidgets import Layout"
   ]
  },
  {
   "cell_type": "code",
   "execution_count": 25,
   "metadata": {},
   "outputs": [],
   "source": [
    "layout = Layout(width=\"1200\", height=\"600\")\n",
    "def sankey(margin_top=10, **value):\n",
    "    \"\"\"Show SankeyWidget with default values for size and margins\"\"\"\n",
    "    return SankeyWidget(layout=layout,\n",
    "                        margins=dict(top=margin_top, bottom=0, left=120, right=120),\n",
    "                        **value)"
   ]
  },
  {
   "cell_type": "code",
   "execution_count": 26,
   "metadata": {},
   "outputs": [
    {
     "data": {
      "application/vnd.jupyter.widget-view+json": {
       "model_id": "3eba397cc9a44cd9a58e90abe2b176bf",
       "version_major": 2,
       "version_minor": 0
      },
      "text/plain": [
       "SankeyWidget(layout=Layout(height='600', width='1200'), links=[{'source': 'Ore in Mine', 'target': 'Bauxite Pr…"
      ]
     },
     "metadata": {},
     "output_type": "display_data"
    }
   ],
   "source": [
    "links = [\n",
    "    {'source': 'Ore in Mine', 'target': 'Bauxite Production', 'value': 1000,'color': 'goldenrod'},\n",
    "    {'source': 'Diesel oil', 'target': 'Bauxite Production', 'value': 1.1},\n",
    "    {'source': 'Heavy oil', 'target': 'Bauxite Production', 'value': 0.2},\n",
    "    {'source': 'Electricity', 'target': 'Bauxite Production', 'value': 1.9},\n",
    "    {'source': 'Fresh Water', 'target': 'Bauxite Production', 'value': 0.5},\n",
    "    {'source': 'Sea Water', 'target': 'Bauxite Production', 'value': 0.1},\n",
    "    {'source': 'Bauxite Production', 'target': 'Bauxite', 'value': 1000, 'color': 'orange'},\n",
    "    {'source': 'Bauxite Production', 'target': 'Particulates', 'value': 0.95},\n",
    "    {'source': 'Bauxite Production', 'target': 'Fresh Water2', 'value': 0.47},   \n",
    "    {'source': 'Bauxite Production', 'target': 'Sea Water2', 'value': 0.05},\n",
    " \n",
    "]\n",
    "groups = [\n",
    "    {'id': 'G', 'title': 'Alumina', 'nodes': ['Alumina', 'Alumina']}\n",
    "]\n",
    "graphic=sankey(links=links, nodes=[], groups=groups, margin_top=30)\n",
    "sankey(links=links)"
   ]
  },
  {
   "cell_type": "code",
   "execution_count": 27,
   "metadata": {},
   "outputs": [
    {
     "data": {
      "application/vnd.jupyter.widget-view+json": {
       "model_id": "47d45f6605804e86bdf80953ceb4f825",
       "version_major": 2,
       "version_minor": 0
      },
      "text/plain": [
       "SankeyWidget(layout=Layout(height='600', width='1200'), links=[{'source': '0RE in Mine', 'target': 'Bauxite Pr…"
      ]
     },
     "metadata": {},
     "output_type": "display_data"
    }
   ],
   "source": [
    "links = [\n",
    "    {'source': '0RE in Mine', 'target': 'Bauxite Production', 'value': 1000,'color': 'goldenrod'},\n",
    "    {'source': 'Diesel oil', 'target': 'Bauxite Production', 'value': 1.1},\n",
    "    {'source': 'Heavy oil', 'target': 'Bauxite Production', 'value': 0.2},\n",
    "    {'source': 'Electricity', 'target': 'Bauxite Production', 'value': 1.9},\n",
    "    {'source': 'Fresh Water', 'target': 'Bauxite Production', 'value': 0.5},\n",
    "    {'source': 'Sea Water', 'target': 'Bauxite Production', 'value': 0.1},\n",
    "    {'source': 'Bauxite Production', 'target': 'Bauxite', 'value': 1000, 'color': 'orange'},\n",
    "    {'source': 'Bauxite Production', 'target': 'Particulates', 'value': 0.95},\n",
    "    {'source': 'Bauxite Production', 'target': 'Fresh Water', 'value': 0.47},   \n",
    "    {'source': 'Bauxite Production', 'target': 'Sea Water', 'value': 0.05},\n",
    "    \n",
    "]\n",
    "groups = [\n",
    "    {'id': 'G', 'title': 'Alumina', 'nodes': ['Alumina', 'Alumina']}\n",
    "]\n",
    "graphic=sankey(links=links, nodes=[], groups=groups, margin_top=30)\n",
    "sankey(links=links)"
   ]
  },
  {
   "cell_type": "code",
   "execution_count": 28,
   "metadata": {},
   "outputs": [
    {
     "data": {
      "application/vnd.jupyter.widget-view+json": {
       "model_id": "8b811ca692224895ae97e4acff64b699",
       "version_major": 2,
       "version_minor": 0
      },
      "text/plain": [
       "SankeyWidget(layout=Layout(height='600', width='1200'), links=[{'source': 'Bauxite', 'target': 'Alumina Produc…"
      ]
     },
     "metadata": {},
     "output_type": "display_data"
    }
   ],
   "source": [
    "links = [\n",
    "    {'source': 'Bauxite', 'target': 'Alumina Production', 'value': 2739,'color': 'goldenrod'},\n",
    "    {'source': 'Caustic soda', 'target': 'Alumina Production', 'type': 'x', 'value': 89},\n",
    "    {'source': 'Calcinated lime', 'target': 'Alumina Production', 'type': 'x', 'value': 40},\n",
    "    {'source': 'Fresh water', 'target': 'Alumina Production', 'type': 'y','value': 7.7},\n",
    "    {'source': 'Sea water', 'target': 'Alumina Production', 'type': 'y','value': 0.1},\n",
    "    {'source': 'Diesel oil', 'target': 'Alumina Production', 'type': 'z','value': 0.7},\n",
    "    {'source': 'Heavy oil', 'target': 'Alumina Production', 'type': 'z', 'value': 101.4},\n",
    "    {'source': 'Natural gas', 'target': 'Alumina Production', 'type': 'c','value': 62.8}, \n",
    "    \n",
    "    {'source': 'Alumina Production', 'target': 'Alumina', 'value': 1000},\n",
    "    {'source': 'Alumina Production', 'target': 'Particulates', 'type': 'b','value': 0.17},\n",
    "    #b is air\n",
    "    {'source': 'Alumina Production', 'target': 'NO2', 'type': 'b','value': 0.88},\n",
    "    {'source': 'Alumina Production', 'target': 'SO2', 'type': 'b','value': 3.4},\n",
    "    {'source': 'Alumina Production', 'target': 'Oil and grease', 'type': 'y','value': 0.47},\n",
    "    {'source': 'Alumina Production', 'target': 'Suspended solids', 'type': 'y','value': 0.05},\n",
    "    {'source': 'Alumina Production', 'target': 'Bauxite residue', 'type': 'waste', 'value': 1.1},\n",
    "    {'source': 'Alumina Production', 'target': 'Other_byproduct', 'type': 'waste', 'value': 5.6},\n",
    "    {'source': 'Alumina Production', 'target': 'Red mud', 'type': 'waste', 'value': 1142},\n",
    "    {'source': 'Alumina Production', 'target': 'Other_landfill', 'type': 'waste','value': 25},  \n",
    "]\n",
    "sankey(links=links)\n",
    "\n",
    "nodes = [\n",
    "    {'id': 'Alumina Production', 'title': 'Alumina Production', 'style': 'process'},\n",
    "]\n",
    "sankey(links=links)"
   ]
  },
  {
   "cell_type": "code",
   "execution_count": 29,
   "metadata": {},
   "outputs": [
    {
     "data": {
      "application/vnd.jupyter.widget-view+json": {
       "model_id": "8fb86435028b4664904dcebb9debdbb2",
       "version_major": 2,
       "version_minor": 0
      },
      "text/plain": [
       "SankeyWidget(align_link_types=True, layout=Layout(height='600', width='1200'), links=[{'source': 'Bauxite', 't…"
      ]
     },
     "metadata": {},
     "output_type": "display_data"
    }
   ],
   "source": [
    "sankey(links=links, align_link_types=True)"
   ]
  },
  {
   "cell_type": "code",
   "execution_count": 30,
   "metadata": {},
   "outputs": [
    {
     "data": {
      "application/vnd.jupyter.widget-view+json": {
       "model_id": "f2fc2658f9384fc8b8a7d28036976265",
       "version_major": 2,
       "version_minor": 0
      },
      "text/plain": [
       "SankeyWidget(layout=Layout(height='600', width='1200'), links=[{'source': 'Bauxite', 'target': 'Alumina Produc…"
      ]
     },
     "metadata": {},
     "output_type": "display_data"
    }
   ],
   "source": [
    "# Further ideas\n",
    "order = [\n",
    "    ['Alumina'],\n",
    "    ['Particulates', 'NO2', 'SO2'],\n",
    "    ['Oil and grease', 'Suspended solids'],\n",
    "    ['Bauxite residue', 'Other_byproducts'],\n",
    "    ['Oil and grease', 'Other_landfill'],\n",
    "]\n",
    "\n",
    "sankey(links=links, align_link_types=True, order=order)\n",
    "\n",
    "# Add a box for the by-products\n",
    "groups = [\n",
    "    {'id': 'Air emissions', 'title': 'By-Products', 'nodes': ['NO2', 'SO2', 'Suspended solids', 'Bauxite residue']}\n",
    "]\n",
    "graphic=sankey(links=links, nodes=[], groups=groups, margin_top=30)\n",
    "sankey(links=links)"
   ]
  },
  {
   "cell_type": "code",
   "execution_count": 31,
   "metadata": {},
   "outputs": [
    {
     "data": {
      "application/vnd.jupyter.widget-view+json": {
       "model_id": "e194077806b94d7f9536133b71d3759d",
       "version_major": 2,
       "version_minor": 0
      },
      "text/plain": [
       "SankeyWidget(groups=[{'id': 'Air emissions', 'title': 'By-Products', 'nodes': ['NO2', 'SO2', 'Suspended solids…"
      ]
     },
     "metadata": {},
     "output_type": "display_data"
    }
   ],
   "source": [
    "# save the graphic\n",
    "graphic.auto_save_svg('output/globalbauxite.svg')"
   ]
  },
  {
   "cell_type": "code",
   "execution_count": 32,
   "metadata": {},
   "outputs": [
    {
     "data": {
      "application/vnd.jupyter.widget-view+json": {
       "model_id": "5f1a5dd045e745f8adc6a2d3437b6004",
       "version_major": 2,
       "version_minor": 0
      },
      "text/plain": [
       "SankeyWidget(layout=Layout(height='600', width='1200'), links=[{'source': 'Other', 'target': 'Bauxite Producti…"
      ]
     },
     "metadata": {},
     "output_type": "display_data"
    }
   ],
   "source": [
    "links = [\n",
    "    {'source': 'Other', 'target': 'Bauxite Production', 'value': 1088,'color': 'goldenrod'},\n",
    "    {'source': 'Diesel oil', 'target': 'Bauxite Production', 'value': 1.1},\n",
    "    {'source': 'Heavy oil', 'target': 'Bauxite Production', 'value': 0.2},\n",
    "    {'source': 'Electricity', 'target': 'Bauxite Production', 'value': 1.9},\n",
    "    {'source': 'Fresh Water', 'target': 'Bauxite Production', 'value': 0.5},\n",
    "    {'source': 'Sea Water', 'target': 'Bauxite Production', 'value': 0.1},\n",
    "    {'source': 'Bauxite Production', 'target': 'Bauxite', 'value': 1000, 'color': 'orange'},\n",
    "    {'source': 'Bauxite Production', 'target': 'Particulates', 'value': 0.95},\n",
    "    {'source': 'Bauxite Production', 'target': 'Fresh Water2', 'value': 0.47},   \n",
    "    {'source': 'Bauxite Production', 'target': 'Sea Water2', 'value': 0.05},\n",
    " \n",
    "]\n",
    "groups = [\n",
    "    {'id': 'G', 'title': 'Alumina', 'nodes': ['Alumina', 'Alumina']}\n",
    "]\n",
    "graphic=sankey(links=links, nodes=[], groups=groups, margin_top=30)\n",
    "sankey(links=links)"
   ]
  }
 ],
 "metadata": {
  "hide_input": false,
  "kernelspec": {
   "display_name": "Python 3",
   "language": "python",
   "name": "python3"
  },
  "language_info": {
   "codemirror_mode": {
    "name": "ipython",
    "version": 3
   },
   "file_extension": ".py",
   "mimetype": "text/x-python",
   "name": "python",
   "nbconvert_exporter": "python",
   "pygments_lexer": "ipython3",
   "version": "3.6.8"
  },
  "toc": {
   "base_numbering": 1,
   "nav_menu": {},
   "number_sections": true,
   "sideBar": true,
   "skip_h1_title": false,
   "title_cell": "Table of Contents",
   "title_sidebar": "Contents",
   "toc_cell": true,
   "toc_position": {},
   "toc_section_display": true,
   "toc_window_display": false
  }
 },
 "nbformat": 4,
 "nbformat_minor": 2
}

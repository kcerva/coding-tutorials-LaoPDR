{
 "cells": [
  {
   "cell_type": "markdown",
   "metadata": {
    "colab_type": "text",
    "id": "view-in-github"
   },
   "source": [
    "<a href=\"https://colab.research.google.com/github/Resource-Efficiency-Collective/coding-tutorials/blob/main/floweaver_tutorials.ipynb\" target=\"_parent\"><img src=\"https://colab.research.google.com/assets/colab-badge.svg\" alt=\"Open In Colab\"/></a>"
   ]
  },
  {
   "cell_type": "markdown",
   "metadata": {
    "id": "tVwUQRwRj8KU"
   },
   "source": [
    "# Floweaver tutorials\n",
    "This notebook goes through additional useful methods for plotting Sankeys in Floweaver and is split into 3 parts:\n",
    "\n",
    "- Part 1 - Dimension tables\n",
    "- Part 2 - System boundaries\n",
    "- Part 3 - Colour intensity scales\n",
    "\n",
    "Run the following two cells to setup the notebook.\n",
    "\n",
    "Parts of the material for this section were taken from Luke Cullen's repository. Luke is a PhD student at the Resource Efficiency Collective at the University of Cambridge. His original repository is [here](https://github.com/Resource-Efficiency-Collective/coding-tutorials). "
   ]
  },
  {
   "cell_type": "code",
   "execution_count": null,
   "metadata": {
    "id": "TFBX_TBkk4Rc"
   },
   "outputs": [],
   "source": [
    "# %%capture\n",
    "\"\"\"Data download and package import\"\"\"\n",
    "# Install floweaver and display widget packages\n",
    "# %pip install floweaver ipysankeywidget\n",
    "\n",
    "# Import packages\n",
    "# import gdown, os\n",
    "# from google.colab import files\n",
    "import pandas as pd\n",
    "import numpy as np\n",
    "from floweaver import *\n",
    "\n",
    "# Set the default size of Sankeys fit the documentation better.\n",
    "size = dict(width=570, height=300)"
   ]
  },
  {
   "cell_type": "code",
   "execution_count": null,
   "metadata": {
    "id": "CmG1DYYVl8P0"
   },
   "outputs": [],
   "source": [
    "\"\"\"Display setup\"\"\"\n",
    "# Enable widget display for Sankeys in Colab\n",
    "from google.colab import output\n",
    "output.enable_custom_widget_manager()"
   ]
  },
  {
   "cell_type": "markdown",
   "metadata": {
    "id": "ie1i8jzokcuS"
   },
   "source": [
    "## Part 1 - Dimension tables: efficiently adding details of processes and flows\n",
    "\n",
    "In Floweaver basics we saw how to draw some simple Sankey diagrams and partition them in different ways, such as this:\n",
    "\n",
    "![](https://github.com/Resource-Efficiency-Collective/coding-tutorials/blob/main/quickstart_example1.png?raw=1)\n",
    "\n",
    "But to do the grouping on the right-hand side we had to explicitly list which people were \"Men\" and which were \"Women\", using a partition like this:\n",
    "\n",
    "```python\n",
    "customers_by_gender = Partition.Simple('process', [\n",
    "    ('Men', ['Fred', 'James']),\n",
    "    ('Women', ['Susan', 'Mary']),\n",
    "])\n",
    "```\n",
    "\n",
    "We can show this type of information more efficiently -- and with less code -- by using *dimension tables*."
   ]
  },
  {
   "cell_type": "markdown",
   "metadata": {
    "id": "u23ktK3ipxaK"
   },
   "source": [
    "### Defintions\n",
    "\n",
    "The table we've seen before is a **flow fact table** -- it lists basic information about each flow:\n",
    "\n",
    "- *source*: where the flow comes from\n",
    "- *target*: where the flow goes to\n",
    "- *type* or *material*: what is flowing\n",
    "- *value*: the size (in tonnes, GJ, £ etc) of the flow\n",
    "\n",
    "An example of this type of table is shown at the top right of this diagram:\n",
    "\n",
    "![](https://github.com/Resource-Efficiency-Collective/coding-tutorials/blob/main/dimension_tables.png?raw=1)\n",
    "\n",
    "The **dimension tables** add extra information about the source/target and type of the flows (the diagram above also shows extra information about the time period the flow relates to, but we're not worrying about time in this tutorial). For example, \"farm2\" has a *location* attribute set to \"Cambridge\".\n",
    "\n",
    "This tutorial will show how to use dimension tables in floweaver."
   ]
  },
  {
   "cell_type": "code",
   "execution_count": null,
   "metadata": {
    "id": "qbe-qJ3vkfzs"
   },
   "outputs": [],
   "source": [
    "# Load the same basic data used in the basics\n",
    "flows = pd.read_csv('example_data/simple_fruit_sales.csv')\n",
    "display(flows)"
   ]
  },
  {
   "cell_type": "code",
   "execution_count": null,
   "metadata": {
    "id": "YiMVSC-dlajD"
   },
   "outputs": [],
   "source": [
    "# Load another table giving extra information about the \n",
    "# farms and customers. `index_col` says the first column\n",
    "# can be used to lookup rows.\n",
    "processes = pd.read_csv('example_data/simple_fruit_sales_processes.csv', index_col=0)\n",
    "display(processes)"
   ]
  },
  {
   "cell_type": "markdown",
   "metadata": {
    "id": "QBwWBjgWmCT8"
   },
   "source": [
    "Each `id` in this table matches a `source` or `target` in the flows table above. We can use this extra information to build the Sankey.\n",
    "\n",
    "Because we now have two tables (before we only had one so didn't have to worry) we must put them together into a Dataset:"
   ]
  },
  {
   "cell_type": "code",
   "execution_count": null,
   "metadata": {
    "id": "rUsbYLKRln39"
   },
   "outputs": [],
   "source": [
    "dataset = Dataset(flows, dim_process=processes)"
   ]
  },
  {
   "cell_type": "markdown",
   "metadata": {
    "id": "jOPp4-12mM8r"
   },
   "source": [
    "Now we can use the `type` column in the process table to more easily pick out the relevant processes:"
   ]
  },
  {
   "cell_type": "code",
   "execution_count": null,
   "metadata": {
    "id": "T04jGJejmKMS"
   },
   "outputs": [],
   "source": [
    "nodes = {\n",
    "    'farms': ProcessGroup('type == \"farm\"'),\n",
    "    'customers': ProcessGroup('type == \"customer\"'),\n",
    "}"
   ]
  },
  {
   "cell_type": "markdown",
   "metadata": {
    "id": "tw_Cpr7cmSjT"
   },
   "source": [
    "Compare this to how the same thing was written in the basic tutorial:\n",
    "```python\n",
    "nodes = {\n",
    "    'farms': ProcessGroup(['farm1', 'farm2', 'farm3', \n",
    "                           'farm4', 'farm5', 'farm6']),\n",
    "    'customers': ProcessGroup(['James', 'Mary', 'Fred', 'Susan']),\n",
    "}\n",
    "```\n",
    "\n",
    "Because we already know from the process dimension table that James, Mary, Fred and Susan are \"customers\", we don't have to list them all by name in the ProcessGroup definition -- we can write the *query* `type == \"customer\"` instead.\n",
    "\n",
    "The rest of the Sankey diagram definition is the same as before:"
   ]
  },
  {
   "cell_type": "code",
   "execution_count": null,
   "metadata": {
    "id": "lQvqU0xsmO-D"
   },
   "outputs": [],
   "source": [
    "ordering = [\n",
    "    ['farms'],       # put \"farms\" on the left...\n",
    "    ['customers'],   # ... and \"customers\" on the right.\n",
    "]\n",
    "bundles = [\n",
    "    Bundle('farms', 'customers'),\n",
    "]\n",
    "sdd = SankeyDefinition(nodes, bundles, ordering)\n",
    "weave(sdd, dataset).to_widget(**size)"
   ]
  },
  {
   "cell_type": "markdown",
   "metadata": {
    "id": "iutfoOO1mfhq"
   },
   "source": [
    "Again, we need to set the partition on the ProcessGroups to see something interesting. Here again, we can use the process dimension table to make this easier:"
   ]
  },
  {
   "cell_type": "code",
   "execution_count": null,
   "metadata": {
    "id": "G0dKrOEMmcvt"
   },
   "outputs": [],
   "source": [
    "# Create a Partition which splits based on the `sex` column\n",
    "# of the dimension table\n",
    "customers_by_gender = Partition.Simple('process.sex', \n",
    "                                       ['Men', 'Women'])\n",
    "\n",
    "nodes['customers'].partition = customers_by_gender\n",
    "weave(sdd, dataset).to_widget(**size)"
   ]
  },
  {
   "cell_type": "markdown",
   "metadata": {
    "id": "9zllonzcmoFC"
   },
   "source": [
    "For reference, this is what we wrote before in the basic tutorial:\n",
    "```python\n",
    "customers_by_gender = Partition.Simple('process', [\n",
    "    ('Men', ['Fred', 'James']),\n",
    "    ('Women', ['Susan', 'Mary']),\n",
    "])\n",
    "```\n",
    "\n",
    "And we can use other columns of the dimension table to set other partitions:"
   ]
  },
  {
   "cell_type": "code",
   "execution_count": null,
   "metadata": {
    "id": "jX9jzeSHmmMi"
   },
   "outputs": [],
   "source": [
    "farms_by_organic = Partition.Simple('process.organic', ['yes', 'no'])\n",
    "\n",
    "nodes['farms'].partition = farms_by_organic\n",
    "weave(sdd, dataset).to_widget(**size)"
   ]
  },
  {
   "cell_type": "markdown",
   "metadata": {
    "id": "k3DX4BqxnNGy"
   },
   "source": [
    "Finally, a tip for doing quick exploration of the data with partitions: you can automatically get a Partition which includes all the values that actually occur in your dataset using the `dataset.partition` method:"
   ]
  },
  {
   "cell_type": "code",
   "execution_count": null,
   "metadata": {
    "id": "SHkfjkhdmssE"
   },
   "outputs": [],
   "source": [
    "nodes['farms'].partition = dataset.partition('source.organic')\n",
    "\n",
    "# This should be the same as before\n",
    "weave(sdd, dataset).to_widget(**size)"
   ]
  },
  {
   "cell_type": "markdown",
   "metadata": {
    "id": "CzIi1ab0ndjk"
   },
   "source": [
    "###Summary\n",
    "The process dimension table adds extra information about each process. You can use this extra information to:\n",
    "\n",
    "Pick out the processes you want to include in a ProcessGroup (selection); and\n",
    "Split apart groups of processes based on different attributes (partitions).\n",
    "Things to try:\n",
    "\n",
    "Make a diagram showing the locations of farms on the left and the locations of customers on the right"
   ]
  },
  {
   "cell_type": "markdown",
   "metadata": {
    "id": "slcKoIm5nnZS"
   },
   "source": [
    "## Part 2 - System boundaries\n",
    "\n",
    "Often we don't want to show all of the data in one Sankey diagram: you focus on one part of the system. But we still want conservation of mass (or whatever is being shown in the diagram) to work, so we end up with flows to & from \"elsewhere\". These can also be thought of as *imports* and *exports*.\n",
    "\n",
    "Let's start by recreating the basic example:"
   ]
  },
  {
   "cell_type": "code",
   "execution_count": null,
   "metadata": {
    "id": "meFdf7ZooMhC"
   },
   "outputs": [],
   "source": [
    "# Same partitions as the Quickstart tutorial\n",
    "farms_with_other = Partition.Simple('process', [\n",
    "    'farm1',\n",
    "    'farm2',\n",
    "    'farm3',\n",
    "    ('other', ['farm4', 'farm5', 'farm6']),\n",
    "])\n",
    "\n",
    "customers_by_name = Partition.Simple('process', [\n",
    "    'James', 'Mary', 'Fred', 'Susan'\n",
    "])\n",
    "\n",
    "# Define the nodes, this time setting the partition from the start\n",
    "nodes = {\n",
    "    'farms': ProcessGroup(['farm1', 'farm2', 'farm3', \n",
    "                           'farm4', 'farm5', 'farm6'],\n",
    "                          partition=farms_with_other),\n",
    "    'customers': ProcessGroup(['James', 'Mary', 'Fred', 'Susan'],\n",
    "                              partition=customers_by_name),\n",
    "}\n",
    "\n",
    "# Ordering and bundles as before\n",
    "ordering = [\n",
    "    ['farms'],       # put \"farms\" on the left...\n",
    "    ['customers'],   # ... and \"customers\" on the right.\n",
    "]\n",
    "\n",
    "bundles = [\n",
    "    Bundle('farms', 'customers'),\n",
    "]"
   ]
  },
  {
   "cell_type": "code",
   "execution_count": null,
   "metadata": {
    "id": "8K1h0zBMnsRR"
   },
   "outputs": [],
   "source": [
    "sdd = SankeyDefinition(nodes, bundles, ordering)\n",
    "weave(sdd, flows).to_widget(**size)"
   ]
  },
  {
   "cell_type": "markdown",
   "metadata": {
    "id": "Dt1eAWm-oU7Z"
   },
   "source": [
    "What happens if we remove `farm2` from the ProcessGroup?"
   ]
  },
  {
   "cell_type": "code",
   "execution_count": null,
   "metadata": {
    "id": "ZRCJq2ESoGWS"
   },
   "outputs": [],
   "source": [
    "nodes['farms'].selection = [\n",
    "    'farm1', 'farm3', 'farm4', 'farm5', 'farm6'\n",
    "]\n",
    "weave(sdd, flows).to_widget(**size)"
   ]
  },
  {
   "cell_type": "markdown",
   "metadata": {
    "id": "U_09YRmxoZiB"
   },
   "source": [
    "The flow is still there! But it is labelled with a little arrow to show that it is coming \"from elsewhere\". This is important because we are still showing Susan and Fred in the diagram, and they get fruit from farm2. If we didn't show those flows, Susan's and Fred's inputs and outputs would not balance.\n",
    "\n",
    "Try now removing Susan and Fred from the diagram:"
   ]
  },
  {
   "cell_type": "code",
   "execution_count": null,
   "metadata": {
    "id": "e26y2GptoW2D"
   },
   "outputs": [],
   "source": [
    "nodes['customers'].selection = ['James', 'Mary']\n",
    "weave(sdd, flows).to_widget(**size)"
   ]
  },
  {
   "cell_type": "markdown",
   "metadata": {
    "id": "Pkz1J1uRofBj"
   },
   "source": [
    "Now they're gone, we no longer see the incoming flows from `farm2`. But we see some outgoing flows \"to elsewhere\" from `farm3` and the `other` group. This is because `farm3` is within the system boundary -- it is shown in the diagram -- so its output flow has to go somewhere."
   ]
  },
  {
   "cell_type": "markdown",
   "metadata": {
    "id": "O_QnsXHbohnZ"
   },
   "source": [
    "### Controlling Elsewhere flows\n",
    "\n",
    "These flows are added automatically to make sure that mass is conserved, but because they are automatic, we have little control over them. By explicitly adding a flow to or from Elsewhere to the diagram, we can control where they appear and what they look like.\n",
    "\n",
    "To do this, add a Waypoint for the outgoing flows to 'pass through' on their way across the system boundary:"
   ]
  },
  {
   "cell_type": "code",
   "execution_count": null,
   "metadata": {
    "id": "PUW9uPhJob6x"
   },
   "outputs": [],
   "source": [
    "# Define a new Waypoint\n",
    "nodes['exports'] = Waypoint(title='exports here')\n",
    "\n",
    "# Update the ordering to include the waypoint\n",
    "ordering = [\n",
    "    ['farms'],                  #     put \"farms\" on the left...\n",
    "    ['customers', 'exports'],   # ... and \"exports\" below \"customers\"\n",
    "]                               #     on the right.\n",
    "\n",
    "# Add a new bundle from \"farms\" to Elsewhere, via the waypoint\n",
    "bundles = [\n",
    "    Bundle('farms', 'customers'),\n",
    "    Bundle('farms', Elsewhere, waypoints=['exports']),\n",
    "]\n",
    "\n",
    "sdd = SankeyDefinition(nodes, bundles, ordering)\n",
    "weave(sdd, flows).to_widget(**size)"
   ]
  },
  {
   "cell_type": "markdown",
   "metadata": {
    "id": "0ug6mJrGo0UD"
   },
   "source": [
    "This is pretty similar to what we had already, but now the waypoint is explicitly listed as part of the `SankeyDefinition`, we have more control over it.\n",
    "\n",
    "For example, we can put the exports above James and Mary by changing the ordering:"
   ]
  },
  {
   "cell_type": "code",
   "execution_count": null,
   "metadata": {
    "id": "JATaSw_Nol-6"
   },
   "outputs": [],
   "source": [
    "ordering = [\n",
    "    ['farms'],\n",
    "    ['exports', 'customers'],\n",
    "]\n",
    "sdd = SankeyDefinition(nodes, bundles, ordering)\n",
    "weave(sdd, flows).to_widget(**size)"
   ]
  },
  {
   "cell_type": "markdown",
   "metadata": {
    "id": "0ac8hr-uo54S"
   },
   "source": [
    "Or we can partition the exports Waypoint to show how much of it is apples and bananas:"
   ]
  },
  {
   "cell_type": "code",
   "execution_count": null,
   "metadata": {
    "id": "YrbzwjbCo3KC"
   },
   "outputs": [],
   "source": [
    "fruits_by_type = Partition.Simple('type', ['apples', 'bananas'])\n",
    "nodes['exports'].partition = fruits_by_type\n",
    "weave(sdd, flows).to_widget(**size)"
   ]
  },
  {
   "cell_type": "markdown",
   "metadata": {
    "id": "Qe7t3Cwmo-rS"
   },
   "source": [
    "### Horizontal bands\n",
    "\n",
    "Often, import/exports and loss flows are shown in a separate horizontal \"band\" either above or below the main flows. We can do this by modifying the `ordering` a little bit.\n",
    "\n",
    "The `ordering` style we have used so far looks like this:\n",
    "\n",
    "```python\n",
    "ordering = [\n",
    "    [list of nodes in layer 1],  # left-hand side\n",
    "    [list of nodes in layer 2],\n",
    "    ...\n",
    "    [list of nodes in layer N],  # right-hand side\n",
    "]\n",
    "```\n",
    "\n",
    "But we can add another layer of nesting to make it look like this:\n",
    "\n",
    "```python\n",
    "ordering = [\n",
    "    # |top band|  |bottom band|\n",
    "    [ [........], [...........] ],  # left-hand side\n",
    "    [ [........], [...........] ],\n",
    "    ...\n",
    "    [ [........], [...........] ],  # right-hand side\n",
    "]\n",
    "```\n",
    "\n",
    "Here's an example:"
   ]
  },
  {
   "cell_type": "code",
   "execution_count": null,
   "metadata": {
    "id": "jx14hKV7o72b"
   },
   "outputs": [],
   "source": [
    "ordering = [\n",
    "    [[],          ['farms'    ]],\n",
    "    [['exports'], ['customers']],\n",
    "]\n",
    "sdd = SankeyDefinition(nodes, bundles, ordering)\n",
    "weave(sdd, flows).to_widget(**size)"
   ]
  },
  {
   "cell_type": "markdown",
   "metadata": {
    "id": "0vZb5nIPpE_6"
   },
   "source": [
    "### Summary\n",
    "\n",
    "- All the flows to/from a ProcessGroup are shown, even if the other end of the flow is outside the system boundary (i.e. not part of any ProcessGroup)\n",
    "- You can control the automatic flows by explicitly adding Bundles to/from `Elsewhere` with a `Waypoint`\n",
    "- The `ordering` can contain horizontal bands"
   ]
  },
  {
   "cell_type": "markdown",
   "metadata": {
    "id": "f45s0h0-pO7S"
   },
   "source": [
    "## Part 3 - Colour-intensity scales\n",
    "\n",
    "In this tutorial we will look at how to use colours in the Sankey diagram. We have already seen how to use a palette, but in this tutorial we will also create a Sankey where the intensity of the colour is proportional to a numerical value."
   ]
  },
  {
   "cell_type": "code",
   "execution_count": null,
   "metadata": {
    "id": "c4VTqlNBpSwl",
    "scrolled": true
   },
   "outputs": [],
   "source": [
    "\"\"\"Import data\"\"\"\n",
    "df1 = pd.read_csv('example_data/holiday_data.csv')\n",
    "display(df1)"
   ]
  },
  {
   "cell_type": "markdown",
   "metadata": {
    "id": "wEx0IINTp5aS"
   },
   "source": [
    "Now take a look at the dataset we are using. This is a very insightful [made-up] dataset about how different types of people lose weight while on holiday enjoying themselves."
   ]
  },
  {
   "cell_type": "code",
   "execution_count": null,
   "metadata": {
    "id": "CrukosWDpaiC"
   },
   "outputs": [],
   "source": [
    "df1['value'] = df1['Calories Burnt']\n",
    "dataset = Dataset(df1)"
   ]
  },
  {
   "cell_type": "markdown",
   "metadata": {
    "id": "frlM8aSHp9NZ"
   },
   "source": [
    "We now define the partitions of the data. Rather than listing the categories by hand, we use `np.unique` to pick out a list of the unique values that occur in the dataset."
   ]
  },
  {
   "cell_type": "code",
   "execution_count": null,
   "metadata": {
    "id": "V25mCkccp4xS"
   },
   "outputs": [],
   "source": [
    "partition_job = Partition.Simple('Employment Job', np.unique(df1['Employment Job']))\n",
    "partition_activity = Partition.Simple('Activity', np.unique(df1['Activity']))"
   ]
  },
  {
   "cell_type": "markdown",
   "metadata": {
    "id": "xuIn0t_IqIIY"
   },
   "source": [
    "In fact, this is pretty common so there is a built-in function to do this:"
   ]
  },
  {
   "cell_type": "code",
   "execution_count": null,
   "metadata": {
    "id": "H7mBvd8BqATy"
   },
   "outputs": [],
   "source": [
    "# these statements or the ones above do the same thing\n",
    "partition_job = dataset.partition('Employment Job')\n",
    "partition_activity = dataset.partition('Activity')"
   ]
  },
  {
   "cell_type": "markdown",
   "metadata": {
    "id": "wHEnQIBIqMFp"
   },
   "source": [
    "We then go on to define the structure of our sankey. We define nodes, bundles and the order. In this case its pretty straightforward:"
   ]
  },
  {
   "cell_type": "code",
   "execution_count": null,
   "metadata": {
    "id": "WFlbNV5EqKWB"
   },
   "outputs": [],
   "source": [
    "nodes = {\n",
    "    'Activity': ProcessGroup(['Activity'], partition_activity),\n",
    "    'Job': ProcessGroup(['Employment Job'], partition_job),\n",
    "}\n",
    "\n",
    "bundles = [\n",
    "    Bundle('Activity', 'Job'),\n",
    "]\n",
    "\n",
    "ordering = [\n",
    "    ['Activity'],\n",
    "    ['Job'],\n",
    "]"
   ]
  },
  {
   "cell_type": "markdown",
   "metadata": {
    "id": "BdUhheFMqQaB"
   },
   "source": [
    "Now we will plot a Sankey that shows the share of time dedicated to each activity by each type of person. "
   ]
  },
  {
   "cell_type": "code",
   "execution_count": null,
   "metadata": {
    "id": "iGnYkW-sqOo6"
   },
   "outputs": [],
   "source": [
    "# These are the same each time, so just write them here once\n",
    "size_options = dict(width=500, height=400,\n",
    "                    margins=dict(left=100, right=100))\n",
    "\n",
    "sdd = SankeyDefinition(nodes, bundles, ordering)\n",
    "weave(sdd, dataset).to_widget(**size_options)"
   ]
  },
  {
   "cell_type": "markdown",
   "metadata": {
    "id": "HWkau6izrdUr"
   },
   "source": [
    "We can start using colour by specifying that we want to partition the flows according to type of person. Notice that this time we are using a pre-determined palette. \n",
    "\n",
    "You can find all sorts of palettes [listed here](https://jiffyclub.github.io/palettable/colorbrewer/qualitative/)."
   ]
  },
  {
   "cell_type": "code",
   "execution_count": null,
   "metadata": {
    "id": "_uXiSRq6qTpy"
   },
   "outputs": [],
   "source": [
    "sdd = SankeyDefinition(nodes, bundles, ordering, flow_partition=partition_job)\n",
    "\n",
    "weave(sdd, dataset, palette='Set2_8').to_widget(**size_options)"
   ]
  },
  {
   "cell_type": "markdown",
   "metadata": {
    "id": "07ib95fUrkda"
   },
   "source": [
    "Now, if we want to make the colour of the flow to be proportional to a numerical value. Use the `hue` parameter to set the name of the variable that you want to display in colour. To start off, let's use \"value\", which is the width of the lines: wider lines will be shown in a darker colour."
   ]
  },
  {
   "cell_type": "code",
   "execution_count": null,
   "metadata": {
    "id": "nwPvHCx9rfIQ"
   },
   "outputs": [],
   "source": [
    "weave(sdd, dataset, link_color=QuantitativeScale('value')).to_widget(**size_options)"
   ]
  },
  {
   "cell_type": "markdown",
   "metadata": {
    "id": "hFWs3SvFroKR"
   },
   "source": [
    "More information is available in the [floweaver tutorial](https://floweaver.readthedocs.io/en/latest/tutorials/colour-scales.html) but current re-development of the `measures` input mean that the tutorial is slightly outdated."
   ]
  },
  {
   "cell_type": "markdown",
   "metadata": {},
   "source": [
    "## Part 4 - Adding value to flow labels"
   ]
  },
  {
   "cell_type": "code",
   "execution_count": null,
   "metadata": {},
   "outputs": [],
   "source": [
    "import re\n",
    "\n",
    "def get_Evalues_to_target(flows, process):\n",
    "#     change to list comprehension\n",
    "    value = round(sum(flows.loc[flows.target == process, 'value']), 1)\n",
    "    return ' (' + str(value) + ' kcal)'\n",
    "\n",
    "def break_string(x, words = 4):\n",
    "    spaces = [i.start() for i in re.finditer(' ', x)]\n",
    "    if len(spaces) >= words:\n",
    "        return x[0].upper() + x[1:spaces[words - 1]] + '\\n' + x[spaces[words - 1]+1:]\n",
    "    else:\n",
    "        return x[0].upper() + x[1:]\n"
   ]
  },
  {
   "cell_type": "code",
   "execution_count": null,
   "metadata": {},
   "outputs": [],
   "source": [
    "df1.head()"
   ]
  },
  {
   "cell_type": "code",
   "execution_count": null,
   "metadata": {},
   "outputs": [],
   "source": [
    "# Inspecting sdd\n",
    "\n",
    "sdd"
   ]
  },
  {
   "cell_type": "code",
   "execution_count": null,
   "metadata": {},
   "outputs": [],
   "source": [
    "# The tuple we want to change just needs to have the right structure\n",
    "tuple([Group(break_string(i, words=2) + get_Evalues_to_target(df1, i), (('Employment Job', (i,)),)) \n",
    "                                                        for i in df1['Employment Job'].unique()\n",
    "                                                            ])"
   ]
  },
  {
   "cell_type": "code",
   "execution_count": null,
   "metadata": {},
   "outputs": [],
   "source": [
    "# Updating the size\n",
    "size_options = dict(width=500, height=400,\n",
    "                    margins=dict(left=100, right=200))\n",
    "\n",
    "partition_job = dataset.partition('Employment Job')\n",
    "partition_activity = dataset.partition('Activity')\n",
    "\n",
    "nodes = {\n",
    "    'Activity': ProcessGroup(['Activity'], partition = partition_activity),\n",
    "    'Job': ProcessGroup(['Employment Job'], partition = Partition(\n",
    "                                                    tuple([Group(break_string(i, words=5) + get_Evalues_to_target(df1, i), \n",
    "                                                              (('Employment Job', (i,)),)) \n",
    "                                                        for i in df1['Employment Job'].unique()\n",
    "                                                            ])), )\n",
    "}\n",
    "\n",
    "sdd = SankeyDefinition(nodes, bundles, ordering, flow_partition=partition_job)\n",
    "\n",
    "weave(sdd, dataset, palette='Set2_8').to_widget(**size_options)"
   ]
  }
 ],
 "metadata": {
  "colab": {
   "authorship_tag": "ABX9TyN2dOCfEosbCpJNC/ASp13y",
   "include_colab_link": true,
   "name": "floweaver_tutorials.ipynb",
   "provenance": []
  },
  "kernelspec": {
   "display_name": "Python 3 (ipykernel)",
   "language": "python",
   "name": "python3"
  },
  "language_info": {
   "codemirror_mode": {
    "name": "ipython",
    "version": 3
   },
   "file_extension": ".py",
   "mimetype": "text/x-python",
   "name": "python",
   "nbconvert_exporter": "python",
   "pygments_lexer": "ipython3",
   "version": "3.9.7"
  }
 },
 "nbformat": 4,
 "nbformat_minor": 1
}

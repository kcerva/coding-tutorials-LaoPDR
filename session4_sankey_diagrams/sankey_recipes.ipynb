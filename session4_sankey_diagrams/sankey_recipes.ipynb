{
 "cells": [
  {
   "cell_type": "markdown",
   "metadata": {
    "colab_type": "text",
    "id": "view-in-github"
   },
   "source": [
    "<a href=\"https://colab.research.google.com/github/Resource-Efficiency-Collective/coding-tutorials/blob/main/sankey_recipes.ipynb\" target=\"_parent\"><img src=\"https://colab.research.google.com/assets/colab-badge.svg\" alt=\"Open In Colab\"/></a>"
   ]
  },
  {
   "cell_type": "markdown",
   "metadata": {
    "id": "VjlUmPJRwsDQ"
   },
   "source": [
    "# Sankey recipes\n",
    "Here are some recipes for typical problems visualised as a Sankey diagram.\n",
    "\n",
    "Please run the first two cells to setup the notebook."
   ]
  },
  {
   "cell_type": "code",
   "execution_count": null,
   "metadata": {
    "id": "aaB-_89wwNy2"
   },
   "outputs": [],
   "source": [
    "%%capture\n",
    "\"\"\"Installation and downloads\"\"\"\n",
    "# Install floweaver and display widget packages\n",
    "%pip install floweaver ipysankeywidget\n",
    "\n",
    "# Import packages\n",
    "import pandas as pd\n",
    "from io import StringIO\n",
    "from floweaver import *\n",
    "from ipywidgets import HBox\n",
    "import gdown, os\n",
    "\n",
    "# Import and unzip example data -> You can then view them in the left files panel\n",
    "folder, zip_path = 'example_data', 'example_data.zip'\n",
    "if not os.path.exists(folder): \n",
    "  gdown.download('https://drive.google.com/uc?id=1qriY29v7eKJIs07UxAw5RlJirfwuLnyP', zip_path ,quiet=True)\n",
    "  ! unzip $zip_path -d 'example_data'\n",
    "  ! rm $zip_path\n",
    "\n",
    "# Set the default size to fit the documentation better.\n",
    "size = dict(width=570, height=300)"
   ]
  },
  {
   "cell_type": "markdown",
   "metadata": {
    "id": "6TzVlY4-xGlw"
   },
   "source": [
    "## 1 - Imports & exports\n",
    "\n",
    "This recipe demonstrates how to show import and export flows to/from a simple process chain.\n",
    "\n",
    "For demonstration, the CSV data is written directly in the cell below -- in practice you would want to load data a file."
   ]
  },
  {
   "cell_type": "code",
   "execution_count": null,
   "metadata": {
    "id": "TsW0nNF3xI4n"
   },
   "outputs": [],
   "source": [
    "flows = pd.read_csv(StringIO(\"\"\"\n",
    "        source,target,type,value\n",
    "        a,b,main,3\n",
    "        b,c,main,4\n",
    "        imports,b,import/export,2\n",
    "        b,exports,import/export,1\n",
    "        \"\"\"))\n",
    "\n",
    "flows"
   ]
  },
  {
   "cell_type": "markdown",
   "metadata": {
    "id": "9ghl1jVbxRTI"
   },
   "source": [
    "Here is the basic structure of the Sankey diagram: a chain of processes `a -- b --- c`."
   ]
  },
  {
   "cell_type": "code",
   "execution_count": null,
   "metadata": {
    "id": "hYjtlXgTxSgY"
   },
   "outputs": [],
   "source": [
    "nodes = {\n",
    "    'a': ProcessGroup(['a']),\n",
    "    'b': ProcessGroup(['b']),\n",
    "    'c': ProcessGroup(['c']),\n",
    "}\n",
    "\n",
    "bundles = [\n",
    "    Bundle('a', 'b'),\n",
    "    Bundle('b', 'c'),\n",
    "]\n",
    "\n",
    "ordering = [\n",
    "    ['a'],\n",
    "    ['b'],\n",
    "    ['c'],\n",
    "]\n",
    "\n",
    "sdd = SankeyDefinition(nodes, bundles, ordering)\n",
    "\n",
    "weave(sdd, flows).to_widget(**size)"
   ]
  },
  {
   "cell_type": "markdown",
   "metadata": {
    "id": "odrW1HMxxX6Q"
   },
   "source": [
    "To get more control over the appearance of the import/export flows, they can be controlled using Waypoints:"
   ]
  },
  {
   "cell_type": "code",
   "execution_count": null,
   "metadata": {
    "id": "C1_pPX4kxYNQ"
   },
   "outputs": [],
   "source": [
    "nodes = {\n",
    "    'a': ProcessGroup(['a']),\n",
    "    'b': ProcessGroup(['b']),\n",
    "    'c': ProcessGroup(['c']),\n",
    "    'imports': Waypoint(),\n",
    "    'exports': Waypoint(),\n",
    "}\n",
    "\n",
    "bundles = [\n",
    "    Bundle('a', 'b'),\n",
    "    Bundle('b', 'c'),\n",
    "    Bundle(Elsewhere, 'b', waypoints=['imports']),\n",
    "    Bundle('b', Elsewhere, waypoints=['exports']),\n",
    "]\n",
    "\n",
    "ordering = [\n",
    "    [['a'], ['imports']],\n",
    "    [['b']],\n",
    "    [['c'], ['exports']],\n",
    "]\n",
    "\n",
    "sdd = SankeyDefinition(nodes, bundles, ordering)\n",
    "\n",
    "weave(sdd, flows).to_widget(**size)"
   ]
  },
  {
   "cell_type": "markdown",
   "metadata": {
    "id": "FX_KxB2cxbIt"
   },
   "source": [
    "To get different colours for imports/exports, we need to modify the SDD to use the `type` column to distinguish different types of flow:"
   ]
  },
  {
   "cell_type": "code",
   "execution_count": null,
   "metadata": {
    "id": "cptBHE40xbbZ"
   },
   "outputs": [],
   "source": [
    "sdd = SankeyDefinition(nodes, bundles, ordering, flow_partition=Partition.Simple('type', ['main', 'import/export']))\n",
    "\n",
    "weave(sdd, flows).to_widget(**size)"
   ]
  },
  {
   "cell_type": "markdown",
   "metadata": {
    "id": "Jnv3h7kzxeYT"
   },
   "source": [
    "Finally, you can customise the colour scheme:"
   ]
  },
  {
   "cell_type": "code",
   "execution_count": null,
   "metadata": {
    "id": "-FQGKzXKxe74"
   },
   "outputs": [],
   "source": [
    "weave(sdd, flows, palette={'main': 'steelblue', 'import/export': 'lightblue'}).to_widget(**size)"
   ]
  },
  {
   "cell_type": "markdown",
   "metadata": {
    "id": "elsoqJyHx186"
   },
   "source": [
    "## 2 - Forwards & backwards flows\n",
    "\n",
    "This recipe demonstrates how forwards and backwards flows work.\n",
    "\n",
    "For demonstration, the CSV data is written directly in the cell below -- in practice you would want to load data a file."
   ]
  },
  {
   "cell_type": "code",
   "execution_count": null,
   "metadata": {
    "id": "IOJRXT9Vxikg"
   },
   "outputs": [],
   "source": [
    "flows = pd.read_csv(StringIO(\"\"\"\n",
    "        source,target,type,value\n",
    "        a,b,main,2\n",
    "        a,c,main,1\n",
    "        c,d,main,3\n",
    "        b,c,back,2\n",
    "        \"\"\"))\n",
    "\n",
    "flows"
   ]
  },
  {
   "cell_type": "markdown",
   "metadata": {
    "id": "UEwaOeyDx7dg"
   },
   "source": [
    "Here is one structure, with nodes `b` and `c` both in the same vertical slice:"
   ]
  },
  {
   "cell_type": "code",
   "execution_count": null,
   "metadata": {
    "id": "saOHl1_Yx50A"
   },
   "outputs": [],
   "source": [
    "nodes = {\n",
    "        'a': ProcessGroup(['a']),\n",
    "        'b': ProcessGroup(['b']),\n",
    "        'c': ProcessGroup(['c']),\n",
    "        'd': ProcessGroup(['d']),\n",
    "        'back': Waypoint(direction='L'),\n",
    "        }\n",
    "\n",
    "bundles = [\n",
    "            Bundle('a', 'b'),\n",
    "            Bundle('a', 'c'),\n",
    "            Bundle('b', 'c', waypoints=['back']),\n",
    "            Bundle('c', 'd'),\n",
    "            Bundle('c', 'b'),\n",
    "        ]\n",
    "\n",
    "ordering = [\n",
    "            [['a'], []],\n",
    "            [['b', 'c'], ['back']],\n",
    "            [['d'], []],\n",
    "        ]\n",
    "\n",
    "sdd = SankeyDefinition(nodes, bundles, ordering)\n",
    "\n",
    "weave(sdd, flows).to_widget(**size)"
   ]
  },
  {
   "cell_type": "markdown",
   "metadata": {
    "id": "B53YWdz2yCWc"
   },
   "source": [
    "Alternatively, if `b` is moved to the right, extra hidden waypoints are automatically added to get the `b--c` flow back to the left of `c`:"
   ]
  },
  {
   "cell_type": "code",
   "execution_count": null,
   "metadata": {
    "id": "iIjI64lByCn4"
   },
   "outputs": [],
   "source": [
    "bundles = [\n",
    "            Bundle('a', 'b'),\n",
    "            Bundle('a', 'c'),\n",
    "            Bundle('b', 'c'),\n",
    "            Bundle('c', 'd'),\n",
    "            Bundle('c', 'b'),\n",
    "        ]\n",
    "\n",
    "ordering = [\n",
    "            [['a'], []],\n",
    "            [['c'], ['back']],\n",
    "            [['b', 'd'], []],\n",
    "        ]\n",
    "\n",
    "sdd = SankeyDefinition(nodes, bundles, ordering)\n",
    "\n",
    "weave(sdd, flows).to_widget(**size)"
   ]
  },
  {
   "cell_type": "markdown",
   "metadata": {
    "id": "CWPvO_ogycqi"
   },
   "source": [
    "## 3 - \"Fruit\" example (from Hybrid Sankey diagrams paper)\n",
    "\n",
    "This notebook gives a fairly complicated example of building a Sankey diagram from the sample \"fruit\" database used in the paper [Hybrid Sankey diagrams: Visual analysis of multidimensional data for understanding resource use](https://doi.org/10.1016/j.resconrec.2017.05.002).\n",
    "\n",
    "For more explanation of the steps and concepts, see the [tutorials](../tutorials/index.ipynb)."
   ]
  },
  {
   "cell_type": "code",
   "execution_count": null,
   "metadata": {
    "id": "MPnThre4yEA6"
   },
   "outputs": [],
   "source": [
    "# Load dataset\n",
    "dataset = Dataset.from_csv('example_data/fruit_flows.csv', 'example_data/fruit_processes.csv')"
   ]
  },
  {
   "cell_type": "markdown",
   "metadata": {
    "id": "JS7sMUd_yn83"
   },
   "source": [
    "This made-up dataset describes flows from farms to consumers:"
   ]
  },
  {
   "cell_type": "code",
   "execution_count": null,
   "metadata": {
    "id": "evkd5WOzykxJ"
   },
   "outputs": [],
   "source": [
    "dataset._flows.head()"
   ]
  },
  {
   "cell_type": "markdown",
   "metadata": {
    "id": "lRZD2W3Rys0H"
   },
   "source": [
    "Additional information is available in the process dimension table:"
   ]
  },
  {
   "cell_type": "code",
   "execution_count": null,
   "metadata": {
    "id": "gFS7Krkeyq7_"
   },
   "outputs": [],
   "source": [
    "dataset._dim_process.head()"
   ]
  },
  {
   "cell_type": "markdown",
   "metadata": {
    "id": "FmIHvh96yw5o"
   },
   "source": [
    "We'll also define some partitions that will be useful:"
   ]
  },
  {
   "cell_type": "code",
   "execution_count": null,
   "metadata": {
    "id": "vQspZXTiyus4"
   },
   "outputs": [],
   "source": [
    "farm_ids = ['farm{}'.format(i) for i in range(1, 16)]\n",
    "\n",
    "farm_partition_5 = Partition.Simple('process', [('Other farms', farm_ids[5:])] + farm_ids[:5])\n",
    "partition_fruit = Partition.Simple('material', ['bananas', 'apples', 'oranges'])\n",
    "partition_sector = Partition.Simple('process.sector', ['government', 'industry', 'domestic'])"
   ]
  },
  {
   "cell_type": "markdown",
   "metadata": {
    "id": "GGhQbg9my0WD"
   },
   "source": [
    "Now define the Sankey diagram definition.\n",
    "\n",
    "- Process groups represent sets of processes in the underlying database. The underlying processes can be specified as a list of ids (e.g. `['inputs']`) or as a Pandas query expression (e.g. `'function == \"landfill\"'`).\n",
    "- Waypoints allow extra control over the partitioning and placement of flows."
   ]
  },
  {
   "cell_type": "code",
   "execution_count": null,
   "metadata": {
    "id": "WEFNURnIyycI"
   },
   "outputs": [],
   "source": [
    "nodes = {\n",
    "    'inputs':     ProcessGroup(['inputs'], title='Inputs'),\n",
    "    'compost':    ProcessGroup('function == \"composting stock\"', title='Compost'),\n",
    "    'farms':      ProcessGroup('function in [\"allotment\", \"large farm\", \"small farm\"]', farm_partition_5),\n",
    "    'eat':        ProcessGroup('function == \"consumers\" and location != \"London\"', partition_sector,\n",
    "                               title='consumers by sector'),\n",
    "    'landfill':   ProcessGroup('function == \"landfill\" and location != \"London\"', title='Landfill'),\n",
    "    'composting': ProcessGroup('function == \"composting process\" and location != \"London\"', title='Composting'),\n",
    "\n",
    "    'fruit':        Waypoint(partition_fruit, title='fruit type'),\n",
    "    'w1':           Waypoint(direction='L', title=''),\n",
    "    'w2':           Waypoint(direction='L', title=''),\n",
    "    'export fruit': Waypoint(Partition.Simple('material', ['apples', 'bananas', 'oranges'])),\n",
    "    'exports':      Waypoint(title='Exports'),\n",
    "}"
   ]
  },
  {
   "cell_type": "markdown",
   "metadata": {
    "id": "0wpAHuRvy52Y"
   },
   "source": [
    "The ordering defines how the process groups and waypoints are arranged in the final diagram. It is structured as a list of vertical *layers* (from left to right), each containing a list of horizontal *bands* (from top to bottom), each containing a list of process group and waypoint ids (from top to bottom)."
   ]
  },
  {
   "cell_type": "code",
   "execution_count": null,
   "metadata": {
    "id": "roFjXSeSy2Ix"
   },
   "outputs": [],
   "source": [
    "ordering = [\n",
    "    [[], ['inputs', 'compost'], []],\n",
    "    [[], ['farms'], ['w2']],\n",
    "    [['exports'], ['fruit'], []],\n",
    "    [[], ['eat'], []],\n",
    "    [['export fruit'], ['landfill', 'composting'], ['w1']],\n",
    "]"
   ]
  },
  {
   "cell_type": "markdown",
   "metadata": {
    "id": "sh48BxfUy-QJ"
   },
   "source": [
    "Bundles represent flows in the underlying database:"
   ]
  },
  {
   "cell_type": "code",
   "execution_count": null,
   "metadata": {
    "id": "fllR5sE2y7i4"
   },
   "outputs": [],
   "source": [
    "bundles = [\n",
    "    Bundle('inputs', 'farms'),\n",
    "    Bundle('compost', 'farms'),\n",
    "    Bundle('farms', 'eat', waypoints=['fruit']),\n",
    "    Bundle('farms', 'compost', waypoints=['w2']),\n",
    "    Bundle('eat', 'landfill'),\n",
    "    Bundle('eat', 'composting'),\n",
    "    Bundle('composting', 'compost', waypoints=['w1', 'w2']),\n",
    "    Bundle('farms', Elsewhere, waypoints=['exports', 'export fruit']),\n",
    "]"
   ]
  },
  {
   "cell_type": "markdown",
   "metadata": {
    "id": "EVcN4NVvzBjA"
   },
   "source": [
    "Finally, the process groups, waypoints, bundles and ordering are combined into a Sankey diagram definition (SDD). When applied to the dataset, the result is a Sankey diagram!"
   ]
  },
  {
   "cell_type": "code",
   "execution_count": null,
   "metadata": {
    "id": "OmatrWx1y_4A"
   },
   "outputs": [],
   "source": [
    "sdd = SankeyDefinition(nodes, bundles, ordering,\n",
    "                       flow_partition=dataset.partition('material'))\n",
    "weave(sdd, dataset) \\\n",
    "    .to_widget(width=570, height=550, margins=dict(left=70, right=90))"
   ]
  },
  {
   "cell_type": "markdown",
   "metadata": {
    "id": "VUu1a_HfzJg4"
   },
   "source": [
    "# Setting the scale\n",
    "\n",
    "This recipe demonstrates how the scale of the Sankey diagram is set.\n",
    "\n",
    "By default the scale is calculated for each diagram to achieve a certain whitespace-to-flow ratio within the height that is given. But in some cases, you may want to set the scale explicitly.\n",
    "\n",
    "For demonstration, the CSV data is written directly in the cell below -- in practice you would want to load data a file."
   ]
  },
  {
   "cell_type": "code",
   "execution_count": null,
   "metadata": {
    "id": "zKnVxArmzLk4"
   },
   "outputs": [],
   "source": [
    "flows = pd.read_csv(StringIO(\"\"\"\n",
    "year,source,target,value\n",
    "2020,A,B,10\n",
    "2025,A,B,20\n",
    "\"\"\"))\n",
    "\n",
    "flows"
   ]
  },
  {
   "cell_type": "code",
   "execution_count": null,
   "metadata": {
    "id": "jX3yjDuczNf5"
   },
   "outputs": [],
   "source": [
    "nodes = {\n",
    "    'A': ProcessGroup(['A']),\n",
    "    'B': ProcessGroup(['B']),\n",
    "}\n",
    "\n",
    "bundles = [\n",
    "    Bundle('A', 'B'),\n",
    "]\n",
    "\n",
    "ordering = [['A'], ['B']]\n",
    "\n",
    "sdd = SankeyDefinition(nodes, bundles, ordering)"
   ]
  },
  {
   "cell_type": "markdown",
   "metadata": {
    "id": "5QeSCNklzSWg"
   },
   "source": [
    "If we draw the flow for the year 2020 and the year 2025 separately, they appear the same:"
   ]
  },
  {
   "cell_type": "code",
   "execution_count": null,
   "metadata": {
    "id": "6TqXDBx5zPzA"
   },
   "outputs": [],
   "source": [
    "w1 = weave(sdd, flows.query('year == 2020')).to_widget(**size)\n",
    "w1"
   ]
  },
  {
   "cell_type": "code",
   "execution_count": null,
   "metadata": {
    "id": "B1JBke5mzUpo"
   },
   "outputs": [],
   "source": [
    "w2 = weave(sdd, flows.query('year == 2025')).to_widget(**size)\n",
    "w2"
   ]
  },
  {
   "cell_type": "markdown",
   "metadata": {
    "id": "VyZW7PDjzXSZ"
   },
   "source": [
    "But in fact they have different scales:"
   ]
  },
  {
   "cell_type": "code",
   "execution_count": null,
   "metadata": {
    "id": "rwKVAuJ6zV2i"
   },
   "outputs": [],
   "source": [
    "w1.scale, w2.scale"
   ]
  },
  {
   "cell_type": "markdown",
   "metadata": {
    "id": "ii7lvMKxzbMg"
   },
   "source": [
    "The units of the scale are `units-of-value` per pixel.\n",
    "\n",
    "If we draw the Sankeys again while setting the scale, we can see that the flow indeed has changed between years:"
   ]
  },
  {
   "cell_type": "code",
   "execution_count": null,
   "metadata": {
    "id": "5K5IOpDtzZH6"
   },
   "outputs": [],
   "source": [
    "SCALE = 2.0\n",
    "\n",
    "w1 = weave(sdd, flows.query('year == 2020')).to_widget(**size)\n",
    "w2 = weave(sdd, flows.query('year == 2025')).to_widget(**size)\n",
    "\n",
    "w1.scale = w2.scale = SCALE\n",
    "\n",
    "HBox([w1, w2])"
   ]
  },
  {
   "cell_type": "code",
   "execution_count": null,
   "metadata": {
    "id": "uRLxB1bZhLcO"
   },
   "outputs": [],
   "source": []
  }
 ],
 "metadata": {
  "colab": {
   "authorship_tag": "ABX9TyOxgwKmYvrEo94eYB7sadXW",
   "include_colab_link": true,
   "name": "sankey_recipes.ipynb",
   "provenance": []
  },
  "kernelspec": {
   "display_name": "Python 3 (ipykernel)",
   "language": "python",
   "name": "python3"
  },
  "language_info": {
   "codemirror_mode": {
    "name": "ipython",
    "version": 3
   },
   "file_extension": ".py",
   "mimetype": "text/x-python",
   "name": "python",
   "nbconvert_exporter": "python",
   "pygments_lexer": "ipython3",
   "version": "3.9.7"
  }
 },
 "nbformat": 4,
 "nbformat_minor": 1
}

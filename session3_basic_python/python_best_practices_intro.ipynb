{
 "cells": [
  {
   "cell_type": "markdown",
   "metadata": {
    "colab_type": "text",
    "id": "view-in-github"
   },
   "source": [
    "<a href=\"https://colab.research.google.com/github/Resource-Efficiency-Collective/coding-tutorials/blob/main/python_intro.ipynb\" target=\"_parent\"><img src=\"https://colab.research.google.com/assets/colab-badge.svg\" alt=\"Open In Colab\"/></a>"
   ]
  },
  {
   "cell_type": "markdown",
   "metadata": {
    "id": "4zwqcbyKhGsV"
   },
   "source": [
    "# Intro to coding best practices in Python\n",
    "This demonstration covers the key elements of coding needed for working with data and visualising it.\n",
    "\n",
    "1.   Clean code\n",
    "2.  Loading data\n",
    "3. Basics of data manipulation\n",
    "4.  Visualising data\n",
    "\n",
    "Some content for this session was taken from Luke Cullen's repository. Luke is a PhD student at the Resource Efficiency Collective at the University of Cambridge. His original repository is [here](https://github.com/Resource-Efficiency-Collective/coding-tutorials). "
   ]
  },
  {
   "cell_type": "markdown",
   "metadata": {
    "id": "Zu5ddHA5lyYc"
   },
   "source": [
    "## 1 - Keep it clean!\n",
    "- Comment, comment, comment - Always think about clarity: if you win the lottery and move to Barbados tomorrow, someone else (or you in 3 years time once you've spent the money) needs to pick up your work.\n",
    "- Use functions - Keep code flexible by implementing functions that perform standard tasks well, this will save you A LOT of time.\n",
    "\n",
    "\n",
    "Using functions is an admittedly unconventional intro to coding but functions are key to software development and can help speed up your work."
   ]
  },
  {
   "cell_type": "code",
   "execution_count": 1,
   "metadata": {
    "id": "3kh0jZw-g7zf"
   },
   "outputs": [
    {
     "name": "stdout",
     "output_type": "stream",
     "text": [
      "1.8\n"
     ]
    }
   ],
   "source": [
    "\"\"\"Example of a simple script\"\"\"\n",
    "\n",
    "# Input - Variable definition\n",
    "qty_apples = 4\n",
    "price_apple = 0.45\n",
    "\n",
    "# Processing - Total cost calculation\n",
    "cost_total = qty_apples * price_apple\n",
    "\n",
    "# Output - Print to screen\n",
    "print(cost_total)"
   ]
  },
  {
   "cell_type": "code",
   "execution_count": 5,
   "metadata": {
    "id": "094AMfEqijDW"
   },
   "outputs": [],
   "source": [
    "\"\"\"Definition of function\"\"\"\n",
    "\n",
    "def cost_calculation(qty,price):   \n",
    "    \"\"\"This function multiplies the quantity of items\n",
    "    by the unit prices and prints total cost.\n",
    "\n",
    "    Inputs\n",
    "    qty - item quantity\n",
    "    price - unit price\n",
    "\n",
    "    Outputs\n",
    "    Total cost print to screen\n",
    "    \"\"\"\n",
    "    # Calculation\n",
    "    cost = qty * price\n",
    "    # Output\n",
    "#     print(cost) \n",
    "    return cost"
   ]
  },
  {
   "cell_type": "code",
   "execution_count": 8,
   "metadata": {
    "id": "X9G9BV8pkh6j"
   },
   "outputs": [],
   "source": [
    "\"\"\"Use function - type cost_calculation( and follow the instructions\"\"\"\n",
    "##complete here\n",
    "cost_i = cost_calculation(9,65)"
   ]
  },
  {
   "cell_type": "markdown",
   "metadata": {
    "id": "xjd_WkuhwGMC"
   },
   "source": [
    "Functions often (usually) do not sit within the script we are running, so let's make a more realistic set up with an external function:\n",
    "\n",
    "1. Open the folder containing your python notebooks for this course.\n",
    "2. Click on New -> Text document. Open it and call it 'external_functions.py'. Notice you'll have to change the file extension to '.py'.\n",
    "3. Appropriately comment the top of this file as being used for functions related to the demo notebook.\n",
    "4. Copy & Paste the definition of the cost_calculation function into the new file and rename it cost_calculation_external. Save this change by pressing ctrl+s.\n",
    "5. Run the next cell to import the external file functions to the notebook.\n",
    "\n",
    "Note: There is an option to reuse functions written in Jupyter Notebooks by running this command: '%run notebook_name.ipynb 3'. However this method runs the whole notebook and has been reported to need running the command a few times before you can reuse the function. This is why we do not recommend this and prefer the .py files.\n",
    "\n",
    "To be able to use functions you've made, you only need to import the external file functions to the other python file or function you're trying to use.\n"
   ]
  },
  {
   "cell_type": "code",
   "execution_count": 13,
   "metadata": {
    "id": "n5bl4GAzP9rW"
   },
   "outputs": [],
   "source": [
    "\"\"\"Importing functions to the notebook\"\"\"\n",
    "# Option 1. Importing all functions\n",
    "import external_functions as ext\n",
    "\n",
    "# Option 2. Importing only selected functions. If you have more than one, you need to put the list of functions in parenthesis.\n",
    "from external_functions import cost_calculation_external"
   ]
  },
  {
   "cell_type": "code",
   "execution_count": 14,
   "metadata": {},
   "outputs": [
    {
     "data": {
      "text/plain": [
       "'C:\\\\Users\\\\karli\\\\Dropbox (Cambridge University)\\\\CCG\\\\2022-2023 Southern Partner Fund application\\\\Teaching materials\\\\coding-tutorials-LaoPDR\\\\session3_basic_python'"
      ]
     },
     "execution_count": 14,
     "metadata": {},
     "output_type": "execute_result"
    }
   ],
   "source": [
    "import os\n",
    "os.getcwd()"
   ]
  },
  {
   "cell_type": "code",
   "execution_count": null,
   "metadata": {},
   "outputs": [],
   "source": [
    "import sys\n",
    "sys.path.append('.')"
   ]
  },
  {
   "cell_type": "code",
   "execution_count": 16,
   "metadata": {
    "id": "J0ZjD_HFpd-M"
   },
   "outputs": [
    {
     "name": "stdout",
     "output_type": "stream",
     "text": [
      "345\n"
     ]
    }
   ],
   "source": [
    "\"\"\"Now let's use the function contained in the python file to calculate cost\"\"\" \n",
    "##complete here \n",
    "cost_calculation_external(5,69)"
   ]
  },
  {
   "cell_type": "markdown",
   "metadata": {
    "id": "XGBkd2IAMwG3"
   },
   "source": [
    "A few more hints towards best practices:\n",
    "1. Readability - Consistent style, code blocks, comments, appropriate variable names\n",
    "2. Don't reinvent the wheel - Google is your friend, someone has usually done it before\n",
    "3. Don't repeat yourself - Coding is meant to automate tasks, use functions, avoid hard-coding\n",
    "4. Test your code as you go - Much easier to debug\n",
    "\n",
    "\n"
   ]
  },
  {
   "cell_type": "markdown",
   "metadata": {
    "id": "iOD3STaiRLLA"
   },
   "source": [
    "## 2 - Importing Data\n",
    "Let's do a simple exercise to see the workflow necessary for a re-usable pipeline in Python.\n",
    "\n",
    "1. Go to https://di.unfccc.int/detailed_data_by_party and pick for example: ![image.png](data:image/png;base64,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)\n",
    "2. Export as .csv & save it in your working folder.\n",
    "3. Run the cell below to import a package of functions called 'pandas' which is great for handling table style data."
   ]
  },
  {
   "cell_type": "markdown",
   "metadata": {},
   "source": [
    "This section will rely on the use of `pandas` for manipulating data. `pandas` is a python module that has a few of very useful data analysis methods. This notebook has some examples of the problems that can be solved with `pandas`.\n",
    "\n",
    "There are `pandas` tutorials in [here](https://pandas.pydata.org/docs/getting_started/intro_tutorials/index.html) and [this sheet](https://pandas.pydata.org/Pandas_Cheat_Sheet.pdf) lists most of the useful functions of `pandas` and examples. \n",
    "\n",
    "There are other good guides on how to use `pandas`:\n",
    "  - [A Complete Pandas Guide](https://towardsdatascience.com/a-complete-pandas-guide-2dc53c77a002)\n",
    "  - [Data Visualization & Exploration using Pandas Only: Beginner](https://towardsdatascience.com/data-visualization-exploration-using-pandas-only-beginner-a0a52eb723d5)\n",
    "  "
   ]
  },
  {
   "cell_type": "code",
   "execution_count": 17,
   "metadata": {
    "id": "GHYqfmrqTeDf"
   },
   "outputs": [],
   "source": [
    "\"\"\"Import of pandas functions\"\"\"\n",
    "import pandas as pd"
   ]
  },
  {
   "cell_type": "markdown",
   "metadata": {
    "id": "RymFB-KgWM01"
   },
   "source": [
    "To find an appropriate function within pandas for reading our .csv file, either start typing pd.read_ in the next box to see the options, or got to the pandas documentation https://pandas.pydata.org/docs/reference/io.html. You can get the path to our file by right-clicking on it in the file bar.\n"
   ]
  },
  {
   "cell_type": "code",
   "execution_count": 36,
   "metadata": {
    "id": "s7evnbA6Vuho"
   },
   "outputs": [],
   "source": [
    "\"\"\"Let's import the data\"\"\"\n",
    "# filepath = ##complete here\n",
    "data = pd.read_csv('Australia_GHG_kt.csv', nrows = 6, skiprows = 3, on_bad_lines='skip' ) ##complete here"
   ]
  },
  {
   "cell_type": "code",
   "execution_count": 37,
   "metadata": {},
   "outputs": [
    {
     "data": {
      "text/html": [
       "<div>\n",
       "<style scoped>\n",
       "    .dataframe tbody tr th:only-of-type {\n",
       "        vertical-align: middle;\n",
       "    }\n",
       "\n",
       "    .dataframe tbody tr th {\n",
       "        vertical-align: top;\n",
       "    }\n",
       "\n",
       "    .dataframe thead th {\n",
       "        text-align: right;\n",
       "    }\n",
       "</style>\n",
       "<table border=\"1\" class=\"dataframe\">\n",
       "  <thead>\n",
       "    <tr style=\"text-align: right;\">\n",
       "      <th></th>\n",
       "      <th>Category</th>\n",
       "      <th>Base year</th>\n",
       "      <th>1990</th>\n",
       "      <th>1991</th>\n",
       "      <th>1992</th>\n",
       "      <th>1993</th>\n",
       "      <th>1994</th>\n",
       "      <th>1995</th>\n",
       "      <th>1996</th>\n",
       "      <th>1997</th>\n",
       "      <th>...</th>\n",
       "      <th>2011</th>\n",
       "      <th>2012</th>\n",
       "      <th>2013</th>\n",
       "      <th>2014</th>\n",
       "      <th>2015</th>\n",
       "      <th>2016</th>\n",
       "      <th>2017</th>\n",
       "      <th>2018</th>\n",
       "      <th>2019</th>\n",
       "      <th>Last Inventory Year (2020)</th>\n",
       "    </tr>\n",
       "  </thead>\n",
       "  <tbody>\n",
       "    <tr>\n",
       "      <th>0</th>\n",
       "      <td>1.  Energy</td>\n",
       "      <td>258947.04465704237</td>\n",
       "      <td>258947.04465704237</td>\n",
       "      <td>260930.35964980774</td>\n",
       "      <td>265474.8100482719</td>\n",
       "      <td>269536.38100543304</td>\n",
       "      <td>272316.64245784347</td>\n",
       "      <td>283304.12903621234</td>\n",
       "      <td>289904.96814959415</td>\n",
       "      <td>298072.36740701896</td>\n",
       "      <td>...</td>\n",
       "      <td>377598.39677528</td>\n",
       "      <td>382674.70418835385</td>\n",
       "      <td>376071.10895077564</td>\n",
       "      <td>372355.1397106155</td>\n",
       "      <td>379924.89707979443</td>\n",
       "      <td>389464.30250903306</td>\n",
       "      <td>392020.04855217674</td>\n",
       "      <td>393737.93068071106</td>\n",
       "      <td>394697.5293080256</td>\n",
       "      <td>378736.696151</td>\n",
       "    </tr>\n",
       "    <tr>\n",
       "      <th>1</th>\n",
       "      <td>1.AA  Fuel Combustion - Sectoral approach</td>\n",
       "      <td>251674.54877254463</td>\n",
       "      <td>251674.54877254463</td>\n",
       "      <td>253929.1588365228</td>\n",
       "      <td>258171.10954310844</td>\n",
       "      <td>262399.63784937497</td>\n",
       "      <td>265436.49453729356</td>\n",
       "      <td>276243.41553081735</td>\n",
       "      <td>283143.9159693259</td>\n",
       "      <td>291385.0228092652</td>\n",
       "      <td>...</td>\n",
       "      <td>369724.2015004742</td>\n",
       "      <td>374387.7110019937</td>\n",
       "      <td>367224.70376014087</td>\n",
       "      <td>363082.4320497963</td>\n",
       "      <td>369097.0429247943</td>\n",
       "      <td>377024.3915239123</td>\n",
       "      <td>377158.6188864726</td>\n",
       "      <td>376812.3029248183</td>\n",
       "      <td>374498.2826772946</td>\n",
       "      <td>361451.525668</td>\n",
       "    </tr>\n",
       "    <tr>\n",
       "      <th>2</th>\n",
       "      <td>1.AB  Fuel Combustion - Reference Approach</td>\n",
       "      <td>254498.7559793475</td>\n",
       "      <td>254498.7559793475</td>\n",
       "      <td>257643.31817877616</td>\n",
       "      <td>258657.28950888588</td>\n",
       "      <td>265862.3926017181</td>\n",
       "      <td>268892.3483312443</td>\n",
       "      <td>277143.90469771926</td>\n",
       "      <td>287304.7771815549</td>\n",
       "      <td>291479.24326866644</td>\n",
       "      <td>...</td>\n",
       "      <td>372893.99103163206</td>\n",
       "      <td>380694.2376548504</td>\n",
       "      <td>369812.69249241997</td>\n",
       "      <td>360950.61850027024</td>\n",
       "      <td>370300.39361186005</td>\n",
       "      <td>373120.73872426886</td>\n",
       "      <td>375011.3700569747</td>\n",
       "      <td>370033.2210204188</td>\n",
       "      <td>375054.38834412995</td>\n",
       "      <td>361867.771411</td>\n",
       "    </tr>\n",
       "    <tr>\n",
       "      <th>3</th>\n",
       "      <td>1.AD  Feedstocks, Reductants and Other Non-ene...</td>\n",
       "      <td>12228.06901453965</td>\n",
       "      <td>12228.06901453965</td>\n",
       "      <td>11899.764487253333</td>\n",
       "      <td>12544.172946267216</td>\n",
       "      <td>12346.192598185899</td>\n",
       "      <td>13363.716339825549</td>\n",
       "      <td>13875.105733436401</td>\n",
       "      <td>13883.126776494651</td>\n",
       "      <td>13870.24048175372</td>\n",
       "      <td>...</td>\n",
       "      <td>16628.607061795115</td>\n",
       "      <td>16500.48431451244</td>\n",
       "      <td>12422.490396363119</td>\n",
       "      <td>12613.700067594913</td>\n",
       "      <td>12769.200421135469</td>\n",
       "      <td>13505.84336972874</td>\n",
       "      <td>13934.391668218661</td>\n",
       "      <td>14410.95224090838</td>\n",
       "      <td>14027.055663464218</td>\n",
       "      <td>13543.680155</td>\n",
       "    </tr>\n",
       "    <tr>\n",
       "      <th>4</th>\n",
       "      <td>1.B  Fugitive Emissions from Fuels</td>\n",
       "      <td>7272.4958844977455</td>\n",
       "      <td>7272.4958844977455</td>\n",
       "      <td>7001.200813284943</td>\n",
       "      <td>7303.700505163452</td>\n",
       "      <td>7136.743156058121</td>\n",
       "      <td>6880.147920549874</td>\n",
       "      <td>7060.713505395034</td>\n",
       "      <td>6761.052180268225</td>\n",
       "      <td>6687.344597753778</td>\n",
       "      <td>...</td>\n",
       "      <td>7874.195274805806</td>\n",
       "      <td>8286.993186360196</td>\n",
       "      <td>8846.405190634789</td>\n",
       "      <td>9272.707660819266</td>\n",
       "      <td>10827.854155000094</td>\n",
       "      <td>12439.910985120738</td>\n",
       "      <td>14861.429665704109</td>\n",
       "      <td>16925.62775589277</td>\n",
       "      <td>20199.246630730977</td>\n",
       "      <td>17272.753482</td>\n",
       "    </tr>\n",
       "    <tr>\n",
       "      <th>5</th>\n",
       "      <td>1.C  CO₂ Transport and Storage</td>\n",
       "      <td>NO</td>\n",
       "      <td>NO</td>\n",
       "      <td>NO</td>\n",
       "      <td>NO</td>\n",
       "      <td>NO</td>\n",
       "      <td>NO</td>\n",
       "      <td>NO</td>\n",
       "      <td>NO</td>\n",
       "      <td>NO</td>\n",
       "      <td>...</td>\n",
       "      <td>NO</td>\n",
       "      <td>NO</td>\n",
       "      <td>NO</td>\n",
       "      <td>NO</td>\n",
       "      <td>NO</td>\n",
       "      <td>NO</td>\n",
       "      <td>NO</td>\n",
       "      <td>NO</td>\n",
       "      <td>NO</td>\n",
       "      <td>12.417000</td>\n",
       "    </tr>\n",
       "  </tbody>\n",
       "</table>\n",
       "<p>6 rows × 33 columns</p>\n",
       "</div>"
      ],
      "text/plain": [
       "                                            Category           Base year  \\\n",
       "0                                         1.  Energy  258947.04465704237   \n",
       "1          1.AA  Fuel Combustion - Sectoral approach  251674.54877254463   \n",
       "2         1.AB  Fuel Combustion - Reference Approach   254498.7559793475   \n",
       "3  1.AD  Feedstocks, Reductants and Other Non-ene...   12228.06901453965   \n",
       "4                 1.B  Fugitive Emissions from Fuels  7272.4958844977455   \n",
       "5                     1.C  CO₂ Transport and Storage                  NO   \n",
       "\n",
       "                 1990                1991                1992  \\\n",
       "0  258947.04465704237  260930.35964980774   265474.8100482719   \n",
       "1  251674.54877254463   253929.1588365228  258171.10954310844   \n",
       "2   254498.7559793475  257643.31817877616  258657.28950888588   \n",
       "3   12228.06901453965  11899.764487253333  12544.172946267216   \n",
       "4  7272.4958844977455   7001.200813284943   7303.700505163452   \n",
       "5                  NO                  NO                  NO   \n",
       "\n",
       "                 1993                1994                1995  \\\n",
       "0  269536.38100543304  272316.64245784347  283304.12903621234   \n",
       "1  262399.63784937497  265436.49453729356  276243.41553081735   \n",
       "2   265862.3926017181   268892.3483312443  277143.90469771926   \n",
       "3  12346.192598185899  13363.716339825549  13875.105733436401   \n",
       "4   7136.743156058121   6880.147920549874   7060.713505395034   \n",
       "5                  NO                  NO                  NO   \n",
       "\n",
       "                 1996                1997  ...                2011  \\\n",
       "0  289904.96814959415  298072.36740701896  ...     377598.39677528   \n",
       "1   283143.9159693259   291385.0228092652  ...   369724.2015004742   \n",
       "2   287304.7771815549  291479.24326866644  ...  372893.99103163206   \n",
       "3  13883.126776494651   13870.24048175372  ...  16628.607061795115   \n",
       "4   6761.052180268225   6687.344597753778  ...   7874.195274805806   \n",
       "5                  NO                  NO  ...                  NO   \n",
       "\n",
       "                 2012                2013                2014  \\\n",
       "0  382674.70418835385  376071.10895077564   372355.1397106155   \n",
       "1   374387.7110019937  367224.70376014087   363082.4320497963   \n",
       "2   380694.2376548504  369812.69249241997  360950.61850027024   \n",
       "3   16500.48431451244  12422.490396363119  12613.700067594913   \n",
       "4   8286.993186360196   8846.405190634789   9272.707660819266   \n",
       "5                  NO                  NO                  NO   \n",
       "\n",
       "                 2015                2016                2017  \\\n",
       "0  379924.89707979443  389464.30250903306  392020.04855217674   \n",
       "1   369097.0429247943   377024.3915239123   377158.6188864726   \n",
       "2  370300.39361186005  373120.73872426886   375011.3700569747   \n",
       "3  12769.200421135469   13505.84336972874  13934.391668218661   \n",
       "4  10827.854155000094  12439.910985120738  14861.429665704109   \n",
       "5                  NO                  NO                  NO   \n",
       "\n",
       "                 2018                2019 Last Inventory Year (2020)  \n",
       "0  393737.93068071106   394697.5293080256              378736.696151  \n",
       "1   376812.3029248183   374498.2826772946              361451.525668  \n",
       "2   370033.2210204188  375054.38834412995              361867.771411  \n",
       "3   14410.95224090838  14027.055663464218               13543.680155  \n",
       "4   16925.62775589277  20199.246630730977               17272.753482  \n",
       "5                  NO                  NO                  12.417000  \n",
       "\n",
       "[6 rows x 33 columns]"
      ]
     },
     "execution_count": 37,
     "metadata": {},
     "output_type": "execute_result"
    }
   ],
   "source": [
    "data"
   ]
  },
  {
   "cell_type": "markdown",
   "metadata": {
    "id": "dMFbmfM4W2Bd"
   },
   "source": [
    "Didn't work? All part of the learning curve I guess... What does the error say?\n",
    "\n",
    "Let's check what the .csv looks like, open it up from your Downloads folder.\n",
    "\n",
    "A few additional lines in there? Check the [function docs](https://pandas.pydata.org/docs/reference/api/pandas.read_csv.html#pandas.read_csv) to see if we can solve this, a hint we're looking for attributes about rows.\n",
    "\n",
    "Hint: see what the delimiter is. Implementing a [brute force approach](https://stackoverflow.com/questions/18039057/python-pandas-error-tokenizing-data) could also work but it's only recommended when you know what you're doing."
   ]
  },
  {
   "cell_type": "code",
   "execution_count": null,
   "metadata": {
    "id": "yWdz8oqOYWn1"
   },
   "outputs": [],
   "source": [
    "\"\"\"Re-try the import\"\"\"\n",
    "data = ##complete here"
   ]
  },
  {
   "cell_type": "markdown",
   "metadata": {
    "scrolled": true
   },
   "source": [
    "## Some useful functions to manipulate data are:"
   ]
  },
  {
   "cell_type": "markdown",
   "metadata": {},
   "source": [
    "### Visualising data snippets"
   ]
  },
  {
   "cell_type": "code",
   "execution_count": 39,
   "metadata": {},
   "outputs": [
    {
     "data": {
      "text/html": [
       "<div>\n",
       "<style scoped>\n",
       "    .dataframe tbody tr th:only-of-type {\n",
       "        vertical-align: middle;\n",
       "    }\n",
       "\n",
       "    .dataframe tbody tr th {\n",
       "        vertical-align: top;\n",
       "    }\n",
       "\n",
       "    .dataframe thead th {\n",
       "        text-align: right;\n",
       "    }\n",
       "</style>\n",
       "<table border=\"1\" class=\"dataframe\">\n",
       "  <thead>\n",
       "    <tr style=\"text-align: right;\">\n",
       "      <th></th>\n",
       "      <th>Category</th>\n",
       "      <th>Base year</th>\n",
       "      <th>1990</th>\n",
       "      <th>1991</th>\n",
       "      <th>1992</th>\n",
       "      <th>1993</th>\n",
       "      <th>1994</th>\n",
       "      <th>1995</th>\n",
       "      <th>1996</th>\n",
       "      <th>1997</th>\n",
       "      <th>...</th>\n",
       "      <th>2011</th>\n",
       "      <th>2012</th>\n",
       "      <th>2013</th>\n",
       "      <th>2014</th>\n",
       "      <th>2015</th>\n",
       "      <th>2016</th>\n",
       "      <th>2017</th>\n",
       "      <th>2018</th>\n",
       "      <th>2019</th>\n",
       "      <th>Last Inventory Year (2020)</th>\n",
       "    </tr>\n",
       "  </thead>\n",
       "  <tbody>\n",
       "    <tr>\n",
       "      <th>0</th>\n",
       "      <td>1.  Energy</td>\n",
       "      <td>258947.04465704237</td>\n",
       "      <td>258947.04465704237</td>\n",
       "      <td>260930.35964980774</td>\n",
       "      <td>265474.8100482719</td>\n",
       "      <td>269536.38100543304</td>\n",
       "      <td>272316.64245784347</td>\n",
       "      <td>283304.12903621234</td>\n",
       "      <td>289904.96814959415</td>\n",
       "      <td>298072.36740701896</td>\n",
       "      <td>...</td>\n",
       "      <td>377598.39677528</td>\n",
       "      <td>382674.70418835385</td>\n",
       "      <td>376071.10895077564</td>\n",
       "      <td>372355.1397106155</td>\n",
       "      <td>379924.89707979443</td>\n",
       "      <td>389464.30250903306</td>\n",
       "      <td>392020.04855217674</td>\n",
       "      <td>393737.93068071106</td>\n",
       "      <td>394697.5293080256</td>\n",
       "      <td>378736.696151</td>\n",
       "    </tr>\n",
       "    <tr>\n",
       "      <th>1</th>\n",
       "      <td>1.AA  Fuel Combustion - Sectoral approach</td>\n",
       "      <td>251674.54877254463</td>\n",
       "      <td>251674.54877254463</td>\n",
       "      <td>253929.1588365228</td>\n",
       "      <td>258171.10954310844</td>\n",
       "      <td>262399.63784937497</td>\n",
       "      <td>265436.49453729356</td>\n",
       "      <td>276243.41553081735</td>\n",
       "      <td>283143.9159693259</td>\n",
       "      <td>291385.0228092652</td>\n",
       "      <td>...</td>\n",
       "      <td>369724.2015004742</td>\n",
       "      <td>374387.7110019937</td>\n",
       "      <td>367224.70376014087</td>\n",
       "      <td>363082.4320497963</td>\n",
       "      <td>369097.0429247943</td>\n",
       "      <td>377024.3915239123</td>\n",
       "      <td>377158.6188864726</td>\n",
       "      <td>376812.3029248183</td>\n",
       "      <td>374498.2826772946</td>\n",
       "      <td>361451.525668</td>\n",
       "    </tr>\n",
       "    <tr>\n",
       "      <th>2</th>\n",
       "      <td>1.AB  Fuel Combustion - Reference Approach</td>\n",
       "      <td>254498.7559793475</td>\n",
       "      <td>254498.7559793475</td>\n",
       "      <td>257643.31817877616</td>\n",
       "      <td>258657.28950888588</td>\n",
       "      <td>265862.3926017181</td>\n",
       "      <td>268892.3483312443</td>\n",
       "      <td>277143.90469771926</td>\n",
       "      <td>287304.7771815549</td>\n",
       "      <td>291479.24326866644</td>\n",
       "      <td>...</td>\n",
       "      <td>372893.99103163206</td>\n",
       "      <td>380694.2376548504</td>\n",
       "      <td>369812.69249241997</td>\n",
       "      <td>360950.61850027024</td>\n",
       "      <td>370300.39361186005</td>\n",
       "      <td>373120.73872426886</td>\n",
       "      <td>375011.3700569747</td>\n",
       "      <td>370033.2210204188</td>\n",
       "      <td>375054.38834412995</td>\n",
       "      <td>361867.771411</td>\n",
       "    </tr>\n",
       "  </tbody>\n",
       "</table>\n",
       "<p>3 rows × 33 columns</p>\n",
       "</div>"
      ],
      "text/plain": [
       "                                     Category           Base year  \\\n",
       "0                                  1.  Energy  258947.04465704237   \n",
       "1   1.AA  Fuel Combustion - Sectoral approach  251674.54877254463   \n",
       "2  1.AB  Fuel Combustion - Reference Approach   254498.7559793475   \n",
       "\n",
       "                 1990                1991                1992  \\\n",
       "0  258947.04465704237  260930.35964980774   265474.8100482719   \n",
       "1  251674.54877254463   253929.1588365228  258171.10954310844   \n",
       "2   254498.7559793475  257643.31817877616  258657.28950888588   \n",
       "\n",
       "                 1993                1994                1995  \\\n",
       "0  269536.38100543304  272316.64245784347  283304.12903621234   \n",
       "1  262399.63784937497  265436.49453729356  276243.41553081735   \n",
       "2   265862.3926017181   268892.3483312443  277143.90469771926   \n",
       "\n",
       "                 1996                1997  ...                2011  \\\n",
       "0  289904.96814959415  298072.36740701896  ...     377598.39677528   \n",
       "1   283143.9159693259   291385.0228092652  ...   369724.2015004742   \n",
       "2   287304.7771815549  291479.24326866644  ...  372893.99103163206   \n",
       "\n",
       "                 2012                2013                2014  \\\n",
       "0  382674.70418835385  376071.10895077564   372355.1397106155   \n",
       "1   374387.7110019937  367224.70376014087   363082.4320497963   \n",
       "2   380694.2376548504  369812.69249241997  360950.61850027024   \n",
       "\n",
       "                 2015                2016                2017  \\\n",
       "0  379924.89707979443  389464.30250903306  392020.04855217674   \n",
       "1   369097.0429247943   377024.3915239123   377158.6188864726   \n",
       "2  370300.39361186005  373120.73872426886   375011.3700569747   \n",
       "\n",
       "                 2018                2019 Last Inventory Year (2020)  \n",
       "0  393737.93068071106   394697.5293080256              378736.696151  \n",
       "1   376812.3029248183   374498.2826772946              361451.525668  \n",
       "2   370033.2210204188  375054.38834412995              361867.771411  \n",
       "\n",
       "[3 rows x 33 columns]"
      ]
     },
     "execution_count": 39,
     "metadata": {},
     "output_type": "execute_result"
    }
   ],
   "source": [
    "data.head()"
   ]
  },
  {
   "cell_type": "code",
   "execution_count": 41,
   "metadata": {},
   "outputs": [
    {
     "data": {
      "text/html": [
       "<div>\n",
       "<style scoped>\n",
       "    .dataframe tbody tr th:only-of-type {\n",
       "        vertical-align: middle;\n",
       "    }\n",
       "\n",
       "    .dataframe tbody tr th {\n",
       "        vertical-align: top;\n",
       "    }\n",
       "\n",
       "    .dataframe thead th {\n",
       "        text-align: right;\n",
       "    }\n",
       "</style>\n",
       "<table border=\"1\" class=\"dataframe\">\n",
       "  <thead>\n",
       "    <tr style=\"text-align: right;\">\n",
       "      <th></th>\n",
       "      <th>Category</th>\n",
       "      <th>Base year</th>\n",
       "      <th>1990</th>\n",
       "      <th>1991</th>\n",
       "      <th>1992</th>\n",
       "      <th>1993</th>\n",
       "      <th>1994</th>\n",
       "      <th>1995</th>\n",
       "      <th>1996</th>\n",
       "      <th>1997</th>\n",
       "      <th>...</th>\n",
       "      <th>2011</th>\n",
       "      <th>2012</th>\n",
       "      <th>2013</th>\n",
       "      <th>2014</th>\n",
       "      <th>2015</th>\n",
       "      <th>2016</th>\n",
       "      <th>2017</th>\n",
       "      <th>2018</th>\n",
       "      <th>2019</th>\n",
       "      <th>Last Inventory Year (2020)</th>\n",
       "    </tr>\n",
       "  </thead>\n",
       "  <tbody>\n",
       "    <tr>\n",
       "      <th>4</th>\n",
       "      <td>1.B  Fugitive Emissions from Fuels</td>\n",
       "      <td>7272.4958844977455</td>\n",
       "      <td>7272.4958844977455</td>\n",
       "      <td>7001.200813284943</td>\n",
       "      <td>7303.700505163452</td>\n",
       "      <td>7136.743156058121</td>\n",
       "      <td>6880.147920549874</td>\n",
       "      <td>7060.713505395034</td>\n",
       "      <td>6761.052180268225</td>\n",
       "      <td>6687.344597753778</td>\n",
       "      <td>...</td>\n",
       "      <td>7874.195274805806</td>\n",
       "      <td>8286.993186360196</td>\n",
       "      <td>8846.405190634789</td>\n",
       "      <td>9272.707660819266</td>\n",
       "      <td>10827.854155000094</td>\n",
       "      <td>12439.910985120738</td>\n",
       "      <td>14861.429665704109</td>\n",
       "      <td>16925.62775589277</td>\n",
       "      <td>20199.246630730977</td>\n",
       "      <td>17272.753482</td>\n",
       "    </tr>\n",
       "    <tr>\n",
       "      <th>5</th>\n",
       "      <td>1.C  CO₂ Transport and Storage</td>\n",
       "      <td>NO</td>\n",
       "      <td>NO</td>\n",
       "      <td>NO</td>\n",
       "      <td>NO</td>\n",
       "      <td>NO</td>\n",
       "      <td>NO</td>\n",
       "      <td>NO</td>\n",
       "      <td>NO</td>\n",
       "      <td>NO</td>\n",
       "      <td>...</td>\n",
       "      <td>NO</td>\n",
       "      <td>NO</td>\n",
       "      <td>NO</td>\n",
       "      <td>NO</td>\n",
       "      <td>NO</td>\n",
       "      <td>NO</td>\n",
       "      <td>NO</td>\n",
       "      <td>NO</td>\n",
       "      <td>NO</td>\n",
       "      <td>12.417000</td>\n",
       "    </tr>\n",
       "  </tbody>\n",
       "</table>\n",
       "<p>2 rows × 33 columns</p>\n",
       "</div>"
      ],
      "text/plain": [
       "                             Category           Base year                1990  \\\n",
       "4  1.B  Fugitive Emissions from Fuels  7272.4958844977455  7272.4958844977455   \n",
       "5      1.C  CO₂ Transport and Storage                  NO                  NO   \n",
       "\n",
       "                1991               1992               1993               1994  \\\n",
       "4  7001.200813284943  7303.700505163452  7136.743156058121  6880.147920549874   \n",
       "5                 NO                 NO                 NO                 NO   \n",
       "\n",
       "                1995               1996               1997  ...  \\\n",
       "4  7060.713505395034  6761.052180268225  6687.344597753778  ...   \n",
       "5                 NO                 NO                 NO  ...   \n",
       "\n",
       "                2011               2012               2013               2014  \\\n",
       "4  7874.195274805806  8286.993186360196  8846.405190634789  9272.707660819266   \n",
       "5                 NO                 NO                 NO                 NO   \n",
       "\n",
       "                 2015                2016                2017  \\\n",
       "4  10827.854155000094  12439.910985120738  14861.429665704109   \n",
       "5                  NO                  NO                  NO   \n",
       "\n",
       "                2018                2019 Last Inventory Year (2020)  \n",
       "4  16925.62775589277  20199.246630730977               17272.753482  \n",
       "5                 NO                  NO                  12.417000  \n",
       "\n",
       "[2 rows x 33 columns]"
      ]
     },
     "execution_count": 41,
     "metadata": {},
     "output_type": "execute_result"
    }
   ],
   "source": [
    "data.tail(2)"
   ]
  },
  {
   "cell_type": "code",
   "execution_count": 42,
   "metadata": {},
   "outputs": [
    {
     "data": {
      "text/plain": [
       "Index(['Category', 'Base year', '1990', '1991', '1992', '1993', '1994', '1995',\n",
       "       '1996', '1997', '1998', '1999', '2000', '2001', '2002', '2003', '2004',\n",
       "       '2005', '2006', '2007', '2008', '2009', '2010', '2011', '2012', '2013',\n",
       "       '2014', '2015', '2016', '2017', '2018', '2019',\n",
       "       'Last Inventory Year (2020)'],\n",
       "      dtype='object')"
      ]
     },
     "execution_count": 42,
     "metadata": {},
     "output_type": "execute_result"
    }
   ],
   "source": [
    "data.columns"
   ]
  },
  {
   "cell_type": "markdown",
   "metadata": {},
   "source": [
    "### Indexing and slicing data"
   ]
  },
  {
   "cell_type": "code",
   "execution_count": 52,
   "metadata": {},
   "outputs": [
    {
     "data": {
      "text/html": [
       "<div>\n",
       "<style scoped>\n",
       "    .dataframe tbody tr th:only-of-type {\n",
       "        vertical-align: middle;\n",
       "    }\n",
       "\n",
       "    .dataframe tbody tr th {\n",
       "        vertical-align: top;\n",
       "    }\n",
       "\n",
       "    .dataframe thead th {\n",
       "        text-align: right;\n",
       "    }\n",
       "</style>\n",
       "<table border=\"1\" class=\"dataframe\">\n",
       "  <thead>\n",
       "    <tr style=\"text-align: right;\">\n",
       "      <th></th>\n",
       "      <th>Category</th>\n",
       "      <th>Base year</th>\n",
       "      <th>1990</th>\n",
       "      <th>1991</th>\n",
       "      <th>1992</th>\n",
       "      <th>1993</th>\n",
       "      <th>1994</th>\n",
       "      <th>1995</th>\n",
       "      <th>1996</th>\n",
       "      <th>1997</th>\n",
       "      <th>...</th>\n",
       "      <th>2011</th>\n",
       "      <th>2012</th>\n",
       "      <th>2013</th>\n",
       "      <th>2014</th>\n",
       "      <th>2015</th>\n",
       "      <th>2016</th>\n",
       "      <th>2017</th>\n",
       "      <th>2018</th>\n",
       "      <th>2019</th>\n",
       "      <th>Last Inventory Year (2020)</th>\n",
       "    </tr>\n",
       "  </thead>\n",
       "  <tbody>\n",
       "    <tr>\n",
       "      <th>0</th>\n",
       "      <td>1.  Energy</td>\n",
       "      <td>258947.04465704237</td>\n",
       "      <td>258947.04465704237</td>\n",
       "      <td>260930.35964980774</td>\n",
       "      <td>265474.8100482719</td>\n",
       "      <td>269536.38100543304</td>\n",
       "      <td>272316.64245784347</td>\n",
       "      <td>283304.12903621234</td>\n",
       "      <td>289904.96814959415</td>\n",
       "      <td>298072.36740701896</td>\n",
       "      <td>...</td>\n",
       "      <td>377598.39677528</td>\n",
       "      <td>382674.70418835385</td>\n",
       "      <td>376071.10895077564</td>\n",
       "      <td>372355.1397106155</td>\n",
       "      <td>379924.89707979443</td>\n",
       "      <td>389464.30250903306</td>\n",
       "      <td>392020.04855217674</td>\n",
       "      <td>393737.93068071106</td>\n",
       "      <td>394697.5293080256</td>\n",
       "      <td>378736.696151</td>\n",
       "    </tr>\n",
       "    <tr>\n",
       "      <th>1</th>\n",
       "      <td>1.AA  Fuel Combustion - Sectoral approach</td>\n",
       "      <td>251674.54877254463</td>\n",
       "      <td>251674.54877254463</td>\n",
       "      <td>253929.1588365228</td>\n",
       "      <td>258171.10954310844</td>\n",
       "      <td>262399.63784937497</td>\n",
       "      <td>265436.49453729356</td>\n",
       "      <td>276243.41553081735</td>\n",
       "      <td>283143.9159693259</td>\n",
       "      <td>291385.0228092652</td>\n",
       "      <td>...</td>\n",
       "      <td>369724.2015004742</td>\n",
       "      <td>374387.7110019937</td>\n",
       "      <td>367224.70376014087</td>\n",
       "      <td>363082.4320497963</td>\n",
       "      <td>369097.0429247943</td>\n",
       "      <td>377024.3915239123</td>\n",
       "      <td>377158.6188864726</td>\n",
       "      <td>376812.3029248183</td>\n",
       "      <td>374498.2826772946</td>\n",
       "      <td>361451.525668</td>\n",
       "    </tr>\n",
       "    <tr>\n",
       "      <th>2</th>\n",
       "      <td>1.AB  Fuel Combustion - Reference Approach</td>\n",
       "      <td>254498.7559793475</td>\n",
       "      <td>254498.7559793475</td>\n",
       "      <td>257643.31817877616</td>\n",
       "      <td>258657.28950888588</td>\n",
       "      <td>265862.3926017181</td>\n",
       "      <td>268892.3483312443</td>\n",
       "      <td>277143.90469771926</td>\n",
       "      <td>287304.7771815549</td>\n",
       "      <td>291479.24326866644</td>\n",
       "      <td>...</td>\n",
       "      <td>372893.99103163206</td>\n",
       "      <td>380694.2376548504</td>\n",
       "      <td>369812.69249241997</td>\n",
       "      <td>360950.61850027024</td>\n",
       "      <td>370300.39361186005</td>\n",
       "      <td>373120.73872426886</td>\n",
       "      <td>375011.3700569747</td>\n",
       "      <td>370033.2210204188</td>\n",
       "      <td>375054.38834412995</td>\n",
       "      <td>361867.771411</td>\n",
       "    </tr>\n",
       "    <tr>\n",
       "      <th>3</th>\n",
       "      <td>1.AD  Feedstocks, Reductants and Other Non-ene...</td>\n",
       "      <td>12228.06901453965</td>\n",
       "      <td>12228.06901453965</td>\n",
       "      <td>11899.764487253333</td>\n",
       "      <td>12544.172946267216</td>\n",
       "      <td>12346.192598185899</td>\n",
       "      <td>13363.716339825549</td>\n",
       "      <td>13875.105733436401</td>\n",
       "      <td>13883.126776494651</td>\n",
       "      <td>13870.24048175372</td>\n",
       "      <td>...</td>\n",
       "      <td>16628.607061795115</td>\n",
       "      <td>16500.48431451244</td>\n",
       "      <td>12422.490396363119</td>\n",
       "      <td>12613.700067594913</td>\n",
       "      <td>12769.200421135469</td>\n",
       "      <td>13505.84336972874</td>\n",
       "      <td>13934.391668218661</td>\n",
       "      <td>14410.95224090838</td>\n",
       "      <td>14027.055663464218</td>\n",
       "      <td>13543.680155</td>\n",
       "    </tr>\n",
       "    <tr>\n",
       "      <th>4</th>\n",
       "      <td>1.B  Fugitive Emissions from Fuels</td>\n",
       "      <td>7272.4958844977455</td>\n",
       "      <td>7272.4958844977455</td>\n",
       "      <td>7001.200813284943</td>\n",
       "      <td>7303.700505163452</td>\n",
       "      <td>7136.743156058121</td>\n",
       "      <td>6880.147920549874</td>\n",
       "      <td>7060.713505395034</td>\n",
       "      <td>6761.052180268225</td>\n",
       "      <td>6687.344597753778</td>\n",
       "      <td>...</td>\n",
       "      <td>7874.195274805806</td>\n",
       "      <td>8286.993186360196</td>\n",
       "      <td>8846.405190634789</td>\n",
       "      <td>9272.707660819266</td>\n",
       "      <td>10827.854155000094</td>\n",
       "      <td>12439.910985120738</td>\n",
       "      <td>14861.429665704109</td>\n",
       "      <td>16925.62775589277</td>\n",
       "      <td>20199.246630730977</td>\n",
       "      <td>17272.753482</td>\n",
       "    </tr>\n",
       "    <tr>\n",
       "      <th>5</th>\n",
       "      <td>1.C  CO₂ Transport and Storage</td>\n",
       "      <td>NO</td>\n",
       "      <td>NO</td>\n",
       "      <td>NO</td>\n",
       "      <td>NO</td>\n",
       "      <td>NO</td>\n",
       "      <td>NO</td>\n",
       "      <td>NO</td>\n",
       "      <td>NO</td>\n",
       "      <td>NO</td>\n",
       "      <td>...</td>\n",
       "      <td>NO</td>\n",
       "      <td>NO</td>\n",
       "      <td>NO</td>\n",
       "      <td>NO</td>\n",
       "      <td>NO</td>\n",
       "      <td>NO</td>\n",
       "      <td>NO</td>\n",
       "      <td>NO</td>\n",
       "      <td>NO</td>\n",
       "      <td>12.417000</td>\n",
       "    </tr>\n",
       "  </tbody>\n",
       "</table>\n",
       "<p>6 rows × 33 columns</p>\n",
       "</div>"
      ],
      "text/plain": [
       "                                            Category           Base year  \\\n",
       "0                                         1.  Energy  258947.04465704237   \n",
       "1          1.AA  Fuel Combustion - Sectoral approach  251674.54877254463   \n",
       "2         1.AB  Fuel Combustion - Reference Approach   254498.7559793475   \n",
       "3  1.AD  Feedstocks, Reductants and Other Non-ene...   12228.06901453965   \n",
       "4                 1.B  Fugitive Emissions from Fuels  7272.4958844977455   \n",
       "5                     1.C  CO₂ Transport and Storage                  NO   \n",
       "\n",
       "                 1990                1991                1992  \\\n",
       "0  258947.04465704237  260930.35964980774   265474.8100482719   \n",
       "1  251674.54877254463   253929.1588365228  258171.10954310844   \n",
       "2   254498.7559793475  257643.31817877616  258657.28950888588   \n",
       "3   12228.06901453965  11899.764487253333  12544.172946267216   \n",
       "4  7272.4958844977455   7001.200813284943   7303.700505163452   \n",
       "5                  NO                  NO                  NO   \n",
       "\n",
       "                 1993                1994                1995  \\\n",
       "0  269536.38100543304  272316.64245784347  283304.12903621234   \n",
       "1  262399.63784937497  265436.49453729356  276243.41553081735   \n",
       "2   265862.3926017181   268892.3483312443  277143.90469771926   \n",
       "3  12346.192598185899  13363.716339825549  13875.105733436401   \n",
       "4   7136.743156058121   6880.147920549874   7060.713505395034   \n",
       "5                  NO                  NO                  NO   \n",
       "\n",
       "                 1996                1997  ...                2011  \\\n",
       "0  289904.96814959415  298072.36740701896  ...     377598.39677528   \n",
       "1   283143.9159693259   291385.0228092652  ...   369724.2015004742   \n",
       "2   287304.7771815549  291479.24326866644  ...  372893.99103163206   \n",
       "3  13883.126776494651   13870.24048175372  ...  16628.607061795115   \n",
       "4   6761.052180268225   6687.344597753778  ...   7874.195274805806   \n",
       "5                  NO                  NO  ...                  NO   \n",
       "\n",
       "                 2012                2013                2014  \\\n",
       "0  382674.70418835385  376071.10895077564   372355.1397106155   \n",
       "1   374387.7110019937  367224.70376014087   363082.4320497963   \n",
       "2   380694.2376548504  369812.69249241997  360950.61850027024   \n",
       "3   16500.48431451244  12422.490396363119  12613.700067594913   \n",
       "4   8286.993186360196   8846.405190634789   9272.707660819266   \n",
       "5                  NO                  NO                  NO   \n",
       "\n",
       "                 2015                2016                2017  \\\n",
       "0  379924.89707979443  389464.30250903306  392020.04855217674   \n",
       "1   369097.0429247943   377024.3915239123   377158.6188864726   \n",
       "2  370300.39361186005  373120.73872426886   375011.3700569747   \n",
       "3  12769.200421135469   13505.84336972874  13934.391668218661   \n",
       "4  10827.854155000094  12439.910985120738  14861.429665704109   \n",
       "5                  NO                  NO                  NO   \n",
       "\n",
       "                 2018                2019 Last Inventory Year (2020)  \n",
       "0  393737.93068071106   394697.5293080256              378736.696151  \n",
       "1   376812.3029248183   374498.2826772946              361451.525668  \n",
       "2   370033.2210204188  375054.38834412995              361867.771411  \n",
       "3   14410.95224090838  14027.055663464218               13543.680155  \n",
       "4   16925.62775589277  20199.246630730977               17272.753482  \n",
       "5                  NO                  NO                  12.417000  \n",
       "\n",
       "[6 rows x 33 columns]"
      ]
     },
     "execution_count": 52,
     "metadata": {},
     "output_type": "execute_result"
    }
   ],
   "source": [
    "data#.iloc[2:6,]"
   ]
  },
  {
   "cell_type": "code",
   "execution_count": 53,
   "metadata": {},
   "outputs": [
    {
     "data": {
      "text/html": [
       "<div>\n",
       "<style scoped>\n",
       "    .dataframe tbody tr th:only-of-type {\n",
       "        vertical-align: middle;\n",
       "    }\n",
       "\n",
       "    .dataframe tbody tr th {\n",
       "        vertical-align: top;\n",
       "    }\n",
       "\n",
       "    .dataframe thead th {\n",
       "        text-align: right;\n",
       "    }\n",
       "</style>\n",
       "<table border=\"1\" class=\"dataframe\">\n",
       "  <thead>\n",
       "    <tr style=\"text-align: right;\">\n",
       "      <th></th>\n",
       "      <th>Category</th>\n",
       "      <th>Base year</th>\n",
       "      <th>1990</th>\n",
       "      <th>1991</th>\n",
       "      <th>1992</th>\n",
       "      <th>1993</th>\n",
       "      <th>1994</th>\n",
       "      <th>1995</th>\n",
       "      <th>1996</th>\n",
       "      <th>1997</th>\n",
       "      <th>...</th>\n",
       "      <th>2011</th>\n",
       "      <th>2012</th>\n",
       "      <th>2013</th>\n",
       "      <th>2014</th>\n",
       "      <th>2015</th>\n",
       "      <th>2016</th>\n",
       "      <th>2017</th>\n",
       "      <th>2018</th>\n",
       "      <th>2019</th>\n",
       "      <th>Last Inventory Year (2020)</th>\n",
       "    </tr>\n",
       "  </thead>\n",
       "  <tbody>\n",
       "    <tr>\n",
       "      <th>1</th>\n",
       "      <td>1.AA  Fuel Combustion - Sectoral approach</td>\n",
       "      <td>251674.54877254463</td>\n",
       "      <td>251674.54877254463</td>\n",
       "      <td>253929.1588365228</td>\n",
       "      <td>258171.10954310844</td>\n",
       "      <td>262399.63784937497</td>\n",
       "      <td>265436.49453729356</td>\n",
       "      <td>276243.41553081735</td>\n",
       "      <td>283143.9159693259</td>\n",
       "      <td>291385.0228092652</td>\n",
       "      <td>...</td>\n",
       "      <td>369724.2015004742</td>\n",
       "      <td>374387.7110019937</td>\n",
       "      <td>367224.70376014087</td>\n",
       "      <td>363082.4320497963</td>\n",
       "      <td>369097.0429247943</td>\n",
       "      <td>377024.3915239123</td>\n",
       "      <td>377158.6188864726</td>\n",
       "      <td>376812.3029248183</td>\n",
       "      <td>374498.2826772946</td>\n",
       "      <td>361451.525668</td>\n",
       "    </tr>\n",
       "    <tr>\n",
       "      <th>2</th>\n",
       "      <td>1.AB  Fuel Combustion - Reference Approach</td>\n",
       "      <td>254498.7559793475</td>\n",
       "      <td>254498.7559793475</td>\n",
       "      <td>257643.31817877616</td>\n",
       "      <td>258657.28950888588</td>\n",
       "      <td>265862.3926017181</td>\n",
       "      <td>268892.3483312443</td>\n",
       "      <td>277143.90469771926</td>\n",
       "      <td>287304.7771815549</td>\n",
       "      <td>291479.24326866644</td>\n",
       "      <td>...</td>\n",
       "      <td>372893.99103163206</td>\n",
       "      <td>380694.2376548504</td>\n",
       "      <td>369812.69249241997</td>\n",
       "      <td>360950.61850027024</td>\n",
       "      <td>370300.39361186005</td>\n",
       "      <td>373120.73872426886</td>\n",
       "      <td>375011.3700569747</td>\n",
       "      <td>370033.2210204188</td>\n",
       "      <td>375054.38834412995</td>\n",
       "      <td>361867.771411</td>\n",
       "    </tr>\n",
       "    <tr>\n",
       "      <th>3</th>\n",
       "      <td>1.AD  Feedstocks, Reductants and Other Non-ene...</td>\n",
       "      <td>12228.06901453965</td>\n",
       "      <td>12228.06901453965</td>\n",
       "      <td>11899.764487253333</td>\n",
       "      <td>12544.172946267216</td>\n",
       "      <td>12346.192598185899</td>\n",
       "      <td>13363.716339825549</td>\n",
       "      <td>13875.105733436401</td>\n",
       "      <td>13883.126776494651</td>\n",
       "      <td>13870.24048175372</td>\n",
       "      <td>...</td>\n",
       "      <td>16628.607061795115</td>\n",
       "      <td>16500.48431451244</td>\n",
       "      <td>12422.490396363119</td>\n",
       "      <td>12613.700067594913</td>\n",
       "      <td>12769.200421135469</td>\n",
       "      <td>13505.84336972874</td>\n",
       "      <td>13934.391668218661</td>\n",
       "      <td>14410.95224090838</td>\n",
       "      <td>14027.055663464218</td>\n",
       "      <td>13543.680155</td>\n",
       "    </tr>\n",
       "    <tr>\n",
       "      <th>4</th>\n",
       "      <td>1.B  Fugitive Emissions from Fuels</td>\n",
       "      <td>7272.4958844977455</td>\n",
       "      <td>7272.4958844977455</td>\n",
       "      <td>7001.200813284943</td>\n",
       "      <td>7303.700505163452</td>\n",
       "      <td>7136.743156058121</td>\n",
       "      <td>6880.147920549874</td>\n",
       "      <td>7060.713505395034</td>\n",
       "      <td>6761.052180268225</td>\n",
       "      <td>6687.344597753778</td>\n",
       "      <td>...</td>\n",
       "      <td>7874.195274805806</td>\n",
       "      <td>8286.993186360196</td>\n",
       "      <td>8846.405190634789</td>\n",
       "      <td>9272.707660819266</td>\n",
       "      <td>10827.854155000094</td>\n",
       "      <td>12439.910985120738</td>\n",
       "      <td>14861.429665704109</td>\n",
       "      <td>16925.62775589277</td>\n",
       "      <td>20199.246630730977</td>\n",
       "      <td>17272.753482</td>\n",
       "    </tr>\n",
       "    <tr>\n",
       "      <th>5</th>\n",
       "      <td>1.C  CO₂ Transport and Storage</td>\n",
       "      <td>NO</td>\n",
       "      <td>NO</td>\n",
       "      <td>NO</td>\n",
       "      <td>NO</td>\n",
       "      <td>NO</td>\n",
       "      <td>NO</td>\n",
       "      <td>NO</td>\n",
       "      <td>NO</td>\n",
       "      <td>NO</td>\n",
       "      <td>...</td>\n",
       "      <td>NO</td>\n",
       "      <td>NO</td>\n",
       "      <td>NO</td>\n",
       "      <td>NO</td>\n",
       "      <td>NO</td>\n",
       "      <td>NO</td>\n",
       "      <td>NO</td>\n",
       "      <td>NO</td>\n",
       "      <td>NO</td>\n",
       "      <td>12.417000</td>\n",
       "    </tr>\n",
       "  </tbody>\n",
       "</table>\n",
       "<p>5 rows × 33 columns</p>\n",
       "</div>"
      ],
      "text/plain": [
       "                                            Category           Base year  \\\n",
       "1          1.AA  Fuel Combustion - Sectoral approach  251674.54877254463   \n",
       "2         1.AB  Fuel Combustion - Reference Approach   254498.7559793475   \n",
       "3  1.AD  Feedstocks, Reductants and Other Non-ene...   12228.06901453965   \n",
       "4                 1.B  Fugitive Emissions from Fuels  7272.4958844977455   \n",
       "5                     1.C  CO₂ Transport and Storage                  NO   \n",
       "\n",
       "                 1990                1991                1992  \\\n",
       "1  251674.54877254463   253929.1588365228  258171.10954310844   \n",
       "2   254498.7559793475  257643.31817877616  258657.28950888588   \n",
       "3   12228.06901453965  11899.764487253333  12544.172946267216   \n",
       "4  7272.4958844977455   7001.200813284943   7303.700505163452   \n",
       "5                  NO                  NO                  NO   \n",
       "\n",
       "                 1993                1994                1995  \\\n",
       "1  262399.63784937497  265436.49453729356  276243.41553081735   \n",
       "2   265862.3926017181   268892.3483312443  277143.90469771926   \n",
       "3  12346.192598185899  13363.716339825549  13875.105733436401   \n",
       "4   7136.743156058121   6880.147920549874   7060.713505395034   \n",
       "5                  NO                  NO                  NO   \n",
       "\n",
       "                 1996                1997  ...                2011  \\\n",
       "1   283143.9159693259   291385.0228092652  ...   369724.2015004742   \n",
       "2   287304.7771815549  291479.24326866644  ...  372893.99103163206   \n",
       "3  13883.126776494651   13870.24048175372  ...  16628.607061795115   \n",
       "4   6761.052180268225   6687.344597753778  ...   7874.195274805806   \n",
       "5                  NO                  NO  ...                  NO   \n",
       "\n",
       "                2012                2013                2014  \\\n",
       "1  374387.7110019937  367224.70376014087   363082.4320497963   \n",
       "2  380694.2376548504  369812.69249241997  360950.61850027024   \n",
       "3  16500.48431451244  12422.490396363119  12613.700067594913   \n",
       "4  8286.993186360196   8846.405190634789   9272.707660819266   \n",
       "5                 NO                  NO                  NO   \n",
       "\n",
       "                 2015                2016                2017  \\\n",
       "1   369097.0429247943   377024.3915239123   377158.6188864726   \n",
       "2  370300.39361186005  373120.73872426886   375011.3700569747   \n",
       "3  12769.200421135469   13505.84336972874  13934.391668218661   \n",
       "4  10827.854155000094  12439.910985120738  14861.429665704109   \n",
       "5                  NO                  NO                  NO   \n",
       "\n",
       "                2018                2019 Last Inventory Year (2020)  \n",
       "1  376812.3029248183   374498.2826772946              361451.525668  \n",
       "2  370033.2210204188  375054.38834412995              361867.771411  \n",
       "3  14410.95224090838  14027.055663464218               13543.680155  \n",
       "4  16925.62775589277  20199.246630730977               17272.753482  \n",
       "5                 NO                  NO                  12.417000  \n",
       "\n",
       "[5 rows x 33 columns]"
      ]
     },
     "execution_count": 53,
     "metadata": {},
     "output_type": "execute_result"
    }
   ],
   "source": [
    "# Dropping columns or rows from data\n",
    "# Removing row 0\n",
    "data.drop(axis = 0, index = 0)#, inplace = True)"
   ]
  },
  {
   "cell_type": "code",
   "execution_count": 55,
   "metadata": {},
   "outputs": [
    {
     "data": {
      "text/html": [
       "<div>\n",
       "<style scoped>\n",
       "    .dataframe tbody tr th:only-of-type {\n",
       "        vertical-align: middle;\n",
       "    }\n",
       "\n",
       "    .dataframe tbody tr th {\n",
       "        vertical-align: top;\n",
       "    }\n",
       "\n",
       "    .dataframe thead th {\n",
       "        text-align: right;\n",
       "    }\n",
       "</style>\n",
       "<table border=\"1\" class=\"dataframe\">\n",
       "  <thead>\n",
       "    <tr style=\"text-align: right;\">\n",
       "      <th></th>\n",
       "      <th>Category</th>\n",
       "      <th>Base year</th>\n",
       "      <th>1990</th>\n",
       "      <th>1991</th>\n",
       "      <th>1992</th>\n",
       "      <th>1993</th>\n",
       "      <th>1994</th>\n",
       "      <th>1995</th>\n",
       "      <th>1996</th>\n",
       "      <th>1997</th>\n",
       "      <th>...</th>\n",
       "      <th>2010</th>\n",
       "      <th>2011</th>\n",
       "      <th>2012</th>\n",
       "      <th>2013</th>\n",
       "      <th>2014</th>\n",
       "      <th>2015</th>\n",
       "      <th>2016</th>\n",
       "      <th>2017</th>\n",
       "      <th>2018</th>\n",
       "      <th>2019</th>\n",
       "    </tr>\n",
       "  </thead>\n",
       "  <tbody>\n",
       "    <tr>\n",
       "      <th>0</th>\n",
       "      <td>1.  Energy</td>\n",
       "      <td>258947.04465704237</td>\n",
       "      <td>258947.04465704237</td>\n",
       "      <td>260930.35964980774</td>\n",
       "      <td>265474.8100482719</td>\n",
       "      <td>269536.38100543304</td>\n",
       "      <td>272316.64245784347</td>\n",
       "      <td>283304.12903621234</td>\n",
       "      <td>289904.96814959415</td>\n",
       "      <td>298072.36740701896</td>\n",
       "      <td>...</td>\n",
       "      <td>379525.9319373314</td>\n",
       "      <td>377598.39677528</td>\n",
       "      <td>382674.70418835385</td>\n",
       "      <td>376071.10895077564</td>\n",
       "      <td>372355.1397106155</td>\n",
       "      <td>379924.89707979443</td>\n",
       "      <td>389464.30250903306</td>\n",
       "      <td>392020.04855217674</td>\n",
       "      <td>393737.93068071106</td>\n",
       "      <td>394697.5293080256</td>\n",
       "    </tr>\n",
       "    <tr>\n",
       "      <th>1</th>\n",
       "      <td>1.AA  Fuel Combustion - Sectoral approach</td>\n",
       "      <td>251674.54877254463</td>\n",
       "      <td>251674.54877254463</td>\n",
       "      <td>253929.1588365228</td>\n",
       "      <td>258171.10954310844</td>\n",
       "      <td>262399.63784937497</td>\n",
       "      <td>265436.49453729356</td>\n",
       "      <td>276243.41553081735</td>\n",
       "      <td>283143.9159693259</td>\n",
       "      <td>291385.0228092652</td>\n",
       "      <td>...</td>\n",
       "      <td>371336.15628816583</td>\n",
       "      <td>369724.2015004742</td>\n",
       "      <td>374387.7110019937</td>\n",
       "      <td>367224.70376014087</td>\n",
       "      <td>363082.4320497963</td>\n",
       "      <td>369097.0429247943</td>\n",
       "      <td>377024.3915239123</td>\n",
       "      <td>377158.6188864726</td>\n",
       "      <td>376812.3029248183</td>\n",
       "      <td>374498.2826772946</td>\n",
       "    </tr>\n",
       "    <tr>\n",
       "      <th>2</th>\n",
       "      <td>1.AB  Fuel Combustion - Reference Approach</td>\n",
       "      <td>254498.7559793475</td>\n",
       "      <td>254498.7559793475</td>\n",
       "      <td>257643.31817877616</td>\n",
       "      <td>258657.28950888588</td>\n",
       "      <td>265862.3926017181</td>\n",
       "      <td>268892.3483312443</td>\n",
       "      <td>277143.90469771926</td>\n",
       "      <td>287304.7771815549</td>\n",
       "      <td>291479.24326866644</td>\n",
       "      <td>...</td>\n",
       "      <td>374164.71637709293</td>\n",
       "      <td>372893.99103163206</td>\n",
       "      <td>380694.2376548504</td>\n",
       "      <td>369812.69249241997</td>\n",
       "      <td>360950.61850027024</td>\n",
       "      <td>370300.39361186005</td>\n",
       "      <td>373120.73872426886</td>\n",
       "      <td>375011.3700569747</td>\n",
       "      <td>370033.2210204188</td>\n",
       "      <td>375054.38834412995</td>\n",
       "    </tr>\n",
       "    <tr>\n",
       "      <th>3</th>\n",
       "      <td>1.AD  Feedstocks, Reductants and Other Non-ene...</td>\n",
       "      <td>12228.06901453965</td>\n",
       "      <td>12228.06901453965</td>\n",
       "      <td>11899.764487253333</td>\n",
       "      <td>12544.172946267216</td>\n",
       "      <td>12346.192598185899</td>\n",
       "      <td>13363.716339825549</td>\n",
       "      <td>13875.105733436401</td>\n",
       "      <td>13883.126776494651</td>\n",
       "      <td>13870.24048175372</td>\n",
       "      <td>...</td>\n",
       "      <td>16368.507337232484</td>\n",
       "      <td>16628.607061795115</td>\n",
       "      <td>16500.48431451244</td>\n",
       "      <td>12422.490396363119</td>\n",
       "      <td>12613.700067594913</td>\n",
       "      <td>12769.200421135469</td>\n",
       "      <td>13505.84336972874</td>\n",
       "      <td>13934.391668218661</td>\n",
       "      <td>14410.95224090838</td>\n",
       "      <td>14027.055663464218</td>\n",
       "    </tr>\n",
       "    <tr>\n",
       "      <th>4</th>\n",
       "      <td>1.B  Fugitive Emissions from Fuels</td>\n",
       "      <td>7272.4958844977455</td>\n",
       "      <td>7272.4958844977455</td>\n",
       "      <td>7001.200813284943</td>\n",
       "      <td>7303.700505163452</td>\n",
       "      <td>7136.743156058121</td>\n",
       "      <td>6880.147920549874</td>\n",
       "      <td>7060.713505395034</td>\n",
       "      <td>6761.052180268225</td>\n",
       "      <td>6687.344597753778</td>\n",
       "      <td>...</td>\n",
       "      <td>8189.775649165572</td>\n",
       "      <td>7874.195274805806</td>\n",
       "      <td>8286.993186360196</td>\n",
       "      <td>8846.405190634789</td>\n",
       "      <td>9272.707660819266</td>\n",
       "      <td>10827.854155000094</td>\n",
       "      <td>12439.910985120738</td>\n",
       "      <td>14861.429665704109</td>\n",
       "      <td>16925.62775589277</td>\n",
       "      <td>20199.246630730977</td>\n",
       "    </tr>\n",
       "    <tr>\n",
       "      <th>5</th>\n",
       "      <td>1.C  CO₂ Transport and Storage</td>\n",
       "      <td>NO</td>\n",
       "      <td>NO</td>\n",
       "      <td>NO</td>\n",
       "      <td>NO</td>\n",
       "      <td>NO</td>\n",
       "      <td>NO</td>\n",
       "      <td>NO</td>\n",
       "      <td>NO</td>\n",
       "      <td>NO</td>\n",
       "      <td>...</td>\n",
       "      <td>NO</td>\n",
       "      <td>NO</td>\n",
       "      <td>NO</td>\n",
       "      <td>NO</td>\n",
       "      <td>NO</td>\n",
       "      <td>NO</td>\n",
       "      <td>NO</td>\n",
       "      <td>NO</td>\n",
       "      <td>NO</td>\n",
       "      <td>NO</td>\n",
       "    </tr>\n",
       "  </tbody>\n",
       "</table>\n",
       "<p>6 rows × 32 columns</p>\n",
       "</div>"
      ],
      "text/plain": [
       "                                            Category           Base year  \\\n",
       "0                                         1.  Energy  258947.04465704237   \n",
       "1          1.AA  Fuel Combustion - Sectoral approach  251674.54877254463   \n",
       "2         1.AB  Fuel Combustion - Reference Approach   254498.7559793475   \n",
       "3  1.AD  Feedstocks, Reductants and Other Non-ene...   12228.06901453965   \n",
       "4                 1.B  Fugitive Emissions from Fuels  7272.4958844977455   \n",
       "5                     1.C  CO₂ Transport and Storage                  NO   \n",
       "\n",
       "                 1990                1991                1992  \\\n",
       "0  258947.04465704237  260930.35964980774   265474.8100482719   \n",
       "1  251674.54877254463   253929.1588365228  258171.10954310844   \n",
       "2   254498.7559793475  257643.31817877616  258657.28950888588   \n",
       "3   12228.06901453965  11899.764487253333  12544.172946267216   \n",
       "4  7272.4958844977455   7001.200813284943   7303.700505163452   \n",
       "5                  NO                  NO                  NO   \n",
       "\n",
       "                 1993                1994                1995  \\\n",
       "0  269536.38100543304  272316.64245784347  283304.12903621234   \n",
       "1  262399.63784937497  265436.49453729356  276243.41553081735   \n",
       "2   265862.3926017181   268892.3483312443  277143.90469771926   \n",
       "3  12346.192598185899  13363.716339825549  13875.105733436401   \n",
       "4   7136.743156058121   6880.147920549874   7060.713505395034   \n",
       "5                  NO                  NO                  NO   \n",
       "\n",
       "                 1996                1997  ...                2010  \\\n",
       "0  289904.96814959415  298072.36740701896  ...   379525.9319373314   \n",
       "1   283143.9159693259   291385.0228092652  ...  371336.15628816583   \n",
       "2   287304.7771815549  291479.24326866644  ...  374164.71637709293   \n",
       "3  13883.126776494651   13870.24048175372  ...  16368.507337232484   \n",
       "4   6761.052180268225   6687.344597753778  ...   8189.775649165572   \n",
       "5                  NO                  NO  ...                  NO   \n",
       "\n",
       "                 2011                2012                2013  \\\n",
       "0     377598.39677528  382674.70418835385  376071.10895077564   \n",
       "1   369724.2015004742   374387.7110019937  367224.70376014087   \n",
       "2  372893.99103163206   380694.2376548504  369812.69249241997   \n",
       "3  16628.607061795115   16500.48431451244  12422.490396363119   \n",
       "4   7874.195274805806   8286.993186360196   8846.405190634789   \n",
       "5                  NO                  NO                  NO   \n",
       "\n",
       "                 2014                2015                2016  \\\n",
       "0   372355.1397106155  379924.89707979443  389464.30250903306   \n",
       "1   363082.4320497963   369097.0429247943   377024.3915239123   \n",
       "2  360950.61850027024  370300.39361186005  373120.73872426886   \n",
       "3  12613.700067594913  12769.200421135469   13505.84336972874   \n",
       "4   9272.707660819266  10827.854155000094  12439.910985120738   \n",
       "5                  NO                  NO                  NO   \n",
       "\n",
       "                 2017                2018                2019  \n",
       "0  392020.04855217674  393737.93068071106   394697.5293080256  \n",
       "1   377158.6188864726   376812.3029248183   374498.2826772946  \n",
       "2   375011.3700569747   370033.2210204188  375054.38834412995  \n",
       "3  13934.391668218661   14410.95224090838  14027.055663464218  \n",
       "4  14861.429665704109   16925.62775589277  20199.246630730977  \n",
       "5                  NO                  NO                  NO  \n",
       "\n",
       "[6 rows x 32 columns]"
      ]
     },
     "execution_count": 55,
     "metadata": {},
     "output_type": "execute_result"
    }
   ],
   "source": [
    "# Alternative way to remove columns by index\n",
    "data.iloc[:,:-1]"
   ]
  },
  {
   "cell_type": "code",
   "execution_count": 56,
   "metadata": {},
   "outputs": [
    {
     "data": {
      "text/html": [
       "<div>\n",
       "<style scoped>\n",
       "    .dataframe tbody tr th:only-of-type {\n",
       "        vertical-align: middle;\n",
       "    }\n",
       "\n",
       "    .dataframe tbody tr th {\n",
       "        vertical-align: top;\n",
       "    }\n",
       "\n",
       "    .dataframe thead th {\n",
       "        text-align: right;\n",
       "    }\n",
       "</style>\n",
       "<table border=\"1\" class=\"dataframe\">\n",
       "  <thead>\n",
       "    <tr style=\"text-align: right;\">\n",
       "      <th></th>\n",
       "      <th>Category</th>\n",
       "      <th>Base year</th>\n",
       "      <th>1991</th>\n",
       "      <th>1992</th>\n",
       "      <th>1993</th>\n",
       "      <th>1994</th>\n",
       "      <th>1995</th>\n",
       "      <th>1996</th>\n",
       "      <th>1997</th>\n",
       "      <th>1998</th>\n",
       "      <th>...</th>\n",
       "      <th>2011</th>\n",
       "      <th>2012</th>\n",
       "      <th>2013</th>\n",
       "      <th>2014</th>\n",
       "      <th>2015</th>\n",
       "      <th>2016</th>\n",
       "      <th>2017</th>\n",
       "      <th>2018</th>\n",
       "      <th>2019</th>\n",
       "      <th>Last Inventory Year (2020)</th>\n",
       "    </tr>\n",
       "  </thead>\n",
       "  <tbody>\n",
       "    <tr>\n",
       "      <th>0</th>\n",
       "      <td>1.  Energy</td>\n",
       "      <td>258947.04465704237</td>\n",
       "      <td>260930.35964980774</td>\n",
       "      <td>265474.8100482719</td>\n",
       "      <td>269536.38100543304</td>\n",
       "      <td>272316.64245784347</td>\n",
       "      <td>283304.12903621234</td>\n",
       "      <td>289904.96814959415</td>\n",
       "      <td>298072.36740701896</td>\n",
       "      <td>311278.97756070143</td>\n",
       "      <td>...</td>\n",
       "      <td>377598.39677528</td>\n",
       "      <td>382674.70418835385</td>\n",
       "      <td>376071.10895077564</td>\n",
       "      <td>372355.1397106155</td>\n",
       "      <td>379924.89707979443</td>\n",
       "      <td>389464.30250903306</td>\n",
       "      <td>392020.04855217674</td>\n",
       "      <td>393737.93068071106</td>\n",
       "      <td>394697.5293080256</td>\n",
       "      <td>378736.696151</td>\n",
       "    </tr>\n",
       "    <tr>\n",
       "      <th>1</th>\n",
       "      <td>1.AA  Fuel Combustion - Sectoral approach</td>\n",
       "      <td>251674.54877254463</td>\n",
       "      <td>253929.1588365228</td>\n",
       "      <td>258171.10954310844</td>\n",
       "      <td>262399.63784937497</td>\n",
       "      <td>265436.49453729356</td>\n",
       "      <td>276243.41553081735</td>\n",
       "      <td>283143.9159693259</td>\n",
       "      <td>291385.0228092652</td>\n",
       "      <td>304377.01891825325</td>\n",
       "      <td>...</td>\n",
       "      <td>369724.2015004742</td>\n",
       "      <td>374387.7110019937</td>\n",
       "      <td>367224.70376014087</td>\n",
       "      <td>363082.4320497963</td>\n",
       "      <td>369097.0429247943</td>\n",
       "      <td>377024.3915239123</td>\n",
       "      <td>377158.6188864726</td>\n",
       "      <td>376812.3029248183</td>\n",
       "      <td>374498.2826772946</td>\n",
       "      <td>361451.525668</td>\n",
       "    </tr>\n",
       "    <tr>\n",
       "      <th>2</th>\n",
       "      <td>1.AB  Fuel Combustion - Reference Approach</td>\n",
       "      <td>254498.7559793475</td>\n",
       "      <td>257643.31817877616</td>\n",
       "      <td>258657.28950888588</td>\n",
       "      <td>265862.3926017181</td>\n",
       "      <td>268892.3483312443</td>\n",
       "      <td>277143.90469771926</td>\n",
       "      <td>287304.7771815549</td>\n",
       "      <td>291479.24326866644</td>\n",
       "      <td>305977.1952785548</td>\n",
       "      <td>...</td>\n",
       "      <td>372893.99103163206</td>\n",
       "      <td>380694.2376548504</td>\n",
       "      <td>369812.69249241997</td>\n",
       "      <td>360950.61850027024</td>\n",
       "      <td>370300.39361186005</td>\n",
       "      <td>373120.73872426886</td>\n",
       "      <td>375011.3700569747</td>\n",
       "      <td>370033.2210204188</td>\n",
       "      <td>375054.38834412995</td>\n",
       "      <td>361867.771411</td>\n",
       "    </tr>\n",
       "    <tr>\n",
       "      <th>3</th>\n",
       "      <td>1.AD  Feedstocks, Reductants and Other Non-ene...</td>\n",
       "      <td>12228.06901453965</td>\n",
       "      <td>11899.764487253333</td>\n",
       "      <td>12544.172946267216</td>\n",
       "      <td>12346.192598185899</td>\n",
       "      <td>13363.716339825549</td>\n",
       "      <td>13875.105733436401</td>\n",
       "      <td>13883.126776494651</td>\n",
       "      <td>13870.24048175372</td>\n",
       "      <td>13828.238373836055</td>\n",
       "      <td>...</td>\n",
       "      <td>16628.607061795115</td>\n",
       "      <td>16500.48431451244</td>\n",
       "      <td>12422.490396363119</td>\n",
       "      <td>12613.700067594913</td>\n",
       "      <td>12769.200421135469</td>\n",
       "      <td>13505.84336972874</td>\n",
       "      <td>13934.391668218661</td>\n",
       "      <td>14410.95224090838</td>\n",
       "      <td>14027.055663464218</td>\n",
       "      <td>13543.680155</td>\n",
       "    </tr>\n",
       "    <tr>\n",
       "      <th>4</th>\n",
       "      <td>1.B  Fugitive Emissions from Fuels</td>\n",
       "      <td>7272.4958844977455</td>\n",
       "      <td>7001.200813284943</td>\n",
       "      <td>7303.700505163452</td>\n",
       "      <td>7136.743156058121</td>\n",
       "      <td>6880.147920549874</td>\n",
       "      <td>7060.713505395034</td>\n",
       "      <td>6761.052180268225</td>\n",
       "      <td>6687.344597753778</td>\n",
       "      <td>6901.9586424481695</td>\n",
       "      <td>...</td>\n",
       "      <td>7874.195274805806</td>\n",
       "      <td>8286.993186360196</td>\n",
       "      <td>8846.405190634789</td>\n",
       "      <td>9272.707660819266</td>\n",
       "      <td>10827.854155000094</td>\n",
       "      <td>12439.910985120738</td>\n",
       "      <td>14861.429665704109</td>\n",
       "      <td>16925.62775589277</td>\n",
       "      <td>20199.246630730977</td>\n",
       "      <td>17272.753482</td>\n",
       "    </tr>\n",
       "    <tr>\n",
       "      <th>5</th>\n",
       "      <td>1.C  CO₂ Transport and Storage</td>\n",
       "      <td>NO</td>\n",
       "      <td>NO</td>\n",
       "      <td>NO</td>\n",
       "      <td>NO</td>\n",
       "      <td>NO</td>\n",
       "      <td>NO</td>\n",
       "      <td>NO</td>\n",
       "      <td>NO</td>\n",
       "      <td>NO</td>\n",
       "      <td>...</td>\n",
       "      <td>NO</td>\n",
       "      <td>NO</td>\n",
       "      <td>NO</td>\n",
       "      <td>NO</td>\n",
       "      <td>NO</td>\n",
       "      <td>NO</td>\n",
       "      <td>NO</td>\n",
       "      <td>NO</td>\n",
       "      <td>NO</td>\n",
       "      <td>12.417000</td>\n",
       "    </tr>\n",
       "  </tbody>\n",
       "</table>\n",
       "<p>6 rows × 32 columns</p>\n",
       "</div>"
      ],
      "text/plain": [
       "                                            Category           Base year  \\\n",
       "0                                         1.  Energy  258947.04465704237   \n",
       "1          1.AA  Fuel Combustion - Sectoral approach  251674.54877254463   \n",
       "2         1.AB  Fuel Combustion - Reference Approach   254498.7559793475   \n",
       "3  1.AD  Feedstocks, Reductants and Other Non-ene...   12228.06901453965   \n",
       "4                 1.B  Fugitive Emissions from Fuels  7272.4958844977455   \n",
       "5                     1.C  CO₂ Transport and Storage                  NO   \n",
       "\n",
       "                 1991                1992                1993  \\\n",
       "0  260930.35964980774   265474.8100482719  269536.38100543304   \n",
       "1   253929.1588365228  258171.10954310844  262399.63784937497   \n",
       "2  257643.31817877616  258657.28950888588   265862.3926017181   \n",
       "3  11899.764487253333  12544.172946267216  12346.192598185899   \n",
       "4   7001.200813284943   7303.700505163452   7136.743156058121   \n",
       "5                  NO                  NO                  NO   \n",
       "\n",
       "                 1994                1995                1996  \\\n",
       "0  272316.64245784347  283304.12903621234  289904.96814959415   \n",
       "1  265436.49453729356  276243.41553081735   283143.9159693259   \n",
       "2   268892.3483312443  277143.90469771926   287304.7771815549   \n",
       "3  13363.716339825549  13875.105733436401  13883.126776494651   \n",
       "4   6880.147920549874   7060.713505395034   6761.052180268225   \n",
       "5                  NO                  NO                  NO   \n",
       "\n",
       "                 1997                1998  ...                2011  \\\n",
       "0  298072.36740701896  311278.97756070143  ...     377598.39677528   \n",
       "1   291385.0228092652  304377.01891825325  ...   369724.2015004742   \n",
       "2  291479.24326866644   305977.1952785548  ...  372893.99103163206   \n",
       "3   13870.24048175372  13828.238373836055  ...  16628.607061795115   \n",
       "4   6687.344597753778  6901.9586424481695  ...   7874.195274805806   \n",
       "5                  NO                  NO  ...                  NO   \n",
       "\n",
       "                 2012                2013                2014  \\\n",
       "0  382674.70418835385  376071.10895077564   372355.1397106155   \n",
       "1   374387.7110019937  367224.70376014087   363082.4320497963   \n",
       "2   380694.2376548504  369812.69249241997  360950.61850027024   \n",
       "3   16500.48431451244  12422.490396363119  12613.700067594913   \n",
       "4   8286.993186360196   8846.405190634789   9272.707660819266   \n",
       "5                  NO                  NO                  NO   \n",
       "\n",
       "                 2015                2016                2017  \\\n",
       "0  379924.89707979443  389464.30250903306  392020.04855217674   \n",
       "1   369097.0429247943   377024.3915239123   377158.6188864726   \n",
       "2  370300.39361186005  373120.73872426886   375011.3700569747   \n",
       "3  12769.200421135469   13505.84336972874  13934.391668218661   \n",
       "4  10827.854155000094  12439.910985120738  14861.429665704109   \n",
       "5                  NO                  NO                  NO   \n",
       "\n",
       "                 2018                2019 Last Inventory Year (2020)  \n",
       "0  393737.93068071106   394697.5293080256              378736.696151  \n",
       "1   376812.3029248183   374498.2826772946              361451.525668  \n",
       "2   370033.2210204188  375054.38834412995              361867.771411  \n",
       "3   14410.95224090838  14027.055663464218               13543.680155  \n",
       "4   16925.62775589277  20199.246630730977               17272.753482  \n",
       "5                  NO                  NO                  12.417000  \n",
       "\n",
       "[6 rows x 32 columns]"
      ]
     },
     "execution_count": 56,
     "metadata": {},
     "output_type": "execute_result"
    }
   ],
   "source": [
    "# Removing column\n",
    "data.drop(columns = ['1990'])"
   ]
  },
  {
   "cell_type": "code",
   "execution_count": 58,
   "metadata": {},
   "outputs": [
    {
     "data": {
      "text/plain": [
       "0                                           1.  Energy\n",
       "1            1.AA  Fuel Combustion - Sectoral approach\n",
       "2           1.AB  Fuel Combustion - Reference Approach\n",
       "3    1.AD  Feedstocks, Reductants and Other Non-ene...\n",
       "4                   1.B  Fugitive Emissions from Fuels\n",
       "5                       1.C  CO₂ Transport and Storage\n",
       "Name: Category, dtype: object"
      ]
     },
     "execution_count": 58,
     "metadata": {},
     "output_type": "execute_result"
    }
   ],
   "source": [
    "data['Category']"
   ]
  },
  {
   "cell_type": "markdown",
   "metadata": {},
   "source": [
    "### List comprehension"
   ]
  },
  {
   "cell_type": "code",
   "execution_count": 57,
   "metadata": {},
   "outputs": [
    {
     "data": {
      "text/plain": [
       "[0, 1, 4, 9, 16, 25, 36, 49, 64, 81]"
      ]
     },
     "execution_count": 57,
     "metadata": {},
     "output_type": "execute_result"
    }
   ],
   "source": [
    "[x**2 for x in range(10)]"
   ]
  },
  {
   "cell_type": "code",
   "execution_count": 61,
   "metadata": {},
   "outputs": [
    {
     "data": {
      "text/plain": [
       "['Energy',\n",
       " 'Fuel Combustion - Sectoral approach',\n",
       " 'Fuel Combustion - Reference Approach',\n",
       " 'Feedstocks, Reductants and Other Non-energy Use of Fuels',\n",
       " 'Fugitive Emissions from Fuels',\n",
       " 'CO₂ Transport and Storage']"
      ]
     },
     "execution_count": 61,
     "metadata": {},
     "output_type": "execute_result"
    }
   ],
   "source": [
    "[x.split('  ')[1] for x in data['Category']]"
   ]
  },
  {
   "cell_type": "code",
   "execution_count": 64,
   "metadata": {},
   "outputs": [
    {
     "data": {
      "text/plain": [
       "['Energy',\n",
       " 'Fuel Combustion - Sectoral approach',\n",
       " 'Fuel Combustion - Reference Approach',\n",
       " 'Feedstocks, Reductants and Other Non-energy Use of Fuels',\n",
       " 'Fugitive Emissions from Fuels',\n",
       " 'CO₂ Transport and Storage']"
      ]
     },
     "execution_count": 64,
     "metadata": {},
     "output_type": "execute_result"
    }
   ],
   "source": [
    "[x[4:].lstrip() for x in data['Category']]"
   ]
  },
  {
   "cell_type": "code",
   "execution_count": 71,
   "metadata": {},
   "outputs": [
    {
     "data": {
      "text/plain": [
       "0    393737.930681\n",
       "1    376812.302925\n",
       "2    370033.221020\n",
       "3     14410.952241\n",
       "4     16925.627756\n",
       "Name: 2018, dtype: float64"
      ]
     },
     "execution_count": 71,
     "metadata": {},
     "output_type": "execute_result"
    }
   ],
   "source": [
    "data['2018'][:-1].astype('float')"
   ]
  },
  {
   "cell_type": "code",
   "execution_count": 72,
   "metadata": {},
   "outputs": [
    {
     "data": {
      "text/plain": [
       "[788435.4599887367,\n",
       " 751310.5856021129,\n",
       " 745087.6093645487,\n",
       " 28438.0079043726,\n",
       " 37124.87438662375]"
      ]
     },
     "execution_count": 72,
     "metadata": {},
     "output_type": "execute_result"
    }
   ],
   "source": [
    "[float(x)+float(y) for x, y in zip(data['2018'][:-1],data['2019'][:-1])]"
   ]
  },
  {
   "cell_type": "markdown",
   "metadata": {},
   "source": [
    "### Map and filter"
   ]
  },
  {
   "cell_type": "code",
   "execution_count": 74,
   "metadata": {},
   "outputs": [],
   "source": [
    "edict = {'Energy': 'energy',\n",
    " 'Fuel Combustion - Sectoral approach': 'energy',\n",
    " 'Fuel Combustion - Reference Approach': 'energy',\n",
    " 'Feedstocks, Reductants and Other Non-energy Use of Fuels': 'energy',\n",
    " 'Fugitive Emissions from Fuels': 'emissions',\n",
    " 'CO₂ Transport and Storage': 'emissions'}"
   ]
  },
  {
   "cell_type": "code",
   "execution_count": 75,
   "metadata": {},
   "outputs": [],
   "source": [
    "data2 = data\n",
    "data2['Category_clean'] = [x[4:].lstrip() for x in data2['Category']]\n",
    "data2['Category_type'] = data2['Category_clean'].map(edict)"
   ]
  },
  {
   "cell_type": "code",
   "execution_count": 110,
   "metadata": {},
   "outputs": [
    {
     "data": {
      "text/html": [
       "<div>\n",
       "<style scoped>\n",
       "    .dataframe tbody tr th:only-of-type {\n",
       "        vertical-align: middle;\n",
       "    }\n",
       "\n",
       "    .dataframe tbody tr th {\n",
       "        vertical-align: top;\n",
       "    }\n",
       "\n",
       "    .dataframe thead th {\n",
       "        text-align: right;\n",
       "    }\n",
       "</style>\n",
       "<table border=\"1\" class=\"dataframe\">\n",
       "  <thead>\n",
       "    <tr style=\"text-align: right;\">\n",
       "      <th></th>\n",
       "      <th>Category</th>\n",
       "      <th>Base year</th>\n",
       "      <th>1990</th>\n",
       "      <th>1991</th>\n",
       "      <th>1992</th>\n",
       "      <th>1993</th>\n",
       "      <th>1994</th>\n",
       "      <th>1995</th>\n",
       "      <th>1996</th>\n",
       "      <th>1997</th>\n",
       "      <th>...</th>\n",
       "      <th>2013</th>\n",
       "      <th>2014</th>\n",
       "      <th>2015</th>\n",
       "      <th>2016</th>\n",
       "      <th>2017</th>\n",
       "      <th>2018</th>\n",
       "      <th>2019</th>\n",
       "      <th>2020</th>\n",
       "      <th>Category_clean</th>\n",
       "      <th>Category_type</th>\n",
       "    </tr>\n",
       "  </thead>\n",
       "  <tbody>\n",
       "    <tr>\n",
       "      <th>0</th>\n",
       "      <td>1.  Energy</td>\n",
       "      <td>258947.04465704237</td>\n",
       "      <td>258947.04465704237</td>\n",
       "      <td>260930.35964980774</td>\n",
       "      <td>265474.8100482719</td>\n",
       "      <td>269536.38100543304</td>\n",
       "      <td>272316.64245784347</td>\n",
       "      <td>283304.12903621234</td>\n",
       "      <td>289904.96814959415</td>\n",
       "      <td>298072.36740701896</td>\n",
       "      <td>...</td>\n",
       "      <td>376071.10895077564</td>\n",
       "      <td>372355.1397106155</td>\n",
       "      <td>379924.89707979443</td>\n",
       "      <td>389464.30250903306</td>\n",
       "      <td>392020.04855217674</td>\n",
       "      <td>393737.93068071106</td>\n",
       "      <td>394697.5293080256</td>\n",
       "      <td>378736.696151</td>\n",
       "      <td>Energy</td>\n",
       "      <td>energy</td>\n",
       "    </tr>\n",
       "    <tr>\n",
       "      <th>1</th>\n",
       "      <td>1.AA  Fuel Combustion - Sectoral approach</td>\n",
       "      <td>251674.54877254463</td>\n",
       "      <td>251674.54877254463</td>\n",
       "      <td>253929.1588365228</td>\n",
       "      <td>258171.10954310844</td>\n",
       "      <td>262399.63784937497</td>\n",
       "      <td>265436.49453729356</td>\n",
       "      <td>276243.41553081735</td>\n",
       "      <td>283143.9159693259</td>\n",
       "      <td>291385.0228092652</td>\n",
       "      <td>...</td>\n",
       "      <td>367224.70376014087</td>\n",
       "      <td>363082.4320497963</td>\n",
       "      <td>369097.0429247943</td>\n",
       "      <td>377024.3915239123</td>\n",
       "      <td>377158.6188864726</td>\n",
       "      <td>376812.3029248183</td>\n",
       "      <td>374498.2826772946</td>\n",
       "      <td>361451.525668</td>\n",
       "      <td>Fuel Combustion - Sectoral approach</td>\n",
       "      <td>energy</td>\n",
       "    </tr>\n",
       "    <tr>\n",
       "      <th>2</th>\n",
       "      <td>1.AB  Fuel Combustion - Reference Approach</td>\n",
       "      <td>254498.7559793475</td>\n",
       "      <td>254498.7559793475</td>\n",
       "      <td>257643.31817877616</td>\n",
       "      <td>258657.28950888588</td>\n",
       "      <td>265862.3926017181</td>\n",
       "      <td>268892.3483312443</td>\n",
       "      <td>277143.90469771926</td>\n",
       "      <td>287304.7771815549</td>\n",
       "      <td>291479.24326866644</td>\n",
       "      <td>...</td>\n",
       "      <td>369812.69249241997</td>\n",
       "      <td>360950.61850027024</td>\n",
       "      <td>370300.39361186005</td>\n",
       "      <td>373120.73872426886</td>\n",
       "      <td>375011.3700569747</td>\n",
       "      <td>370033.2210204188</td>\n",
       "      <td>375054.38834412995</td>\n",
       "      <td>361867.771411</td>\n",
       "      <td>Fuel Combustion - Reference Approach</td>\n",
       "      <td>energy</td>\n",
       "    </tr>\n",
       "    <tr>\n",
       "      <th>3</th>\n",
       "      <td>1.AD  Feedstocks, Reductants and Other Non-ene...</td>\n",
       "      <td>12228.06901453965</td>\n",
       "      <td>12228.06901453965</td>\n",
       "      <td>11899.764487253333</td>\n",
       "      <td>12544.172946267216</td>\n",
       "      <td>12346.192598185899</td>\n",
       "      <td>13363.716339825549</td>\n",
       "      <td>13875.105733436401</td>\n",
       "      <td>13883.126776494651</td>\n",
       "      <td>13870.24048175372</td>\n",
       "      <td>...</td>\n",
       "      <td>12422.490396363119</td>\n",
       "      <td>12613.700067594913</td>\n",
       "      <td>12769.200421135469</td>\n",
       "      <td>13505.84336972874</td>\n",
       "      <td>13934.391668218661</td>\n",
       "      <td>14410.95224090838</td>\n",
       "      <td>14027.055663464218</td>\n",
       "      <td>13543.680155</td>\n",
       "      <td>Feedstocks, Reductants and Other Non-energy Us...</td>\n",
       "      <td>energy</td>\n",
       "    </tr>\n",
       "    <tr>\n",
       "      <th>4</th>\n",
       "      <td>1.B  Fugitive Emissions from Fuels</td>\n",
       "      <td>7272.4958844977455</td>\n",
       "      <td>7272.4958844977455</td>\n",
       "      <td>7001.200813284943</td>\n",
       "      <td>7303.700505163452</td>\n",
       "      <td>7136.743156058121</td>\n",
       "      <td>6880.147920549874</td>\n",
       "      <td>7060.713505395034</td>\n",
       "      <td>6761.052180268225</td>\n",
       "      <td>6687.344597753778</td>\n",
       "      <td>...</td>\n",
       "      <td>8846.405190634789</td>\n",
       "      <td>9272.707660819266</td>\n",
       "      <td>10827.854155000094</td>\n",
       "      <td>12439.910985120738</td>\n",
       "      <td>14861.429665704109</td>\n",
       "      <td>16925.62775589277</td>\n",
       "      <td>20199.246630730977</td>\n",
       "      <td>17272.753482</td>\n",
       "      <td>Fugitive Emissions from Fuels</td>\n",
       "      <td>emissions</td>\n",
       "    </tr>\n",
       "    <tr>\n",
       "      <th>5</th>\n",
       "      <td>1.C  CO₂ Transport and Storage</td>\n",
       "      <td>NO</td>\n",
       "      <td>NO</td>\n",
       "      <td>NO</td>\n",
       "      <td>NO</td>\n",
       "      <td>NO</td>\n",
       "      <td>NO</td>\n",
       "      <td>NO</td>\n",
       "      <td>NO</td>\n",
       "      <td>NO</td>\n",
       "      <td>...</td>\n",
       "      <td>NO</td>\n",
       "      <td>NO</td>\n",
       "      <td>NO</td>\n",
       "      <td>NO</td>\n",
       "      <td>NO</td>\n",
       "      <td>NO</td>\n",
       "      <td>NO</td>\n",
       "      <td>12.417000</td>\n",
       "      <td>CO₂ Transport and Storage</td>\n",
       "      <td>emissions</td>\n",
       "    </tr>\n",
       "  </tbody>\n",
       "</table>\n",
       "<p>6 rows × 35 columns</p>\n",
       "</div>"
      ],
      "text/plain": [
       "                                            Category           Base year  \\\n",
       "0                                         1.  Energy  258947.04465704237   \n",
       "1          1.AA  Fuel Combustion - Sectoral approach  251674.54877254463   \n",
       "2         1.AB  Fuel Combustion - Reference Approach   254498.7559793475   \n",
       "3  1.AD  Feedstocks, Reductants and Other Non-ene...   12228.06901453965   \n",
       "4                 1.B  Fugitive Emissions from Fuels  7272.4958844977455   \n",
       "5                     1.C  CO₂ Transport and Storage                  NO   \n",
       "\n",
       "                 1990                1991                1992  \\\n",
       "0  258947.04465704237  260930.35964980774   265474.8100482719   \n",
       "1  251674.54877254463   253929.1588365228  258171.10954310844   \n",
       "2   254498.7559793475  257643.31817877616  258657.28950888588   \n",
       "3   12228.06901453965  11899.764487253333  12544.172946267216   \n",
       "4  7272.4958844977455   7001.200813284943   7303.700505163452   \n",
       "5                  NO                  NO                  NO   \n",
       "\n",
       "                 1993                1994                1995  \\\n",
       "0  269536.38100543304  272316.64245784347  283304.12903621234   \n",
       "1  262399.63784937497  265436.49453729356  276243.41553081735   \n",
       "2   265862.3926017181   268892.3483312443  277143.90469771926   \n",
       "3  12346.192598185899  13363.716339825549  13875.105733436401   \n",
       "4   7136.743156058121   6880.147920549874   7060.713505395034   \n",
       "5                  NO                  NO                  NO   \n",
       "\n",
       "                 1996                1997  ...                2013  \\\n",
       "0  289904.96814959415  298072.36740701896  ...  376071.10895077564   \n",
       "1   283143.9159693259   291385.0228092652  ...  367224.70376014087   \n",
       "2   287304.7771815549  291479.24326866644  ...  369812.69249241997   \n",
       "3  13883.126776494651   13870.24048175372  ...  12422.490396363119   \n",
       "4   6761.052180268225   6687.344597753778  ...   8846.405190634789   \n",
       "5                  NO                  NO  ...                  NO   \n",
       "\n",
       "                 2014                2015                2016  \\\n",
       "0   372355.1397106155  379924.89707979443  389464.30250903306   \n",
       "1   363082.4320497963   369097.0429247943   377024.3915239123   \n",
       "2  360950.61850027024  370300.39361186005  373120.73872426886   \n",
       "3  12613.700067594913  12769.200421135469   13505.84336972874   \n",
       "4   9272.707660819266  10827.854155000094  12439.910985120738   \n",
       "5                  NO                  NO                  NO   \n",
       "\n",
       "                 2017                2018                2019           2020  \\\n",
       "0  392020.04855217674  393737.93068071106   394697.5293080256  378736.696151   \n",
       "1   377158.6188864726   376812.3029248183   374498.2826772946  361451.525668   \n",
       "2   375011.3700569747   370033.2210204188  375054.38834412995  361867.771411   \n",
       "3  13934.391668218661   14410.95224090838  14027.055663464218   13543.680155   \n",
       "4  14861.429665704109   16925.62775589277  20199.246630730977   17272.753482   \n",
       "5                  NO                  NO                  NO      12.417000   \n",
       "\n",
       "                                      Category_clean Category_type  \n",
       "0                                             Energy        energy  \n",
       "1                Fuel Combustion - Sectoral approach        energy  \n",
       "2               Fuel Combustion - Reference Approach        energy  \n",
       "3  Feedstocks, Reductants and Other Non-energy Us...        energy  \n",
       "4                      Fugitive Emissions from Fuels     emissions  \n",
       "5                          CO₂ Transport and Storage     emissions  \n",
       "\n",
       "[6 rows x 35 columns]"
      ]
     },
     "execution_count": 110,
     "metadata": {},
     "output_type": "execute_result"
    }
   ],
   "source": [
    "data2"
   ]
  },
  {
   "cell_type": "markdown",
   "metadata": {},
   "source": [
    "### Saving manipulated data to new file"
   ]
  },
  {
   "cell_type": "code",
   "execution_count": null,
   "metadata": {},
   "outputs": [],
   "source": [
    "data.to_csv(r'clean_data.csv', index = False)"
   ]
  },
  {
   "cell_type": "markdown",
   "metadata": {
    "id": "1oOAoOQ7XKoG"
   },
   "source": [
    "### Lessons\n",
    "1. Debugging - Always read the error message, as frustrating as it gets there's ALWAYS a reason it's not working.\n",
    "2. Check-out your raw data file to use the most appropriate import method"
   ]
  },
  {
   "cell_type": "markdown",
   "metadata": {
    "id": "iutNltC6XT42"
   },
   "source": [
    "# 3 - Visualising data with matplotlib\n",
    "Can we get a graph displaying the comparative contributions of each category?\n",
    "\n",
    "Although pandas has some plotting capabilities of it's own, the basic plotting package for python is matplotlib. Try find how to do a simple xy plot using matplotlib?"
   ]
  },
  {
   "cell_type": "code",
   "execution_count": 86,
   "metadata": {
    "id": "B13aoYPkhnmF"
   },
   "outputs": [],
   "source": [
    "# Import library\n",
    "import matplotlib.pyplot as plt"
   ]
  },
  {
   "cell_type": "code",
   "execution_count": 78,
   "metadata": {},
   "outputs": [],
   "source": [
    "data.rename(columns = {'Last Inventory Year (2020)':'2020'}, inplace = True)"
   ]
  },
  {
   "cell_type": "code",
   "execution_count": 80,
   "metadata": {},
   "outputs": [],
   "source": [
    "data = data.drop(columns = ['Category_clean', 'Category_type'])"
   ]
  },
  {
   "cell_type": "code",
   "execution_count": 81,
   "metadata": {},
   "outputs": [
    {
     "data": {
      "text/html": [
       "<div>\n",
       "<style scoped>\n",
       "    .dataframe tbody tr th:only-of-type {\n",
       "        vertical-align: middle;\n",
       "    }\n",
       "\n",
       "    .dataframe tbody tr th {\n",
       "        vertical-align: top;\n",
       "    }\n",
       "\n",
       "    .dataframe thead th {\n",
       "        text-align: right;\n",
       "    }\n",
       "</style>\n",
       "<table border=\"1\" class=\"dataframe\">\n",
       "  <thead>\n",
       "    <tr style=\"text-align: right;\">\n",
       "      <th></th>\n",
       "      <th>Category</th>\n",
       "      <th>Base year</th>\n",
       "      <th>1990</th>\n",
       "      <th>1991</th>\n",
       "      <th>1992</th>\n",
       "      <th>1993</th>\n",
       "      <th>1994</th>\n",
       "      <th>1995</th>\n",
       "      <th>1996</th>\n",
       "      <th>1997</th>\n",
       "      <th>...</th>\n",
       "      <th>2011</th>\n",
       "      <th>2012</th>\n",
       "      <th>2013</th>\n",
       "      <th>2014</th>\n",
       "      <th>2015</th>\n",
       "      <th>2016</th>\n",
       "      <th>2017</th>\n",
       "      <th>2018</th>\n",
       "      <th>2019</th>\n",
       "      <th>2020</th>\n",
       "    </tr>\n",
       "  </thead>\n",
       "  <tbody>\n",
       "    <tr>\n",
       "      <th>0</th>\n",
       "      <td>1.  Energy</td>\n",
       "      <td>258947.04465704237</td>\n",
       "      <td>258947.04465704237</td>\n",
       "      <td>260930.35964980774</td>\n",
       "      <td>265474.8100482719</td>\n",
       "      <td>269536.38100543304</td>\n",
       "      <td>272316.64245784347</td>\n",
       "      <td>283304.12903621234</td>\n",
       "      <td>289904.96814959415</td>\n",
       "      <td>298072.36740701896</td>\n",
       "      <td>...</td>\n",
       "      <td>377598.39677528</td>\n",
       "      <td>382674.70418835385</td>\n",
       "      <td>376071.10895077564</td>\n",
       "      <td>372355.1397106155</td>\n",
       "      <td>379924.89707979443</td>\n",
       "      <td>389464.30250903306</td>\n",
       "      <td>392020.04855217674</td>\n",
       "      <td>393737.93068071106</td>\n",
       "      <td>394697.5293080256</td>\n",
       "      <td>378736.696151</td>\n",
       "    </tr>\n",
       "    <tr>\n",
       "      <th>1</th>\n",
       "      <td>1.AA  Fuel Combustion - Sectoral approach</td>\n",
       "      <td>251674.54877254463</td>\n",
       "      <td>251674.54877254463</td>\n",
       "      <td>253929.1588365228</td>\n",
       "      <td>258171.10954310844</td>\n",
       "      <td>262399.63784937497</td>\n",
       "      <td>265436.49453729356</td>\n",
       "      <td>276243.41553081735</td>\n",
       "      <td>283143.9159693259</td>\n",
       "      <td>291385.0228092652</td>\n",
       "      <td>...</td>\n",
       "      <td>369724.2015004742</td>\n",
       "      <td>374387.7110019937</td>\n",
       "      <td>367224.70376014087</td>\n",
       "      <td>363082.4320497963</td>\n",
       "      <td>369097.0429247943</td>\n",
       "      <td>377024.3915239123</td>\n",
       "      <td>377158.6188864726</td>\n",
       "      <td>376812.3029248183</td>\n",
       "      <td>374498.2826772946</td>\n",
       "      <td>361451.525668</td>\n",
       "    </tr>\n",
       "    <tr>\n",
       "      <th>2</th>\n",
       "      <td>1.AB  Fuel Combustion - Reference Approach</td>\n",
       "      <td>254498.7559793475</td>\n",
       "      <td>254498.7559793475</td>\n",
       "      <td>257643.31817877616</td>\n",
       "      <td>258657.28950888588</td>\n",
       "      <td>265862.3926017181</td>\n",
       "      <td>268892.3483312443</td>\n",
       "      <td>277143.90469771926</td>\n",
       "      <td>287304.7771815549</td>\n",
       "      <td>291479.24326866644</td>\n",
       "      <td>...</td>\n",
       "      <td>372893.99103163206</td>\n",
       "      <td>380694.2376548504</td>\n",
       "      <td>369812.69249241997</td>\n",
       "      <td>360950.61850027024</td>\n",
       "      <td>370300.39361186005</td>\n",
       "      <td>373120.73872426886</td>\n",
       "      <td>375011.3700569747</td>\n",
       "      <td>370033.2210204188</td>\n",
       "      <td>375054.38834412995</td>\n",
       "      <td>361867.771411</td>\n",
       "    </tr>\n",
       "    <tr>\n",
       "      <th>3</th>\n",
       "      <td>1.AD  Feedstocks, Reductants and Other Non-ene...</td>\n",
       "      <td>12228.06901453965</td>\n",
       "      <td>12228.06901453965</td>\n",
       "      <td>11899.764487253333</td>\n",
       "      <td>12544.172946267216</td>\n",
       "      <td>12346.192598185899</td>\n",
       "      <td>13363.716339825549</td>\n",
       "      <td>13875.105733436401</td>\n",
       "      <td>13883.126776494651</td>\n",
       "      <td>13870.24048175372</td>\n",
       "      <td>...</td>\n",
       "      <td>16628.607061795115</td>\n",
       "      <td>16500.48431451244</td>\n",
       "      <td>12422.490396363119</td>\n",
       "      <td>12613.700067594913</td>\n",
       "      <td>12769.200421135469</td>\n",
       "      <td>13505.84336972874</td>\n",
       "      <td>13934.391668218661</td>\n",
       "      <td>14410.95224090838</td>\n",
       "      <td>14027.055663464218</td>\n",
       "      <td>13543.680155</td>\n",
       "    </tr>\n",
       "    <tr>\n",
       "      <th>4</th>\n",
       "      <td>1.B  Fugitive Emissions from Fuels</td>\n",
       "      <td>7272.4958844977455</td>\n",
       "      <td>7272.4958844977455</td>\n",
       "      <td>7001.200813284943</td>\n",
       "      <td>7303.700505163452</td>\n",
       "      <td>7136.743156058121</td>\n",
       "      <td>6880.147920549874</td>\n",
       "      <td>7060.713505395034</td>\n",
       "      <td>6761.052180268225</td>\n",
       "      <td>6687.344597753778</td>\n",
       "      <td>...</td>\n",
       "      <td>7874.195274805806</td>\n",
       "      <td>8286.993186360196</td>\n",
       "      <td>8846.405190634789</td>\n",
       "      <td>9272.707660819266</td>\n",
       "      <td>10827.854155000094</td>\n",
       "      <td>12439.910985120738</td>\n",
       "      <td>14861.429665704109</td>\n",
       "      <td>16925.62775589277</td>\n",
       "      <td>20199.246630730977</td>\n",
       "      <td>17272.753482</td>\n",
       "    </tr>\n",
       "    <tr>\n",
       "      <th>5</th>\n",
       "      <td>1.C  CO₂ Transport and Storage</td>\n",
       "      <td>NO</td>\n",
       "      <td>NO</td>\n",
       "      <td>NO</td>\n",
       "      <td>NO</td>\n",
       "      <td>NO</td>\n",
       "      <td>NO</td>\n",
       "      <td>NO</td>\n",
       "      <td>NO</td>\n",
       "      <td>NO</td>\n",
       "      <td>...</td>\n",
       "      <td>NO</td>\n",
       "      <td>NO</td>\n",
       "      <td>NO</td>\n",
       "      <td>NO</td>\n",
       "      <td>NO</td>\n",
       "      <td>NO</td>\n",
       "      <td>NO</td>\n",
       "      <td>NO</td>\n",
       "      <td>NO</td>\n",
       "      <td>12.417000</td>\n",
       "    </tr>\n",
       "  </tbody>\n",
       "</table>\n",
       "<p>6 rows × 33 columns</p>\n",
       "</div>"
      ],
      "text/plain": [
       "                                            Category           Base year  \\\n",
       "0                                         1.  Energy  258947.04465704237   \n",
       "1          1.AA  Fuel Combustion - Sectoral approach  251674.54877254463   \n",
       "2         1.AB  Fuel Combustion - Reference Approach   254498.7559793475   \n",
       "3  1.AD  Feedstocks, Reductants and Other Non-ene...   12228.06901453965   \n",
       "4                 1.B  Fugitive Emissions from Fuels  7272.4958844977455   \n",
       "5                     1.C  CO₂ Transport and Storage                  NO   \n",
       "\n",
       "                 1990                1991                1992  \\\n",
       "0  258947.04465704237  260930.35964980774   265474.8100482719   \n",
       "1  251674.54877254463   253929.1588365228  258171.10954310844   \n",
       "2   254498.7559793475  257643.31817877616  258657.28950888588   \n",
       "3   12228.06901453965  11899.764487253333  12544.172946267216   \n",
       "4  7272.4958844977455   7001.200813284943   7303.700505163452   \n",
       "5                  NO                  NO                  NO   \n",
       "\n",
       "                 1993                1994                1995  \\\n",
       "0  269536.38100543304  272316.64245784347  283304.12903621234   \n",
       "1  262399.63784937497  265436.49453729356  276243.41553081735   \n",
       "2   265862.3926017181   268892.3483312443  277143.90469771926   \n",
       "3  12346.192598185899  13363.716339825549  13875.105733436401   \n",
       "4   7136.743156058121   6880.147920549874   7060.713505395034   \n",
       "5                  NO                  NO                  NO   \n",
       "\n",
       "                 1996                1997  ...                2011  \\\n",
       "0  289904.96814959415  298072.36740701896  ...     377598.39677528   \n",
       "1   283143.9159693259   291385.0228092652  ...   369724.2015004742   \n",
       "2   287304.7771815549  291479.24326866644  ...  372893.99103163206   \n",
       "3  13883.126776494651   13870.24048175372  ...  16628.607061795115   \n",
       "4   6761.052180268225   6687.344597753778  ...   7874.195274805806   \n",
       "5                  NO                  NO  ...                  NO   \n",
       "\n",
       "                 2012                2013                2014  \\\n",
       "0  382674.70418835385  376071.10895077564   372355.1397106155   \n",
       "1   374387.7110019937  367224.70376014087   363082.4320497963   \n",
       "2   380694.2376548504  369812.69249241997  360950.61850027024   \n",
       "3   16500.48431451244  12422.490396363119  12613.700067594913   \n",
       "4   8286.993186360196   8846.405190634789   9272.707660819266   \n",
       "5                  NO                  NO                  NO   \n",
       "\n",
       "                 2015                2016                2017  \\\n",
       "0  379924.89707979443  389464.30250903306  392020.04855217674   \n",
       "1   369097.0429247943   377024.3915239123   377158.6188864726   \n",
       "2  370300.39361186005  373120.73872426886   375011.3700569747   \n",
       "3  12769.200421135469   13505.84336972874  13934.391668218661   \n",
       "4  10827.854155000094  12439.910985120738  14861.429665704109   \n",
       "5                  NO                  NO                  NO   \n",
       "\n",
       "                 2018                2019           2020  \n",
       "0  393737.93068071106   394697.5293080256  378736.696151  \n",
       "1   376812.3029248183   374498.2826772946  361451.525668  \n",
       "2   370033.2210204188  375054.38834412995  361867.771411  \n",
       "3   14410.95224090838  14027.055663464218   13543.680155  \n",
       "4   16925.62775589277  20199.246630730977   17272.753482  \n",
       "5                  NO                  NO      12.417000  \n",
       "\n",
       "[6 rows x 33 columns]"
      ]
     },
     "execution_count": 81,
     "metadata": {},
     "output_type": "execute_result"
    }
   ],
   "source": [
    "data"
   ]
  },
  {
   "cell_type": "code",
   "execution_count": 99,
   "metadata": {
    "id": "nRMgQIGsnqZJ",
    "scrolled": true
   },
   "outputs": [
    {
     "data": {
      "text/plain": [
       "[<matplotlib.lines.Line2D at 0x19002af12b0>]"
      ]
     },
     "execution_count": 99,
     "metadata": {},
     "output_type": "execute_result"
    },
    {
     "data": {
      "image/png": "[encoded data removed]",
      "text/plain": [
       "<Figure size 432x288 with 1 Axes>"
      ]
     },
     "metadata": {
      "needs_background": "light"
     },
     "output_type": "display_data"
    }
   ],
   "source": [
    "\"\"\"Let's get plotting\"\"\"\n",
    "# Re-format data for plotting\n",
    "years = data.columns[2:]\n",
    "emissions = list(data.values[0,2:])#data.values[:,2:]\n",
    "\n",
    "# Plotting - remember emissions is a matrix, just take the first line\n",
    "##complete here using plt.\n",
    "plt.plot(years, list(data.values[0,2:]))"
   ]
  },
  {
   "cell_type": "markdown",
   "metadata": {
    "id": "IZGneedCfihl"
   },
   "source": [
    "Ooh that's not pretty... But at least it works.\n",
    "Let's try embellishing a little."
   ]
  },
  {
   "cell_type": "code",
   "execution_count": 107,
   "metadata": {
    "id": "Jt-6DNzyn7G8"
   },
   "outputs": [
    {
     "data": {
      "image/png": "[encoded data removed]",
      "text/plain": [
       "<Figure size 864x360 with 1 Axes>"
      ]
     },
     "metadata": {
      "needs_background": "light"
     },
     "output_type": "display_data"
    }
   ],
   "source": [
    "\"\"\"Let's reformat our data to handle values as numeric and to reclassify non-reported data as unknown\"\"\"\n",
    "# Convert emissions data to numeric\n",
    "emissions = data.values[:,2:]\n",
    "emissions_vals = pd.to_numeric(emissions.flatten(), errors='coerce').reshape(emissions.shape).astype(float)\n",
    "\n",
    "# Extract final year value\n",
    "years_vals = years.values\n",
    "years_vals[-1] = \"\".join(filter(str.isdigit,years_vals[-1]))\n",
    "\n",
    "# Convert years to numeric values\n",
    "years_vals = years.astype(float)\n",
    "\n",
    "# Extract the names of the sectors\n",
    "sectors = data.values[:,0]\n",
    "\n",
    "# Now we'll create a prettier looking plot containing a line for each entry\n",
    "fig, ax = plt.subplots(1,1,figsize=[12,5])\n",
    "for i in range(emissions.shape[0]):\n",
    "    ax.scatter(years_vals, emissions_vals[i],\n",
    "                 label=sectors[i])\n",
    "\n",
    "# Try adding some labels - e.g. title, x label, y label, legend\n",
    "##complete here\n",
    "plt.show()\n"
   ]
  },
  {
   "cell_type": "markdown",
   "metadata": {
    "id": "z_LVssZkXaXd"
   },
   "source": [
    "# 4 - Make a function that does this for any UNFCCC data"
   ]
  },
  {
   "cell_type": "code",
   "execution_count": null,
   "metadata": {
    "id": "bF6UfkNQyAM4"
   },
   "outputs": [],
   "source": [
    "\"\"\"Let's define the function here and import the necessary functions\"\"\"\n",
    "# Import necessary packages\n",
    "import pandas as pd\n",
    "import matplotlib.pyplot as plt\n",
    "\n",
    "def plot_unfccc(##complete here):\n",
    "  ##complete here"
   ]
  },
  {
   "cell_type": "code",
   "execution_count": null,
   "metadata": {
    "id": "YC5K-At_XTn1"
   },
   "outputs": [],
   "source": [
    "# Defining variables \n",
    "filepath = ##complete here\n",
    "\n",
    "# Call function\n",
    "##complete here"
   ]
  },
  {
   "cell_type": "markdown",
   "metadata": {
    "id": "2yimI8Uk0MQ5"
   },
   "source": [
    "Nice plot! If you've got this far, let's try 2 more things:\n",
    "1. Add this function to the external_functions.py file you made earlier. In the next box create the graph from this external function."
   ]
  },
  {
   "cell_type": "code",
   "execution_count": null,
   "metadata": {
    "id": "epLKtp5i0gn4"
   },
   "outputs": [],
   "source": [
    "# Reload the external functions \n",
    "from importlib import reload\n",
    "reload(ext)"
   ]
  },
  {
   "cell_type": "code",
   "execution_count": null,
   "metadata": {
    "id": "wpWrPK5J1fnA"
   },
   "outputs": [],
   "source": [
    "# Use the external function to produce the graph\n",
    "##complete here"
   ]
  },
  {
   "cell_type": "markdown",
   "metadata": {
    "id": "Pe9x1Eek1l0n"
   },
   "source": [
    "2. Head back to https://di.unfccc.int/detailed_data_by_party and use this function with a different country."
   ]
  },
  {
   "cell_type": "code",
   "execution_count": null,
   "metadata": {
    "id": "orCivbCk1tw2"
   },
   "outputs": [],
   "source": [
    "# Define new filepath\n",
    "filepath_new = ##complete here\n",
    "\n",
    "## Call function\n",
    "## complete here"
   ]
  },
  {
   "cell_type": "markdown",
   "metadata": {},
   "source": [
    "# 4. Visualising data with plotly"
   ]
  },
  {
   "cell_type": "code",
   "execution_count": 108,
   "metadata": {},
   "outputs": [],
   "source": [
    "# importing plotly and relevant functions\n",
    "import plotly\n",
    "import plotly_express as px\n",
    "from plotly.offline import plot\n",
    "import plotly.graph_objs as go\n",
    "import plotly.io as pio"
   ]
  },
  {
   "cell_type": "markdown",
   "metadata": {},
   "source": [
    "### Example 1 - Bar Chart, Scatter plot and line chart\n",
    "\n",
    "Alternate between `go.Bar` and `go.Scatter` and see what happens. Alternate between the mode `'markers'` and `'lines+markers'` when you use `go.Scatter`"
   ]
  },
  {
   "cell_type": "code",
   "execution_count": 115,
   "metadata": {},
   "outputs": [
    {
     "data": {
      "application/vnd.plotly.v1+json": {
       "config": {
        "plotlyServerURL": "https://plot.ly"
       },
       "data": [
        {
         "mode": "lines+markers",
         "type": "scatter",
         "x": [
          "A",
          "B",
          "C",
          "D"
         ],
         "y": [
          20,
          14,
          23,
          15
         ]
        }
       ],
       "layout": {
        "template": {
         "data": {
          "bar": [
           {
            "error_x": {
             "color": "#2a3f5f"
            },
            "error_y": {
             "color": "#2a3f5f"
            },
            "marker": {
             "line": {
              "color": "#E5ECF6",
              "width": 0.5
             },
             "pattern": {
              "fillmode": "overlay",
              "size": 10,
              "solidity": 0.2
             }
            },
            "type": "bar"
           }
          ],
          "barpolar": [
           {
            "marker": {
             "line": {
              "color": "#E5ECF6",
              "width": 0.5
             },
             "pattern": {
              "fillmode": "overlay",
              "size": 10,
              "solidity": 0.2
             }
            },
            "type": "barpolar"
           }
          ],
          "carpet": [
           {
            "aaxis": {
             "endlinecolor": "#2a3f5f",
             "gridcolor": "white",
             "linecolor": "white",
             "minorgridcolor": "white",
             "startlinecolor": "#2a3f5f"
            },
            "baxis": {
             "endlinecolor": "#2a3f5f",
             "gridcolor": "white",
             "linecolor": "white",
             "minorgridcolor": "white",
             "startlinecolor": "#2a3f5f"
            },
            "type": "carpet"
           }
          ],
          "choropleth": [
           {
            "colorbar": {
             "outlinewidth": 0,
             "ticks": ""
            },
            "type": "choropleth"
           }
          ],
          "contour": [
           {
            "colorbar": {
             "outlinewidth": 0,
             "ticks": ""
            },
            "colorscale": [
             [
              0,
              "#0d0887"
             ],
             [
              0.1111111111111111,
              "#46039f"
             ],
             [
              0.2222222222222222,
              "#7201a8"
             ],
             [
              0.3333333333333333,
              "#9c179e"
             ],
             [
              0.4444444444444444,
              "#bd3786"
             ],
             [
              0.5555555555555556,
              "#d8576b"
             ],
             [
              0.6666666666666666,
              "#ed7953"
             ],
             [
              0.7777777777777778,
              "#fb9f3a"
             ],
             [
              0.8888888888888888,
              "#fdca26"
             ],
             [
              1,
              "#f0f921"
             ]
            ],
            "type": "contour"
           }
          ],
          "contourcarpet": [
           {
            "colorbar": {
             "outlinewidth": 0,
             "ticks": ""
            },
            "type": "contourcarpet"
           }
          ],
          "heatmap": [
           {
            "colorbar": {
             "outlinewidth": 0,
             "ticks": ""
            },
            "colorscale": [
             [
              0,
              "#0d0887"
             ],
             [
              0.1111111111111111,
              "#46039f"
             ],
             [
              0.2222222222222222,
              "#7201a8"
             ],
             [
              0.3333333333333333,
              "#9c179e"
             ],
             [
              0.4444444444444444,
              "#bd3786"
             ],
             [
              0.5555555555555556,
              "#d8576b"
             ],
             [
              0.6666666666666666,
              "#ed7953"
             ],
             [
              0.7777777777777778,
              "#fb9f3a"
             ],
             [
              0.8888888888888888,
              "#fdca26"
             ],
             [
              1,
              "#f0f921"
             ]
            ],
            "type": "heatmap"
           }
          ],
          "heatmapgl": [
           {
            "colorbar": {
             "outlinewidth": 0,
             "ticks": ""
            },
            "colorscale": [
             [
              0,
              "#0d0887"
             ],
             [
              0.1111111111111111,
              "#46039f"
             ],
             [
              0.2222222222222222,
              "#7201a8"
             ],
             [
              0.3333333333333333,
              "#9c179e"
             ],
             [
              0.4444444444444444,
              "#bd3786"
             ],
             [
              0.5555555555555556,
              "#d8576b"
             ],
             [
              0.6666666666666666,
              "#ed7953"
             ],
             [
              0.7777777777777778,
              "#fb9f3a"
             ],
             [
              0.8888888888888888,
              "#fdca26"
             ],
             [
              1,
              "#f0f921"
             ]
            ],
            "type": "heatmapgl"
           }
          ],
          "histogram": [
           {
            "marker": {
             "pattern": {
              "fillmode": "overlay",
              "size": 10,
              "solidity": 0.2
             }
            },
            "type": "histogram"
           }
          ],
          "histogram2d": [
           {
            "colorbar": {
             "outlinewidth": 0,
             "ticks": ""
            },
            "colorscale": [
             [
              0,
              "#0d0887"
             ],
             [
              0.1111111111111111,
              "#46039f"
             ],
             [
              0.2222222222222222,
              "#7201a8"
             ],
             [
              0.3333333333333333,
              "#9c179e"
             ],
             [
              0.4444444444444444,
              "#bd3786"
             ],
             [
              0.5555555555555556,
              "#d8576b"
             ],
             [
              0.6666666666666666,
              "#ed7953"
             ],
             [
              0.7777777777777778,
              "#fb9f3a"
             ],
             [
              0.8888888888888888,
              "#fdca26"
             ],
             [
              1,
              "#f0f921"
             ]
            ],
            "type": "histogram2d"
           }
          ],
          "histogram2dcontour": [
           {
            "colorbar": {
             "outlinewidth": 0,
             "ticks": ""
            },
            "colorscale": [
             [
              0,
              "#0d0887"
             ],
             [
              0.1111111111111111,
              "#46039f"
             ],
             [
              0.2222222222222222,
              "#7201a8"
             ],
             [
              0.3333333333333333,
              "#9c179e"
             ],
             [
              0.4444444444444444,
              "#bd3786"
             ],
             [
              0.5555555555555556,
              "#d8576b"
             ],
             [
              0.6666666666666666,
              "#ed7953"
             ],
             [
              0.7777777777777778,
              "#fb9f3a"
             ],
             [
              0.8888888888888888,
              "#fdca26"
             ],
             [
              1,
              "#f0f921"
             ]
            ],
            "type": "histogram2dcontour"
           }
          ],
          "mesh3d": [
           {
            "colorbar": {
             "outlinewidth": 0,
             "ticks": ""
            },
            "type": "mesh3d"
           }
          ],
          "parcoords": [
           {
            "line": {
             "colorbar": {
              "outlinewidth": 0,
              "ticks": ""
             }
            },
            "type": "parcoords"
           }
          ],
          "pie": [
           {
            "automargin": true,
            "type": "pie"
           }
          ],
          "scatter": [
           {
            "fillpattern": {
             "fillmode": "overlay",
             "size": 10,
             "solidity": 0.2
            },
            "type": "scatter"
           }
          ],
          "scatter3d": [
           {
            "line": {
             "colorbar": {
              "outlinewidth": 0,
              "ticks": ""
             }
            },
            "marker": {
             "colorbar": {
              "outlinewidth": 0,
              "ticks": ""
             }
            },
            "type": "scatter3d"
           }
          ],
          "scattercarpet": [
           {
            "marker": {
             "colorbar": {
              "outlinewidth": 0,
              "ticks": ""
             }
            },
            "type": "scattercarpet"
           }
          ],
          "scattergeo": [
           {
            "marker": {
             "colorbar": {
              "outlinewidth": 0,
              "ticks": ""
             }
            },
            "type": "scattergeo"
           }
          ],
          "scattergl": [
           {
            "marker": {
             "colorbar": {
              "outlinewidth": 0,
              "ticks": ""
             }
            },
            "type": "scattergl"
           }
          ],
          "scattermapbox": [
           {
            "marker": {
             "colorbar": {
              "outlinewidth": 0,
              "ticks": ""
             }
            },
            "type": "scattermapbox"
           }
          ],
          "scatterpolar": [
           {
            "marker": {
             "colorbar": {
              "outlinewidth": 0,
              "ticks": ""
             }
            },
            "type": "scatterpolar"
           }
          ],
          "scatterpolargl": [
           {
            "marker": {
             "colorbar": {
              "outlinewidth": 0,
              "ticks": ""
             }
            },
            "type": "scatterpolargl"
           }
          ],
          "scatterternary": [
           {
            "marker": {
             "colorbar": {
              "outlinewidth": 0,
              "ticks": ""
             }
            },
            "type": "scatterternary"
           }
          ],
          "surface": [
           {
            "colorbar": {
             "outlinewidth": 0,
             "ticks": ""
            },
            "colorscale": [
             [
              0,
              "#0d0887"
             ],
             [
              0.1111111111111111,
              "#46039f"
             ],
             [
              0.2222222222222222,
              "#7201a8"
             ],
             [
              0.3333333333333333,
              "#9c179e"
             ],
             [
              0.4444444444444444,
              "#bd3786"
             ],
             [
              0.5555555555555556,
              "#d8576b"
             ],
             [
              0.6666666666666666,
              "#ed7953"
             ],
             [
              0.7777777777777778,
              "#fb9f3a"
             ],
             [
              0.8888888888888888,
              "#fdca26"
             ],
             [
              1,
              "#f0f921"
             ]
            ],
            "type": "surface"
           }
          ],
          "table": [
           {
            "cells": {
             "fill": {
              "color": "#EBF0F8"
             },
             "line": {
              "color": "white"
             }
            },
            "header": {
             "fill": {
              "color": "#C8D4E3"
             },
             "line": {
              "color": "white"
             }
            },
            "type": "table"
           }
          ]
         },
         "layout": {
          "annotationdefaults": {
           "arrowcolor": "#2a3f5f",
           "arrowhead": 0,
           "arrowwidth": 1
          },
          "autotypenumbers": "strict",
          "coloraxis": {
           "colorbar": {
            "outlinewidth": 0,
            "ticks": ""
           }
          },
          "colorscale": {
           "diverging": [
            [
             0,
             "#8e0152"
            ],
            [
             0.1,
             "#c51b7d"
            ],
            [
             0.2,
             "#de77ae"
            ],
            [
             0.3,
             "#f1b6da"
            ],
            [
             0.4,
             "#fde0ef"
            ],
            [
             0.5,
             "#f7f7f7"
            ],
            [
             0.6,
             "#e6f5d0"
            ],
            [
             0.7,
             "#b8e186"
            ],
            [
             0.8,
             "#7fbc41"
            ],
            [
             0.9,
             "#4d9221"
            ],
            [
             1,
             "#276419"
            ]
           ],
           "sequential": [
            [
             0,
             "#0d0887"
            ],
            [
             0.1111111111111111,
             "#46039f"
            ],
            [
             0.2222222222222222,
             "#7201a8"
            ],
            [
             0.3333333333333333,
             "#9c179e"
            ],
            [
             0.4444444444444444,
             "#bd3786"
            ],
            [
             0.5555555555555556,
             "#d8576b"
            ],
            [
             0.6666666666666666,
             "#ed7953"
            ],
            [
             0.7777777777777778,
             "#fb9f3a"
            ],
            [
             0.8888888888888888,
             "#fdca26"
            ],
            [
             1,
             "#f0f921"
            ]
           ],
           "sequentialminus": [
            [
             0,
             "#0d0887"
            ],
            [
             0.1111111111111111,
             "#46039f"
            ],
            [
             0.2222222222222222,
             "#7201a8"
            ],
            [
             0.3333333333333333,
             "#9c179e"
            ],
            [
             0.4444444444444444,
             "#bd3786"
            ],
            [
             0.5555555555555556,
             "#d8576b"
            ],
            [
             0.6666666666666666,
             "#ed7953"
            ],
            [
             0.7777777777777778,
             "#fb9f3a"
            ],
            [
             0.8888888888888888,
             "#fdca26"
            ],
            [
             1,
             "#f0f921"
            ]
           ]
          },
          "colorway": [
           "#636efa",
           "#EF553B",
           "#00cc96",
           "#ab63fa",
           "#FFA15A",
           "#19d3f3",
           "#FF6692",
           "#B6E880",
           "#FF97FF",
           "#FECB52"
          ],
          "font": {
           "color": "#2a3f5f"
          },
          "geo": {
           "bgcolor": "white",
           "lakecolor": "white",
           "landcolor": "#E5ECF6",
           "showlakes": true,
           "showland": true,
           "subunitcolor": "white"
          },
          "hoverlabel": {
           "align": "left"
          },
          "hovermode": "closest",
          "mapbox": {
           "style": "light"
          },
          "paper_bgcolor": "white",
          "plot_bgcolor": "#E5ECF6",
          "polar": {
           "angularaxis": {
            "gridcolor": "white",
            "linecolor": "white",
            "ticks": ""
           },
           "bgcolor": "#E5ECF6",
           "radialaxis": {
            "gridcolor": "white",
            "linecolor": "white",
            "ticks": ""
           }
          },
          "scene": {
           "xaxis": {
            "backgroundcolor": "#E5ECF6",
            "gridcolor": "white",
            "gridwidth": 2,
            "linecolor": "white",
            "showbackground": true,
            "ticks": "",
            "zerolinecolor": "white"
           },
           "yaxis": {
            "backgroundcolor": "#E5ECF6",
            "gridcolor": "white",
            "gridwidth": 2,
            "linecolor": "white",
            "showbackground": true,
            "ticks": "",
            "zerolinecolor": "white"
           },
           "zaxis": {
            "backgroundcolor": "#E5ECF6",
            "gridcolor": "white",
            "gridwidth": 2,
            "linecolor": "white",
            "showbackground": true,
            "ticks": "",
            "zerolinecolor": "white"
           }
          },
          "shapedefaults": {
           "line": {
            "color": "#2a3f5f"
           }
          },
          "ternary": {
           "aaxis": {
            "gridcolor": "white",
            "linecolor": "white",
            "ticks": ""
           },
           "baxis": {
            "gridcolor": "white",
            "linecolor": "white",
            "ticks": ""
           },
           "bgcolor": "#E5ECF6",
           "caxis": {
            "gridcolor": "white",
            "linecolor": "white",
            "ticks": ""
           }
          },
          "title": {
           "x": 0.05
          },
          "xaxis": {
           "automargin": true,
           "gridcolor": "white",
           "linecolor": "white",
           "ticks": "",
           "title": {
            "standoff": 15
           },
           "zerolinecolor": "white",
           "zerolinewidth": 2
          },
          "yaxis": {
           "automargin": true,
           "gridcolor": "white",
           "linecolor": "white",
           "ticks": "",
           "title": {
            "standoff": 15
           },
           "zerolinecolor": "white",
           "zerolinewidth": 2
          }
         }
        }
       }
      },
      "text/html": [
       "<div>                            <div id=\"1db41de2-a049-49f8-9e65-da631097fb72\" class=\"plotly-graph-div\" style=\"height:525px; width:100%;\"></div>            <script type=\"text/javascript\">                require([\"plotly\"], function(Plotly) {                    window.PLOTLYENV=window.PLOTLYENV || {};                                    if (document.getElementById(\"1db41de2-a049-49f8-9e65-da631097fb72\")) {                    Plotly.newPlot(                        \"1db41de2-a049-49f8-9e65-da631097fb72\",                        [{\"mode\":\"lines+markers\",\"x\":[\"A\",\"B\",\"C\",\"D\"],\"y\":[20,14,23,15],\"type\":\"scatter\"}],                        {\"template\":{\"data\":{\"histogram2dcontour\":[{\"type\":\"histogram2dcontour\",\"colorbar\":{\"outlinewidth\":0,\"ticks\":\"\"},\"colorscale\":[[0.0,\"#0d0887\"],[0.1111111111111111,\"#46039f\"],[0.2222222222222222,\"#7201a8\"],[0.3333333333333333,\"#9c179e\"],[0.4444444444444444,\"#bd3786\"],[0.5555555555555556,\"#d8576b\"],[0.6666666666666666,\"#ed7953\"],[0.7777777777777778,\"#fb9f3a\"],[0.8888888888888888,\"#fdca26\"],[1.0,\"#f0f921\"]]}],\"choropleth\":[{\"type\":\"choropleth\",\"colorbar\":{\"outlinewidth\":0,\"ticks\":\"\"}}],\"histogram2d\":[{\"type\":\"histogram2d\",\"colorbar\":{\"outlinewidth\":0,\"ticks\":\"\"},\"colorscale\":[[0.0,\"#0d0887\"],[0.1111111111111111,\"#46039f\"],[0.2222222222222222,\"#7201a8\"],[0.3333333333333333,\"#9c179e\"],[0.4444444444444444,\"#bd3786\"],[0.5555555555555556,\"#d8576b\"],[0.6666666666666666,\"#ed7953\"],[0.7777777777777778,\"#fb9f3a\"],[0.8888888888888888,\"#fdca26\"],[1.0,\"#f0f921\"]]}],\"heatmap\":[{\"type\":\"heatmap\",\"colorbar\":{\"outlinewidth\":0,\"ticks\":\"\"},\"colorscale\":[[0.0,\"#0d0887\"],[0.1111111111111111,\"#46039f\"],[0.2222222222222222,\"#7201a8\"],[0.3333333333333333,\"#9c179e\"],[0.4444444444444444,\"#bd3786\"],[0.5555555555555556,\"#d8576b\"],[0.6666666666666666,\"#ed7953\"],[0.7777777777777778,\"#fb9f3a\"],[0.8888888888888888,\"#fdca26\"],[1.0,\"#f0f921\"]]}],\"heatmapgl\":[{\"type\":\"heatmapgl\",\"colorbar\":{\"outlinewidth\":0,\"ticks\":\"\"},\"colorscale\":[[0.0,\"#0d0887\"],[0.1111111111111111,\"#46039f\"],[0.2222222222222222,\"#7201a8\"],[0.3333333333333333,\"#9c179e\"],[0.4444444444444444,\"#bd3786\"],[0.5555555555555556,\"#d8576b\"],[0.6666666666666666,\"#ed7953\"],[0.7777777777777778,\"#fb9f3a\"],[0.8888888888888888,\"#fdca26\"],[1.0,\"#f0f921\"]]}],\"contourcarpet\":[{\"type\":\"contourcarpet\",\"colorbar\":{\"outlinewidth\":0,\"ticks\":\"\"}}],\"contour\":[{\"type\":\"contour\",\"colorbar\":{\"outlinewidth\":0,\"ticks\":\"\"},\"colorscale\":[[0.0,\"#0d0887\"],[0.1111111111111111,\"#46039f\"],[0.2222222222222222,\"#7201a8\"],[0.3333333333333333,\"#9c179e\"],[0.4444444444444444,\"#bd3786\"],[0.5555555555555556,\"#d8576b\"],[0.6666666666666666,\"#ed7953\"],[0.7777777777777778,\"#fb9f3a\"],[0.8888888888888888,\"#fdca26\"],[1.0,\"#f0f921\"]]}],\"surface\":[{\"type\":\"surface\",\"colorbar\":{\"outlinewidth\":0,\"ticks\":\"\"},\"colorscale\":[[0.0,\"#0d0887\"],[0.1111111111111111,\"#46039f\"],[0.2222222222222222,\"#7201a8\"],[0.3333333333333333,\"#9c179e\"],[0.4444444444444444,\"#bd3786\"],[0.5555555555555556,\"#d8576b\"],[0.6666666666666666,\"#ed7953\"],[0.7777777777777778,\"#fb9f3a\"],[0.8888888888888888,\"#fdca26\"],[1.0,\"#f0f921\"]]}],\"mesh3d\":[{\"type\":\"mesh3d\",\"colorbar\":{\"outlinewidth\":0,\"ticks\":\"\"}}],\"scatter\":[{\"fillpattern\":{\"fillmode\":\"overlay\",\"size\":10,\"solidity\":0.2},\"type\":\"scatter\"}],\"parcoords\":[{\"type\":\"parcoords\",\"line\":{\"colorbar\":{\"outlinewidth\":0,\"ticks\":\"\"}}}],\"scatterpolargl\":[{\"type\":\"scatterpolargl\",\"marker\":{\"colorbar\":{\"outlinewidth\":0,\"ticks\":\"\"}}}],\"bar\":[{\"error_x\":{\"color\":\"#2a3f5f\"},\"error_y\":{\"color\":\"#2a3f5f\"},\"marker\":{\"line\":{\"color\":\"#E5ECF6\",\"width\":0.5},\"pattern\":{\"fillmode\":\"overlay\",\"size\":10,\"solidity\":0.2}},\"type\":\"bar\"}],\"scattergeo\":[{\"type\":\"scattergeo\",\"marker\":{\"colorbar\":{\"outlinewidth\":0,\"ticks\":\"\"}}}],\"scatterpolar\":[{\"type\":\"scatterpolar\",\"marker\":{\"colorbar\":{\"outlinewidth\":0,\"ticks\":\"\"}}}],\"histogram\":[{\"marker\":{\"pattern\":{\"fillmode\":\"overlay\",\"size\":10,\"solidity\":0.2}},\"type\":\"histogram\"}],\"scattergl\":[{\"type\":\"scattergl\",\"marker\":{\"colorbar\":{\"outlinewidth\":0,\"ticks\":\"\"}}}],\"scatter3d\":[{\"type\":\"scatter3d\",\"line\":{\"colorbar\":{\"outlinewidth\":0,\"ticks\":\"\"}},\"marker\":{\"colorbar\":{\"outlinewidth\":0,\"ticks\":\"\"}}}],\"scattermapbox\":[{\"type\":\"scattermapbox\",\"marker\":{\"colorbar\":{\"outlinewidth\":0,\"ticks\":\"\"}}}],\"scatterternary\":[{\"type\":\"scatterternary\",\"marker\":{\"colorbar\":{\"outlinewidth\":0,\"ticks\":\"\"}}}],\"scattercarpet\":[{\"type\":\"scattercarpet\",\"marker\":{\"colorbar\":{\"outlinewidth\":0,\"ticks\":\"\"}}}],\"carpet\":[{\"aaxis\":{\"endlinecolor\":\"#2a3f5f\",\"gridcolor\":\"white\",\"linecolor\":\"white\",\"minorgridcolor\":\"white\",\"startlinecolor\":\"#2a3f5f\"},\"baxis\":{\"endlinecolor\":\"#2a3f5f\",\"gridcolor\":\"white\",\"linecolor\":\"white\",\"minorgridcolor\":\"white\",\"startlinecolor\":\"#2a3f5f\"},\"type\":\"carpet\"}],\"table\":[{\"cells\":{\"fill\":{\"color\":\"#EBF0F8\"},\"line\":{\"color\":\"white\"}},\"header\":{\"fill\":{\"color\":\"#C8D4E3\"},\"line\":{\"color\":\"white\"}},\"type\":\"table\"}],\"barpolar\":[{\"marker\":{\"line\":{\"color\":\"#E5ECF6\",\"width\":0.5},\"pattern\":{\"fillmode\":\"overlay\",\"size\":10,\"solidity\":0.2}},\"type\":\"barpolar\"}],\"pie\":[{\"automargin\":true,\"type\":\"pie\"}]},\"layout\":{\"autotypenumbers\":\"strict\",\"colorway\":[\"#636efa\",\"#EF553B\",\"#00cc96\",\"#ab63fa\",\"#FFA15A\",\"#19d3f3\",\"#FF6692\",\"#B6E880\",\"#FF97FF\",\"#FECB52\"],\"font\":{\"color\":\"#2a3f5f\"},\"hovermode\":\"closest\",\"hoverlabel\":{\"align\":\"left\"},\"paper_bgcolor\":\"white\",\"plot_bgcolor\":\"#E5ECF6\",\"polar\":{\"bgcolor\":\"#E5ECF6\",\"angularaxis\":{\"gridcolor\":\"white\",\"linecolor\":\"white\",\"ticks\":\"\"},\"radialaxis\":{\"gridcolor\":\"white\",\"linecolor\":\"white\",\"ticks\":\"\"}},\"ternary\":{\"bgcolor\":\"#E5ECF6\",\"aaxis\":{\"gridcolor\":\"white\",\"linecolor\":\"white\",\"ticks\":\"\"},\"baxis\":{\"gridcolor\":\"white\",\"linecolor\":\"white\",\"ticks\":\"\"},\"caxis\":{\"gridcolor\":\"white\",\"linecolor\":\"white\",\"ticks\":\"\"}},\"coloraxis\":{\"colorbar\":{\"outlinewidth\":0,\"ticks\":\"\"}},\"colorscale\":{\"sequential\":[[0.0,\"#0d0887\"],[0.1111111111111111,\"#46039f\"],[0.2222222222222222,\"#7201a8\"],[0.3333333333333333,\"#9c179e\"],[0.4444444444444444,\"#bd3786\"],[0.5555555555555556,\"#d8576b\"],[0.6666666666666666,\"#ed7953\"],[0.7777777777777778,\"#fb9f3a\"],[0.8888888888888888,\"#fdca26\"],[1.0,\"#f0f921\"]],\"sequentialminus\":[[0.0,\"#0d0887\"],[0.1111111111111111,\"#46039f\"],[0.2222222222222222,\"#7201a8\"],[0.3333333333333333,\"#9c179e\"],[0.4444444444444444,\"#bd3786\"],[0.5555555555555556,\"#d8576b\"],[0.6666666666666666,\"#ed7953\"],[0.7777777777777778,\"#fb9f3a\"],[0.8888888888888888,\"#fdca26\"],[1.0,\"#f0f921\"]],\"diverging\":[[0,\"#8e0152\"],[0.1,\"#c51b7d\"],[0.2,\"#de77ae\"],[0.3,\"#f1b6da\"],[0.4,\"#fde0ef\"],[0.5,\"#f7f7f7\"],[0.6,\"#e6f5d0\"],[0.7,\"#b8e186\"],[0.8,\"#7fbc41\"],[0.9,\"#4d9221\"],[1,\"#276419\"]]},\"xaxis\":{\"gridcolor\":\"white\",\"linecolor\":\"white\",\"ticks\":\"\",\"title\":{\"standoff\":15},\"zerolinecolor\":\"white\",\"automargin\":true,\"zerolinewidth\":2},\"yaxis\":{\"gridcolor\":\"white\",\"linecolor\":\"white\",\"ticks\":\"\",\"title\":{\"standoff\":15},\"zerolinecolor\":\"white\",\"automargin\":true,\"zerolinewidth\":2},\"scene\":{\"xaxis\":{\"backgroundcolor\":\"#E5ECF6\",\"gridcolor\":\"white\",\"linecolor\":\"white\",\"showbackground\":true,\"ticks\":\"\",\"zerolinecolor\":\"white\",\"gridwidth\":2},\"yaxis\":{\"backgroundcolor\":\"#E5ECF6\",\"gridcolor\":\"white\",\"linecolor\":\"white\",\"showbackground\":true,\"ticks\":\"\",\"zerolinecolor\":\"white\",\"gridwidth\":2},\"zaxis\":{\"backgroundcolor\":\"#E5ECF6\",\"gridcolor\":\"white\",\"linecolor\":\"white\",\"showbackground\":true,\"ticks\":\"\",\"zerolinecolor\":\"white\",\"gridwidth\":2}},\"shapedefaults\":{\"line\":{\"color\":\"#2a3f5f\"}},\"annotationdefaults\":{\"arrowcolor\":\"#2a3f5f\",\"arrowhead\":0,\"arrowwidth\":1},\"geo\":{\"bgcolor\":\"white\",\"landcolor\":\"#E5ECF6\",\"subunitcolor\":\"white\",\"showland\":true,\"showlakes\":true,\"lakecolor\":\"white\"},\"title\":{\"x\":0.05},\"mapbox\":{\"style\":\"light\"}}}},                        {\"responsive\": true}                    ).then(function(){\n",
       "                            \n",
       "var gd = document.getElementById('1db41de2-a049-49f8-9e65-da631097fb72');\n",
       "var x = new MutationObserver(function (mutations, observer) {{\n",
       "        var display = window.getComputedStyle(gd).display;\n",
       "        if (!display || display === 'none') {{\n",
       "            console.log([gd, 'removed!']);\n",
       "            Plotly.purge(gd);\n",
       "            observer.disconnect();\n",
       "        }}\n",
       "}});\n",
       "\n",
       "// Listen for the removal of the full notebook cells\n",
       "var notebookContainer = gd.closest('#notebook-container');\n",
       "if (notebookContainer) {{\n",
       "    x.observe(notebookContainer, {childList: true});\n",
       "}}\n",
       "\n",
       "// Listen for the clearing of the current output cell\n",
       "var outputEl = gd.closest('.output');\n",
       "if (outputEl) {{\n",
       "    x.observe(outputEl, {childList: true});\n",
       "}}\n",
       "\n",
       "                        })                };                });            </script>        </div>"
      ]
     },
     "metadata": {},
     "output_type": "display_data"
    }
   ],
   "source": [
    "data = [go.Scatter(\n",
    "        x = ['A', 'B', 'C', 'D'],\n",
    "        y = [20, 14, 23, 15],\n",
    "        mode = 'lines+markers'\n",
    "        )]\n",
    "\n",
    "fig = go.Figure(data = data)\n",
    "fig.show()"
   ]
  },
  {
   "cell_type": "code",
   "execution_count": 112,
   "metadata": {},
   "outputs": [
    {
     "data": {
      "application/vnd.plotly.v1+json": {
       "config": {
        "plotlyServerURL": "https://plot.ly"
       },
       "data": [
        {
         "type": "bar",
         "x": [
          "1.  Energy",
          "1.AA  Fuel Combustion - Sectoral approach",
          "1.AB  Fuel Combustion - Reference Approach",
          "1.AD  Feedstocks, Reductants and Other Non-energy Use of Fuels",
          "1.B  Fugitive Emissions from Fuels",
          "1.C  CO₂ Transport and Storage"
         ],
         "y": [
          "260930.35964980774",
          "253929.1588365228",
          "257643.31817877616",
          "11899.764487253333",
          "7001.200813284943",
          "NO"
         ]
        }
       ],
       "layout": {
        "template": {
         "data": {
          "bar": [
           {
            "error_x": {
             "color": "#2a3f5f"
            },
            "error_y": {
             "color": "#2a3f5f"
            },
            "marker": {
             "line": {
              "color": "#E5ECF6",
              "width": 0.5
             },
             "pattern": {
              "fillmode": "overlay",
              "size": 10,
              "solidity": 0.2
             }
            },
            "type": "bar"
           }
          ],
          "barpolar": [
           {
            "marker": {
             "line": {
              "color": "#E5ECF6",
              "width": 0.5
             },
             "pattern": {
              "fillmode": "overlay",
              "size": 10,
              "solidity": 0.2
             }
            },
            "type": "barpolar"
           }
          ],
          "carpet": [
           {
            "aaxis": {
             "endlinecolor": "#2a3f5f",
             "gridcolor": "white",
             "linecolor": "white",
             "minorgridcolor": "white",
             "startlinecolor": "#2a3f5f"
            },
            "baxis": {
             "endlinecolor": "#2a3f5f",
             "gridcolor": "white",
             "linecolor": "white",
             "minorgridcolor": "white",
             "startlinecolor": "#2a3f5f"
            },
            "type": "carpet"
           }
          ],
          "choropleth": [
           {
            "colorbar": {
             "outlinewidth": 0,
             "ticks": ""
            },
            "type": "choropleth"
           }
          ],
          "contour": [
           {
            "colorbar": {
             "outlinewidth": 0,
             "ticks": ""
            },
            "colorscale": [
             [
              0,
              "#0d0887"
             ],
             [
              0.1111111111111111,
              "#46039f"
             ],
             [
              0.2222222222222222,
              "#7201a8"
             ],
             [
              0.3333333333333333,
              "#9c179e"
             ],
             [
              0.4444444444444444,
              "#bd3786"
             ],
             [
              0.5555555555555556,
              "#d8576b"
             ],
             [
              0.6666666666666666,
              "#ed7953"
             ],
             [
              0.7777777777777778,
              "#fb9f3a"
             ],
             [
              0.8888888888888888,
              "#fdca26"
             ],
             [
              1,
              "#f0f921"
             ]
            ],
            "type": "contour"
           }
          ],
          "contourcarpet": [
           {
            "colorbar": {
             "outlinewidth": 0,
             "ticks": ""
            },
            "type": "contourcarpet"
           }
          ],
          "heatmap": [
           {
            "colorbar": {
             "outlinewidth": 0,
             "ticks": ""
            },
            "colorscale": [
             [
              0,
              "#0d0887"
             ],
             [
              0.1111111111111111,
              "#46039f"
             ],
             [
              0.2222222222222222,
              "#7201a8"
             ],
             [
              0.3333333333333333,
              "#9c179e"
             ],
             [
              0.4444444444444444,
              "#bd3786"
             ],
             [
              0.5555555555555556,
              "#d8576b"
             ],
             [
              0.6666666666666666,
              "#ed7953"
             ],
             [
              0.7777777777777778,
              "#fb9f3a"
             ],
             [
              0.8888888888888888,
              "#fdca26"
             ],
             [
              1,
              "#f0f921"
             ]
            ],
            "type": "heatmap"
           }
          ],
          "heatmapgl": [
           {
            "colorbar": {
             "outlinewidth": 0,
             "ticks": ""
            },
            "colorscale": [
             [
              0,
              "#0d0887"
             ],
             [
              0.1111111111111111,
              "#46039f"
             ],
             [
              0.2222222222222222,
              "#7201a8"
             ],
             [
              0.3333333333333333,
              "#9c179e"
             ],
             [
              0.4444444444444444,
              "#bd3786"
             ],
             [
              0.5555555555555556,
              "#d8576b"
             ],
             [
              0.6666666666666666,
              "#ed7953"
             ],
             [
              0.7777777777777778,
              "#fb9f3a"
             ],
             [
              0.8888888888888888,
              "#fdca26"
             ],
             [
              1,
              "#f0f921"
             ]
            ],
            "type": "heatmapgl"
           }
          ],
          "histogram": [
           {
            "marker": {
             "pattern": {
              "fillmode": "overlay",
              "size": 10,
              "solidity": 0.2
             }
            },
            "type": "histogram"
           }
          ],
          "histogram2d": [
           {
            "colorbar": {
             "outlinewidth": 0,
             "ticks": ""
            },
            "colorscale": [
             [
              0,
              "#0d0887"
             ],
             [
              0.1111111111111111,
              "#46039f"
             ],
             [
              0.2222222222222222,
              "#7201a8"
             ],
             [
              0.3333333333333333,
              "#9c179e"
             ],
             [
              0.4444444444444444,
              "#bd3786"
             ],
             [
              0.5555555555555556,
              "#d8576b"
             ],
             [
              0.6666666666666666,
              "#ed7953"
             ],
             [
              0.7777777777777778,
              "#fb9f3a"
             ],
             [
              0.8888888888888888,
              "#fdca26"
             ],
             [
              1,
              "#f0f921"
             ]
            ],
            "type": "histogram2d"
           }
          ],
          "histogram2dcontour": [
           {
            "colorbar": {
             "outlinewidth": 0,
             "ticks": ""
            },
            "colorscale": [
             [
              0,
              "#0d0887"
             ],
             [
              0.1111111111111111,
              "#46039f"
             ],
             [
              0.2222222222222222,
              "#7201a8"
             ],
             [
              0.3333333333333333,
              "#9c179e"
             ],
             [
              0.4444444444444444,
              "#bd3786"
             ],
             [
              0.5555555555555556,
              "#d8576b"
             ],
             [
              0.6666666666666666,
              "#ed7953"
             ],
             [
              0.7777777777777778,
              "#fb9f3a"
             ],
             [
              0.8888888888888888,
              "#fdca26"
             ],
             [
              1,
              "#f0f921"
             ]
            ],
            "type": "histogram2dcontour"
           }
          ],
          "mesh3d": [
           {
            "colorbar": {
             "outlinewidth": 0,
             "ticks": ""
            },
            "type": "mesh3d"
           }
          ],
          "parcoords": [
           {
            "line": {
             "colorbar": {
              "outlinewidth": 0,
              "ticks": ""
             }
            },
            "type": "parcoords"
           }
          ],
          "pie": [
           {
            "automargin": true,
            "type": "pie"
           }
          ],
          "scatter": [
           {
            "fillpattern": {
             "fillmode": "overlay",
             "size": 10,
             "solidity": 0.2
            },
            "type": "scatter"
           }
          ],
          "scatter3d": [
           {
            "line": {
             "colorbar": {
              "outlinewidth": 0,
              "ticks": ""
             }
            },
            "marker": {
             "colorbar": {
              "outlinewidth": 0,
              "ticks": ""
             }
            },
            "type": "scatter3d"
           }
          ],
          "scattercarpet": [
           {
            "marker": {
             "colorbar": {
              "outlinewidth": 0,
              "ticks": ""
             }
            },
            "type": "scattercarpet"
           }
          ],
          "scattergeo": [
           {
            "marker": {
             "colorbar": {
              "outlinewidth": 0,
              "ticks": ""
             }
            },
            "type": "scattergeo"
           }
          ],
          "scattergl": [
           {
            "marker": {
             "colorbar": {
              "outlinewidth": 0,
              "ticks": ""
             }
            },
            "type": "scattergl"
           }
          ],
          "scattermapbox": [
           {
            "marker": {
             "colorbar": {
              "outlinewidth": 0,
              "ticks": ""
             }
            },
            "type": "scattermapbox"
           }
          ],
          "scatterpolar": [
           {
            "marker": {
             "colorbar": {
              "outlinewidth": 0,
              "ticks": ""
             }
            },
            "type": "scatterpolar"
           }
          ],
          "scatterpolargl": [
           {
            "marker": {
             "colorbar": {
              "outlinewidth": 0,
              "ticks": ""
             }
            },
            "type": "scatterpolargl"
           }
          ],
          "scatterternary": [
           {
            "marker": {
             "colorbar": {
              "outlinewidth": 0,
              "ticks": ""
             }
            },
            "type": "scatterternary"
           }
          ],
          "surface": [
           {
            "colorbar": {
             "outlinewidth": 0,
             "ticks": ""
            },
            "colorscale": [
             [
              0,
              "#0d0887"
             ],
             [
              0.1111111111111111,
              "#46039f"
             ],
             [
              0.2222222222222222,
              "#7201a8"
             ],
             [
              0.3333333333333333,
              "#9c179e"
             ],
             [
              0.4444444444444444,
              "#bd3786"
             ],
             [
              0.5555555555555556,
              "#d8576b"
             ],
             [
              0.6666666666666666,
              "#ed7953"
             ],
             [
              0.7777777777777778,
              "#fb9f3a"
             ],
             [
              0.8888888888888888,
              "#fdca26"
             ],
             [
              1,
              "#f0f921"
             ]
            ],
            "type": "surface"
           }
          ],
          "table": [
           {
            "cells": {
             "fill": {
              "color": "#EBF0F8"
             },
             "line": {
              "color": "white"
             }
            },
            "header": {
             "fill": {
              "color": "#C8D4E3"
             },
             "line": {
              "color": "white"
             }
            },
            "type": "table"
           }
          ]
         },
         "layout": {
          "annotationdefaults": {
           "arrowcolor": "#2a3f5f",
           "arrowhead": 0,
           "arrowwidth": 1
          },
          "autotypenumbers": "strict",
          "coloraxis": {
           "colorbar": {
            "outlinewidth": 0,
            "ticks": ""
           }
          },
          "colorscale": {
           "diverging": [
            [
             0,
             "#8e0152"
            ],
            [
             0.1,
             "#c51b7d"
            ],
            [
             0.2,
             "#de77ae"
            ],
            [
             0.3,
             "#f1b6da"
            ],
            [
             0.4,
             "#fde0ef"
            ],
            [
             0.5,
             "#f7f7f7"
            ],
            [
             0.6,
             "#e6f5d0"
            ],
            [
             0.7,
             "#b8e186"
            ],
            [
             0.8,
             "#7fbc41"
            ],
            [
             0.9,
             "#4d9221"
            ],
            [
             1,
             "#276419"
            ]
           ],
           "sequential": [
            [
             0,
             "#0d0887"
            ],
            [
             0.1111111111111111,
             "#46039f"
            ],
            [
             0.2222222222222222,
             "#7201a8"
            ],
            [
             0.3333333333333333,
             "#9c179e"
            ],
            [
             0.4444444444444444,
             "#bd3786"
            ],
            [
             0.5555555555555556,
             "#d8576b"
            ],
            [
             0.6666666666666666,
             "#ed7953"
            ],
            [
             0.7777777777777778,
             "#fb9f3a"
            ],
            [
             0.8888888888888888,
             "#fdca26"
            ],
            [
             1,
             "#f0f921"
            ]
           ],
           "sequentialminus": [
            [
             0,
             "#0d0887"
            ],
            [
             0.1111111111111111,
             "#46039f"
            ],
            [
             0.2222222222222222,
             "#7201a8"
            ],
            [
             0.3333333333333333,
             "#9c179e"
            ],
            [
             0.4444444444444444,
             "#bd3786"
            ],
            [
             0.5555555555555556,
             "#d8576b"
            ],
            [
             0.6666666666666666,
             "#ed7953"
            ],
            [
             0.7777777777777778,
             "#fb9f3a"
            ],
            [
             0.8888888888888888,
             "#fdca26"
            ],
            [
             1,
             "#f0f921"
            ]
           ]
          },
          "colorway": [
           "#636efa",
           "#EF553B",
           "#00cc96",
           "#ab63fa",
           "#FFA15A",
           "#19d3f3",
           "#FF6692",
           "#B6E880",
           "#FF97FF",
           "#FECB52"
          ],
          "font": {
           "color": "#2a3f5f"
          },
          "geo": {
           "bgcolor": "white",
           "lakecolor": "white",
           "landcolor": "#E5ECF6",
           "showlakes": true,
           "showland": true,
           "subunitcolor": "white"
          },
          "hoverlabel": {
           "align": "left"
          },
          "hovermode": "closest",
          "mapbox": {
           "style": "light"
          },
          "paper_bgcolor": "white",
          "plot_bgcolor": "#E5ECF6",
          "polar": {
           "angularaxis": {
            "gridcolor": "white",
            "linecolor": "white",
            "ticks": ""
           },
           "bgcolor": "#E5ECF6",
           "radialaxis": {
            "gridcolor": "white",
            "linecolor": "white",
            "ticks": ""
           }
          },
          "scene": {
           "xaxis": {
            "backgroundcolor": "#E5ECF6",
            "gridcolor": "white",
            "gridwidth": 2,
            "linecolor": "white",
            "showbackground": true,
            "ticks": "",
            "zerolinecolor": "white"
           },
           "yaxis": {
            "backgroundcolor": "#E5ECF6",
            "gridcolor": "white",
            "gridwidth": 2,
            "linecolor": "white",
            "showbackground": true,
            "ticks": "",
            "zerolinecolor": "white"
           },
           "zaxis": {
            "backgroundcolor": "#E5ECF6",
            "gridcolor": "white",
            "gridwidth": 2,
            "linecolor": "white",
            "showbackground": true,
            "ticks": "",
            "zerolinecolor": "white"
           }
          },
          "shapedefaults": {
           "line": {
            "color": "#2a3f5f"
           }
          },
          "ternary": {
           "aaxis": {
            "gridcolor": "white",
            "linecolor": "white",
            "ticks": ""
           },
           "baxis": {
            "gridcolor": "white",
            "linecolor": "white",
            "ticks": ""
           },
           "bgcolor": "#E5ECF6",
           "caxis": {
            "gridcolor": "white",
            "linecolor": "white",
            "ticks": ""
           }
          },
          "title": {
           "x": 0.05
          },
          "xaxis": {
           "automargin": true,
           "gridcolor": "white",
           "linecolor": "white",
           "ticks": "",
           "title": {
            "standoff": 15
           },
           "zerolinecolor": "white",
           "zerolinewidth": 2
          },
          "yaxis": {
           "automargin": true,
           "gridcolor": "white",
           "linecolor": "white",
           "ticks": "",
           "title": {
            "standoff": 15
           },
           "zerolinecolor": "white",
           "zerolinewidth": 2
          }
         }
        }
       }
      },
      "text/html": [
       "<div>                            <div id=\"c3887c41-3602-4f30-9757-0c467ea1985e\" class=\"plotly-graph-div\" style=\"height:525px; width:100%;\"></div>            <script type=\"text/javascript\">                require([\"plotly\"], function(Plotly) {                    window.PLOTLYENV=window.PLOTLYENV || {};                                    if (document.getElementById(\"c3887c41-3602-4f30-9757-0c467ea1985e\")) {                    Plotly.newPlot(                        \"c3887c41-3602-4f30-9757-0c467ea1985e\",                        [{\"x\":[\"1.  Energy\",\"1.AA  Fuel Combustion - Sectoral approach\",\"1.AB  Fuel Combustion - Reference Approach\",\"1.AD  Feedstocks, Reductants and Other Non-energy Use of Fuels\",\"1.B  Fugitive Emissions from Fuels\",\"1.C  CO\\u2082 Transport and Storage\"],\"y\":[\"260930.35964980774\",\"253929.1588365228\",\"257643.31817877616\",\"11899.764487253333\",\"7001.200813284943\",\"NO\"],\"type\":\"bar\"}],                        {\"template\":{\"data\":{\"histogram2dcontour\":[{\"type\":\"histogram2dcontour\",\"colorbar\":{\"outlinewidth\":0,\"ticks\":\"\"},\"colorscale\":[[0.0,\"#0d0887\"],[0.1111111111111111,\"#46039f\"],[0.2222222222222222,\"#7201a8\"],[0.3333333333333333,\"#9c179e\"],[0.4444444444444444,\"#bd3786\"],[0.5555555555555556,\"#d8576b\"],[0.6666666666666666,\"#ed7953\"],[0.7777777777777778,\"#fb9f3a\"],[0.8888888888888888,\"#fdca26\"],[1.0,\"#f0f921\"]]}],\"choropleth\":[{\"type\":\"choropleth\",\"colorbar\":{\"outlinewidth\":0,\"ticks\":\"\"}}],\"histogram2d\":[{\"type\":\"histogram2d\",\"colorbar\":{\"outlinewidth\":0,\"ticks\":\"\"},\"colorscale\":[[0.0,\"#0d0887\"],[0.1111111111111111,\"#46039f\"],[0.2222222222222222,\"#7201a8\"],[0.3333333333333333,\"#9c179e\"],[0.4444444444444444,\"#bd3786\"],[0.5555555555555556,\"#d8576b\"],[0.6666666666666666,\"#ed7953\"],[0.7777777777777778,\"#fb9f3a\"],[0.8888888888888888,\"#fdca26\"],[1.0,\"#f0f921\"]]}],\"heatmap\":[{\"type\":\"heatmap\",\"colorbar\":{\"outlinewidth\":0,\"ticks\":\"\"},\"colorscale\":[[0.0,\"#0d0887\"],[0.1111111111111111,\"#46039f\"],[0.2222222222222222,\"#7201a8\"],[0.3333333333333333,\"#9c179e\"],[0.4444444444444444,\"#bd3786\"],[0.5555555555555556,\"#d8576b\"],[0.6666666666666666,\"#ed7953\"],[0.7777777777777778,\"#fb9f3a\"],[0.8888888888888888,\"#fdca26\"],[1.0,\"#f0f921\"]]}],\"heatmapgl\":[{\"type\":\"heatmapgl\",\"colorbar\":{\"outlinewidth\":0,\"ticks\":\"\"},\"colorscale\":[[0.0,\"#0d0887\"],[0.1111111111111111,\"#46039f\"],[0.2222222222222222,\"#7201a8\"],[0.3333333333333333,\"#9c179e\"],[0.4444444444444444,\"#bd3786\"],[0.5555555555555556,\"#d8576b\"],[0.6666666666666666,\"#ed7953\"],[0.7777777777777778,\"#fb9f3a\"],[0.8888888888888888,\"#fdca26\"],[1.0,\"#f0f921\"]]}],\"contourcarpet\":[{\"type\":\"contourcarpet\",\"colorbar\":{\"outlinewidth\":0,\"ticks\":\"\"}}],\"contour\":[{\"type\":\"contour\",\"colorbar\":{\"outlinewidth\":0,\"ticks\":\"\"},\"colorscale\":[[0.0,\"#0d0887\"],[0.1111111111111111,\"#46039f\"],[0.2222222222222222,\"#7201a8\"],[0.3333333333333333,\"#9c179e\"],[0.4444444444444444,\"#bd3786\"],[0.5555555555555556,\"#d8576b\"],[0.6666666666666666,\"#ed7953\"],[0.7777777777777778,\"#fb9f3a\"],[0.8888888888888888,\"#fdca26\"],[1.0,\"#f0f921\"]]}],\"surface\":[{\"type\":\"surface\",\"colorbar\":{\"outlinewidth\":0,\"ticks\":\"\"},\"colorscale\":[[0.0,\"#0d0887\"],[0.1111111111111111,\"#46039f\"],[0.2222222222222222,\"#7201a8\"],[0.3333333333333333,\"#9c179e\"],[0.4444444444444444,\"#bd3786\"],[0.5555555555555556,\"#d8576b\"],[0.6666666666666666,\"#ed7953\"],[0.7777777777777778,\"#fb9f3a\"],[0.8888888888888888,\"#fdca26\"],[1.0,\"#f0f921\"]]}],\"mesh3d\":[{\"type\":\"mesh3d\",\"colorbar\":{\"outlinewidth\":0,\"ticks\":\"\"}}],\"scatter\":[{\"fillpattern\":{\"fillmode\":\"overlay\",\"size\":10,\"solidity\":0.2},\"type\":\"scatter\"}],\"parcoords\":[{\"type\":\"parcoords\",\"line\":{\"colorbar\":{\"outlinewidth\":0,\"ticks\":\"\"}}}],\"scatterpolargl\":[{\"type\":\"scatterpolargl\",\"marker\":{\"colorbar\":{\"outlinewidth\":0,\"ticks\":\"\"}}}],\"bar\":[{\"error_x\":{\"color\":\"#2a3f5f\"},\"error_y\":{\"color\":\"#2a3f5f\"},\"marker\":{\"line\":{\"color\":\"#E5ECF6\",\"width\":0.5},\"pattern\":{\"fillmode\":\"overlay\",\"size\":10,\"solidity\":0.2}},\"type\":\"bar\"}],\"scattergeo\":[{\"type\":\"scattergeo\",\"marker\":{\"colorbar\":{\"outlinewidth\":0,\"ticks\":\"\"}}}],\"scatterpolar\":[{\"type\":\"scatterpolar\",\"marker\":{\"colorbar\":{\"outlinewidth\":0,\"ticks\":\"\"}}}],\"histogram\":[{\"marker\":{\"pattern\":{\"fillmode\":\"overlay\",\"size\":10,\"solidity\":0.2}},\"type\":\"histogram\"}],\"scattergl\":[{\"type\":\"scattergl\",\"marker\":{\"colorbar\":{\"outlinewidth\":0,\"ticks\":\"\"}}}],\"scatter3d\":[{\"type\":\"scatter3d\",\"line\":{\"colorbar\":{\"outlinewidth\":0,\"ticks\":\"\"}},\"marker\":{\"colorbar\":{\"outlinewidth\":0,\"ticks\":\"\"}}}],\"scattermapbox\":[{\"type\":\"scattermapbox\",\"marker\":{\"colorbar\":{\"outlinewidth\":0,\"ticks\":\"\"}}}],\"scatterternary\":[{\"type\":\"scatterternary\",\"marker\":{\"colorbar\":{\"outlinewidth\":0,\"ticks\":\"\"}}}],\"scattercarpet\":[{\"type\":\"scattercarpet\",\"marker\":{\"colorbar\":{\"outlinewidth\":0,\"ticks\":\"\"}}}],\"carpet\":[{\"aaxis\":{\"endlinecolor\":\"#2a3f5f\",\"gridcolor\":\"white\",\"linecolor\":\"white\",\"minorgridcolor\":\"white\",\"startlinecolor\":\"#2a3f5f\"},\"baxis\":{\"endlinecolor\":\"#2a3f5f\",\"gridcolor\":\"white\",\"linecolor\":\"white\",\"minorgridcolor\":\"white\",\"startlinecolor\":\"#2a3f5f\"},\"type\":\"carpet\"}],\"table\":[{\"cells\":{\"fill\":{\"color\":\"#EBF0F8\"},\"line\":{\"color\":\"white\"}},\"header\":{\"fill\":{\"color\":\"#C8D4E3\"},\"line\":{\"color\":\"white\"}},\"type\":\"table\"}],\"barpolar\":[{\"marker\":{\"line\":{\"color\":\"#E5ECF6\",\"width\":0.5},\"pattern\":{\"fillmode\":\"overlay\",\"size\":10,\"solidity\":0.2}},\"type\":\"barpolar\"}],\"pie\":[{\"automargin\":true,\"type\":\"pie\"}]},\"layout\":{\"autotypenumbers\":\"strict\",\"colorway\":[\"#636efa\",\"#EF553B\",\"#00cc96\",\"#ab63fa\",\"#FFA15A\",\"#19d3f3\",\"#FF6692\",\"#B6E880\",\"#FF97FF\",\"#FECB52\"],\"font\":{\"color\":\"#2a3f5f\"},\"hovermode\":\"closest\",\"hoverlabel\":{\"align\":\"left\"},\"paper_bgcolor\":\"white\",\"plot_bgcolor\":\"#E5ECF6\",\"polar\":{\"bgcolor\":\"#E5ECF6\",\"angularaxis\":{\"gridcolor\":\"white\",\"linecolor\":\"white\",\"ticks\":\"\"},\"radialaxis\":{\"gridcolor\":\"white\",\"linecolor\":\"white\",\"ticks\":\"\"}},\"ternary\":{\"bgcolor\":\"#E5ECF6\",\"aaxis\":{\"gridcolor\":\"white\",\"linecolor\":\"white\",\"ticks\":\"\"},\"baxis\":{\"gridcolor\":\"white\",\"linecolor\":\"white\",\"ticks\":\"\"},\"caxis\":{\"gridcolor\":\"white\",\"linecolor\":\"white\",\"ticks\":\"\"}},\"coloraxis\":{\"colorbar\":{\"outlinewidth\":0,\"ticks\":\"\"}},\"colorscale\":{\"sequential\":[[0.0,\"#0d0887\"],[0.1111111111111111,\"#46039f\"],[0.2222222222222222,\"#7201a8\"],[0.3333333333333333,\"#9c179e\"],[0.4444444444444444,\"#bd3786\"],[0.5555555555555556,\"#d8576b\"],[0.6666666666666666,\"#ed7953\"],[0.7777777777777778,\"#fb9f3a\"],[0.8888888888888888,\"#fdca26\"],[1.0,\"#f0f921\"]],\"sequentialminus\":[[0.0,\"#0d0887\"],[0.1111111111111111,\"#46039f\"],[0.2222222222222222,\"#7201a8\"],[0.3333333333333333,\"#9c179e\"],[0.4444444444444444,\"#bd3786\"],[0.5555555555555556,\"#d8576b\"],[0.6666666666666666,\"#ed7953\"],[0.7777777777777778,\"#fb9f3a\"],[0.8888888888888888,\"#fdca26\"],[1.0,\"#f0f921\"]],\"diverging\":[[0,\"#8e0152\"],[0.1,\"#c51b7d\"],[0.2,\"#de77ae\"],[0.3,\"#f1b6da\"],[0.4,\"#fde0ef\"],[0.5,\"#f7f7f7\"],[0.6,\"#e6f5d0\"],[0.7,\"#b8e186\"],[0.8,\"#7fbc41\"],[0.9,\"#4d9221\"],[1,\"#276419\"]]},\"xaxis\":{\"gridcolor\":\"white\",\"linecolor\":\"white\",\"ticks\":\"\",\"title\":{\"standoff\":15},\"zerolinecolor\":\"white\",\"automargin\":true,\"zerolinewidth\":2},\"yaxis\":{\"gridcolor\":\"white\",\"linecolor\":\"white\",\"ticks\":\"\",\"title\":{\"standoff\":15},\"zerolinecolor\":\"white\",\"automargin\":true,\"zerolinewidth\":2},\"scene\":{\"xaxis\":{\"backgroundcolor\":\"#E5ECF6\",\"gridcolor\":\"white\",\"linecolor\":\"white\",\"showbackground\":true,\"ticks\":\"\",\"zerolinecolor\":\"white\",\"gridwidth\":2},\"yaxis\":{\"backgroundcolor\":\"#E5ECF6\",\"gridcolor\":\"white\",\"linecolor\":\"white\",\"showbackground\":true,\"ticks\":\"\",\"zerolinecolor\":\"white\",\"gridwidth\":2},\"zaxis\":{\"backgroundcolor\":\"#E5ECF6\",\"gridcolor\":\"white\",\"linecolor\":\"white\",\"showbackground\":true,\"ticks\":\"\",\"zerolinecolor\":\"white\",\"gridwidth\":2}},\"shapedefaults\":{\"line\":{\"color\":\"#2a3f5f\"}},\"annotationdefaults\":{\"arrowcolor\":\"#2a3f5f\",\"arrowhead\":0,\"arrowwidth\":1},\"geo\":{\"bgcolor\":\"white\",\"landcolor\":\"#E5ECF6\",\"subunitcolor\":\"white\",\"showland\":true,\"showlakes\":true,\"lakecolor\":\"white\"},\"title\":{\"x\":0.05},\"mapbox\":{\"style\":\"light\"}}}},                        {\"responsive\": true}                    ).then(function(){\n",
       "                            \n",
       "var gd = document.getElementById('c3887c41-3602-4f30-9757-0c467ea1985e');\n",
       "var x = new MutationObserver(function (mutations, observer) {{\n",
       "        var display = window.getComputedStyle(gd).display;\n",
       "        if (!display || display === 'none') {{\n",
       "            console.log([gd, 'removed!']);\n",
       "            Plotly.purge(gd);\n",
       "            observer.disconnect();\n",
       "        }}\n",
       "}});\n",
       "\n",
       "// Listen for the removal of the full notebook cells\n",
       "var notebookContainer = gd.closest('#notebook-container');\n",
       "if (notebookContainer) {{\n",
       "    x.observe(notebookContainer, {childList: true});\n",
       "}}\n",
       "\n",
       "// Listen for the clearing of the current output cell\n",
       "var outputEl = gd.closest('.output');\n",
       "if (outputEl) {{\n",
       "    x.observe(outputEl, {childList: true});\n",
       "}}\n",
       "\n",
       "                        })                };                });            </script>        </div>"
      ]
     },
     "metadata": {},
     "output_type": "display_data"
    }
   ],
   "source": [
    "\n",
    "\n",
    "d2 = [go.Bar(\n",
    "        x = data2['Category'],\n",
    "        y = data2['1991']\n",
    "        )]\n",
    "\n",
    "fig = go.Figure(data = d2)\n",
    "fig.show()"
   ]
  },
  {
   "cell_type": "markdown",
   "metadata": {},
   "source": [
    "### Example 2: Visualising a Scatter Plot and a bar chart\n",
    "\n",
    "Use `px.scatter` and `px.bar`\n",
    "\n",
    "What do you observe? How can you make these graphs better?"
   ]
  },
  {
   "cell_type": "code",
   "execution_count": 117,
   "metadata": {},
   "outputs": [
    {
     "data": {
      "application/vnd.plotly.v1+json": {
       "config": {
        "plotlyServerURL": "https://plot.ly"
       },
       "data": [
        {
         "alignmentgroup": "True",
         "hovertemplate": "name=Point 1<br>x=%{x}<br>y=%{y}<extra></extra>",
         "legendgroup": "Point 1",
         "marker": {
          "color": "#636efa",
          "pattern": {
           "shape": ""
          }
         },
         "name": "Point 1",
         "offsetgroup": "Point 1",
         "orientation": "v",
         "showlegend": true,
         "textposition": "auto",
         "type": "bar",
         "x": [
          1
         ],
         "xaxis": "x",
         "y": [
          1
         ],
         "yaxis": "y"
        },
        {
         "alignmentgroup": "True",
         "hovertemplate": "name=Point 2<br>x=%{x}<br>y=%{y}<extra></extra>",
         "legendgroup": "Point 2",
         "marker": {
          "color": "#EF553B",
          "pattern": {
           "shape": ""
          }
         },
         "name": "Point 2",
         "offsetgroup": "Point 2",
         "orientation": "v",
         "showlegend": true,
         "textposition": "auto",
         "type": "bar",
         "x": [
          2
         ],
         "xaxis": "x",
         "y": [
          4
         ],
         "yaxis": "y"
        },
        {
         "alignmentgroup": "True",
         "hovertemplate": "name=Point 3<br>x=%{x}<br>y=%{y}<extra></extra>",
         "legendgroup": "Point 3",
         "marker": {
          "color": "#00cc96",
          "pattern": {
           "shape": ""
          }
         },
         "name": "Point 3",
         "offsetgroup": "Point 3",
         "orientation": "v",
         "showlegend": true,
         "textposition": "auto",
         "type": "bar",
         "x": [
          3
         ],
         "xaxis": "x",
         "y": [
          5
         ],
         "yaxis": "y"
        },
        {
         "alignmentgroup": "True",
         "hovertemplate": "name=Point 4<br>x=%{x}<br>y=%{y}<extra></extra>",
         "legendgroup": "Point 4",
         "marker": {
          "color": "#ab63fa",
          "pattern": {
           "shape": ""
          }
         },
         "name": "Point 4",
         "offsetgroup": "Point 4",
         "orientation": "v",
         "showlegend": true,
         "textposition": "auto",
         "type": "bar",
         "x": [
          4
         ],
         "xaxis": "x",
         "y": [
          2
         ],
         "yaxis": "y"
        },
        {
         "alignmentgroup": "True",
         "hovertemplate": "name=Point 5<br>x=%{x}<br>y=%{y}<extra></extra>",
         "legendgroup": "Point 5",
         "marker": {
          "color": "#FFA15A",
          "pattern": {
           "shape": ""
          }
         },
         "name": "Point 5",
         "offsetgroup": "Point 5",
         "orientation": "v",
         "showlegend": true,
         "textposition": "auto",
         "type": "bar",
         "x": [
          5
         ],
         "xaxis": "x",
         "y": [
          3
         ],
         "yaxis": "y"
        }
       ],
       "layout": {
        "barmode": "relative",
        "legend": {
         "title": {
          "text": "name"
         },
         "tracegroupgap": 0
        },
        "template": {
         "data": {
          "bar": [
           {
            "error_x": {
             "color": "#2a3f5f"
            },
            "error_y": {
             "color": "#2a3f5f"
            },
            "marker": {
             "line": {
              "color": "#E5ECF6",
              "width": 0.5
             },
             "pattern": {
              "fillmode": "overlay",
              "size": 10,
              "solidity": 0.2
             }
            },
            "type": "bar"
           }
          ],
          "barpolar": [
           {
            "marker": {
             "line": {
              "color": "#E5ECF6",
              "width": 0.5
             },
             "pattern": {
              "fillmode": "overlay",
              "size": 10,
              "solidity": 0.2
             }
            },
            "type": "barpolar"
           }
          ],
          "carpet": [
           {
            "aaxis": {
             "endlinecolor": "#2a3f5f",
             "gridcolor": "white",
             "linecolor": "white",
             "minorgridcolor": "white",
             "startlinecolor": "#2a3f5f"
            },
            "baxis": {
             "endlinecolor": "#2a3f5f",
             "gridcolor": "white",
             "linecolor": "white",
             "minorgridcolor": "white",
             "startlinecolor": "#2a3f5f"
            },
            "type": "carpet"
           }
          ],
          "choropleth": [
           {
            "colorbar": {
             "outlinewidth": 0,
             "ticks": ""
            },
            "type": "choropleth"
           }
          ],
          "contour": [
           {
            "colorbar": {
             "outlinewidth": 0,
             "ticks": ""
            },
            "colorscale": [
             [
              0,
              "#0d0887"
             ],
             [
              0.1111111111111111,
              "#46039f"
             ],
             [
              0.2222222222222222,
              "#7201a8"
             ],
             [
              0.3333333333333333,
              "#9c179e"
             ],
             [
              0.4444444444444444,
              "#bd3786"
             ],
             [
              0.5555555555555556,
              "#d8576b"
             ],
             [
              0.6666666666666666,
              "#ed7953"
             ],
             [
              0.7777777777777778,
              "#fb9f3a"
             ],
             [
              0.8888888888888888,
              "#fdca26"
             ],
             [
              1,
              "#f0f921"
             ]
            ],
            "type": "contour"
           }
          ],
          "contourcarpet": [
           {
            "colorbar": {
             "outlinewidth": 0,
             "ticks": ""
            },
            "type": "contourcarpet"
           }
          ],
          "heatmap": [
           {
            "colorbar": {
             "outlinewidth": 0,
             "ticks": ""
            },
            "colorscale": [
             [
              0,
              "#0d0887"
             ],
             [
              0.1111111111111111,
              "#46039f"
             ],
             [
              0.2222222222222222,
              "#7201a8"
             ],
             [
              0.3333333333333333,
              "#9c179e"
             ],
             [
              0.4444444444444444,
              "#bd3786"
             ],
             [
              0.5555555555555556,
              "#d8576b"
             ],
             [
              0.6666666666666666,
              "#ed7953"
             ],
             [
              0.7777777777777778,
              "#fb9f3a"
             ],
             [
              0.8888888888888888,
              "#fdca26"
             ],
             [
              1,
              "#f0f921"
             ]
            ],
            "type": "heatmap"
           }
          ],
          "heatmapgl": [
           {
            "colorbar": {
             "outlinewidth": 0,
             "ticks": ""
            },
            "colorscale": [
             [
              0,
              "#0d0887"
             ],
             [
              0.1111111111111111,
              "#46039f"
             ],
             [
              0.2222222222222222,
              "#7201a8"
             ],
             [
              0.3333333333333333,
              "#9c179e"
             ],
             [
              0.4444444444444444,
              "#bd3786"
             ],
             [
              0.5555555555555556,
              "#d8576b"
             ],
             [
              0.6666666666666666,
              "#ed7953"
             ],
             [
              0.7777777777777778,
              "#fb9f3a"
             ],
             [
              0.8888888888888888,
              "#fdca26"
             ],
             [
              1,
              "#f0f921"
             ]
            ],
            "type": "heatmapgl"
           }
          ],
          "histogram": [
           {
            "marker": {
             "pattern": {
              "fillmode": "overlay",
              "size": 10,
              "solidity": 0.2
             }
            },
            "type": "histogram"
           }
          ],
          "histogram2d": [
           {
            "colorbar": {
             "outlinewidth": 0,
             "ticks": ""
            },
            "colorscale": [
             [
              0,
              "#0d0887"
             ],
             [
              0.1111111111111111,
              "#46039f"
             ],
             [
              0.2222222222222222,
              "#7201a8"
             ],
             [
              0.3333333333333333,
              "#9c179e"
             ],
             [
              0.4444444444444444,
              "#bd3786"
             ],
             [
              0.5555555555555556,
              "#d8576b"
             ],
             [
              0.6666666666666666,
              "#ed7953"
             ],
             [
              0.7777777777777778,
              "#fb9f3a"
             ],
             [
              0.8888888888888888,
              "#fdca26"
             ],
             [
              1,
              "#f0f921"
             ]
            ],
            "type": "histogram2d"
           }
          ],
          "histogram2dcontour": [
           {
            "colorbar": {
             "outlinewidth": 0,
             "ticks": ""
            },
            "colorscale": [
             [
              0,
              "#0d0887"
             ],
             [
              0.1111111111111111,
              "#46039f"
             ],
             [
              0.2222222222222222,
              "#7201a8"
             ],
             [
              0.3333333333333333,
              "#9c179e"
             ],
             [
              0.4444444444444444,
              "#bd3786"
             ],
             [
              0.5555555555555556,
              "#d8576b"
             ],
             [
              0.6666666666666666,
              "#ed7953"
             ],
             [
              0.7777777777777778,
              "#fb9f3a"
             ],
             [
              0.8888888888888888,
              "#fdca26"
             ],
             [
              1,
              "#f0f921"
             ]
            ],
            "type": "histogram2dcontour"
           }
          ],
          "mesh3d": [
           {
            "colorbar": {
             "outlinewidth": 0,
             "ticks": ""
            },
            "type": "mesh3d"
           }
          ],
          "parcoords": [
           {
            "line": {
             "colorbar": {
              "outlinewidth": 0,
              "ticks": ""
             }
            },
            "type": "parcoords"
           }
          ],
          "pie": [
           {
            "automargin": true,
            "type": "pie"
           }
          ],
          "scatter": [
           {
            "fillpattern": {
             "fillmode": "overlay",
             "size": 10,
             "solidity": 0.2
            },
            "type": "scatter"
           }
          ],
          "scatter3d": [
           {
            "line": {
             "colorbar": {
              "outlinewidth": 0,
              "ticks": ""
             }
            },
            "marker": {
             "colorbar": {
              "outlinewidth": 0,
              "ticks": ""
             }
            },
            "type": "scatter3d"
           }
          ],
          "scattercarpet": [
           {
            "marker": {
             "colorbar": {
              "outlinewidth": 0,
              "ticks": ""
             }
            },
            "type": "scattercarpet"
           }
          ],
          "scattergeo": [
           {
            "marker": {
             "colorbar": {
              "outlinewidth": 0,
              "ticks": ""
             }
            },
            "type": "scattergeo"
           }
          ],
          "scattergl": [
           {
            "marker": {
             "colorbar": {
              "outlinewidth": 0,
              "ticks": ""
             }
            },
            "type": "scattergl"
           }
          ],
          "scattermapbox": [
           {
            "marker": {
             "colorbar": {
              "outlinewidth": 0,
              "ticks": ""
             }
            },
            "type": "scattermapbox"
           }
          ],
          "scatterpolar": [
           {
            "marker": {
             "colorbar": {
              "outlinewidth": 0,
              "ticks": ""
             }
            },
            "type": "scatterpolar"
           }
          ],
          "scatterpolargl": [
           {
            "marker": {
             "colorbar": {
              "outlinewidth": 0,
              "ticks": ""
             }
            },
            "type": "scatterpolargl"
           }
          ],
          "scatterternary": [
           {
            "marker": {
             "colorbar": {
              "outlinewidth": 0,
              "ticks": ""
             }
            },
            "type": "scatterternary"
           }
          ],
          "surface": [
           {
            "colorbar": {
             "outlinewidth": 0,
             "ticks": ""
            },
            "colorscale": [
             [
              0,
              "#0d0887"
             ],
             [
              0.1111111111111111,
              "#46039f"
             ],
             [
              0.2222222222222222,
              "#7201a8"
             ],
             [
              0.3333333333333333,
              "#9c179e"
             ],
             [
              0.4444444444444444,
              "#bd3786"
             ],
             [
              0.5555555555555556,
              "#d8576b"
             ],
             [
              0.6666666666666666,
              "#ed7953"
             ],
             [
              0.7777777777777778,
              "#fb9f3a"
             ],
             [
              0.8888888888888888,
              "#fdca26"
             ],
             [
              1,
              "#f0f921"
             ]
            ],
            "type": "surface"
           }
          ],
          "table": [
           {
            "cells": {
             "fill": {
              "color": "#EBF0F8"
             },
             "line": {
              "color": "white"
             }
            },
            "header": {
             "fill": {
              "color": "#C8D4E3"
             },
             "line": {
              "color": "white"
             }
            },
            "type": "table"
           }
          ]
         },
         "layout": {
          "annotationdefaults": {
           "arrowcolor": "#2a3f5f",
           "arrowhead": 0,
           "arrowwidth": 1
          },
          "autotypenumbers": "strict",
          "coloraxis": {
           "colorbar": {
            "outlinewidth": 0,
            "ticks": ""
           }
          },
          "colorscale": {
           "diverging": [
            [
             0,
             "#8e0152"
            ],
            [
             0.1,
             "#c51b7d"
            ],
            [
             0.2,
             "#de77ae"
            ],
            [
             0.3,
             "#f1b6da"
            ],
            [
             0.4,
             "#fde0ef"
            ],
            [
             0.5,
             "#f7f7f7"
            ],
            [
             0.6,
             "#e6f5d0"
            ],
            [
             0.7,
             "#b8e186"
            ],
            [
             0.8,
             "#7fbc41"
            ],
            [
             0.9,
             "#4d9221"
            ],
            [
             1,
             "#276419"
            ]
           ],
           "sequential": [
            [
             0,
             "#0d0887"
            ],
            [
             0.1111111111111111,
             "#46039f"
            ],
            [
             0.2222222222222222,
             "#7201a8"
            ],
            [
             0.3333333333333333,
             "#9c179e"
            ],
            [
             0.4444444444444444,
             "#bd3786"
            ],
            [
             0.5555555555555556,
             "#d8576b"
            ],
            [
             0.6666666666666666,
             "#ed7953"
            ],
            [
             0.7777777777777778,
             "#fb9f3a"
            ],
            [
             0.8888888888888888,
             "#fdca26"
            ],
            [
             1,
             "#f0f921"
            ]
           ],
           "sequentialminus": [
            [
             0,
             "#0d0887"
            ],
            [
             0.1111111111111111,
             "#46039f"
            ],
            [
             0.2222222222222222,
             "#7201a8"
            ],
            [
             0.3333333333333333,
             "#9c179e"
            ],
            [
             0.4444444444444444,
             "#bd3786"
            ],
            [
             0.5555555555555556,
             "#d8576b"
            ],
            [
             0.6666666666666666,
             "#ed7953"
            ],
            [
             0.7777777777777778,
             "#fb9f3a"
            ],
            [
             0.8888888888888888,
             "#fdca26"
            ],
            [
             1,
             "#f0f921"
            ]
           ]
          },
          "colorway": [
           "#636efa",
           "#EF553B",
           "#00cc96",
           "#ab63fa",
           "#FFA15A",
           "#19d3f3",
           "#FF6692",
           "#B6E880",
           "#FF97FF",
           "#FECB52"
          ],
          "font": {
           "color": "#2a3f5f"
          },
          "geo": {
           "bgcolor": "white",
           "lakecolor": "white",
           "landcolor": "#E5ECF6",
           "showlakes": true,
           "showland": true,
           "subunitcolor": "white"
          },
          "hoverlabel": {
           "align": "left"
          },
          "hovermode": "closest",
          "mapbox": {
           "style": "light"
          },
          "paper_bgcolor": "white",
          "plot_bgcolor": "#E5ECF6",
          "polar": {
           "angularaxis": {
            "gridcolor": "white",
            "linecolor": "white",
            "ticks": ""
           },
           "bgcolor": "#E5ECF6",
           "radialaxis": {
            "gridcolor": "white",
            "linecolor": "white",
            "ticks": ""
           }
          },
          "scene": {
           "xaxis": {
            "backgroundcolor": "#E5ECF6",
            "gridcolor": "white",
            "gridwidth": 2,
            "linecolor": "white",
            "showbackground": true,
            "ticks": "",
            "zerolinecolor": "white"
           },
           "yaxis": {
            "backgroundcolor": "#E5ECF6",
            "gridcolor": "white",
            "gridwidth": 2,
            "linecolor": "white",
            "showbackground": true,
            "ticks": "",
            "zerolinecolor": "white"
           },
           "zaxis": {
            "backgroundcolor": "#E5ECF6",
            "gridcolor": "white",
            "gridwidth": 2,
            "linecolor": "white",
            "showbackground": true,
            "ticks": "",
            "zerolinecolor": "white"
           }
          },
          "shapedefaults": {
           "line": {
            "color": "#2a3f5f"
           }
          },
          "ternary": {
           "aaxis": {
            "gridcolor": "white",
            "linecolor": "white",
            "ticks": ""
           },
           "baxis": {
            "gridcolor": "white",
            "linecolor": "white",
            "ticks": ""
           },
           "bgcolor": "#E5ECF6",
           "caxis": {
            "gridcolor": "white",
            "linecolor": "white",
            "ticks": ""
           }
          },
          "title": {
           "x": 0.05
          },
          "xaxis": {
           "automargin": true,
           "gridcolor": "white",
           "linecolor": "white",
           "ticks": "",
           "title": {
            "standoff": 15
           },
           "zerolinecolor": "white",
           "zerolinewidth": 2
          },
          "yaxis": {
           "automargin": true,
           "gridcolor": "white",
           "linecolor": "white",
           "ticks": "",
           "title": {
            "standoff": 15
           },
           "zerolinecolor": "white",
           "zerolinewidth": 2
          }
         }
        },
        "title": {
         "text": "Scatter Plot Visualisation"
        },
        "xaxis": {
         "anchor": "y",
         "domain": [
          0,
          1
         ],
         "title": {
          "text": "x"
         }
        },
        "yaxis": {
         "anchor": "x",
         "domain": [
          0,
          1
         ],
         "title": {
          "text": "y"
         }
        }
       }
      },
      "text/html": [
       "<div>                            <div id=\"d70a0794-e8e4-4a28-89c7-eb1528325af1\" class=\"plotly-graph-div\" style=\"height:525px; width:100%;\"></div>            <script type=\"text/javascript\">                require([\"plotly\"], function(Plotly) {                    window.PLOTLYENV=window.PLOTLYENV || {};                                    if (document.getElementById(\"d70a0794-e8e4-4a28-89c7-eb1528325af1\")) {                    Plotly.newPlot(                        \"d70a0794-e8e4-4a28-89c7-eb1528325af1\",                        [{\"alignmentgroup\":\"True\",\"hovertemplate\":\"name=Point 1<br>x=%{x}<br>y=%{y}<extra></extra>\",\"legendgroup\":\"Point 1\",\"marker\":{\"color\":\"#636efa\",\"pattern\":{\"shape\":\"\"}},\"name\":\"Point 1\",\"offsetgroup\":\"Point 1\",\"orientation\":\"v\",\"showlegend\":true,\"textposition\":\"auto\",\"x\":[1],\"xaxis\":\"x\",\"y\":[1],\"yaxis\":\"y\",\"type\":\"bar\"},{\"alignmentgroup\":\"True\",\"hovertemplate\":\"name=Point 2<br>x=%{x}<br>y=%{y}<extra></extra>\",\"legendgroup\":\"Point 2\",\"marker\":{\"color\":\"#EF553B\",\"pattern\":{\"shape\":\"\"}},\"name\":\"Point 2\",\"offsetgroup\":\"Point 2\",\"orientation\":\"v\",\"showlegend\":true,\"textposition\":\"auto\",\"x\":[2],\"xaxis\":\"x\",\"y\":[4],\"yaxis\":\"y\",\"type\":\"bar\"},{\"alignmentgroup\":\"True\",\"hovertemplate\":\"name=Point 3<br>x=%{x}<br>y=%{y}<extra></extra>\",\"legendgroup\":\"Point 3\",\"marker\":{\"color\":\"#00cc96\",\"pattern\":{\"shape\":\"\"}},\"name\":\"Point 3\",\"offsetgroup\":\"Point 3\",\"orientation\":\"v\",\"showlegend\":true,\"textposition\":\"auto\",\"x\":[3],\"xaxis\":\"x\",\"y\":[5],\"yaxis\":\"y\",\"type\":\"bar\"},{\"alignmentgroup\":\"True\",\"hovertemplate\":\"name=Point 4<br>x=%{x}<br>y=%{y}<extra></extra>\",\"legendgroup\":\"Point 4\",\"marker\":{\"color\":\"#ab63fa\",\"pattern\":{\"shape\":\"\"}},\"name\":\"Point 4\",\"offsetgroup\":\"Point 4\",\"orientation\":\"v\",\"showlegend\":true,\"textposition\":\"auto\",\"x\":[4],\"xaxis\":\"x\",\"y\":[2],\"yaxis\":\"y\",\"type\":\"bar\"},{\"alignmentgroup\":\"True\",\"hovertemplate\":\"name=Point 5<br>x=%{x}<br>y=%{y}<extra></extra>\",\"legendgroup\":\"Point 5\",\"marker\":{\"color\":\"#FFA15A\",\"pattern\":{\"shape\":\"\"}},\"name\":\"Point 5\",\"offsetgroup\":\"Point 5\",\"orientation\":\"v\",\"showlegend\":true,\"textposition\":\"auto\",\"x\":[5],\"xaxis\":\"x\",\"y\":[3],\"yaxis\":\"y\",\"type\":\"bar\"}],                        {\"template\":{\"data\":{\"histogram2dcontour\":[{\"type\":\"histogram2dcontour\",\"colorbar\":{\"outlinewidth\":0,\"ticks\":\"\"},\"colorscale\":[[0.0,\"#0d0887\"],[0.1111111111111111,\"#46039f\"],[0.2222222222222222,\"#7201a8\"],[0.3333333333333333,\"#9c179e\"],[0.4444444444444444,\"#bd3786\"],[0.5555555555555556,\"#d8576b\"],[0.6666666666666666,\"#ed7953\"],[0.7777777777777778,\"#fb9f3a\"],[0.8888888888888888,\"#fdca26\"],[1.0,\"#f0f921\"]]}],\"choropleth\":[{\"type\":\"choropleth\",\"colorbar\":{\"outlinewidth\":0,\"ticks\":\"\"}}],\"histogram2d\":[{\"type\":\"histogram2d\",\"colorbar\":{\"outlinewidth\":0,\"ticks\":\"\"},\"colorscale\":[[0.0,\"#0d0887\"],[0.1111111111111111,\"#46039f\"],[0.2222222222222222,\"#7201a8\"],[0.3333333333333333,\"#9c179e\"],[0.4444444444444444,\"#bd3786\"],[0.5555555555555556,\"#d8576b\"],[0.6666666666666666,\"#ed7953\"],[0.7777777777777778,\"#fb9f3a\"],[0.8888888888888888,\"#fdca26\"],[1.0,\"#f0f921\"]]}],\"heatmap\":[{\"type\":\"heatmap\",\"colorbar\":{\"outlinewidth\":0,\"ticks\":\"\"},\"colorscale\":[[0.0,\"#0d0887\"],[0.1111111111111111,\"#46039f\"],[0.2222222222222222,\"#7201a8\"],[0.3333333333333333,\"#9c179e\"],[0.4444444444444444,\"#bd3786\"],[0.5555555555555556,\"#d8576b\"],[0.6666666666666666,\"#ed7953\"],[0.7777777777777778,\"#fb9f3a\"],[0.8888888888888888,\"#fdca26\"],[1.0,\"#f0f921\"]]}],\"heatmapgl\":[{\"type\":\"heatmapgl\",\"colorbar\":{\"outlinewidth\":0,\"ticks\":\"\"},\"colorscale\":[[0.0,\"#0d0887\"],[0.1111111111111111,\"#46039f\"],[0.2222222222222222,\"#7201a8\"],[0.3333333333333333,\"#9c179e\"],[0.4444444444444444,\"#bd3786\"],[0.5555555555555556,\"#d8576b\"],[0.6666666666666666,\"#ed7953\"],[0.7777777777777778,\"#fb9f3a\"],[0.8888888888888888,\"#fdca26\"],[1.0,\"#f0f921\"]]}],\"contourcarpet\":[{\"type\":\"contourcarpet\",\"colorbar\":{\"outlinewidth\":0,\"ticks\":\"\"}}],\"contour\":[{\"type\":\"contour\",\"colorbar\":{\"outlinewidth\":0,\"ticks\":\"\"},\"colorscale\":[[0.0,\"#0d0887\"],[0.1111111111111111,\"#46039f\"],[0.2222222222222222,\"#7201a8\"],[0.3333333333333333,\"#9c179e\"],[0.4444444444444444,\"#bd3786\"],[0.5555555555555556,\"#d8576b\"],[0.6666666666666666,\"#ed7953\"],[0.7777777777777778,\"#fb9f3a\"],[0.8888888888888888,\"#fdca26\"],[1.0,\"#f0f921\"]]}],\"surface\":[{\"type\":\"surface\",\"colorbar\":{\"outlinewidth\":0,\"ticks\":\"\"},\"colorscale\":[[0.0,\"#0d0887\"],[0.1111111111111111,\"#46039f\"],[0.2222222222222222,\"#7201a8\"],[0.3333333333333333,\"#9c179e\"],[0.4444444444444444,\"#bd3786\"],[0.5555555555555556,\"#d8576b\"],[0.6666666666666666,\"#ed7953\"],[0.7777777777777778,\"#fb9f3a\"],[0.8888888888888888,\"#fdca26\"],[1.0,\"#f0f921\"]]}],\"mesh3d\":[{\"type\":\"mesh3d\",\"colorbar\":{\"outlinewidth\":0,\"ticks\":\"\"}}],\"scatter\":[{\"fillpattern\":{\"fillmode\":\"overlay\",\"size\":10,\"solidity\":0.2},\"type\":\"scatter\"}],\"parcoords\":[{\"type\":\"parcoords\",\"line\":{\"colorbar\":{\"outlinewidth\":0,\"ticks\":\"\"}}}],\"scatterpolargl\":[{\"type\":\"scatterpolargl\",\"marker\":{\"colorbar\":{\"outlinewidth\":0,\"ticks\":\"\"}}}],\"bar\":[{\"error_x\":{\"color\":\"#2a3f5f\"},\"error_y\":{\"color\":\"#2a3f5f\"},\"marker\":{\"line\":{\"color\":\"#E5ECF6\",\"width\":0.5},\"pattern\":{\"fillmode\":\"overlay\",\"size\":10,\"solidity\":0.2}},\"type\":\"bar\"}],\"scattergeo\":[{\"type\":\"scattergeo\",\"marker\":{\"colorbar\":{\"outlinewidth\":0,\"ticks\":\"\"}}}],\"scatterpolar\":[{\"type\":\"scatterpolar\",\"marker\":{\"colorbar\":{\"outlinewidth\":0,\"ticks\":\"\"}}}],\"histogram\":[{\"marker\":{\"pattern\":{\"fillmode\":\"overlay\",\"size\":10,\"solidity\":0.2}},\"type\":\"histogram\"}],\"scattergl\":[{\"type\":\"scattergl\",\"marker\":{\"colorbar\":{\"outlinewidth\":0,\"ticks\":\"\"}}}],\"scatter3d\":[{\"type\":\"scatter3d\",\"line\":{\"colorbar\":{\"outlinewidth\":0,\"ticks\":\"\"}},\"marker\":{\"colorbar\":{\"outlinewidth\":0,\"ticks\":\"\"}}}],\"scattermapbox\":[{\"type\":\"scattermapbox\",\"marker\":{\"colorbar\":{\"outlinewidth\":0,\"ticks\":\"\"}}}],\"scatterternary\":[{\"type\":\"scatterternary\",\"marker\":{\"colorbar\":{\"outlinewidth\":0,\"ticks\":\"\"}}}],\"scattercarpet\":[{\"type\":\"scattercarpet\",\"marker\":{\"colorbar\":{\"outlinewidth\":0,\"ticks\":\"\"}}}],\"carpet\":[{\"aaxis\":{\"endlinecolor\":\"#2a3f5f\",\"gridcolor\":\"white\",\"linecolor\":\"white\",\"minorgridcolor\":\"white\",\"startlinecolor\":\"#2a3f5f\"},\"baxis\":{\"endlinecolor\":\"#2a3f5f\",\"gridcolor\":\"white\",\"linecolor\":\"white\",\"minorgridcolor\":\"white\",\"startlinecolor\":\"#2a3f5f\"},\"type\":\"carpet\"}],\"table\":[{\"cells\":{\"fill\":{\"color\":\"#EBF0F8\"},\"line\":{\"color\":\"white\"}},\"header\":{\"fill\":{\"color\":\"#C8D4E3\"},\"line\":{\"color\":\"white\"}},\"type\":\"table\"}],\"barpolar\":[{\"marker\":{\"line\":{\"color\":\"#E5ECF6\",\"width\":0.5},\"pattern\":{\"fillmode\":\"overlay\",\"size\":10,\"solidity\":0.2}},\"type\":\"barpolar\"}],\"pie\":[{\"automargin\":true,\"type\":\"pie\"}]},\"layout\":{\"autotypenumbers\":\"strict\",\"colorway\":[\"#636efa\",\"#EF553B\",\"#00cc96\",\"#ab63fa\",\"#FFA15A\",\"#19d3f3\",\"#FF6692\",\"#B6E880\",\"#FF97FF\",\"#FECB52\"],\"font\":{\"color\":\"#2a3f5f\"},\"hovermode\":\"closest\",\"hoverlabel\":{\"align\":\"left\"},\"paper_bgcolor\":\"white\",\"plot_bgcolor\":\"#E5ECF6\",\"polar\":{\"bgcolor\":\"#E5ECF6\",\"angularaxis\":{\"gridcolor\":\"white\",\"linecolor\":\"white\",\"ticks\":\"\"},\"radialaxis\":{\"gridcolor\":\"white\",\"linecolor\":\"white\",\"ticks\":\"\"}},\"ternary\":{\"bgcolor\":\"#E5ECF6\",\"aaxis\":{\"gridcolor\":\"white\",\"linecolor\":\"white\",\"ticks\":\"\"},\"baxis\":{\"gridcolor\":\"white\",\"linecolor\":\"white\",\"ticks\":\"\"},\"caxis\":{\"gridcolor\":\"white\",\"linecolor\":\"white\",\"ticks\":\"\"}},\"coloraxis\":{\"colorbar\":{\"outlinewidth\":0,\"ticks\":\"\"}},\"colorscale\":{\"sequential\":[[0.0,\"#0d0887\"],[0.1111111111111111,\"#46039f\"],[0.2222222222222222,\"#7201a8\"],[0.3333333333333333,\"#9c179e\"],[0.4444444444444444,\"#bd3786\"],[0.5555555555555556,\"#d8576b\"],[0.6666666666666666,\"#ed7953\"],[0.7777777777777778,\"#fb9f3a\"],[0.8888888888888888,\"#fdca26\"],[1.0,\"#f0f921\"]],\"sequentialminus\":[[0.0,\"#0d0887\"],[0.1111111111111111,\"#46039f\"],[0.2222222222222222,\"#7201a8\"],[0.3333333333333333,\"#9c179e\"],[0.4444444444444444,\"#bd3786\"],[0.5555555555555556,\"#d8576b\"],[0.6666666666666666,\"#ed7953\"],[0.7777777777777778,\"#fb9f3a\"],[0.8888888888888888,\"#fdca26\"],[1.0,\"#f0f921\"]],\"diverging\":[[0,\"#8e0152\"],[0.1,\"#c51b7d\"],[0.2,\"#de77ae\"],[0.3,\"#f1b6da\"],[0.4,\"#fde0ef\"],[0.5,\"#f7f7f7\"],[0.6,\"#e6f5d0\"],[0.7,\"#b8e186\"],[0.8,\"#7fbc41\"],[0.9,\"#4d9221\"],[1,\"#276419\"]]},\"xaxis\":{\"gridcolor\":\"white\",\"linecolor\":\"white\",\"ticks\":\"\",\"title\":{\"standoff\":15},\"zerolinecolor\":\"white\",\"automargin\":true,\"zerolinewidth\":2},\"yaxis\":{\"gridcolor\":\"white\",\"linecolor\":\"white\",\"ticks\":\"\",\"title\":{\"standoff\":15},\"zerolinecolor\":\"white\",\"automargin\":true,\"zerolinewidth\":2},\"scene\":{\"xaxis\":{\"backgroundcolor\":\"#E5ECF6\",\"gridcolor\":\"white\",\"linecolor\":\"white\",\"showbackground\":true,\"ticks\":\"\",\"zerolinecolor\":\"white\",\"gridwidth\":2},\"yaxis\":{\"backgroundcolor\":\"#E5ECF6\",\"gridcolor\":\"white\",\"linecolor\":\"white\",\"showbackground\":true,\"ticks\":\"\",\"zerolinecolor\":\"white\",\"gridwidth\":2},\"zaxis\":{\"backgroundcolor\":\"#E5ECF6\",\"gridcolor\":\"white\",\"linecolor\":\"white\",\"showbackground\":true,\"ticks\":\"\",\"zerolinecolor\":\"white\",\"gridwidth\":2}},\"shapedefaults\":{\"line\":{\"color\":\"#2a3f5f\"}},\"annotationdefaults\":{\"arrowcolor\":\"#2a3f5f\",\"arrowhead\":0,\"arrowwidth\":1},\"geo\":{\"bgcolor\":\"white\",\"landcolor\":\"#E5ECF6\",\"subunitcolor\":\"white\",\"showland\":true,\"showlakes\":true,\"lakecolor\":\"white\"},\"title\":{\"x\":0.05},\"mapbox\":{\"style\":\"light\"}}},\"xaxis\":{\"anchor\":\"y\",\"domain\":[0.0,1.0],\"title\":{\"text\":\"x\"}},\"yaxis\":{\"anchor\":\"x\",\"domain\":[0.0,1.0],\"title\":{\"text\":\"y\"}},\"legend\":{\"title\":{\"text\":\"name\"},\"tracegroupgap\":0},\"title\":{\"text\":\"Scatter Plot Visualisation\"},\"barmode\":\"relative\"},                        {\"responsive\": true}                    ).then(function(){\n",
       "                            \n",
       "var gd = document.getElementById('d70a0794-e8e4-4a28-89c7-eb1528325af1');\n",
       "var x = new MutationObserver(function (mutations, observer) {{\n",
       "        var display = window.getComputedStyle(gd).display;\n",
       "        if (!display || display === 'none') {{\n",
       "            console.log([gd, 'removed!']);\n",
       "            Plotly.purge(gd);\n",
       "            observer.disconnect();\n",
       "        }}\n",
       "}});\n",
       "\n",
       "// Listen for the removal of the full notebook cells\n",
       "var notebookContainer = gd.closest('#notebook-container');\n",
       "if (notebookContainer) {{\n",
       "    x.observe(notebookContainer, {childList: true});\n",
       "}}\n",
       "\n",
       "// Listen for the clearing of the current output cell\n",
       "var outputEl = gd.closest('.output');\n",
       "if (outputEl) {{\n",
       "    x.observe(outputEl, {childList: true});\n",
       "}}\n",
       "\n",
       "                        })                };                });            </script>        </div>"
      ]
     },
     "metadata": {},
     "output_type": "display_data"
    }
   ],
   "source": [
    "data = [\n",
    "    dict(x = 1, y = 1, name = 'Point 1'),\n",
    "    dict(x = 2, y = 4, name = 'Point 2'),\n",
    "    dict(x = 3, y = 5, name = 'Point 3'),\n",
    "    dict(x = 4, y = 2, name = 'Point 4'),\n",
    "    dict(x = 5, y = 3, name = 'Point 5')\n",
    "    ]\n",
    "fig = px.bar(data, x = 'x', y = 'y', color = 'name', title = \"Scatter Plot Visualisation\")\n",
    "fig.show()"
   ]
  },
  {
   "cell_type": "code",
   "execution_count": 118,
   "metadata": {},
   "outputs": [
    {
     "data": {
      "text/html": [
       "<div>\n",
       "<style scoped>\n",
       "    .dataframe tbody tr th:only-of-type {\n",
       "        vertical-align: middle;\n",
       "    }\n",
       "\n",
       "    .dataframe tbody tr th {\n",
       "        vertical-align: top;\n",
       "    }\n",
       "\n",
       "    .dataframe thead th {\n",
       "        text-align: right;\n",
       "    }\n",
       "</style>\n",
       "<table border=\"1\" class=\"dataframe\">\n",
       "  <thead>\n",
       "    <tr style=\"text-align: right;\">\n",
       "      <th></th>\n",
       "      <th>Category</th>\n",
       "      <th>Base year</th>\n",
       "      <th>1990</th>\n",
       "      <th>1991</th>\n",
       "      <th>1992</th>\n",
       "      <th>1993</th>\n",
       "      <th>1994</th>\n",
       "      <th>1995</th>\n",
       "      <th>1996</th>\n",
       "      <th>1997</th>\n",
       "      <th>...</th>\n",
       "      <th>2013</th>\n",
       "      <th>2014</th>\n",
       "      <th>2015</th>\n",
       "      <th>2016</th>\n",
       "      <th>2017</th>\n",
       "      <th>2018</th>\n",
       "      <th>2019</th>\n",
       "      <th>2020</th>\n",
       "      <th>Category_clean</th>\n",
       "      <th>Category_type</th>\n",
       "    </tr>\n",
       "  </thead>\n",
       "  <tbody>\n",
       "    <tr>\n",
       "      <th>0</th>\n",
       "      <td>1.  Energy</td>\n",
       "      <td>258947.04465704237</td>\n",
       "      <td>258947.04465704237</td>\n",
       "      <td>260930.35964980774</td>\n",
       "      <td>265474.8100482719</td>\n",
       "      <td>269536.38100543304</td>\n",
       "      <td>272316.64245784347</td>\n",
       "      <td>283304.12903621234</td>\n",
       "      <td>289904.96814959415</td>\n",
       "      <td>298072.36740701896</td>\n",
       "      <td>...</td>\n",
       "      <td>376071.10895077564</td>\n",
       "      <td>372355.1397106155</td>\n",
       "      <td>379924.89707979443</td>\n",
       "      <td>389464.30250903306</td>\n",
       "      <td>392020.04855217674</td>\n",
       "      <td>393737.93068071106</td>\n",
       "      <td>394697.5293080256</td>\n",
       "      <td>378736.696151</td>\n",
       "      <td>Energy</td>\n",
       "      <td>energy</td>\n",
       "    </tr>\n",
       "    <tr>\n",
       "      <th>1</th>\n",
       "      <td>1.AA  Fuel Combustion - Sectoral approach</td>\n",
       "      <td>251674.54877254463</td>\n",
       "      <td>251674.54877254463</td>\n",
       "      <td>253929.1588365228</td>\n",
       "      <td>258171.10954310844</td>\n",
       "      <td>262399.63784937497</td>\n",
       "      <td>265436.49453729356</td>\n",
       "      <td>276243.41553081735</td>\n",
       "      <td>283143.9159693259</td>\n",
       "      <td>291385.0228092652</td>\n",
       "      <td>...</td>\n",
       "      <td>367224.70376014087</td>\n",
       "      <td>363082.4320497963</td>\n",
       "      <td>369097.0429247943</td>\n",
       "      <td>377024.3915239123</td>\n",
       "      <td>377158.6188864726</td>\n",
       "      <td>376812.3029248183</td>\n",
       "      <td>374498.2826772946</td>\n",
       "      <td>361451.525668</td>\n",
       "      <td>Fuel Combustion - Sectoral approach</td>\n",
       "      <td>energy</td>\n",
       "    </tr>\n",
       "    <tr>\n",
       "      <th>2</th>\n",
       "      <td>1.AB  Fuel Combustion - Reference Approach</td>\n",
       "      <td>254498.7559793475</td>\n",
       "      <td>254498.7559793475</td>\n",
       "      <td>257643.31817877616</td>\n",
       "      <td>258657.28950888588</td>\n",
       "      <td>265862.3926017181</td>\n",
       "      <td>268892.3483312443</td>\n",
       "      <td>277143.90469771926</td>\n",
       "      <td>287304.7771815549</td>\n",
       "      <td>291479.24326866644</td>\n",
       "      <td>...</td>\n",
       "      <td>369812.69249241997</td>\n",
       "      <td>360950.61850027024</td>\n",
       "      <td>370300.39361186005</td>\n",
       "      <td>373120.73872426886</td>\n",
       "      <td>375011.3700569747</td>\n",
       "      <td>370033.2210204188</td>\n",
       "      <td>375054.38834412995</td>\n",
       "      <td>361867.771411</td>\n",
       "      <td>Fuel Combustion - Reference Approach</td>\n",
       "      <td>energy</td>\n",
       "    </tr>\n",
       "    <tr>\n",
       "      <th>3</th>\n",
       "      <td>1.AD  Feedstocks, Reductants and Other Non-ene...</td>\n",
       "      <td>12228.06901453965</td>\n",
       "      <td>12228.06901453965</td>\n",
       "      <td>11899.764487253333</td>\n",
       "      <td>12544.172946267216</td>\n",
       "      <td>12346.192598185899</td>\n",
       "      <td>13363.716339825549</td>\n",
       "      <td>13875.105733436401</td>\n",
       "      <td>13883.126776494651</td>\n",
       "      <td>13870.24048175372</td>\n",
       "      <td>...</td>\n",
       "      <td>12422.490396363119</td>\n",
       "      <td>12613.700067594913</td>\n",
       "      <td>12769.200421135469</td>\n",
       "      <td>13505.84336972874</td>\n",
       "      <td>13934.391668218661</td>\n",
       "      <td>14410.95224090838</td>\n",
       "      <td>14027.055663464218</td>\n",
       "      <td>13543.680155</td>\n",
       "      <td>Feedstocks, Reductants and Other Non-energy Us...</td>\n",
       "      <td>energy</td>\n",
       "    </tr>\n",
       "    <tr>\n",
       "      <th>4</th>\n",
       "      <td>1.B  Fugitive Emissions from Fuels</td>\n",
       "      <td>7272.4958844977455</td>\n",
       "      <td>7272.4958844977455</td>\n",
       "      <td>7001.200813284943</td>\n",
       "      <td>7303.700505163452</td>\n",
       "      <td>7136.743156058121</td>\n",
       "      <td>6880.147920549874</td>\n",
       "      <td>7060.713505395034</td>\n",
       "      <td>6761.052180268225</td>\n",
       "      <td>6687.344597753778</td>\n",
       "      <td>...</td>\n",
       "      <td>8846.405190634789</td>\n",
       "      <td>9272.707660819266</td>\n",
       "      <td>10827.854155000094</td>\n",
       "      <td>12439.910985120738</td>\n",
       "      <td>14861.429665704109</td>\n",
       "      <td>16925.62775589277</td>\n",
       "      <td>20199.246630730977</td>\n",
       "      <td>17272.753482</td>\n",
       "      <td>Fugitive Emissions from Fuels</td>\n",
       "      <td>emissions</td>\n",
       "    </tr>\n",
       "    <tr>\n",
       "      <th>5</th>\n",
       "      <td>1.C  CO₂ Transport and Storage</td>\n",
       "      <td>NO</td>\n",
       "      <td>NO</td>\n",
       "      <td>NO</td>\n",
       "      <td>NO</td>\n",
       "      <td>NO</td>\n",
       "      <td>NO</td>\n",
       "      <td>NO</td>\n",
       "      <td>NO</td>\n",
       "      <td>NO</td>\n",
       "      <td>...</td>\n",
       "      <td>NO</td>\n",
       "      <td>NO</td>\n",
       "      <td>NO</td>\n",
       "      <td>NO</td>\n",
       "      <td>NO</td>\n",
       "      <td>NO</td>\n",
       "      <td>NO</td>\n",
       "      <td>12.417000</td>\n",
       "      <td>CO₂ Transport and Storage</td>\n",
       "      <td>emissions</td>\n",
       "    </tr>\n",
       "  </tbody>\n",
       "</table>\n",
       "<p>6 rows × 35 columns</p>\n",
       "</div>"
      ],
      "text/plain": [
       "                                            Category           Base year  \\\n",
       "0                                         1.  Energy  258947.04465704237   \n",
       "1          1.AA  Fuel Combustion - Sectoral approach  251674.54877254463   \n",
       "2         1.AB  Fuel Combustion - Reference Approach   254498.7559793475   \n",
       "3  1.AD  Feedstocks, Reductants and Other Non-ene...   12228.06901453965   \n",
       "4                 1.B  Fugitive Emissions from Fuels  7272.4958844977455   \n",
       "5                     1.C  CO₂ Transport and Storage                  NO   \n",
       "\n",
       "                 1990                1991                1992  \\\n",
       "0  258947.04465704237  260930.35964980774   265474.8100482719   \n",
       "1  251674.54877254463   253929.1588365228  258171.10954310844   \n",
       "2   254498.7559793475  257643.31817877616  258657.28950888588   \n",
       "3   12228.06901453965  11899.764487253333  12544.172946267216   \n",
       "4  7272.4958844977455   7001.200813284943   7303.700505163452   \n",
       "5                  NO                  NO                  NO   \n",
       "\n",
       "                 1993                1994                1995  \\\n",
       "0  269536.38100543304  272316.64245784347  283304.12903621234   \n",
       "1  262399.63784937497  265436.49453729356  276243.41553081735   \n",
       "2   265862.3926017181   268892.3483312443  277143.90469771926   \n",
       "3  12346.192598185899  13363.716339825549  13875.105733436401   \n",
       "4   7136.743156058121   6880.147920549874   7060.713505395034   \n",
       "5                  NO                  NO                  NO   \n",
       "\n",
       "                 1996                1997  ...                2013  \\\n",
       "0  289904.96814959415  298072.36740701896  ...  376071.10895077564   \n",
       "1   283143.9159693259   291385.0228092652  ...  367224.70376014087   \n",
       "2   287304.7771815549  291479.24326866644  ...  369812.69249241997   \n",
       "3  13883.126776494651   13870.24048175372  ...  12422.490396363119   \n",
       "4   6761.052180268225   6687.344597753778  ...   8846.405190634789   \n",
       "5                  NO                  NO  ...                  NO   \n",
       "\n",
       "                 2014                2015                2016  \\\n",
       "0   372355.1397106155  379924.89707979443  389464.30250903306   \n",
       "1   363082.4320497963   369097.0429247943   377024.3915239123   \n",
       "2  360950.61850027024  370300.39361186005  373120.73872426886   \n",
       "3  12613.700067594913  12769.200421135469   13505.84336972874   \n",
       "4   9272.707660819266  10827.854155000094  12439.910985120738   \n",
       "5                  NO                  NO                  NO   \n",
       "\n",
       "                 2017                2018                2019           2020  \\\n",
       "0  392020.04855217674  393737.93068071106   394697.5293080256  378736.696151   \n",
       "1   377158.6188864726   376812.3029248183   374498.2826772946  361451.525668   \n",
       "2   375011.3700569747   370033.2210204188  375054.38834412995  361867.771411   \n",
       "3  13934.391668218661   14410.95224090838  14027.055663464218   13543.680155   \n",
       "4  14861.429665704109   16925.62775589277  20199.246630730977   17272.753482   \n",
       "5                  NO                  NO                  NO      12.417000   \n",
       "\n",
       "                                      Category_clean Category_type  \n",
       "0                                             Energy        energy  \n",
       "1                Fuel Combustion - Sectoral approach        energy  \n",
       "2               Fuel Combustion - Reference Approach        energy  \n",
       "3  Feedstocks, Reductants and Other Non-energy Us...        energy  \n",
       "4                      Fugitive Emissions from Fuels     emissions  \n",
       "5                          CO₂ Transport and Storage     emissions  \n",
       "\n",
       "[6 rows x 35 columns]"
      ]
     },
     "execution_count": 118,
     "metadata": {},
     "output_type": "execute_result"
    }
   ],
   "source": [
    "data2"
   ]
  },
  {
   "cell_type": "code",
   "execution_count": 119,
   "metadata": {},
   "outputs": [
    {
     "data": {
      "application/vnd.plotly.v1+json": {
       "config": {
        "plotlyServerURL": "https://plot.ly"
       },
       "data": [
        {
         "alignmentgroup": "True",
         "hovertemplate": "Category_type=energy<br>Category=%{x}<br>2000=%{y}<extra></extra>",
         "legendgroup": "energy",
         "marker": {
          "color": "#636efa",
          "pattern": {
           "shape": ""
          }
         },
         "name": "energy",
         "offsetgroup": "energy",
         "orientation": "v",
         "showlegend": true,
         "textposition": "auto",
         "type": "bar",
         "x": [
          "1.  Energy",
          "1.AA  Fuel Combustion - Sectoral approach",
          "1.AB  Fuel Combustion - Reference Approach",
          "1.AD  Feedstocks, Reductants and Other Non-energy Use of Fuels"
         ],
         "xaxis": "x",
         "y": [
          "326371.5998072433",
          "318418.74178552197",
          "319265.2121007774",
          "13586.633622436362"
         ],
         "yaxis": "y"
        },
        {
         "alignmentgroup": "True",
         "hovertemplate": "Category_type=emissions<br>Category=%{x}<br>2000=%{y}<extra></extra>",
         "legendgroup": "emissions",
         "marker": {
          "color": "#EF553B",
          "pattern": {
           "shape": ""
          }
         },
         "name": "emissions",
         "offsetgroup": "emissions",
         "orientation": "v",
         "showlegend": true,
         "textposition": "auto",
         "type": "bar",
         "x": [
          "1.B  Fugitive Emissions from Fuels",
          "1.C  CO₂ Transport and Storage"
         ],
         "xaxis": "x",
         "y": [
          "7952.85802172136",
          "NO"
         ],
         "yaxis": "y"
        }
       ],
       "layout": {
        "barmode": "relative",
        "legend": {
         "title": {
          "text": "Category_type"
         },
         "tracegroupgap": 0
        },
        "template": {
         "data": {
          "bar": [
           {
            "error_x": {
             "color": "#2a3f5f"
            },
            "error_y": {
             "color": "#2a3f5f"
            },
            "marker": {
             "line": {
              "color": "#E5ECF6",
              "width": 0.5
             },
             "pattern": {
              "fillmode": "overlay",
              "size": 10,
              "solidity": 0.2
             }
            },
            "type": "bar"
           }
          ],
          "barpolar": [
           {
            "marker": {
             "line": {
              "color": "#E5ECF6",
              "width": 0.5
             },
             "pattern": {
              "fillmode": "overlay",
              "size": 10,
              "solidity": 0.2
             }
            },
            "type": "barpolar"
           }
          ],
          "carpet": [
           {
            "aaxis": {
             "endlinecolor": "#2a3f5f",
             "gridcolor": "white",
             "linecolor": "white",
             "minorgridcolor": "white",
             "startlinecolor": "#2a3f5f"
            },
            "baxis": {
             "endlinecolor": "#2a3f5f",
             "gridcolor": "white",
             "linecolor": "white",
             "minorgridcolor": "white",
             "startlinecolor": "#2a3f5f"
            },
            "type": "carpet"
           }
          ],
          "choropleth": [
           {
            "colorbar": {
             "outlinewidth": 0,
             "ticks": ""
            },
            "type": "choropleth"
           }
          ],
          "contour": [
           {
            "colorbar": {
             "outlinewidth": 0,
             "ticks": ""
            },
            "colorscale": [
             [
              0,
              "#0d0887"
             ],
             [
              0.1111111111111111,
              "#46039f"
             ],
             [
              0.2222222222222222,
              "#7201a8"
             ],
             [
              0.3333333333333333,
              "#9c179e"
             ],
             [
              0.4444444444444444,
              "#bd3786"
             ],
             [
              0.5555555555555556,
              "#d8576b"
             ],
             [
              0.6666666666666666,
              "#ed7953"
             ],
             [
              0.7777777777777778,
              "#fb9f3a"
             ],
             [
              0.8888888888888888,
              "#fdca26"
             ],
             [
              1,
              "#f0f921"
             ]
            ],
            "type": "contour"
           }
          ],
          "contourcarpet": [
           {
            "colorbar": {
             "outlinewidth": 0,
             "ticks": ""
            },
            "type": "contourcarpet"
           }
          ],
          "heatmap": [
           {
            "colorbar": {
             "outlinewidth": 0,
             "ticks": ""
            },
            "colorscale": [
             [
              0,
              "#0d0887"
             ],
             [
              0.1111111111111111,
              "#46039f"
             ],
             [
              0.2222222222222222,
              "#7201a8"
             ],
             [
              0.3333333333333333,
              "#9c179e"
             ],
             [
              0.4444444444444444,
              "#bd3786"
             ],
             [
              0.5555555555555556,
              "#d8576b"
             ],
             [
              0.6666666666666666,
              "#ed7953"
             ],
             [
              0.7777777777777778,
              "#fb9f3a"
             ],
             [
              0.8888888888888888,
              "#fdca26"
             ],
             [
              1,
              "#f0f921"
             ]
            ],
            "type": "heatmap"
           }
          ],
          "heatmapgl": [
           {
            "colorbar": {
             "outlinewidth": 0,
             "ticks": ""
            },
            "colorscale": [
             [
              0,
              "#0d0887"
             ],
             [
              0.1111111111111111,
              "#46039f"
             ],
             [
              0.2222222222222222,
              "#7201a8"
             ],
             [
              0.3333333333333333,
              "#9c179e"
             ],
             [
              0.4444444444444444,
              "#bd3786"
             ],
             [
              0.5555555555555556,
              "#d8576b"
             ],
             [
              0.6666666666666666,
              "#ed7953"
             ],
             [
              0.7777777777777778,
              "#fb9f3a"
             ],
             [
              0.8888888888888888,
              "#fdca26"
             ],
             [
              1,
              "#f0f921"
             ]
            ],
            "type": "heatmapgl"
           }
          ],
          "histogram": [
           {
            "marker": {
             "pattern": {
              "fillmode": "overlay",
              "size": 10,
              "solidity": 0.2
             }
            },
            "type": "histogram"
           }
          ],
          "histogram2d": [
           {
            "colorbar": {
             "outlinewidth": 0,
             "ticks": ""
            },
            "colorscale": [
             [
              0,
              "#0d0887"
             ],
             [
              0.1111111111111111,
              "#46039f"
             ],
             [
              0.2222222222222222,
              "#7201a8"
             ],
             [
              0.3333333333333333,
              "#9c179e"
             ],
             [
              0.4444444444444444,
              "#bd3786"
             ],
             [
              0.5555555555555556,
              "#d8576b"
             ],
             [
              0.6666666666666666,
              "#ed7953"
             ],
             [
              0.7777777777777778,
              "#fb9f3a"
             ],
             [
              0.8888888888888888,
              "#fdca26"
             ],
             [
              1,
              "#f0f921"
             ]
            ],
            "type": "histogram2d"
           }
          ],
          "histogram2dcontour": [
           {
            "colorbar": {
             "outlinewidth": 0,
             "ticks": ""
            },
            "colorscale": [
             [
              0,
              "#0d0887"
             ],
             [
              0.1111111111111111,
              "#46039f"
             ],
             [
              0.2222222222222222,
              "#7201a8"
             ],
             [
              0.3333333333333333,
              "#9c179e"
             ],
             [
              0.4444444444444444,
              "#bd3786"
             ],
             [
              0.5555555555555556,
              "#d8576b"
             ],
             [
              0.6666666666666666,
              "#ed7953"
             ],
             [
              0.7777777777777778,
              "#fb9f3a"
             ],
             [
              0.8888888888888888,
              "#fdca26"
             ],
             [
              1,
              "#f0f921"
             ]
            ],
            "type": "histogram2dcontour"
           }
          ],
          "mesh3d": [
           {
            "colorbar": {
             "outlinewidth": 0,
             "ticks": ""
            },
            "type": "mesh3d"
           }
          ],
          "parcoords": [
           {
            "line": {
             "colorbar": {
              "outlinewidth": 0,
              "ticks": ""
             }
            },
            "type": "parcoords"
           }
          ],
          "pie": [
           {
            "automargin": true,
            "type": "pie"
           }
          ],
          "scatter": [
           {
            "fillpattern": {
             "fillmode": "overlay",
             "size": 10,
             "solidity": 0.2
            },
            "type": "scatter"
           }
          ],
          "scatter3d": [
           {
            "line": {
             "colorbar": {
              "outlinewidth": 0,
              "ticks": ""
             }
            },
            "marker": {
             "colorbar": {
              "outlinewidth": 0,
              "ticks": ""
             }
            },
            "type": "scatter3d"
           }
          ],
          "scattercarpet": [
           {
            "marker": {
             "colorbar": {
              "outlinewidth": 0,
              "ticks": ""
             }
            },
            "type": "scattercarpet"
           }
          ],
          "scattergeo": [
           {
            "marker": {
             "colorbar": {
              "outlinewidth": 0,
              "ticks": ""
             }
            },
            "type": "scattergeo"
           }
          ],
          "scattergl": [
           {
            "marker": {
             "colorbar": {
              "outlinewidth": 0,
              "ticks": ""
             }
            },
            "type": "scattergl"
           }
          ],
          "scattermapbox": [
           {
            "marker": {
             "colorbar": {
              "outlinewidth": 0,
              "ticks": ""
             }
            },
            "type": "scattermapbox"
           }
          ],
          "scatterpolar": [
           {
            "marker": {
             "colorbar": {
              "outlinewidth": 0,
              "ticks": ""
             }
            },
            "type": "scatterpolar"
           }
          ],
          "scatterpolargl": [
           {
            "marker": {
             "colorbar": {
              "outlinewidth": 0,
              "ticks": ""
             }
            },
            "type": "scatterpolargl"
           }
          ],
          "scatterternary": [
           {
            "marker": {
             "colorbar": {
              "outlinewidth": 0,
              "ticks": ""
             }
            },
            "type": "scatterternary"
           }
          ],
          "surface": [
           {
            "colorbar": {
             "outlinewidth": 0,
             "ticks": ""
            },
            "colorscale": [
             [
              0,
              "#0d0887"
             ],
             [
              0.1111111111111111,
              "#46039f"
             ],
             [
              0.2222222222222222,
              "#7201a8"
             ],
             [
              0.3333333333333333,
              "#9c179e"
             ],
             [
              0.4444444444444444,
              "#bd3786"
             ],
             [
              0.5555555555555556,
              "#d8576b"
             ],
             [
              0.6666666666666666,
              "#ed7953"
             ],
             [
              0.7777777777777778,
              "#fb9f3a"
             ],
             [
              0.8888888888888888,
              "#fdca26"
             ],
             [
              1,
              "#f0f921"
             ]
            ],
            "type": "surface"
           }
          ],
          "table": [
           {
            "cells": {
             "fill": {
              "color": "#EBF0F8"
             },
             "line": {
              "color": "white"
             }
            },
            "header": {
             "fill": {
              "color": "#C8D4E3"
             },
             "line": {
              "color": "white"
             }
            },
            "type": "table"
           }
          ]
         },
         "layout": {
          "annotationdefaults": {
           "arrowcolor": "#2a3f5f",
           "arrowhead": 0,
           "arrowwidth": 1
          },
          "autotypenumbers": "strict",
          "coloraxis": {
           "colorbar": {
            "outlinewidth": 0,
            "ticks": ""
           }
          },
          "colorscale": {
           "diverging": [
            [
             0,
             "#8e0152"
            ],
            [
             0.1,
             "#c51b7d"
            ],
            [
             0.2,
             "#de77ae"
            ],
            [
             0.3,
             "#f1b6da"
            ],
            [
             0.4,
             "#fde0ef"
            ],
            [
             0.5,
             "#f7f7f7"
            ],
            [
             0.6,
             "#e6f5d0"
            ],
            [
             0.7,
             "#b8e186"
            ],
            [
             0.8,
             "#7fbc41"
            ],
            [
             0.9,
             "#4d9221"
            ],
            [
             1,
             "#276419"
            ]
           ],
           "sequential": [
            [
             0,
             "#0d0887"
            ],
            [
             0.1111111111111111,
             "#46039f"
            ],
            [
             0.2222222222222222,
             "#7201a8"
            ],
            [
             0.3333333333333333,
             "#9c179e"
            ],
            [
             0.4444444444444444,
             "#bd3786"
            ],
            [
             0.5555555555555556,
             "#d8576b"
            ],
            [
             0.6666666666666666,
             "#ed7953"
            ],
            [
             0.7777777777777778,
             "#fb9f3a"
            ],
            [
             0.8888888888888888,
             "#fdca26"
            ],
            [
             1,
             "#f0f921"
            ]
           ],
           "sequentialminus": [
            [
             0,
             "#0d0887"
            ],
            [
             0.1111111111111111,
             "#46039f"
            ],
            [
             0.2222222222222222,
             "#7201a8"
            ],
            [
             0.3333333333333333,
             "#9c179e"
            ],
            [
             0.4444444444444444,
             "#bd3786"
            ],
            [
             0.5555555555555556,
             "#d8576b"
            ],
            [
             0.6666666666666666,
             "#ed7953"
            ],
            [
             0.7777777777777778,
             "#fb9f3a"
            ],
            [
             0.8888888888888888,
             "#fdca26"
            ],
            [
             1,
             "#f0f921"
            ]
           ]
          },
          "colorway": [
           "#636efa",
           "#EF553B",
           "#00cc96",
           "#ab63fa",
           "#FFA15A",
           "#19d3f3",
           "#FF6692",
           "#B6E880",
           "#FF97FF",
           "#FECB52"
          ],
          "font": {
           "color": "#2a3f5f"
          },
          "geo": {
           "bgcolor": "white",
           "lakecolor": "white",
           "landcolor": "#E5ECF6",
           "showlakes": true,
           "showland": true,
           "subunitcolor": "white"
          },
          "hoverlabel": {
           "align": "left"
          },
          "hovermode": "closest",
          "mapbox": {
           "style": "light"
          },
          "paper_bgcolor": "white",
          "plot_bgcolor": "#E5ECF6",
          "polar": {
           "angularaxis": {
            "gridcolor": "white",
            "linecolor": "white",
            "ticks": ""
           },
           "bgcolor": "#E5ECF6",
           "radialaxis": {
            "gridcolor": "white",
            "linecolor": "white",
            "ticks": ""
           }
          },
          "scene": {
           "xaxis": {
            "backgroundcolor": "#E5ECF6",
            "gridcolor": "white",
            "gridwidth": 2,
            "linecolor": "white",
            "showbackground": true,
            "ticks": "",
            "zerolinecolor": "white"
           },
           "yaxis": {
            "backgroundcolor": "#E5ECF6",
            "gridcolor": "white",
            "gridwidth": 2,
            "linecolor": "white",
            "showbackground": true,
            "ticks": "",
            "zerolinecolor": "white"
           },
           "zaxis": {
            "backgroundcolor": "#E5ECF6",
            "gridcolor": "white",
            "gridwidth": 2,
            "linecolor": "white",
            "showbackground": true,
            "ticks": "",
            "zerolinecolor": "white"
           }
          },
          "shapedefaults": {
           "line": {
            "color": "#2a3f5f"
           }
          },
          "ternary": {
           "aaxis": {
            "gridcolor": "white",
            "linecolor": "white",
            "ticks": ""
           },
           "baxis": {
            "gridcolor": "white",
            "linecolor": "white",
            "ticks": ""
           },
           "bgcolor": "#E5ECF6",
           "caxis": {
            "gridcolor": "white",
            "linecolor": "white",
            "ticks": ""
           }
          },
          "title": {
           "x": 0.05
          },
          "xaxis": {
           "automargin": true,
           "gridcolor": "white",
           "linecolor": "white",
           "ticks": "",
           "title": {
            "standoff": 15
           },
           "zerolinecolor": "white",
           "zerolinewidth": 2
          },
          "yaxis": {
           "automargin": true,
           "gridcolor": "white",
           "linecolor": "white",
           "ticks": "",
           "title": {
            "standoff": 15
           },
           "zerolinecolor": "white",
           "zerolinewidth": 2
          }
         }
        },
        "title": {
         "text": "Emissions in 2000 in Australia"
        },
        "xaxis": {
         "anchor": "y",
         "domain": [
          0,
          1
         ],
         "title": {
          "text": "Category"
         }
        },
        "yaxis": {
         "anchor": "x",
         "domain": [
          0,
          1
         ],
         "title": {
          "text": "2000"
         }
        }
       }
      },
      "text/html": [
       "<div>                            <div id=\"a82b02ce-207a-47f7-b928-847c6f9c0a61\" class=\"plotly-graph-div\" style=\"height:525px; width:100%;\"></div>            <script type=\"text/javascript\">                require([\"plotly\"], function(Plotly) {                    window.PLOTLYENV=window.PLOTLYENV || {};                                    if (document.getElementById(\"a82b02ce-207a-47f7-b928-847c6f9c0a61\")) {                    Plotly.newPlot(                        \"a82b02ce-207a-47f7-b928-847c6f9c0a61\",                        [{\"alignmentgroup\":\"True\",\"hovertemplate\":\"Category_type=energy<br>Category=%{x}<br>2000=%{y}<extra></extra>\",\"legendgroup\":\"energy\",\"marker\":{\"color\":\"#636efa\",\"pattern\":{\"shape\":\"\"}},\"name\":\"energy\",\"offsetgroup\":\"energy\",\"orientation\":\"v\",\"showlegend\":true,\"textposition\":\"auto\",\"x\":[\"1.  Energy\",\"1.AA  Fuel Combustion - Sectoral approach\",\"1.AB  Fuel Combustion - Reference Approach\",\"1.AD  Feedstocks, Reductants and Other Non-energy Use of Fuels\"],\"xaxis\":\"x\",\"y\":[\"326371.5998072433\",\"318418.74178552197\",\"319265.2121007774\",\"13586.633622436362\"],\"yaxis\":\"y\",\"type\":\"bar\"},{\"alignmentgroup\":\"True\",\"hovertemplate\":\"Category_type=emissions<br>Category=%{x}<br>2000=%{y}<extra></extra>\",\"legendgroup\":\"emissions\",\"marker\":{\"color\":\"#EF553B\",\"pattern\":{\"shape\":\"\"}},\"name\":\"emissions\",\"offsetgroup\":\"emissions\",\"orientation\":\"v\",\"showlegend\":true,\"textposition\":\"auto\",\"x\":[\"1.B  Fugitive Emissions from Fuels\",\"1.C  CO\\u2082 Transport and Storage\"],\"xaxis\":\"x\",\"y\":[\"7952.85802172136\",\"NO\"],\"yaxis\":\"y\",\"type\":\"bar\"}],                        {\"template\":{\"data\":{\"histogram2dcontour\":[{\"type\":\"histogram2dcontour\",\"colorbar\":{\"outlinewidth\":0,\"ticks\":\"\"},\"colorscale\":[[0.0,\"#0d0887\"],[0.1111111111111111,\"#46039f\"],[0.2222222222222222,\"#7201a8\"],[0.3333333333333333,\"#9c179e\"],[0.4444444444444444,\"#bd3786\"],[0.5555555555555556,\"#d8576b\"],[0.6666666666666666,\"#ed7953\"],[0.7777777777777778,\"#fb9f3a\"],[0.8888888888888888,\"#fdca26\"],[1.0,\"#f0f921\"]]}],\"choropleth\":[{\"type\":\"choropleth\",\"colorbar\":{\"outlinewidth\":0,\"ticks\":\"\"}}],\"histogram2d\":[{\"type\":\"histogram2d\",\"colorbar\":{\"outlinewidth\":0,\"ticks\":\"\"},\"colorscale\":[[0.0,\"#0d0887\"],[0.1111111111111111,\"#46039f\"],[0.2222222222222222,\"#7201a8\"],[0.3333333333333333,\"#9c179e\"],[0.4444444444444444,\"#bd3786\"],[0.5555555555555556,\"#d8576b\"],[0.6666666666666666,\"#ed7953\"],[0.7777777777777778,\"#fb9f3a\"],[0.8888888888888888,\"#fdca26\"],[1.0,\"#f0f921\"]]}],\"heatmap\":[{\"type\":\"heatmap\",\"colorbar\":{\"outlinewidth\":0,\"ticks\":\"\"},\"colorscale\":[[0.0,\"#0d0887\"],[0.1111111111111111,\"#46039f\"],[0.2222222222222222,\"#7201a8\"],[0.3333333333333333,\"#9c179e\"],[0.4444444444444444,\"#bd3786\"],[0.5555555555555556,\"#d8576b\"],[0.6666666666666666,\"#ed7953\"],[0.7777777777777778,\"#fb9f3a\"],[0.8888888888888888,\"#fdca26\"],[1.0,\"#f0f921\"]]}],\"heatmapgl\":[{\"type\":\"heatmapgl\",\"colorbar\":{\"outlinewidth\":0,\"ticks\":\"\"},\"colorscale\":[[0.0,\"#0d0887\"],[0.1111111111111111,\"#46039f\"],[0.2222222222222222,\"#7201a8\"],[0.3333333333333333,\"#9c179e\"],[0.4444444444444444,\"#bd3786\"],[0.5555555555555556,\"#d8576b\"],[0.6666666666666666,\"#ed7953\"],[0.7777777777777778,\"#fb9f3a\"],[0.8888888888888888,\"#fdca26\"],[1.0,\"#f0f921\"]]}],\"contourcarpet\":[{\"type\":\"contourcarpet\",\"colorbar\":{\"outlinewidth\":0,\"ticks\":\"\"}}],\"contour\":[{\"type\":\"contour\",\"colorbar\":{\"outlinewidth\":0,\"ticks\":\"\"},\"colorscale\":[[0.0,\"#0d0887\"],[0.1111111111111111,\"#46039f\"],[0.2222222222222222,\"#7201a8\"],[0.3333333333333333,\"#9c179e\"],[0.4444444444444444,\"#bd3786\"],[0.5555555555555556,\"#d8576b\"],[0.6666666666666666,\"#ed7953\"],[0.7777777777777778,\"#fb9f3a\"],[0.8888888888888888,\"#fdca26\"],[1.0,\"#f0f921\"]]}],\"surface\":[{\"type\":\"surface\",\"colorbar\":{\"outlinewidth\":0,\"ticks\":\"\"},\"colorscale\":[[0.0,\"#0d0887\"],[0.1111111111111111,\"#46039f\"],[0.2222222222222222,\"#7201a8\"],[0.3333333333333333,\"#9c179e\"],[0.4444444444444444,\"#bd3786\"],[0.5555555555555556,\"#d8576b\"],[0.6666666666666666,\"#ed7953\"],[0.7777777777777778,\"#fb9f3a\"],[0.8888888888888888,\"#fdca26\"],[1.0,\"#f0f921\"]]}],\"mesh3d\":[{\"type\":\"mesh3d\",\"colorbar\":{\"outlinewidth\":0,\"ticks\":\"\"}}],\"scatter\":[{\"fillpattern\":{\"fillmode\":\"overlay\",\"size\":10,\"solidity\":0.2},\"type\":\"scatter\"}],\"parcoords\":[{\"type\":\"parcoords\",\"line\":{\"colorbar\":{\"outlinewidth\":0,\"ticks\":\"\"}}}],\"scatterpolargl\":[{\"type\":\"scatterpolargl\",\"marker\":{\"colorbar\":{\"outlinewidth\":0,\"ticks\":\"\"}}}],\"bar\":[{\"error_x\":{\"color\":\"#2a3f5f\"},\"error_y\":{\"color\":\"#2a3f5f\"},\"marker\":{\"line\":{\"color\":\"#E5ECF6\",\"width\":0.5},\"pattern\":{\"fillmode\":\"overlay\",\"size\":10,\"solidity\":0.2}},\"type\":\"bar\"}],\"scattergeo\":[{\"type\":\"scattergeo\",\"marker\":{\"colorbar\":{\"outlinewidth\":0,\"ticks\":\"\"}}}],\"scatterpolar\":[{\"type\":\"scatterpolar\",\"marker\":{\"colorbar\":{\"outlinewidth\":0,\"ticks\":\"\"}}}],\"histogram\":[{\"marker\":{\"pattern\":{\"fillmode\":\"overlay\",\"size\":10,\"solidity\":0.2}},\"type\":\"histogram\"}],\"scattergl\":[{\"type\":\"scattergl\",\"marker\":{\"colorbar\":{\"outlinewidth\":0,\"ticks\":\"\"}}}],\"scatter3d\":[{\"type\":\"scatter3d\",\"line\":{\"colorbar\":{\"outlinewidth\":0,\"ticks\":\"\"}},\"marker\":{\"colorbar\":{\"outlinewidth\":0,\"ticks\":\"\"}}}],\"scattermapbox\":[{\"type\":\"scattermapbox\",\"marker\":{\"colorbar\":{\"outlinewidth\":0,\"ticks\":\"\"}}}],\"scatterternary\":[{\"type\":\"scatterternary\",\"marker\":{\"colorbar\":{\"outlinewidth\":0,\"ticks\":\"\"}}}],\"scattercarpet\":[{\"type\":\"scattercarpet\",\"marker\":{\"colorbar\":{\"outlinewidth\":0,\"ticks\":\"\"}}}],\"carpet\":[{\"aaxis\":{\"endlinecolor\":\"#2a3f5f\",\"gridcolor\":\"white\",\"linecolor\":\"white\",\"minorgridcolor\":\"white\",\"startlinecolor\":\"#2a3f5f\"},\"baxis\":{\"endlinecolor\":\"#2a3f5f\",\"gridcolor\":\"white\",\"linecolor\":\"white\",\"minorgridcolor\":\"white\",\"startlinecolor\":\"#2a3f5f\"},\"type\":\"carpet\"}],\"table\":[{\"cells\":{\"fill\":{\"color\":\"#EBF0F8\"},\"line\":{\"color\":\"white\"}},\"header\":{\"fill\":{\"color\":\"#C8D4E3\"},\"line\":{\"color\":\"white\"}},\"type\":\"table\"}],\"barpolar\":[{\"marker\":{\"line\":{\"color\":\"#E5ECF6\",\"width\":0.5},\"pattern\":{\"fillmode\":\"overlay\",\"size\":10,\"solidity\":0.2}},\"type\":\"barpolar\"}],\"pie\":[{\"automargin\":true,\"type\":\"pie\"}]},\"layout\":{\"autotypenumbers\":\"strict\",\"colorway\":[\"#636efa\",\"#EF553B\",\"#00cc96\",\"#ab63fa\",\"#FFA15A\",\"#19d3f3\",\"#FF6692\",\"#B6E880\",\"#FF97FF\",\"#FECB52\"],\"font\":{\"color\":\"#2a3f5f\"},\"hovermode\":\"closest\",\"hoverlabel\":{\"align\":\"left\"},\"paper_bgcolor\":\"white\",\"plot_bgcolor\":\"#E5ECF6\",\"polar\":{\"bgcolor\":\"#E5ECF6\",\"angularaxis\":{\"gridcolor\":\"white\",\"linecolor\":\"white\",\"ticks\":\"\"},\"radialaxis\":{\"gridcolor\":\"white\",\"linecolor\":\"white\",\"ticks\":\"\"}},\"ternary\":{\"bgcolor\":\"#E5ECF6\",\"aaxis\":{\"gridcolor\":\"white\",\"linecolor\":\"white\",\"ticks\":\"\"},\"baxis\":{\"gridcolor\":\"white\",\"linecolor\":\"white\",\"ticks\":\"\"},\"caxis\":{\"gridcolor\":\"white\",\"linecolor\":\"white\",\"ticks\":\"\"}},\"coloraxis\":{\"colorbar\":{\"outlinewidth\":0,\"ticks\":\"\"}},\"colorscale\":{\"sequential\":[[0.0,\"#0d0887\"],[0.1111111111111111,\"#46039f\"],[0.2222222222222222,\"#7201a8\"],[0.3333333333333333,\"#9c179e\"],[0.4444444444444444,\"#bd3786\"],[0.5555555555555556,\"#d8576b\"],[0.6666666666666666,\"#ed7953\"],[0.7777777777777778,\"#fb9f3a\"],[0.8888888888888888,\"#fdca26\"],[1.0,\"#f0f921\"]],\"sequentialminus\":[[0.0,\"#0d0887\"],[0.1111111111111111,\"#46039f\"],[0.2222222222222222,\"#7201a8\"],[0.3333333333333333,\"#9c179e\"],[0.4444444444444444,\"#bd3786\"],[0.5555555555555556,\"#d8576b\"],[0.6666666666666666,\"#ed7953\"],[0.7777777777777778,\"#fb9f3a\"],[0.8888888888888888,\"#fdca26\"],[1.0,\"#f0f921\"]],\"diverging\":[[0,\"#8e0152\"],[0.1,\"#c51b7d\"],[0.2,\"#de77ae\"],[0.3,\"#f1b6da\"],[0.4,\"#fde0ef\"],[0.5,\"#f7f7f7\"],[0.6,\"#e6f5d0\"],[0.7,\"#b8e186\"],[0.8,\"#7fbc41\"],[0.9,\"#4d9221\"],[1,\"#276419\"]]},\"xaxis\":{\"gridcolor\":\"white\",\"linecolor\":\"white\",\"ticks\":\"\",\"title\":{\"standoff\":15},\"zerolinecolor\":\"white\",\"automargin\":true,\"zerolinewidth\":2},\"yaxis\":{\"gridcolor\":\"white\",\"linecolor\":\"white\",\"ticks\":\"\",\"title\":{\"standoff\":15},\"zerolinecolor\":\"white\",\"automargin\":true,\"zerolinewidth\":2},\"scene\":{\"xaxis\":{\"backgroundcolor\":\"#E5ECF6\",\"gridcolor\":\"white\",\"linecolor\":\"white\",\"showbackground\":true,\"ticks\":\"\",\"zerolinecolor\":\"white\",\"gridwidth\":2},\"yaxis\":{\"backgroundcolor\":\"#E5ECF6\",\"gridcolor\":\"white\",\"linecolor\":\"white\",\"showbackground\":true,\"ticks\":\"\",\"zerolinecolor\":\"white\",\"gridwidth\":2},\"zaxis\":{\"backgroundcolor\":\"#E5ECF6\",\"gridcolor\":\"white\",\"linecolor\":\"white\",\"showbackground\":true,\"ticks\":\"\",\"zerolinecolor\":\"white\",\"gridwidth\":2}},\"shapedefaults\":{\"line\":{\"color\":\"#2a3f5f\"}},\"annotationdefaults\":{\"arrowcolor\":\"#2a3f5f\",\"arrowhead\":0,\"arrowwidth\":1},\"geo\":{\"bgcolor\":\"white\",\"landcolor\":\"#E5ECF6\",\"subunitcolor\":\"white\",\"showland\":true,\"showlakes\":true,\"lakecolor\":\"white\"},\"title\":{\"x\":0.05},\"mapbox\":{\"style\":\"light\"}}},\"xaxis\":{\"anchor\":\"y\",\"domain\":[0.0,1.0],\"title\":{\"text\":\"Category\"}},\"yaxis\":{\"anchor\":\"x\",\"domain\":[0.0,1.0],\"title\":{\"text\":\"2000\"}},\"legend\":{\"title\":{\"text\":\"Category_type\"},\"tracegroupgap\":0},\"title\":{\"text\":\"Emissions in 2000 in Australia\"},\"barmode\":\"relative\"},                        {\"responsive\": true}                    ).then(function(){\n",
       "                            \n",
       "var gd = document.getElementById('a82b02ce-207a-47f7-b928-847c6f9c0a61');\n",
       "var x = new MutationObserver(function (mutations, observer) {{\n",
       "        var display = window.getComputedStyle(gd).display;\n",
       "        if (!display || display === 'none') {{\n",
       "            console.log([gd, 'removed!']);\n",
       "            Plotly.purge(gd);\n",
       "            observer.disconnect();\n",
       "        }}\n",
       "}});\n",
       "\n",
       "// Listen for the removal of the full notebook cells\n",
       "var notebookContainer = gd.closest('#notebook-container');\n",
       "if (notebookContainer) {{\n",
       "    x.observe(notebookContainer, {childList: true});\n",
       "}}\n",
       "\n",
       "// Listen for the clearing of the current output cell\n",
       "var outputEl = gd.closest('.output');\n",
       "if (outputEl) {{\n",
       "    x.observe(outputEl, {childList: true});\n",
       "}}\n",
       "\n",
       "                        })                };                });            </script>        </div>"
      ]
     },
     "metadata": {},
     "output_type": "display_data"
    }
   ],
   "source": [
    "\n",
    "fig = px.bar(data2, x = 'Category', y = '2000', color = 'Category_type', title = \"Emissions in 2000 in Australia\")\n",
    "fig.show()"
   ]
  },
  {
   "cell_type": "markdown",
   "metadata": {},
   "source": [
    "### Excercise: Try with your own data.\n",
    "\n",
    "Now you know how to use plotly and plotly express, try changing the function in section 4 to use plotly express. \n",
    "\n",
    "Note how many lines of code you need for matplotlib, plotly and plotly express. In which cases do you think each tool is more useful?\n",
    "\n",
    "Save the figures from each to compare. An example of saving to a vector-format is the following:\n",
    "\n",
    "`pio.write_image(fig, r'energy_emissions_plot.eps')`"
   ]
  }
 ],
 "metadata": {
  "colab": {
   "collapsed_sections": [],
   "include_colab_link": true,
   "name": "python_intro.ipynb",
   "provenance": []
  },
  "kernelspec": {
   "display_name": "Python 3 (ipykernel)",
   "language": "python",
   "name": "python3"
  },
  "language_info": {
   "codemirror_mode": {
    "name": "ipython",
    "version": 3
   },
   "file_extension": ".py",
   "mimetype": "text/x-python",
   "name": "python",
   "nbconvert_exporter": "python",
   "pygments_lexer": "ipython3",
   "version": "3.9.7"
  }
 },
 "nbformat": 4,
 "nbformat_minor": 1
}

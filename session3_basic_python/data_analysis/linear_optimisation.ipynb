{
 "cells": [
  {
   "cell_type": "markdown",
   "metadata": {
    "toc": true
   },
   "source": [
    "<h1>Table of Contents<span class=\"tocSkip\"></span></h1>\n",
    "<div class=\"toc\"><ul class=\"toc-item\"><li><span><a href=\"#Linear-optimisation-with-pulp\" data-toc-modified-id=\"Linear-optimisation-with-pulp-1\"><span class=\"toc-item-num\">1&nbsp;&nbsp;</span>Linear optimisation with <code>pulp</code></a></span><ul class=\"toc-item\"><li><span><a href=\"#Simple-linear-optimisation-model\" data-toc-modified-id=\"Simple-linear-optimisation-model-1.1\"><span class=\"toc-item-num\">1.1&nbsp;&nbsp;</span>Simple linear optimisation model</a></span></li><li><span><a href=\"#Car-manufacturer\" data-toc-modified-id=\"Car-manufacturer-1.2\"><span class=\"toc-item-num\">1.2&nbsp;&nbsp;</span>Car manufacturer</a></span></li><li><span><a href=\"#Blending-problem\" data-toc-modified-id=\"Blending-problem-1.3\"><span class=\"toc-item-num\">1.3&nbsp;&nbsp;</span>Blending problem</a></span></li></ul></li><li><span><a href=\"#Using-pyomo-for-optimisation-models\" data-toc-modified-id=\"Using-pyomo-for-optimisation-models-2\"><span class=\"toc-item-num\">2&nbsp;&nbsp;</span>Using <code>pyomo</code> for optimisation models</a></span></li></ul></div>"
   ]
  },
  {
   "cell_type": "code",
   "execution_count": 1,
   "metadata": {},
   "outputs": [],
   "source": [
    "# Example for linear optimisation model with PULP\n",
    "# Date: 2021-01-28, Author: LG"
   ]
  },
  {
   "cell_type": "markdown",
   "metadata": {},
   "source": [
    "# Linear optimisation with `pulp`\n",
    "\n",
    "`PuLP` is a python module that has a few of very useful data analysis methods. This notebook has some examples of the problems that can be solved with `pandas`.\n",
    "\n",
    "There are `PuLP` tutorials in [here](https://coin-or.github.io/pulp/) lists most of the useful operations of `pyomo`. A good overview of examples can be found [here](https://pyomo.readthedocs.io/en/stable/bibliography.html#pyomobookii).\n",
    "\n",
    "Here is one commented example that shows some of the functions used in the tutorials mentioned above."
   ]
  },
  {
   "cell_type": "markdown",
   "metadata": {},
   "source": [
    "## Simple linear optimisation model "
   ]
  },
  {
   "cell_type": "code",
   "execution_count": 2,
   "metadata": {},
   "outputs": [
    {
     "name": "stderr",
     "output_type": "stream",
     "text": [
      "/Users/gast/anaconda3/lib/python3.6/site-packages/pulp/pulp.py:1137: UserWarning: Spaces are not permitted in the name. Converted to '_'\n",
      "  warnings.warn(\"Spaces are not permitted in the name. Converted to '_'\")\n"
     ]
    }
   ],
   "source": [
    "import pulp\n",
    "my_lp_problem = pulp.LpProblem(\"My LP Problem\", pulp.LpMaximize)\n",
    "x = pulp.LpVariable('x', lowBound=0, cat='Continuous')\n",
    "y = pulp.LpVariable('y', lowBound=2, cat='Continuous')"
   ]
  },
  {
   "cell_type": "code",
   "execution_count": 3,
   "metadata": {},
   "outputs": [],
   "source": [
    "# Objective function\n",
    "my_lp_problem += 4 * x + 3 * y, \"Z\"\n",
    "\n",
    "# Constraints\n",
    "my_lp_problem += 2 * y <= 25 - x\n",
    "my_lp_problem += 4 * y >= 2 * x - 8\n",
    "my_lp_problem += y <= 2 * x - 5"
   ]
  },
  {
   "cell_type": "code",
   "execution_count": 4,
   "metadata": {},
   "outputs": [
    {
     "data": {
      "text/plain": [
       "My_LP_Problem:\n",
       "MAXIMIZE\n",
       "4*x + 3*y + 0\n",
       "SUBJECT TO\n",
       "_C1: x + 2 y <= 25\n",
       "\n",
       "_C2: - 2 x + 4 y >= -8\n",
       "\n",
       "_C3: - 2 x + y <= -5\n",
       "\n",
       "VARIABLES\n",
       "x Continuous\n",
       "2 <= y Continuous"
      ]
     },
     "execution_count": 4,
     "metadata": {},
     "output_type": "execute_result"
    }
   ],
   "source": [
    "my_lp_problem"
   ]
  },
  {
   "cell_type": "code",
   "execution_count": 5,
   "metadata": {},
   "outputs": [
    {
     "data": {
      "text/plain": [
       "'Optimal'"
      ]
     },
     "execution_count": 5,
     "metadata": {},
     "output_type": "execute_result"
    }
   ],
   "source": [
    "my_lp_problem.solve()\n",
    "pulp.LpStatus[my_lp_problem.status]"
   ]
  },
  {
   "cell_type": "code",
   "execution_count": 6,
   "metadata": {},
   "outputs": [
    {
     "name": "stdout",
     "output_type": "stream",
     "text": [
      "x=14.5\n",
      "y=5.25\n"
     ]
    }
   ],
   "source": [
    "for variable in my_lp_problem.variables():\n",
    "    print ('{}={}'.format(variable.name, variable.varValue))"
   ]
  },
  {
   "cell_type": "code",
   "execution_count": 7,
   "metadata": {},
   "outputs": [
    {
     "name": "stdout",
     "output_type": "stream",
     "text": [
      "73.75\n"
     ]
    }
   ],
   "source": [
    "print (pulp.value(my_lp_problem.objective))"
   ]
  },
  {
   "cell_type": "markdown",
   "metadata": {},
   "source": [
    "## Car manufacturer "
   ]
  },
  {
   "cell_type": "code",
   "execution_count": 8,
   "metadata": {},
   "outputs": [
    {
     "name": "stderr",
     "output_type": "stream",
     "text": [
      "/Users/gast/anaconda3/lib/python3.6/site-packages/pulp/pulp.py:1137: UserWarning: Spaces are not permitted in the name. Converted to '_'\n",
      "  warnings.warn(\"Spaces are not permitted in the name. Converted to '_'\")\n"
     ]
    }
   ],
   "source": [
    "# Instantiate problem class\n",
    "model = pulp.LpProblem(\"Profit maximising problem\", pulp.LpMaximize)\n",
    "A = pulp.LpVariable('A', lowBound=0, cat='Integer')\n",
    "B = pulp.LpVariable('B', lowBound=0, cat='Integer')"
   ]
  },
  {
   "cell_type": "code",
   "execution_count": 9,
   "metadata": {},
   "outputs": [],
   "source": [
    "# Objective function\n",
    "model += 30000 * A + 45000 * B, \"Profit\"\n",
    "\n",
    "# Constraints\n",
    "model += 3 * A + 4 * B <= 30\n",
    "model += 5 * A + 6 * B <= 60\n",
    "model += 1.5 * A + 3 * B <= 21"
   ]
  },
  {
   "cell_type": "code",
   "execution_count": 10,
   "metadata": {},
   "outputs": [
    {
     "data": {
      "text/plain": [
       "Profit_maximising_problem:\n",
       "MAXIMIZE\n",
       "30000*A + 45000*B + 0\n",
       "SUBJECT TO\n",
       "_C1: 3 A + 4 B <= 30\n",
       "\n",
       "_C2: 5 A + 6 B <= 60\n",
       "\n",
       "_C3: 1.5 A + 3 B <= 21\n",
       "\n",
       "VARIABLES\n",
       "0 <= A Integer\n",
       "0 <= B Integer"
      ]
     },
     "execution_count": 10,
     "metadata": {},
     "output_type": "execute_result"
    }
   ],
   "source": [
    "model"
   ]
  },
  {
   "cell_type": "code",
   "execution_count": 11,
   "metadata": {},
   "outputs": [
    {
     "data": {
      "text/plain": [
       "'Optimal'"
      ]
     },
     "execution_count": 11,
     "metadata": {},
     "output_type": "execute_result"
    }
   ],
   "source": [
    "# Solve our problem\n",
    "model.solve()\n",
    "pulp.LpStatus[model.status]"
   ]
  },
  {
   "cell_type": "code",
   "execution_count": 12,
   "metadata": {},
   "outputs": [
    {
     "name": "stdout",
     "output_type": "stream",
     "text": [
      "Production of Car A = 2.0\n",
      "Production of Car B = 6.0\n"
     ]
    }
   ],
   "source": [
    "# Print our decision variable values\n",
    "print (\"Production of Car A = {}\".format(A.varValue))\n",
    "print (\"Production of Car B = {}\".format(B.varValue))"
   ]
  },
  {
   "cell_type": "code",
   "execution_count": 13,
   "metadata": {},
   "outputs": [
    {
     "name": "stdout",
     "output_type": "stream",
     "text": [
      "330000.0\n"
     ]
    }
   ],
   "source": [
    "# Print our objective function value\n",
    "print (pulp.value(model.objective))"
   ]
  },
  {
   "cell_type": "markdown",
   "metadata": {},
   "source": [
    "## Blending problem"
   ]
  },
  {
   "cell_type": "code",
   "execution_count": 14,
   "metadata": {},
   "outputs": [
    {
     "name": "stderr",
     "output_type": "stream",
     "text": [
      "/Users/gast/anaconda3/lib/python3.6/site-packages/pulp/pulp.py:1137: UserWarning: Spaces are not permitted in the name. Converted to '_'\n",
      "  warnings.warn(\"Spaces are not permitted in the name. Converted to '_'\")\n"
     ]
    }
   ],
   "source": [
    "# Instantiate our problem class\n",
    "model = pulp.LpProblem(\"Cost minimising blending problem\", pulp.LpMinimize)"
   ]
  },
  {
   "cell_type": "code",
   "execution_count": 15,
   "metadata": {},
   "outputs": [],
   "source": [
    "# Construct our decision variable lists\n",
    "sausage_types = ['economy', 'premium']\n",
    "ingredients = ['pork', 'wheat', 'starch']"
   ]
  },
  {
   "cell_type": "code",
   "execution_count": 16,
   "metadata": {},
   "outputs": [],
   "source": [
    "ing_weight = pulp.LpVariable.dicts(\"weight kg\",\n",
    "    ((i, j) for i in sausage_types for j in ingredients),\n",
    "    lowBound=0,\n",
    "    cat='Continuous')"
   ]
  },
  {
   "cell_type": "code",
   "execution_count": 17,
   "metadata": {},
   "outputs": [],
   "source": [
    "# Objective Function\n",
    "model += (\n",
    "    pulp.lpSum([\n",
    "        4.32 * ing_weight[(i, 'pork')]\n",
    "        + 2.46 * ing_weight[(i, 'wheat')]\n",
    "        + 1.86 * ing_weight[(i, 'starch')]\n",
    "        for i in sausage_types])\n",
    ")"
   ]
  },
  {
   "cell_type": "code",
   "execution_count": 18,
   "metadata": {},
   "outputs": [],
   "source": [
    "#Quantity\n",
    "qt_economy=350\n",
    "qt_premium=500\n",
    "# Constraints\n",
    "# 350 economy and 500 premium sausages at 0.05 kg\n",
    "model += pulp.lpSum([ing_weight['economy', j] for j in ingredients]) == qt_economy * 0.05\n",
    "model += pulp.lpSum([ing_weight['premium', j] for j in ingredients]) == qt_premium * 0.05\n",
    "\n",
    "# Economy has >= 40% pork, premium >= 60% pork\n",
    "model += ing_weight['economy', 'pork'] >= (\n",
    "    0.4 * pulp.lpSum([ing_weight['economy', j] for j in ingredients]))\n",
    "\n",
    "model += ing_weight['premium', 'pork'] >= (\n",
    "    0.6 * pulp.lpSum([ing_weight['premium', j] for j in ingredients]))\n",
    "\n",
    "# Sausages must be <= 25% starch\n",
    "model += ing_weight['economy', 'starch'] <= (\n",
    "    0.25 * pulp.lpSum([ing_weight['economy', j] for j in ingredients]))\n",
    "\n",
    "model += ing_weight['premium', 'starch'] <= (\n",
    "    0.25 * pulp.lpSum([ing_weight['premium', j] for j in ingredients]))\n",
    "\n",
    "# We have at most 30 kg of pork, 20 kg of wheat and 17 kg of starch available\n",
    "model += pulp.lpSum([ing_weight[i, 'pork'] for i in sausage_types]) <= 30\n",
    "model += pulp.lpSum([ing_weight[i, 'wheat'] for i in sausage_types]) <= 20\n",
    "model += pulp.lpSum([ing_weight[i, 'starch'] for i in sausage_types]) <= 17\n",
    "\n",
    "# We have at least 23 kg of pork to use up\n",
    "model += pulp.lpSum([ing_weight[i, 'pork'] for i in sausage_types]) >= 23\n"
   ]
  },
  {
   "cell_type": "code",
   "execution_count": 19,
   "metadata": {},
   "outputs": [
    {
     "data": {
      "text/plain": [
       "'Optimal'"
      ]
     },
     "execution_count": 19,
     "metadata": {},
     "output_type": "execute_result"
    }
   ],
   "source": [
    "# Solve our problem\n",
    "model.solve()\n",
    "pulp.LpStatus[model.status]"
   ]
  },
  {
   "cell_type": "code",
   "execution_count": 20,
   "metadata": {},
   "outputs": [
    {
     "name": "stdout",
     "output_type": "stream",
     "text": [
      "The weight of pork in economy sausages is 7.0 kg\n",
      "The weight of wheat in economy sausages is 6.125 kg\n",
      "The weight of starch in economy sausages is 4.375 kg\n",
      "The weight of pork in premium sausages is 16.0 kg\n",
      "The weight of wheat in premium sausages is 2.75 kg\n",
      "The weight of starch in premium sausages is 6.25 kg\n"
     ]
    }
   ],
   "source": [
    "for var in ing_weight:\n",
    "    var_value = ing_weight[var].varValue\n",
    "    print (\"The weight of {0} in {1} sausages is {2} kg\".format(var[1], var[0], var_value))"
   ]
  },
  {
   "cell_type": "code",
   "execution_count": 14,
   "metadata": {},
   "outputs": [
    {
     "name": "stdout",
     "output_type": "stream",
     "text": [
      "The total cost is € for 350 economy sausages and 500 premium sausages\n"
     ]
    }
   ],
   "source": [
    "total_cost = pulp.value(model.objective)\n",
    "\n",
    "print(\"The total cost is € for\", qt_economy, \"economy sausages and\",qt_premium,\"premium sausages\".format(round(total_cost, 2)))"
   ]
  },
  {
   "cell_type": "code",
   "execution_count": 15,
   "metadata": {},
   "outputs": [
    {
     "name": "stdout",
     "output_type": "stream",
     "text": [
      "The income from sales (1€ for economy, 2€ for premium) is 1350 €. Therefore the revenue is: 1209.045 €\n"
     ]
    }
   ],
   "source": [
    "income = qt_economy*1 + qt_premium*2\n",
    "revenue = income-total_cost\n",
    "print(\"The income from sales (1€ for economy, 2€ for premium) is\",income,\"€. Therefore the revenue is:\",revenue,\"€\")"
   ]
  },
  {
   "cell_type": "markdown",
   "metadata": {},
   "source": [
    "# Using `pyomo` for optimisation models\n",
    "\n",
    "`pyomo` is a python module that can be used for simple mathematical modeling techniques. <br>\n",
    "There are `pyomo` tutorials in the [documentation](https://pyomo.readthedocs.io/en/stable/working_models.html) lists most of the useful application areas. <br>\n",
    "An overview of sources and references can be found [here](http://benalexkeen.com/linear-programming-with-python-and-pulp/).\n"
   ]
  },
  {
   "cell_type": "code",
   "execution_count": 22,
   "metadata": {},
   "outputs": [],
   "source": [
    "\n",
    "# knapsack.py\n",
    "from pyomo.environ import *\n",
    "A = ['hammer', 'wrench', 'screwdriver', 'towel']\n",
    "b = {'hammer':8, 'wrench':3, 'screwdriver':6, 'towel':11}\n",
    "w = {'hammer':5, 'wrench':7, 'screwdriver':4, 'towel':3}\n",
    "W_max = 14"
   ]
  },
  {
   "cell_type": "code",
   "execution_count": 23,
   "metadata": {},
   "outputs": [],
   "source": [
    "model = ConcreteModel()\n",
    "model.x = Var( A, within=Binary )\n",
    "model.value = Objective(\n",
    "    expr = sum( b[i]*model.x[i] for i in A ),\n",
    "    sense = maximize )\n",
    "model.weight = Constraint(\n",
    "    expr = sum( w[i]*model.x[i] for i in A) <= W_max )"
   ]
  },
  {
   "cell_type": "code",
   "execution_count": 24,
   "metadata": {},
   "outputs": [
    {
     "name": "stdout",
     "output_type": "stream",
     "text": [
      "GLPSOL: GLPK LP/MIP Solver, v4.65\n",
      "Parameter(s) specified in the command line:\n",
      " --write /var/folders/s1/mk002cqs18s8j8ddy8yf00jc0000gq/T/tmp3s_lrslh.glpk.raw\n",
      " --wglp /var/folders/s1/mk002cqs18s8j8ddy8yf00jc0000gq/T/tmpp5zaiebt.glpk.glp\n",
      " --cpxlp /var/folders/s1/mk002cqs18s8j8ddy8yf00jc0000gq/T/tmpdi7c3d1m.pyomo.lp\n",
      "Reading problem data from '/var/folders/s1/mk002cqs18s8j8ddy8yf00jc0000gq/T/tmpdi7c3d1m.pyomo.lp'...\n",
      "/var/folders/s1/mk002cqs18s8j8ddy8yf00jc0000gq/T/tmpdi7c3d1m.pyomo.lp:28: warning: lower bound of variable 'x1' redefined\n",
      "/var/folders/s1/mk002cqs18s8j8ddy8yf00jc0000gq/T/tmpdi7c3d1m.pyomo.lp:28: warning: upper bound of variable 'x1' redefined\n",
      "2 rows, 5 columns, 5 non-zeros\n",
      "4 integer variables, all of which are binary\n",
      "32 lines were read\n",
      "Writing problem data to '/var/folders/s1/mk002cqs18s8j8ddy8yf00jc0000gq/T/tmpp5zaiebt.glpk.glp'...\n",
      "22 lines were written\n",
      "GLPK Integer Optimizer, v4.65\n",
      "2 rows, 5 columns, 5 non-zeros\n",
      "4 integer variables, all of which are binary\n",
      "Preprocessing...\n",
      "1 constraint coefficient(s) were reduced\n",
      "1 row, 4 columns, 4 non-zeros\n",
      "4 integer variables, all of which are binary\n",
      "Scaling...\n",
      " A: min|aij| =  3.000e+00  max|aij| =  5.000e+00  ratio =  1.667e+00\n",
      "Problem data seem to be well scaled\n",
      "Constructing initial basis...\n",
      "Size of triangular part is 1\n",
      "Solving LP relaxation...\n",
      "GLPK Simplex Optimizer, v4.65\n",
      "1 row, 4 columns, 4 non-zeros\n",
      "*     0: obj =  -0.000000000e+00 inf =   0.000e+00 (4)\n",
      "*     4: obj =   2.500000000e+01 inf =   0.000e+00 (0)\n",
      "OPTIMAL LP SOLUTION FOUND\n",
      "Integer optimization begins...\n",
      "Long-step dual simplex will be used\n",
      "+     4: mip =     not found yet <=              +inf        (1; 0)\n",
      "+     4: >>>>>   2.500000000e+01 <=   2.500000000e+01   0.0% (1; 0)\n",
      "+     4: mip =   2.500000000e+01 <=     tree is empty   0.0% (0; 1)\n",
      "INTEGER OPTIMAL SOLUTION FOUND\n",
      "Time used:   0.0 secs\n",
      "Memory used: 0.1 Mb (59918 bytes)\n",
      "Writing MIP solution to '/var/folders/s1/mk002cqs18s8j8ddy8yf00jc0000gq/T/tmp3s_lrslh.glpk.raw'...\n",
      "16 lines were written\n"
     ]
    }
   ],
   "source": [
    "opt = SolverFactory('glpk')\n",
    "x = result_obj = opt.solve(model, tee=True)"
   ]
  },
  {
   "cell_type": "code",
   "execution_count": 25,
   "metadata": {},
   "outputs": [
    {
     "name": "stdout",
     "output_type": "stream",
     "text": [
      "1 Set Declarations\n",
      "    x_index : Dim=0, Dimen=1, Size=4, Domain=None, Ordered=False, Bounds=None\n",
      "        ['hammer', 'screwdriver', 'towel', 'wrench']\n",
      "\n",
      "1 Var Declarations\n",
      "    x : Size=4, Index=x_index\n",
      "        Key         : Lower : Value : Upper : Fixed : Stale : Domain\n",
      "             hammer :     0 :   1.0 :     1 : False : False : Binary\n",
      "        screwdriver :     0 :   1.0 :     1 : False : False : Binary\n",
      "              towel :     0 :   1.0 :     1 : False : False : Binary\n",
      "             wrench :     0 :   0.0 :     1 : False : False : Binary\n",
      "\n",
      "1 Objective Declarations\n",
      "    value : Size=1, Index=None, Active=True\n",
      "        Key  : Active : Sense    : Expression\n",
      "        None :   True : maximize : 8*x[hammer] + 3*x[wrench] + 6*x[screwdriver] + 11*x[towel]\n",
      "\n",
      "1 Constraint Declarations\n",
      "    weight : Size=1, Index=None, Active=True\n",
      "        Key  : Lower : Body                                                      : Upper : Active\n",
      "        None :  -Inf : 5*x[hammer] + 7*x[wrench] + 4*x[screwdriver] + 3*x[towel] :  14.0 :   True\n",
      "\n",
      "4 Declarations: x_index x value weight\n"
     ]
    }
   ],
   "source": [
    "model.pprint()"
   ]
  },
  {
   "cell_type": "code",
   "execution_count": 26,
   "metadata": {},
   "outputs": [
    {
     "name": "stdout",
     "output_type": "stream",
     "text": [
      "Model unknown\n",
      "\n",
      "  Variables:\n",
      "    x : Size=4, Index=x_index\n",
      "        Key         : Lower : Value : Upper : Fixed : Stale : Domain\n",
      "             hammer :     0 :   1.0 :     1 : False : False : Binary\n",
      "        screwdriver :     0 :   1.0 :     1 : False : False : Binary\n",
      "              towel :     0 :   1.0 :     1 : False : False : Binary\n",
      "             wrench :     0 :   0.0 :     1 : False : False : Binary\n",
      "\n",
      "  Objectives:\n",
      "    value : Size=1, Index=None, Active=True\n",
      "        Key  : Active : Value\n",
      "        None :   True :  25.0\n",
      "\n",
      "  Constraints:\n",
      "    weight : Size=1\n",
      "        Key  : Lower : Body : Upper\n",
      "        None :  None : 12.0 :  14.0\n"
     ]
    }
   ],
   "source": [
    "model.display()"
   ]
  },
  {
   "cell_type": "code",
   "execution_count": 27,
   "metadata": {},
   "outputs": [],
   "source": [
    "with open(\"MILP-Results.txt\", \"w\") as f:\n",
    "    model.pprint(ostream=f)\n",
    "    #Ostream function\n",
    "    \n",
    "text = open(\"MILP-Results.txt\", \"r\")"
   ]
  },
  {
   "cell_type": "code",
   "execution_count": 28,
   "metadata": {},
   "outputs": [
    {
     "name": "stdout",
     "output_type": "stream",
     "text": [
      "1 Set Declarations\n",
      "    x_index : Dim=0, Dimen=1, Size=4, Domain=None, Ordered=False, Bounds=None\n",
      "        ['hammer', 'screwdriver', 'towel', 'wrench']\n",
      "\n",
      "1 Var Declarations\n",
      "    x : Size=4, Index=x_index\n",
      "        Key         : Lower : Value : Upper : Fixed : Stale : Domain\n",
      "             hammer :     0 :   1.0 :     1 : False : False : Binary\n",
      "        screwdriver :     0 :   1.0 :     1 : False : False : Binary\n",
      "              towel :     0 :   1.0 :     1 : False : False : Binary\n",
      "             wrench :     0 :   0.0 :     1 : False : False : Binary\n",
      "\n",
      "1 Objective Declarations\n",
      "    value : Size=1, Index=None, Active=True\n",
      "        Key  : Active : Sense    : Expression\n",
      "        None :   True : maximize : 8*x[hammer] + 3*x[wrench] + 6*x[screwdriver] + 11*x[towel]\n",
      "\n",
      "1 Constraint Declarations\n",
      "    weight : Size=1, Index=None, Active=True\n",
      "        Key  : Lower : Body                                                      : Upper : Active\n",
      "        None :  -Inf : 5*x[hammer] + 7*x[wrench] + 4*x[screwdriver] + 3*x[towel] :  14.0 :   True\n",
      "\n",
      "4 Declarations: x_index x value weight\n",
      "\n"
     ]
    }
   ],
   "source": [
    "print(text.read()) "
   ]
  },
  {
   "cell_type": "code",
   "execution_count": null,
   "metadata": {},
   "outputs": [],
   "source": []
  }
 ],
 "metadata": {
  "hide_input": false,
  "kernelspec": {
   "display_name": "Python 3",
   "language": "python",
   "name": "python3"
  },
  "language_info": {
   "codemirror_mode": {
    "name": "ipython",
    "version": 3
   },
   "file_extension": ".py",
   "mimetype": "text/x-python",
   "name": "python",
   "nbconvert_exporter": "python",
   "pygments_lexer": "ipython3",
   "version": "3.6.8"
  },
  "toc": {
   "base_numbering": 1,
   "nav_menu": {},
   "number_sections": true,
   "sideBar": true,
   "skip_h1_title": false,
   "title_cell": "Table of Contents",
   "title_sidebar": "Contents",
   "toc_cell": true,
   "toc_position": {},
   "toc_section_display": true,
   "toc_window_display": false
  }
 },
 "nbformat": 4,
 "nbformat_minor": 2
}

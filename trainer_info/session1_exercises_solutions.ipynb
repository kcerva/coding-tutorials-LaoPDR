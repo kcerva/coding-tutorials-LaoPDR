{
 "cells": [
  {
   "cell_type": "markdown",
   "id": "0ebd9c7f",
   "metadata": {},
   "source": [
    "# Introduction to python - exercises\n",
    "\n",
    "The exercises shown here aim to showcase the use of data types, loops and control structure.\n",
    "\n",
    "The exercises were taken from https://pynative.com/python-basic-exercise-for-beginners/. "
   ]
  },
  {
   "cell_type": "markdown",
   "id": "d97727d3",
   "metadata": {},
   "source": [
    "## Exercise 1. Print the sum of the current number and the previous number. \n",
    "\n",
    "Write a program to iterate the first 10 numbers and in each iteration, print the sum of the current and previous number."
   ]
  },
  {
   "cell_type": "markdown",
   "id": "7a91feb9",
   "metadata": {},
   "source": [
    "Expected output:\n",
    "\n",
    "Printing current and previous number sum in a range(10)\n",
    "\n",
    "Current Number 0 Previous Number  0  Sum:  0\n",
    "\n",
    "Current Number 1 Previous Number  0  Sum:  1\n",
    "\n",
    "Current Number 2 Previous Number  1  Sum:  3\n",
    "\n",
    "Current Number 3 Previous Number  2  Sum:  5\n",
    "\n",
    "Current Number 4 Previous Number  3  Sum:  7\n",
    "\n",
    "Current Number 5 Previous Number  4  Sum:  9\n",
    "\n",
    "Current Number 6 Previous Number  5  Sum:  11\n",
    "\n",
    "Current Number 7 Previous Number  6  Sum:  13\n",
    "\n",
    "Current Number 8 Previous Number  7  Sum:  15\n",
    "\n",
    "Current Number 9 Previous Number  8  Sum:  17"
   ]
  },
  {
   "cell_type": "code",
   "execution_count": null,
   "id": "f0b4163b",
   "metadata": {},
   "outputs": [],
   "source": [
    "## Solution\n",
    "print(\"Printing current and previous number and their sum in a range(10)\")\n",
    "previous_num = 0\n",
    "\n",
    "# loop from 1 to 10\n",
    "for i in range(1, 11):\n",
    "    x_sum = previous_num + i\n",
    "    print(\"Current Number\", i, \"Previous Number \", previous_num, \" Sum: \", x_sum)\n",
    "    # modify previous number\n",
    "    # set it to the current number\n",
    "    previous_num = i"
   ]
  },
  {
   "cell_type": "markdown",
   "id": "c66a4981",
   "metadata": {},
   "source": [
    "## Excercise 2. Calculate the multiplication and sum of two numbers.\n",
    "\n",
    "Given two integer numbers return their product only if the product is equal to or lower than 1000, else return their sum."
   ]
  },
  {
   "cell_type": "markdown",
   "id": "a7511342",
   "metadata": {},
   "source": [
    "For example: \n",
    "\n",
    "number1 = 20\n",
    "\n",
    "number2 = 30\n",
    "\n",
    "Expected Output:\n",
    "The result is 600\n",
    "\n",
    "number1 = 40\n",
    "\n",
    "number2 = 30\n",
    "\n",
    "Expected Output:\n",
    "The result is 70\n",
    "\n"
   ]
  },
  {
   "cell_type": "code",
   "execution_count": null,
   "id": "a5511ef9",
   "metadata": {},
   "outputs": [],
   "source": [
    "## Solution\n",
    "\n",
    "def multiplication_or_sum(num1, num2):\n",
    "    # calculate product of two number\n",
    "    product = num1 * num2\n",
    "    # check if product is less then 1000\n",
    "    if product <= 1000:\n",
    "        return product\n",
    "    else:\n",
    "        # product is greater than 1000 calculate sum\n",
    "        return num1 + num2\n",
    "\n",
    "# first condition\n",
    "result = multiplication_or_sum(20, 30)\n",
    "print(\"The result is\", result)\n",
    "\n",
    "# Second condition\n",
    "result = multiplication_or_sum(40, 30)\n",
    "print(\"The result is\", result)"
   ]
  },
  {
   "cell_type": "markdown",
   "id": "b68ae65c",
   "metadata": {},
   "source": [
    "## Exercise 3: Print characters from a string that are present at an even index number\n",
    "\n",
    "Write a program to accept a string from the user and display characters that are present at an even index number.\n",
    "\n",
    "For example, str = \"pynative\" so you should display ‘p’, ‘n’, ‘t’, ‘v’.\n",
    "\n",
    "Expected Output:\n",
    "\n",
    "Orginal String is  pynative\n",
    "\n",
    "Printing only even index chars\n",
    "\n",
    "p\n",
    "\n",
    "n\n",
    "\n",
    "t\n",
    "\n",
    "v\n",
    "\n",
    "Hint: you can accept user input and save it to a variable by typing something like this:"
   ]
  },
  {
   "cell_type": "markdown",
   "id": "aa3a5bd5",
   "metadata": {},
   "source": [
    "word = input ('Enter word ')"
   ]
  },
  {
   "cell_type": "code",
   "execution_count": null,
   "id": "3b1e152c",
   "metadata": {},
   "outputs": [],
   "source": [
    "## Solution 1\n",
    "\n",
    "# accept input string from a user\n",
    "word = input('Enter word ')\n",
    "print(\"Original String:\", word)\n",
    "\n",
    "# get the length of a string\n",
    "size = len(word)\n",
    "\n",
    "# iterate a each character of a string\n",
    "# start: 0 to start with first character\n",
    "# stop: size-1 because index starts with 0\n",
    "# step: 2 to get the characters present at even index like 0, 2, 4\n",
    "print(\"Printing only even index chars\")\n",
    "for i in range(0, size - 1, 2):\n",
    "    print(\"index[\", i, \"]\", word[i])"
   ]
  },
  {
   "cell_type": "code",
   "execution_count": null,
   "id": "0f507175",
   "metadata": {},
   "outputs": [],
   "source": [
    "## Solution 2\n",
    "# accept input string from a user\n",
    "word = input('Enter word ')\n",
    "print(\"Original String:\", word)\n",
    "\n",
    "# using list slicing\n",
    "# convert string to list\n",
    "# pick only even index chars\n",
    "x = list(word)\n",
    "for i in x[0::2]:\n",
    "    print(i)"
   ]
  },
  {
   "cell_type": "markdown",
   "id": "68b222fe",
   "metadata": {},
   "source": [
    "# Exercise 4: Display numbers divisible by 5 from a list\n",
    "\n",
    "Iterate the given list of numbers and print only those numbers which are divisible by 5\n",
    "\n",
    "Expected Output:\n",
    "\n",
    "Given list is  [10, 20, 33, 46, 55]\n",
    "\n",
    "Divisible by 5\n",
    "\n",
    "10\n",
    "\n",
    "20\n",
    "\n",
    "55"
   ]
  },
  {
   "cell_type": "code",
   "execution_count": null,
   "id": "024d7d7b",
   "metadata": {},
   "outputs": [],
   "source": [
    "## Solution\n",
    "num_list = [10, 20, 33, 46, 55]\n",
    "print(\"Given list:\", num_list)\n",
    "print('Divisible by 5:')\n",
    "for num in num_list:\n",
    "    if num % 5 == 0:\n",
    "        print(num)"
   ]
  }
 ],
 "metadata": {
  "kernelspec": {
   "display_name": "Python 3 (ipykernel)",
   "language": "python",
   "name": "python3"
  },
  "language_info": {
   "codemirror_mode": {
    "name": "ipython",
    "version": 3
   },
   "file_extension": ".py",
   "mimetype": "text/x-python",
   "name": "python",
   "nbconvert_exporter": "python",
   "pygments_lexer": "ipython3",
   "version": "3.9.7"
  }
 },
 "nbformat": 4,
 "nbformat_minor": 5
}

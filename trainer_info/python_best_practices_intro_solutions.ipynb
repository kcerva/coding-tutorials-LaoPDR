{
 "cells": [
  {
   "cell_type": "markdown",
   "metadata": {
    "colab_type": "text",
    "id": "view-in-github"
   },
   "source": [
    "<a href=\"https://colab.research.google.com/github/Resource-Efficiency-Collective/coding-tutorials/blob/main/python_intro.ipynb\" target=\"_parent\"><img src=\"https://colab.research.google.com/assets/colab-badge.svg\" alt=\"Open In Colab\"/></a>"
   ]
  },
  {
   "cell_type": "markdown",
   "metadata": {
    "id": "4zwqcbyKhGsV"
   },
   "source": [
    "# Intro to coding best practices in Python\n",
    "This demonstration covers the key elements of coding needed for working with data and visualising it.\n",
    "\n",
    "1.   Clean code\n",
    "2.  Loading data\n",
    "3.  Visualising data\n",
    "\n",
    "Most of the content of this session was taken from Luke Cullen's repository. Luke is a PhD student at the Resource Efficiency Collective at the University of Cambridge. His original repository is [here](https://github.com/Resource-Efficiency-Collective/coding-tutorials). "
   ]
  },
  {
   "cell_type": "markdown",
   "metadata": {
    "id": "Zu5ddHA5lyYc"
   },
   "source": [
    "## 1 - Keep it clean!\n",
    "- Comment, comment, comment - Always think about clarity: if you win the lottery and move to Barbados tomorrow, someone else (or you in 3 years time once you've spent the money) needs to pick up your work.\n",
    "- Use functions - Keep code flexible by implementing functions that perform standard tasks well, this will save you A LOT of time.\n",
    "\n",
    "\n",
    "Using functions is an admittedly unconventional intro to coding but functions are key to software development and can help speed up your work."
   ]
  },
  {
   "cell_type": "code",
   "execution_count": null,
   "metadata": {
    "id": "3kh0jZw-g7zf"
   },
   "outputs": [],
   "source": [
    "\"\"\"Example of a simple script\"\"\"\n",
    "\n",
    "# Input - Variable definition\n",
    "qty_apples = 4\n",
    "price_apple = 0.45\n",
    "\n",
    "# Processing - Total cost calculation\n",
    "cost_total = ##complete here\n",
    "\n",
    "# Output - Print to screen\n",
    "print(cost_total)"
   ]
  },
  {
   "cell_type": "code",
   "execution_count": 4,
   "metadata": {
    "id": "094AMfEqijDW"
   },
   "outputs": [],
   "source": [
    "\"\"\"Definition of function\"\"\"\n",
    "\n",
    "def cost_calculation(qty,price):\n",
    "  \"\"\"This function multiplies the quantity of items\n",
    "  by the unit prices and prints total cost.\n",
    "\n",
    "  Inputs\n",
    "  qty - item quantity\n",
    "  price - unit price\n",
    "\n",
    "  Outputs\n",
    "  Total cost print to screen\n",
    "  \"\"\"\n",
    "  # Calculation\n",
    "  cost = ##complete here\n",
    "  # Output\n",
    "  print(cost) "
   ]
  },
  {
   "cell_type": "code",
   "execution_count": null,
   "metadata": {
    "id": "X9G9BV8pkh6j"
   },
   "outputs": [],
   "source": [
    "\"\"\"Use function - type cost_calculation( and follow the instructions\"\"\"\n",
    "##complete here\n"
   ]
  },
  {
   "cell_type": "markdown",
   "metadata": {
    "id": "xjd_WkuhwGMC"
   },
   "source": [
    "Functions often (usually) do not sit within the script we are running, so let's make a more realistic set up with an external function:\n",
    "\n",
    "1. Open the folder containing your python notebooks for this course.\n",
    "2. Click on New -> Text document. Open it and call it 'external_functions.py'. Notice you'll have to change the file extension to '.py'.\n",
    "3. Appropriately comment the top of this file as being used for functions related to the demo notebook.\n",
    "4. Copy & Paste the definition of the cost_calculation function into the new file and rename it cost_calculation_external. Save this change by pressing ctrl+s.\n",
    "5. Run the next cell to import the external file functions to the notebook.\n",
    "\n",
    "Note: There is an option to reuse functions written in Jupyter Notebooks by running this command: '%run notebook_name.ipynb 3'. However this method runs the whole notebook and has been reported to need running the command a few times before you can reuse the function. This is why we do not recommend this and prefer the .py files.\n",
    "\n",
    "To be able to use functions you've made, you only need to import the external file functions to the other python file or function you're trying to use.\n"
   ]
  },
  {
   "cell_type": "code",
   "execution_count": 1,
   "metadata": {
    "id": "n5bl4GAzP9rW"
   },
   "outputs": [],
   "source": [
    "\"\"\"Importing functions to the notebook\"\"\"\n",
    "# Option 1. Importing all functions\n",
    "import external_functions as ext\n",
    "\n",
    "# Option 2. Importing only selected functions. If you have more than one, you need to put the list of functions in parenthesis.\n",
    "from external_functions import cost_calculation_external"
   ]
  },
  {
   "cell_type": "code",
   "execution_count": null,
   "metadata": {
    "id": "J0ZjD_HFpd-M"
   },
   "outputs": [],
   "source": [
    "\"\"\"Now let's use the function contained in the python file to calculate cost\"\"\" \n",
    "##complete here \n"
   ]
  },
  {
   "cell_type": "markdown",
   "metadata": {
    "id": "XGBkd2IAMwG3"
   },
   "source": [
    "A few more hints towards best practices:\n",
    "1. Readability - Consistent style, code blocks, comments, appropriate variable names\n",
    "2. Don't reinvent the wheel - Google is your friend, someone has usually done it before\n",
    "3. Don't repeat yourself - Coding is meant to automate tasks, use functions, avoid hard-coding\n",
    "4. Test your code as you go - Much easier to debug\n",
    "\n",
    "\n"
   ]
  },
  {
   "cell_type": "markdown",
   "metadata": {
    "id": "iOD3STaiRLLA"
   },
   "source": [
    "## 2 - Importing Data\n",
    "Let's do a simple exercise to see the workflow necessary for a re-usable pipeline in Python.\n",
    "\n",
    "1. Go to https://di.unfccc.int/detailed_data_by_party and pick for example: ![image.png](data:image/png;base64,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)\n",
    "2. Export as .csv & save it in your working folder.\n",
    "3. Run the cell below to import a package of functions called 'pandas' which is great for handling table style data."
   ]
  },
  {
   "cell_type": "code",
   "execution_count": 6,
   "metadata": {
    "id": "GHYqfmrqTeDf"
   },
   "outputs": [],
   "source": [
    "\"\"\"Import of pandas functions\"\"\"\n",
    "import pandas as pd"
   ]
  },
  {
   "cell_type": "markdown",
   "metadata": {
    "id": "RymFB-KgWM01"
   },
   "source": [
    "To find an appropriate function within pandas for reading our .csv file, either start typing pd.read_ in the next box to see the options, or got to the pandas documentation https://pandas.pydata.org/docs/reference/io.html. You can get the path to our file by right-clicking on it in the file bar.\n"
   ]
  },
  {
   "cell_type": "code",
   "execution_count": null,
   "metadata": {
    "id": "s7evnbA6Vuho"
   },
   "outputs": [],
   "source": [
    "\"\"\"Let's import the data\"\"\"\n",
    "filepath = ##complete here\n",
    "data = pd.read_csv() ##complete here"
   ]
  },
  {
   "cell_type": "code",
   "execution_count": 71,
   "metadata": {},
   "outputs": [
    {
     "data": {
      "text/plain": [
       "'C:\\\\Users\\\\karli\\\\Dropbox (Cambridge University)\\\\CCG\\\\2022-2023 Southern Partner Fund application\\\\Teaching materials\\\\coding-tutorials-LaoPDR\\\\session3_basic_python'"
      ]
     },
     "execution_count": 71,
     "metadata": {},
     "output_type": "execute_result"
    }
   ],
   "source": [
    "import os\n",
    "os.getcwd()"
   ]
  },
  {
   "cell_type": "code",
   "execution_count": 72,
   "metadata": {
    "scrolled": true
   },
   "outputs": [],
   "source": [
    "import numpy as np\n",
    "filepath = 'C:\\\\Users\\\\karli\\\\Dropbox (Cambridge University)\\\\CCG\\\\2022-2023 Southern Partner Fund application\\\\Teaching materials\\\\coding-tutorials-LaoPDR\\\\session3_basic_python'\n",
    "data = pd.read_csv('Australia_GHG_kt.csv', skiprows = 2, nrows = 7, sep = ',')\n",
    "\n",
    "# changing column names to right value\n",
    "column_names = data.iloc[0]\n",
    "data.columns = column_names\n",
    "# Removing row with column names\n",
    "data.drop(axis = 0, index = 0, inplace = True)\n",
    "# Removing columns we don't need\n",
    "data = data.iloc[:,:-2]"
   ]
  },
  {
   "cell_type": "markdown",
   "metadata": {
    "id": "dMFbmfM4W2Bd"
   },
   "source": [
    "Didn't work? All part of the learning curve I guess... What does the error say?\n",
    "\n",
    "Let's check what the .csv looks like, open it up from your Downloads folder.\n",
    "\n",
    "A few additional lines in there? Check the [function docs](https://pandas.pydata.org/docs/reference/api/pandas.read_csv.html#pandas.read_csv) to see if we can solve this, a hint we're looking for attributes about rows.\n",
    "\n",
    "Hint: see what the delimiter is. Implementing a [brute force approach](https://stackoverflow.com/questions/18039057/python-pandas-error-tokenizing-data) could also work but it's only recommended when you know what you're doing."
   ]
  },
  {
   "cell_type": "code",
   "execution_count": null,
   "metadata": {
    "id": "yWdz8oqOYWn1"
   },
   "outputs": [],
   "source": [
    "\"\"\"Re-try the import\"\"\"\n",
    "data = ##complete here"
   ]
  },
  {
   "cell_type": "code",
   "execution_count": 73,
   "metadata": {
    "id": "29TEuxkZU-mX"
   },
   "outputs": [
    {
     "data": {
      "text/html": [
       "<div>\n",
       "<style scoped>\n",
       "    .dataframe tbody tr th:only-of-type {\n",
       "        vertical-align: middle;\n",
       "    }\n",
       "\n",
       "    .dataframe tbody tr th {\n",
       "        vertical-align: top;\n",
       "    }\n",
       "\n",
       "    .dataframe thead th {\n",
       "        text-align: right;\n",
       "    }\n",
       "</style>\n",
       "<table border=\"1\" class=\"dataframe\">\n",
       "  <thead>\n",
       "    <tr style=\"text-align: right;\">\n",
       "      <th></th>\n",
       "      <th>Category</th>\n",
       "      <th>Base year</th>\n",
       "      <th>1990</th>\n",
       "      <th>1991</th>\n",
       "      <th>1992</th>\n",
       "      <th>1993</th>\n",
       "      <th>1994</th>\n",
       "      <th>1995</th>\n",
       "      <th>1996</th>\n",
       "      <th>1997</th>\n",
       "      <th>...</th>\n",
       "      <th>2010</th>\n",
       "      <th>2011</th>\n",
       "      <th>2012</th>\n",
       "      <th>2013</th>\n",
       "      <th>2014</th>\n",
       "      <th>2015</th>\n",
       "      <th>2016</th>\n",
       "      <th>2017</th>\n",
       "      <th>2018</th>\n",
       "      <th>2019</th>\n",
       "    </tr>\n",
       "  </thead>\n",
       "  <tbody>\n",
       "    <tr>\n",
       "      <th>1</th>\n",
       "      <td>1.  Energy</td>\n",
       "      <td>258947.04465704237</td>\n",
       "      <td>258947.04465704237</td>\n",
       "      <td>260930.35964980774</td>\n",
       "      <td>265474.8100482719</td>\n",
       "      <td>269536.38100543304</td>\n",
       "      <td>272316.64245784347</td>\n",
       "      <td>283304.12903621234</td>\n",
       "      <td>289904.96814959415</td>\n",
       "      <td>298072.36740701896</td>\n",
       "      <td>...</td>\n",
       "      <td>379525.9319373314</td>\n",
       "      <td>377598.39677528</td>\n",
       "      <td>382674.70418835385</td>\n",
       "      <td>376071.10895077564</td>\n",
       "      <td>372355.1397106155</td>\n",
       "      <td>379924.89707979443</td>\n",
       "      <td>389464.30250903306</td>\n",
       "      <td>392020.04855217674</td>\n",
       "      <td>393737.93068071106</td>\n",
       "      <td>394697.5293080256</td>\n",
       "    </tr>\n",
       "    <tr>\n",
       "      <th>2</th>\n",
       "      <td>1.AA  Fuel Combustion - Sectoral approach</td>\n",
       "      <td>251674.54877254463</td>\n",
       "      <td>251674.54877254463</td>\n",
       "      <td>253929.1588365228</td>\n",
       "      <td>258171.10954310844</td>\n",
       "      <td>262399.63784937497</td>\n",
       "      <td>265436.49453729356</td>\n",
       "      <td>276243.41553081735</td>\n",
       "      <td>283143.9159693259</td>\n",
       "      <td>291385.0228092652</td>\n",
       "      <td>...</td>\n",
       "      <td>371336.15628816583</td>\n",
       "      <td>369724.2015004742</td>\n",
       "      <td>374387.7110019937</td>\n",
       "      <td>367224.70376014087</td>\n",
       "      <td>363082.4320497963</td>\n",
       "      <td>369097.0429247943</td>\n",
       "      <td>377024.3915239123</td>\n",
       "      <td>377158.6188864726</td>\n",
       "      <td>376812.3029248183</td>\n",
       "      <td>374498.2826772946</td>\n",
       "    </tr>\n",
       "    <tr>\n",
       "      <th>3</th>\n",
       "      <td>1.AB  Fuel Combustion - Reference Approach</td>\n",
       "      <td>254498.7559793475</td>\n",
       "      <td>254498.7559793475</td>\n",
       "      <td>257643.31817877616</td>\n",
       "      <td>258657.28950888588</td>\n",
       "      <td>265862.3926017181</td>\n",
       "      <td>268892.3483312443</td>\n",
       "      <td>277143.90469771926</td>\n",
       "      <td>287304.7771815549</td>\n",
       "      <td>291479.24326866644</td>\n",
       "      <td>...</td>\n",
       "      <td>374164.71637709293</td>\n",
       "      <td>372893.99103163206</td>\n",
       "      <td>380694.2376548504</td>\n",
       "      <td>369812.69249241997</td>\n",
       "      <td>360950.61850027024</td>\n",
       "      <td>370300.39361186005</td>\n",
       "      <td>373120.73872426886</td>\n",
       "      <td>375011.3700569747</td>\n",
       "      <td>370033.2210204188</td>\n",
       "      <td>375054.38834412995</td>\n",
       "    </tr>\n",
       "    <tr>\n",
       "      <th>4</th>\n",
       "      <td>1.AD  Feedstocks, Reductants and Other Non-ene...</td>\n",
       "      <td>12228.06901453965</td>\n",
       "      <td>12228.06901453965</td>\n",
       "      <td>11899.764487253333</td>\n",
       "      <td>12544.172946267216</td>\n",
       "      <td>12346.192598185899</td>\n",
       "      <td>13363.716339825549</td>\n",
       "      <td>13875.105733436401</td>\n",
       "      <td>13883.126776494651</td>\n",
       "      <td>13870.24048175372</td>\n",
       "      <td>...</td>\n",
       "      <td>16368.507337232484</td>\n",
       "      <td>16628.607061795115</td>\n",
       "      <td>16500.48431451244</td>\n",
       "      <td>12422.490396363119</td>\n",
       "      <td>12613.700067594913</td>\n",
       "      <td>12769.200421135469</td>\n",
       "      <td>13505.84336972874</td>\n",
       "      <td>13934.391668218661</td>\n",
       "      <td>14410.95224090838</td>\n",
       "      <td>14027.055663464218</td>\n",
       "    </tr>\n",
       "    <tr>\n",
       "      <th>5</th>\n",
       "      <td>1.B  Fugitive Emissions from Fuels</td>\n",
       "      <td>7272.4958844977455</td>\n",
       "      <td>7272.4958844977455</td>\n",
       "      <td>7001.200813284943</td>\n",
       "      <td>7303.700505163452</td>\n",
       "      <td>7136.743156058121</td>\n",
       "      <td>6880.147920549874</td>\n",
       "      <td>7060.713505395034</td>\n",
       "      <td>6761.052180268225</td>\n",
       "      <td>6687.344597753778</td>\n",
       "      <td>...</td>\n",
       "      <td>8189.775649165572</td>\n",
       "      <td>7874.195274805806</td>\n",
       "      <td>8286.993186360196</td>\n",
       "      <td>8846.405190634789</td>\n",
       "      <td>9272.707660819266</td>\n",
       "      <td>10827.854155000094</td>\n",
       "      <td>12439.910985120738</td>\n",
       "      <td>14861.429665704109</td>\n",
       "      <td>16925.62775589277</td>\n",
       "      <td>20199.246630730977</td>\n",
       "    </tr>\n",
       "  </tbody>\n",
       "</table>\n",
       "<p>5 rows × 32 columns</p>\n",
       "</div>"
      ],
      "text/plain": [
       "0                                           Category           Base year  \\\n",
       "1                                         1.  Energy  258947.04465704237   \n",
       "2          1.AA  Fuel Combustion - Sectoral approach  251674.54877254463   \n",
       "3         1.AB  Fuel Combustion - Reference Approach   254498.7559793475   \n",
       "4  1.AD  Feedstocks, Reductants and Other Non-ene...   12228.06901453965   \n",
       "5                 1.B  Fugitive Emissions from Fuels  7272.4958844977455   \n",
       "\n",
       "0                1990                1991                1992  \\\n",
       "1  258947.04465704237  260930.35964980774   265474.8100482719   \n",
       "2  251674.54877254463   253929.1588365228  258171.10954310844   \n",
       "3   254498.7559793475  257643.31817877616  258657.28950888588   \n",
       "4   12228.06901453965  11899.764487253333  12544.172946267216   \n",
       "5  7272.4958844977455   7001.200813284943   7303.700505163452   \n",
       "\n",
       "0                1993                1994                1995  \\\n",
       "1  269536.38100543304  272316.64245784347  283304.12903621234   \n",
       "2  262399.63784937497  265436.49453729356  276243.41553081735   \n",
       "3   265862.3926017181   268892.3483312443  277143.90469771926   \n",
       "4  12346.192598185899  13363.716339825549  13875.105733436401   \n",
       "5   7136.743156058121   6880.147920549874   7060.713505395034   \n",
       "\n",
       "0                1996                1997  ...                2010  \\\n",
       "1  289904.96814959415  298072.36740701896  ...   379525.9319373314   \n",
       "2   283143.9159693259   291385.0228092652  ...  371336.15628816583   \n",
       "3   287304.7771815549  291479.24326866644  ...  374164.71637709293   \n",
       "4  13883.126776494651   13870.24048175372  ...  16368.507337232484   \n",
       "5   6761.052180268225   6687.344597753778  ...   8189.775649165572   \n",
       "\n",
       "0                2011                2012                2013  \\\n",
       "1     377598.39677528  382674.70418835385  376071.10895077564   \n",
       "2   369724.2015004742   374387.7110019937  367224.70376014087   \n",
       "3  372893.99103163206   380694.2376548504  369812.69249241997   \n",
       "4  16628.607061795115   16500.48431451244  12422.490396363119   \n",
       "5   7874.195274805806   8286.993186360196   8846.405190634789   \n",
       "\n",
       "0                2014                2015                2016  \\\n",
       "1   372355.1397106155  379924.89707979443  389464.30250903306   \n",
       "2   363082.4320497963   369097.0429247943   377024.3915239123   \n",
       "3  360950.61850027024  370300.39361186005  373120.73872426886   \n",
       "4  12613.700067594913  12769.200421135469   13505.84336972874   \n",
       "5   9272.707660819266  10827.854155000094  12439.910985120738   \n",
       "\n",
       "0                2017                2018                2019  \n",
       "1  392020.04855217674  393737.93068071106   394697.5293080256  \n",
       "2   377158.6188864726   376812.3029248183   374498.2826772946  \n",
       "3   375011.3700569747   370033.2210204188  375054.38834412995  \n",
       "4  13934.391668218661   14410.95224090838  14027.055663464218  \n",
       "5  14861.429665704109   16925.62775589277  20199.246630730977  \n",
       "\n",
       "[5 rows x 32 columns]"
      ]
     },
     "execution_count": 73,
     "metadata": {},
     "output_type": "execute_result"
    }
   ],
   "source": [
    "\"\"\"Ok let's display the top rows\"\"\"\n",
    "data.head()"
   ]
  },
  {
   "cell_type": "markdown",
   "metadata": {
    "id": "1oOAoOQ7XKoG"
   },
   "source": [
    "Lessons?\n",
    "1. Debugging - Always read the error message, as frustrating as it gets there's ALWAYS a reason it's not working.\n",
    "2. Check-out your raw data file to use the most appropriate import method"
   ]
  },
  {
   "cell_type": "markdown",
   "metadata": {
    "id": "iutNltC6XT42"
   },
   "source": [
    "# 3 - Visualising data\n",
    "Can we get a graph displaying the comparative contributions of each category?\n",
    "\n",
    "Although pandas has some plotting capabilities of it's own, the basic plotting package for python is matplotlib. Try find how to do a simple xy plot using matplotlib?"
   ]
  },
  {
   "cell_type": "code",
   "execution_count": 66,
   "metadata": {
    "id": "B13aoYPkhnmF"
   },
   "outputs": [],
   "source": [
    "# Import library\n",
    "import matplotlib.pyplot as plt"
   ]
  },
  {
   "cell_type": "code",
   "execution_count": 67,
   "metadata": {
    "id": "nRMgQIGsnqZJ"
   },
   "outputs": [],
   "source": [
    "\"\"\"Let's get plotting\"\"\"\n",
    "# Re-format data for plotting\n",
    "years = data.columns[2:]\n",
    "emissions = data.values[:,2:]\n",
    "\n",
    "# Plotting - remember emissions is a matrix, just take the first line\n",
    "##complete here using plt."
   ]
  },
  {
   "cell_type": "code",
   "execution_count": 68,
   "metadata": {},
   "outputs": [
    {
     "data": {
      "text/plain": [
       "[<matplotlib.lines.Line2D at 0x1f276f193d0>]"
      ]
     },
     "execution_count": 68,
     "metadata": {},
     "output_type": "execute_result"
    },
    {
     "data": {
      "image/png": "[encoded data removed]",
      "text/plain": [
       "<Figure size 432x288 with 1 Axes>"
      ]
     },
     "metadata": {
      "needs_background": "light"
     },
     "output_type": "display_data"
    }
   ],
   "source": [
    "plt.plot(years,emissions[0])"
   ]
  },
  {
   "cell_type": "markdown",
   "metadata": {
    "id": "IZGneedCfihl"
   },
   "source": [
    "Ooh that's not pretty... But at least it works.\n",
    "Let's try embellishing a little."
   ]
  },
  {
   "cell_type": "code",
   "execution_count": null,
   "metadata": {
    "id": "Jt-6DNzyn7G8"
   },
   "outputs": [],
   "source": [
    "\"\"\"Let's reformat our data to handle values as numeric and to reclassify non-reported data as unknown\"\"\"\n",
    "# Convert emissions data to numeric\n",
    "emissions_vals = pd.to_numeric(emissions.flatten(), errors='coerce').reshape(emissions.shape).astype(float)\n",
    "\n",
    "# Extract final year value\n",
    "years_vals = years.values\n",
    "years_vals[-1] = \"\".join(filter(str.isdigit,years_vals[-1]))\n",
    "\n",
    "# Convert years to numeric values\n",
    "years_vals = years.astype(float)\n",
    "\n",
    "# Extract the names of the sectors\n",
    "sectors = data.values[:,0]\n",
    "\n",
    "# Now we'll create a prettier looking plot containing a line for each entry\n",
    "fig, ax = plt.subplots(1,1,figsize=[12,5])\n",
    "for i in range(emissions.shape[0]):\n",
    "  ax.scatter(##complete here\n",
    "             ,label=sectors[i])\n",
    "\n",
    "# Try adding some labels - e.g. title, x label, y label, legend\n",
    "##complete here\n",
    "plt.show()"
   ]
  },
  {
   "cell_type": "code",
   "execution_count": 74,
   "metadata": {},
   "outputs": [
    {
     "data": {
      "image/png": "[encoded data removed]",
      "text/plain": [
       "<Figure size 864x360 with 1 Axes>"
      ]
     },
     "metadata": {
      "needs_background": "light"
     },
     "output_type": "display_data"
    }
   ],
   "source": [
    "# SOLUTION\n",
    "# Convert emissions data to numeric\n",
    "emissions_vals = pd.to_numeric(emissions.flatten(), errors='coerce').reshape(emissions.shape).astype(float)\n",
    "\n",
    "# Extract final year value\n",
    "years_vals = years.values\n",
    "years_vals[-1] = \"\".join(filter(str.isdigit,years_vals[-1]))\n",
    "\n",
    "# Convert years to numeric values\n",
    "years_vals = years.astype(float)\n",
    "\n",
    "# Extract the names of the sectors\n",
    "sectors = data.values[:,0]\n",
    "\n",
    "# Now we'll create a prettier looking plot containing a line for each entry\n",
    "fig, ax = plt.subplots(1,1,figsize=[12,5])\n",
    "for i in range(emissions.shape[0]):\n",
    "  ax.scatter(years_vals, emissions_vals[i], label=sectors[i])\n",
    "\n",
    "# Adding some labels\n",
    "ax.legend(), ax.set_title(filepath.split('.')[0].split('/')[-1], fontsize=18), ax.set_xlabel('Year', fontsize=15), ax.set_ylabel('CO2 emissions (kt)',fontsize=15)\n",
    "plt.show()"
   ]
  },
  {
   "cell_type": "markdown",
   "metadata": {
    "id": "z_LVssZkXaXd"
   },
   "source": [
    "# 4 - Make a function that does this for any UNFCCC data\n",
    "Solution [here](https://github.com/Resource-Efficiency-Collective/coding-tutorials/blob/main/python_intro_solutions.ipynb)"
   ]
  },
  {
   "cell_type": "code",
   "execution_count": null,
   "metadata": {
    "id": "bF6UfkNQyAM4"
   },
   "outputs": [],
   "source": [
    "\"\"\"Let's define the function here and import the necessary functions\"\"\"\n",
    "# Import necessary packages\n",
    "import pandas as pd\n",
    "import matplotlib.pyplot as plt\n",
    "\n",
    "def plot_unfccc(##complete here):\n",
    "  ##complete here"
   ]
  },
  {
   "cell_type": "code",
   "execution_count": null,
   "metadata": {
    "id": "YC5K-At_XTn1"
   },
   "outputs": [],
   "source": [
    "# Defining variables \n",
    "filepath = ##complete here\n",
    "\n",
    "# Call function\n",
    "##complete here"
   ]
  },
  {
   "cell_type": "markdown",
   "metadata": {
    "id": "2yimI8Uk0MQ5"
   },
   "source": [
    "Nice plot! If you've got this far, let's try 2 more things:\n",
    "1. Add this function to the external_functions.py file you made earlier. In the next box create the graph from this external function."
   ]
  },
  {
   "cell_type": "code",
   "execution_count": null,
   "metadata": {
    "id": "epLKtp5i0gn4"
   },
   "outputs": [],
   "source": [
    "# Reload the external functions \n",
    "from importlib import reload\n",
    "reload(ext)"
   ]
  },
  {
   "cell_type": "code",
   "execution_count": null,
   "metadata": {
    "id": "wpWrPK5J1fnA"
   },
   "outputs": [],
   "source": [
    "# Use the external function to produce the graph\n",
    "##complete here"
   ]
  },
  {
   "cell_type": "markdown",
   "metadata": {
    "id": "Pe9x1Eek1l0n"
   },
   "source": [
    "2. Head back to https://di.unfccc.int/detailed_data_by_party and use this function with a different country."
   ]
  },
  {
   "cell_type": "code",
   "execution_count": null,
   "metadata": {
    "id": "orCivbCk1tw2"
   },
   "outputs": [],
   "source": [
    "# Define new filepath\n",
    "filepath_new = ##complete here\n",
    "\n",
    "## Call function\n",
    "## complete here"
   ]
  }
 ],
 "metadata": {
  "colab": {
   "collapsed_sections": [],
   "include_colab_link": true,
   "name": "python_intro.ipynb",
   "provenance": []
  },
  "kernelspec": {
   "display_name": "Python 3 (ipykernel)",
   "language": "python",
   "name": "python3"
  },
  "language_info": {
   "codemirror_mode": {
    "name": "ipython",
    "version": 3
   },
   "file_extension": ".py",
   "mimetype": "text/x-python",
   "name": "python",
   "nbconvert_exporter": "python",
   "pygments_lexer": "ipython3",
   "version": "3.9.7"
  }
 },
 "nbformat": 4,
 "nbformat_minor": 1
}

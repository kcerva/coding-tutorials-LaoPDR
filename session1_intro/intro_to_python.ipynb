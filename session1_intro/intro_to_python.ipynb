{
 "cells": [
  {
   "cell_type": "markdown",
   "id": "6c010143",
   "metadata": {},
   "source": [
    "# Introduction to python\n",
    "In this session we will cover some basic aspects of Python using Jupyter notebooks.\n",
    "\n",
    "1. Syntax\n",
    "2. Data types\n",
    "3. Loops and control structures\n",
    "4. numpy, scipy, math\n",
    "\n",
    "The content of this section was partially taken from https://github.com/cuttlefishh/python-for-data-analysis/blob/master/lessons/lesson04.ipynb"
   ]
  },
  {
   "cell_type": "markdown",
   "id": "1e8ec951",
   "metadata": {},
   "source": [
    "## Syntax"
   ]
  },
  {
   "cell_type": "code",
   "execution_count": null,
   "id": "b384f7e3",
   "metadata": {},
   "outputs": [],
   "source": [
    "2 + 2"
   ]
  },
  {
   "cell_type": "code",
   "execution_count": null,
   "id": "3353b3d9",
   "metadata": {},
   "outputs": [],
   "source": [
    "x = 5\n",
    "y = 2\n",
    "x * y"
   ]
  },
  {
   "cell_type": "code",
   "execution_count": null,
   "id": "a14b4789",
   "metadata": {},
   "outputs": [],
   "source": [
    "x ** y"
   ]
  },
  {
   "cell_type": "code",
   "execution_count": null,
   "id": "345f7c04",
   "metadata": {},
   "outputs": [],
   "source": [
    "print('Hello, world!')"
   ]
  },
  {
   "cell_type": "code",
   "execution_count": null,
   "id": "754cba37",
   "metadata": {},
   "outputs": [],
   "source": [
    "print('%s raised to power of %s equals %s' % (x, y, x ** y))"
   ]
  },
  {
   "cell_type": "markdown",
   "id": "e4edb862",
   "metadata": {},
   "source": [
    "# Data Types\n",
    "## Booleans"
   ]
  },
  {
   "cell_type": "markdown",
   "id": "caf75bf6",
   "metadata": {},
   "source": [
    "'True' and 'False' have special meaning in Python."
   ]
  },
  {
   "cell_type": "code",
   "execution_count": null,
   "id": "26bab6fb",
   "metadata": {},
   "outputs": [],
   "source": [
    "a = True\n",
    "b = False"
   ]
  },
  {
   "cell_type": "code",
   "execution_count": null,
   "id": "be35dba8",
   "metadata": {},
   "outputs": [],
   "source": [
    "a == True"
   ]
  },
  {
   "cell_type": "code",
   "execution_count": null,
   "id": "7608b181",
   "metadata": {},
   "outputs": [],
   "source": [
    "b == True"
   ]
  },
  {
   "cell_type": "code",
   "execution_count": null,
   "id": "07b93fe6",
   "metadata": {},
   "outputs": [],
   "source": [
    "a or b"
   ]
  },
  {
   "cell_type": "code",
   "execution_count": null,
   "id": "08157cf7",
   "metadata": {},
   "outputs": [],
   "source": [
    "a and b"
   ]
  },
  {
   "cell_type": "code",
   "execution_count": null,
   "id": "9a4dc8ac",
   "metadata": {},
   "outputs": [],
   "source": [
    "a != True"
   ]
  },
  {
   "cell_type": "markdown",
   "id": "e17e9812",
   "metadata": {},
   "source": [
    "## Numbers: integers and floats\n",
    "\n",
    "Numbers are pretty straightforward, especially in Python 3."
   ]
  },
  {
   "cell_type": "code",
   "execution_count": null,
   "id": "d0d56efc",
   "metadata": {},
   "outputs": [],
   "source": [
    "1 + 2"
   ]
  },
  {
   "cell_type": "code",
   "execution_count": null,
   "id": "a9ed6ef0",
   "metadata": {},
   "outputs": [],
   "source": [
    "1.0 + 2.0"
   ]
  },
  {
   "cell_type": "code",
   "execution_count": null,
   "id": "142abec1",
   "metadata": {},
   "outputs": [],
   "source": [
    "1 / 2"
   ]
  },
  {
   "cell_type": "code",
   "execution_count": null,
   "id": "280ce594",
   "metadata": {},
   "outputs": [],
   "source": [
    "1.0 / 2.0"
   ]
  },
  {
   "cell_type": "code",
   "execution_count": null,
   "id": "6b7776b5",
   "metadata": {},
   "outputs": [],
   "source": [
    "type(1)"
   ]
  },
  {
   "cell_type": "code",
   "execution_count": null,
   "id": "10f9adb9",
   "metadata": {},
   "outputs": [],
   "source": [
    "type(1/2)"
   ]
  },
  {
   "cell_type": "markdown",
   "id": "9fc3f8e6",
   "metadata": {},
   "source": [
    "Multiplication residual"
   ]
  },
  {
   "cell_type": "code",
   "execution_count": 1,
   "id": "31af7118",
   "metadata": {},
   "outputs": [
    {
     "data": {
      "text/plain": [
       "0"
      ]
     },
     "execution_count": 1,
     "metadata": {},
     "output_type": "execute_result"
    }
   ],
   "source": [
    "4 % 2"
   ]
  },
  {
   "cell_type": "code",
   "execution_count": 4,
   "id": "b7bae927",
   "metadata": {},
   "outputs": [
    {
     "data": {
      "text/plain": [
       "2"
      ]
     },
     "execution_count": 4,
     "metadata": {},
     "output_type": "execute_result"
    }
   ],
   "source": [
    "5 % 3"
   ]
  },
  {
   "cell_type": "markdown",
   "id": "21f787f1",
   "metadata": {},
   "source": [
    "## Strings"
   ]
  },
  {
   "cell_type": "markdown",
   "id": "c7d312fa",
   "metadata": {},
   "source": [
    "The next four data types -- strings, lists, tuples, arrays -- are all sequences."
   ]
  },
  {
   "cell_type": "markdown",
   "id": "6a68846c",
   "metadata": {},
   "source": [
    "Strings are sequences of characters."
   ]
  },
  {
   "cell_type": "code",
   "execution_count": null,
   "id": "3eddfd29",
   "metadata": {},
   "outputs": [],
   "source": [
    "s = 'Hello, world'"
   ]
  },
  {
   "cell_type": "code",
   "execution_count": null,
   "id": "0cd0b9c2",
   "metadata": {},
   "outputs": [],
   "source": [
    "type(s)"
   ]
  },
  {
   "cell_type": "code",
   "execution_count": null,
   "id": "a7ddd974",
   "metadata": {},
   "outputs": [],
   "source": [
    "s[0:4]"
   ]
  },
  {
   "cell_type": "code",
   "execution_count": null,
   "id": "14253f23",
   "metadata": {},
   "outputs": [],
   "source": [
    "s + '!'"
   ]
  },
  {
   "cell_type": "code",
   "execution_count": null,
   "id": "53d7e06a",
   "metadata": {},
   "outputs": [],
   "source": [
    "s"
   ]
  },
  {
   "cell_type": "code",
   "execution_count": null,
   "id": "91f32cd6",
   "metadata": {},
   "outputs": [],
   "source": [
    "s = s + '!'"
   ]
  },
  {
   "cell_type": "code",
   "execution_count": null,
   "id": "50cc0c8b",
   "metadata": {},
   "outputs": [],
   "source": [
    "s"
   ]
  },
  {
   "cell_type": "code",
   "execution_count": null,
   "id": "80d1e707",
   "metadata": {},
   "outputs": [],
   "source": [
    "len(s)"
   ]
  },
  {
   "cell_type": "markdown",
   "id": "64daa4f4",
   "metadata": {},
   "source": [
    "## Lists"
   ]
  },
  {
   "cell_type": "markdown",
   "id": "66e61b98",
   "metadata": {},
   "source": [
    "Lists are mutable sequences of anything."
   ]
  },
  {
   "cell_type": "code",
   "execution_count": null,
   "id": "bffe038f",
   "metadata": {},
   "outputs": [],
   "source": [
    "l = [0, 1, 1, 2, 3, 5, 8]"
   ]
  },
  {
   "cell_type": "code",
   "execution_count": null,
   "id": "1b20d234",
   "metadata": {},
   "outputs": [],
   "source": [
    "m = [5, 2, 'a', 'xxx', True, [0, 1]]"
   ]
  },
  {
   "cell_type": "code",
   "execution_count": null,
   "id": "613b3d42",
   "metadata": {},
   "outputs": [],
   "source": [
    "l[0:3]"
   ]
  },
  {
   "cell_type": "code",
   "execution_count": null,
   "id": "90076a46",
   "metadata": {},
   "outputs": [],
   "source": [
    "[0, 1, 1]"
   ]
  },
  {
   "cell_type": "code",
   "execution_count": null,
   "id": "d093c69e",
   "metadata": {},
   "outputs": [],
   "source": [
    "m[4]"
   ]
  },
  {
   "cell_type": "code",
   "execution_count": null,
   "id": "97ae12a2",
   "metadata": {},
   "outputs": [],
   "source": [
    "m[4] = False"
   ]
  },
  {
   "cell_type": "code",
   "execution_count": null,
   "id": "5ba2aed7",
   "metadata": {},
   "outputs": [],
   "source": [
    "m[4:]"
   ]
  },
  {
   "cell_type": "code",
   "execution_count": null,
   "id": "5871bf68",
   "metadata": {},
   "outputs": [],
   "source": [
    "[False, [0, 1]]"
   ]
  },
  {
   "cell_type": "markdown",
   "id": "fc24cc33",
   "metadata": {},
   "source": [
    "## Tuples\n",
    "\n",
    "Tuples are immutable sequences of anything (similar to lists except you can't change them)."
   ]
  },
  {
   "cell_type": "code",
   "execution_count": null,
   "id": "67788f30",
   "metadata": {},
   "outputs": [],
   "source": [
    "n = (3, 5, 6)"
   ]
  },
  {
   "cell_type": "code",
   "execution_count": null,
   "id": "d425e0b1",
   "metadata": {},
   "outputs": [],
   "source": [
    "n[0]"
   ]
  },
  {
   "cell_type": "code",
   "execution_count": null,
   "id": "607500cf",
   "metadata": {},
   "outputs": [],
   "source": [
    "3"
   ]
  },
  {
   "cell_type": "code",
   "execution_count": null,
   "id": "5a88b2a0",
   "metadata": {},
   "outputs": [],
   "source": [
    "n[0] = 2"
   ]
  },
  {
   "cell_type": "markdown",
   "id": "75e16393",
   "metadata": {},
   "source": [
    "## Arrays (numpy)"
   ]
  },
  {
   "cell_type": "code",
   "execution_count": null,
   "id": "8464b8b0",
   "metadata": {},
   "outputs": [],
   "source": [
    "# Import modules to use\n",
    "import math\n",
    "import numpy as np"
   ]
  },
  {
   "cell_type": "code",
   "execution_count": null,
   "id": "78fd61ae",
   "metadata": {},
   "outputs": [],
   "source": [
    "mylist = [0, 2, 4]\n",
    "np.array(mylist)"
   ]
  },
  {
   "cell_type": "code",
   "execution_count": null,
   "id": "aaacbf3f",
   "metadata": {},
   "outputs": [],
   "source": [
    "np.zeros(5)"
   ]
  },
  {
   "cell_type": "code",
   "execution_count": null,
   "id": "24e7e2b1",
   "metadata": {},
   "outputs": [],
   "source": [
    "np.arange(5)"
   ]
  },
  {
   "cell_type": "code",
   "execution_count": null,
   "id": "9b60b383",
   "metadata": {},
   "outputs": [],
   "source": [
    "np.arange(4, 10)"
   ]
  },
  {
   "cell_type": "code",
   "execution_count": null,
   "id": "881ab06c",
   "metadata": {},
   "outputs": [],
   "source": [
    "np.arange(0, 10, 2)"
   ]
  },
  {
   "cell_type": "code",
   "execution_count": null,
   "id": "806a3ac2",
   "metadata": {},
   "outputs": [],
   "source": [
    "np.linspace(0, 10, 5)"
   ]
  },
  {
   "cell_type": "code",
   "execution_count": null,
   "id": "75d57c51",
   "metadata": {},
   "outputs": [],
   "source": [
    "np.linspace(0, 10, 11)"
   ]
  },
  {
   "cell_type": "code",
   "execution_count": null,
   "id": "965b138d",
   "metadata": {},
   "outputs": [],
   "source": [
    "np.random.rand()"
   ]
  },
  {
   "cell_type": "code",
   "execution_count": null,
   "id": "0dd7a65a",
   "metadata": {},
   "outputs": [],
   "source": [
    "np.random.rand(5)"
   ]
  },
  {
   "cell_type": "markdown",
   "id": "f85c441d",
   "metadata": {},
   "source": [
    "## Sets\n",
    "\n",
    "Sets are unordered collections of unique objects."
   ]
  },
  {
   "cell_type": "code",
   "execution_count": null,
   "id": "d725baf5",
   "metadata": {},
   "outputs": [],
   "source": [
    "s1 = {'a', 'b', 'c'}\n",
    "s2 = {'a', 'd', 'e'}"
   ]
  },
  {
   "cell_type": "code",
   "execution_count": null,
   "id": "ea621195",
   "metadata": {},
   "outputs": [],
   "source": [
    "s1 & s2"
   ]
  },
  {
   "cell_type": "code",
   "execution_count": null,
   "id": "6d85d0d2",
   "metadata": {},
   "outputs": [],
   "source": [
    "s1 | s2"
   ]
  },
  {
   "cell_type": "code",
   "execution_count": null,
   "id": "37dfbbf7",
   "metadata": {},
   "outputs": [],
   "source": [
    "s3 = set(l)\n",
    "s4 = set(m[0:2])"
   ]
  },
  {
   "cell_type": "code",
   "execution_count": null,
   "id": "da41b747",
   "metadata": {},
   "outputs": [],
   "source": [
    "s3 & s4"
   ]
  },
  {
   "cell_type": "code",
   "execution_count": null,
   "id": "f37f3266",
   "metadata": {},
   "outputs": [],
   "source": [
    "s3 | s4"
   ]
  },
  {
   "cell_type": "code",
   "execution_count": null,
   "id": "fcda8e4a",
   "metadata": {},
   "outputs": [],
   "source": [
    "s3 - s4"
   ]
  },
  {
   "cell_type": "markdown",
   "id": "67727c3b",
   "metadata": {},
   "source": [
    "## Dictionaries\n",
    "\n",
    "Dictionaries or 'dicts' are hash tables, where a key points to a value."
   ]
  },
  {
   "cell_type": "code",
   "execution_count": null,
   "id": "25fd8668",
   "metadata": {},
   "outputs": [],
   "source": [
    "d = {'name': 'John Doe', 'age': 27, 'dob': '7/20/1989'}"
   ]
  },
  {
   "cell_type": "code",
   "execution_count": null,
   "id": "c6392c32",
   "metadata": {},
   "outputs": [],
   "source": [
    "d"
   ]
  },
  {
   "cell_type": "code",
   "execution_count": null,
   "id": "ce2a0d6a",
   "metadata": {},
   "outputs": [],
   "source": [
    "d['name']"
   ]
  },
  {
   "cell_type": "code",
   "execution_count": null,
   "id": "6d706fb6",
   "metadata": {},
   "outputs": [],
   "source": [
    "{'name': 'John Doe', 'age': 27, 'dob': '7/20/1989'}"
   ]
  },
  {
   "cell_type": "code",
   "execution_count": null,
   "id": "4fc1f6ca",
   "metadata": {},
   "outputs": [],
   "source": [
    "d['zip'] = 92039"
   ]
  },
  {
   "cell_type": "markdown",
   "id": "4fc8d7c2",
   "metadata": {},
   "source": [
    "# Loops and Control Structures\n",
    "## Boolean and comparison operations"
   ]
  },
  {
   "cell_type": "code",
   "execution_count": null,
   "id": "0cc85281",
   "metadata": {},
   "outputs": [],
   "source": [
    "x = 5\n",
    "(x < 6) and (x > 4)"
   ]
  },
  {
   "cell_type": "code",
   "execution_count": null,
   "id": "a9f4d281",
   "metadata": {},
   "outputs": [],
   "source": [
    "x != 4"
   ]
  },
  {
   "cell_type": "code",
   "execution_count": null,
   "id": "12ef4dde",
   "metadata": {},
   "outputs": [],
   "source": [
    "5 in [3, 4, 5]"
   ]
  },
  {
   "cell_type": "code",
   "execution_count": null,
   "id": "083ff413",
   "metadata": {},
   "outputs": [],
   "source": [
    "'ell' in 'Hello'"
   ]
  },
  {
   "cell_type": "code",
   "execution_count": null,
   "id": "1b3e310f",
   "metadata": {},
   "outputs": [],
   "source": [
    "len('Hello') >= 5"
   ]
  },
  {
   "cell_type": "markdown",
   "id": "b509d714",
   "metadata": {},
   "source": [
    "## if tests"
   ]
  },
  {
   "cell_type": "code",
   "execution_count": null,
   "id": "6d9e10e6",
   "metadata": {},
   "outputs": [],
   "source": [
    "if 'd' in 'abc':\n",
    "    print('Learn your alphabet.')\n",
    "elif (2 + 2 == 5):\n",
    "    print('Sometimes yes.')\n",
    "else: \n",
    "    print('Nothing is true.')    "
   ]
  },
  {
   "cell_type": "markdown",
   "id": "a383a947",
   "metadata": {},
   "source": [
    "## while loops"
   ]
  },
  {
   "cell_type": "code",
   "execution_count": null,
   "id": "59eb7f1f",
   "metadata": {},
   "outputs": [],
   "source": [
    "i = 0\n",
    "while (i < 5):\n",
    "    print(i)\n",
    "    i += 1"
   ]
  },
  {
   "cell_type": "code",
   "execution_count": null,
   "id": "0dc7de87",
   "metadata": {},
   "outputs": [],
   "source": [
    "i"
   ]
  },
  {
   "cell_type": "markdown",
   "id": "55c668f5",
   "metadata": {},
   "source": [
    "## for loops"
   ]
  },
  {
   "cell_type": "code",
   "execution_count": null,
   "id": "0c281a60",
   "metadata": {},
   "outputs": [],
   "source": [
    "for x in [0, 1, 2, 3, 4]:\n",
    "    print(x**2)"
   ]
  },
  {
   "cell_type": "markdown",
   "id": "6b612322",
   "metadata": {},
   "source": [
    "# Determining Your Python Version\n",
    "## Method 1: sys"
   ]
  },
  {
   "cell_type": "code",
   "execution_count": null,
   "id": "69820a40",
   "metadata": {},
   "outputs": [],
   "source": [
    "import sys"
   ]
  },
  {
   "cell_type": "code",
   "execution_count": null,
   "id": "537bf2ee",
   "metadata": {},
   "outputs": [],
   "source": [
    "sys.version"
   ]
  },
  {
   "cell_type": "code",
   "execution_count": null,
   "id": "4739f2f5",
   "metadata": {},
   "outputs": [],
   "source": [
    "'3.7.0 | packaged by conda-forge | (default, Aug 27 2018, 17:24:52) \\n[Clang 6.1.0 (clang-602.0.53)]'"
   ]
  },
  {
   "cell_type": "markdown",
   "id": "7d52449b",
   "metadata": {},
   "source": [
    "## Method 2: platform"
   ]
  },
  {
   "cell_type": "code",
   "execution_count": null,
   "id": "afb89bf9",
   "metadata": {},
   "outputs": [],
   "source": [
    "import platform"
   ]
  },
  {
   "cell_type": "code",
   "execution_count": null,
   "id": "d1d2cbaf",
   "metadata": {},
   "outputs": [],
   "source": [
    "platform.python_version()"
   ]
  },
  {
   "cell_type": "code",
   "execution_count": null,
   "id": "be71d7e0",
   "metadata": {},
   "outputs": [],
   "source": [
    "platform.version()"
   ]
  },
  {
   "cell_type": "markdown",
   "id": "7576a97e",
   "metadata": {},
   "source": [
    "## Method 3: version_information"
   ]
  },
  {
   "cell_type": "code",
   "execution_count": null,
   "id": "68fdb697",
   "metadata": {},
   "outputs": [],
   "source": [
    "# first install: pip install version_information\n",
    "%reload_ext version_information\n",
    "%version_information math, numpy, sys, platform"
   ]
  }
 ],
 "metadata": {
  "kernelspec": {
   "display_name": "Python 3 (ipykernel)",
   "language": "python",
   "name": "python3"
  },
  "language_info": {
   "codemirror_mode": {
    "name": "ipython",
    "version": 3
   },
   "file_extension": ".py",
   "mimetype": "text/x-python",
   "name": "python",
   "nbconvert_exporter": "python",
   "pygments_lexer": "ipython3",
   "version": "3.9.7"
  }
 },
 "nbformat": 4,
 "nbformat_minor": 5
}

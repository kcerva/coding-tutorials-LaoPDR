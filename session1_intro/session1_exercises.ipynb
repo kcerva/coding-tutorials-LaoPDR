{
 "cells": [
  {
   "cell_type": "markdown",
   "id": "7ebf8aee",
   "metadata": {},
   "source": [
    "# Introduction to python - exercises\n",
    "\n",
    "The exercises shown here aim to showcase the use of data types, loops and control structure.\n",
    "\n",
    "The exercises were taken from https://pynative.com/python-basic-exercise-for-beginners/. "
   ]
  },
  {
   "cell_type": "markdown",
   "id": "9d324c63",
   "metadata": {},
   "source": [
    "## Exercise 1. Print the sum of the current number and the previous number. \n",
    "\n",
    "Write a program to iterate the first 10 numbers and in each iteration, print the sum of the current and previous number."
   ]
  },
  {
   "cell_type": "markdown",
   "id": "637f3c0f",
   "metadata": {},
   "source": [
    "Expected output:\n",
    "\n",
    "Printing current and previous number sum in a range(10)\n",
    "\n",
    "Current Number 0 Previous Number  0  Sum:  0\n",
    "\n",
    "Current Number 1 Previous Number  0  Sum:  1\n",
    "\n",
    "Current Number 2 Previous Number  1  Sum:  3\n",
    "\n",
    "Current Number 3 Previous Number  2  Sum:  5\n",
    "\n",
    "Current Number 4 Previous Number  3  Sum:  7\n",
    "\n",
    "Current Number 5 Previous Number  4  Sum:  9\n",
    "\n",
    "Current Number 6 Previous Number  5  Sum:  11\n",
    "\n",
    "Current Number 7 Previous Number  6  Sum:  13\n",
    "\n",
    "Current Number 8 Previous Number  7  Sum:  15\n",
    "\n",
    "Current Number 9 Previous Number  8  Sum:  17"
   ]
  },
  {
   "cell_type": "code",
   "execution_count": null,
   "id": "4ba6e4e7",
   "metadata": {},
   "outputs": [],
   "source": [
    "# space for solution\n"
   ]
  },
  {
   "cell_type": "markdown",
   "id": "9d204a78",
   "metadata": {},
   "source": [
    "## Excercise 2. Calculate the multiplication and sum of two numbers.\n",
    "\n",
    "Given two integer numbers return their product only if the product is equal to or lower than 1000, else return their sum."
   ]
  },
  {
   "cell_type": "markdown",
   "id": "4851bb3a",
   "metadata": {},
   "source": [
    "For example: \n",
    "\n",
    "number1 = 20\n",
    "\n",
    "number2 = 30\n",
    "\n",
    "Expected Output:\n",
    "The result is 600\n",
    "\n",
    "number1 = 40\n",
    "\n",
    "number2 = 30\n",
    "\n",
    "Expected Output:\n",
    "The result is 70\n",
    "\n"
   ]
  },
  {
   "cell_type": "code",
   "execution_count": null,
   "id": "b7951bc4",
   "metadata": {},
   "outputs": [],
   "source": [
    "# space for solution\n"
   ]
  },
  {
   "cell_type": "markdown",
   "id": "def4ccf2",
   "metadata": {},
   "source": [
    "## Exercise 3: Print characters from a string that are present at an even index number\n",
    "\n",
    "Write a program to accept a string from the user and display characters that are present at an even index number.\n",
    "\n",
    "For example, str = \"pynative\" so you should display ‘p’, ‘n’, ‘t’, ‘v’.\n",
    "\n",
    "Expected Output:\n",
    "\n",
    "Orginal String is  pynative\n",
    "\n",
    "Printing only even index chars\n",
    "\n",
    "p\n",
    "\n",
    "n\n",
    "\n",
    "t\n",
    "\n",
    "v\n",
    "\n",
    "Hint: you can accept user input and save it to a variable by typing something like this:"
   ]
  },
  {
   "cell_type": "markdown",
   "id": "55e0b3f5",
   "metadata": {},
   "source": [
    "word = input ('Enter word ')"
   ]
  },
  {
   "cell_type": "code",
   "execution_count": null,
   "id": "a96b1263",
   "metadata": {},
   "outputs": [],
   "source": [
    "# space for solution\n",
    "\n"
   ]
  },
  {
   "cell_type": "markdown",
   "id": "dea6725d",
   "metadata": {},
   "source": [
    "# Exercise 4: Display numbers divisible by 5 from a list\n",
    "\n",
    "Iterate the given list of numbers and print only those numbers which are divisible by 5\n",
    "\n",
    "Expected Output:\n",
    "\n",
    "Given list is  [10, 20, 33, 46, 55]\n",
    "\n",
    "Divisible by 5\n",
    "\n",
    "10\n",
    "\n",
    "20\n",
    "\n",
    "55"
   ]
  },
  {
   "cell_type": "code",
   "execution_count": null,
   "id": "838b0dfe",
   "metadata": {},
   "outputs": [],
   "source": [
    "# space for solution\n"
   ]
  }
 ],
 "metadata": {
  "kernelspec": {
   "display_name": "Python 3 (ipykernel)",
   "language": "python",
   "name": "python3"
  },
  "language_info": {
   "codemirror_mode": {
    "name": "ipython",
    "version": 3
   },
   "file_extension": ".py",
   "mimetype": "text/x-python",
   "name": "python",
   "nbconvert_exporter": "python",
   "pygments_lexer": "ipython3",
   "version": "3.9.7"
  }
 },
 "nbformat": 4,
 "nbformat_minor": 5
}
